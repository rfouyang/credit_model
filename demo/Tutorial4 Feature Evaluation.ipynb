{
 "cells": [
  {
   "cell_type": "code",
   "execution_count": 1,
   "id": "8fc5ad2d",
   "metadata": {},
   "outputs": [],
   "source": [
    "import os, sys\n",
    "\n",
    "fp_repo = '/Users/rfouyang/workspace/services/ds-fintech'\n",
    "if fp_repo not in sys.path:\n",
    "    sys.path.insert(0, fp_repo)"
   ]
  },
  {
   "cell_type": "code",
   "execution_count": 2,
   "id": "68971c42",
   "metadata": {},
   "outputs": [],
   "source": [
    "from pathlib import Path\n",
    "from pprint import pprint\n",
    "import numpy as np\n",
    "import pandas as pd\n",
    "import matplotlib.pyplot as plt\n",
    "import toad"
   ]
  },
  {
   "cell_type": "code",
   "execution_count": 3,
   "id": "1a894396",
   "metadata": {},
   "outputs": [],
   "source": [
    "%load_ext autoreload\n",
    "%autoreload 2"
   ]
  },
  {
   "cell_type": "code",
   "execution_count": 4,
   "id": "7751a8f3",
   "metadata": {},
   "outputs": [],
   "source": [
    "from util import woe_helper\n",
    "from util import woe_mono\n",
    "from util import scorebin_helper\n",
    "from util import report_helper"
   ]
  },
  {
   "cell_type": "code",
   "execution_count": 5,
   "id": "3d2c24d9",
   "metadata": {},
   "outputs": [],
   "source": [
    "pd.set_option('display.max_columns', None)\n",
    "pd.set_option('display.width', 1000)"
   ]
  },
  {
   "cell_type": "markdown",
   "id": "2e672a2c",
   "metadata": {},
   "source": [
    "# 加载数据"
   ]
  },
  {
   "cell_type": "code",
   "execution_count": 6,
   "id": "46e0ff93",
   "metadata": {},
   "outputs": [],
   "source": [
    "fp_base = Path('/Users', 'rfouyang', 'workspace')\n",
    "#fp_base = Path('C:\\\\', 'Users', 'USER', 'workspace')\n",
    "fp_data = Path(fp_base, 'data', 'data.csv')\n",
    "\n",
    "df_data = pd.read_csv(fp_data, index_col=None)"
   ]
  },
  {
   "cell_type": "code",
   "execution_count": 7,
   "id": "9b9606ef",
   "metadata": {},
   "outputs": [],
   "source": [
    "num_cols = ['Collateral_valuation', 'Age', 'Properties_Total', 'Amount', 'Term', 'Historic_Loans', 'Current_Loans', 'Max_Arrears']\n",
    "cat_cols = ['Region', 'Area', 'Activity', 'Guarantor', 'Collateral', 'Properties_Status']\n",
    "features = num_cols + cat_cols\n",
    "label = 'Defaulter'"
   ]
  },
  {
   "cell_type": "code",
   "execution_count": 8,
   "id": "d0352d05",
   "metadata": {},
   "outputs": [],
   "source": [
    "for c in cat_cols:\n",
    "    df_data.loc[:, c] = df_data.loc[:, c].apply(lambda x: str(f\"cat_{x}\"))"
   ]
  },
  {
   "cell_type": "markdown",
   "id": "f8e6a201",
   "metadata": {},
   "source": [
    "# 获得分箱和编码"
   ]
  },
  {
   "cell_type": "code",
   "execution_count": 9,
   "id": "4b3f1987",
   "metadata": {},
   "outputs": [
    {
     "name": "stderr",
     "output_type": "stream",
     "text": [
      "100%|███████████████████████████████████████████| 14/14 [00:00<00:00, 41.21it/s]\n"
     ]
    },
    {
     "name": "stdout",
     "output_type": "stream",
     "text": [
      "finish combiner fit\n",
      "finish combiner transform\n"
     ]
    },
    {
     "name": "stderr",
     "output_type": "stream",
     "text": [
      "100%|███████████████████████████████████████████| 14/14 [00:00<00:00, 46.01it/s]\n"
     ]
    },
    {
     "name": "stdout",
     "output_type": "stream",
     "text": [
      "finish WOE fit\n"
     ]
    }
   ],
   "source": [
    "woe = woe_helper.WOE()\n",
    "woe.fit(df_data, label, exclude=['AppNo', label], method='dt')"
   ]
  },
  {
   "cell_type": "code",
   "execution_count": 10,
   "id": "020e4072",
   "metadata": {},
   "outputs": [
    {
     "name": "stderr",
     "output_type": "stream",
     "text": [
      "100%|███████████████████████████████████████████| 14/14 [00:00<00:00, 78.19it/s]\n",
      "100%|███████████████████████████████████████████| 14/14 [00:00<00:00, 70.69it/s]\n",
      "100%|███████████████████████████████████████████| 14/14 [00:00<00:00, 82.93it/s]\n"
     ]
    }
   ],
   "source": [
    "df_woe = woe.transform(df_data)\n",
    "df_bin = woe.transform(df_data, bin_only=True)"
   ]
  },
  {
   "cell_type": "markdown",
   "id": "2c4b71fe",
   "metadata": {},
   "source": [
    "# 特征统计报表和区分度报表"
   ]
  },
  {
   "cell_type": "code",
   "execution_count": 11,
   "id": "188eb5c9",
   "metadata": {},
   "outputs": [],
   "source": [
    "df_report = report_helper.FTReport.get_report(df_bin, features, label)"
   ]
  },
  {
   "cell_type": "code",
   "execution_count": 12,
   "id": "a21f5063",
   "metadata": {},
   "outputs": [],
   "source": [
    "df_eval = report_helper.FTReport.eval_metrics(df_woe, features, label)"
   ]
  },
  {
   "cell_type": "code",
   "execution_count": 13,
   "id": "a1e33f2e",
   "metadata": {},
   "outputs": [
    {
     "data": {
      "text/html": [
       "<div>\n",
       "<style scoped>\n",
       "    .dataframe tbody tr th:only-of-type {\n",
       "        vertical-align: middle;\n",
       "    }\n",
       "\n",
       "    .dataframe tbody tr th {\n",
       "        vertical-align: top;\n",
       "    }\n",
       "\n",
       "    .dataframe thead th {\n",
       "        text-align: right;\n",
       "    }\n",
       "</style>\n",
       "<table border=\"1\" class=\"dataframe\">\n",
       "  <thead>\n",
       "    <tr style=\"text-align: right;\">\n",
       "      <th></th>\n",
       "      <th>feature</th>\n",
       "      <th>bin</th>\n",
       "      <th>total_pct</th>\n",
       "      <th>total</th>\n",
       "      <th>bad</th>\n",
       "      <th>bad_rate</th>\n",
       "      <th>iv</th>\n",
       "      <th>auc</th>\n",
       "      <th>ks</th>\n",
       "    </tr>\n",
       "  </thead>\n",
       "  <tbody>\n",
       "    <tr>\n",
       "      <th>0</th>\n",
       "      <td>Collateral_valuation</td>\n",
       "      <td>00.[-inf ~ 2057.0)</td>\n",
       "      <td>0.15534</td>\n",
       "      <td>7767</td>\n",
       "      <td>657</td>\n",
       "      <td>0.084589</td>\n",
       "      <td>0.157705</td>\n",
       "      <td>0.602955</td>\n",
       "      <td>0.161100</td>\n",
       "    </tr>\n",
       "    <tr>\n",
       "      <th>1</th>\n",
       "      <td>Collateral_valuation</td>\n",
       "      <td>01.[2057.0 ~ 4571.0)</td>\n",
       "      <td>0.17190</td>\n",
       "      <td>8595</td>\n",
       "      <td>988</td>\n",
       "      <td>0.114951</td>\n",
       "      <td>0.157705</td>\n",
       "      <td>0.602955</td>\n",
       "      <td>0.161100</td>\n",
       "    </tr>\n",
       "    <tr>\n",
       "      <th>2</th>\n",
       "      <td>Collateral_valuation</td>\n",
       "      <td>02.[4571.0 ~ 8324.5)</td>\n",
       "      <td>0.11508</td>\n",
       "      <td>5754</td>\n",
       "      <td>884</td>\n",
       "      <td>0.153632</td>\n",
       "      <td>0.157705</td>\n",
       "      <td>0.602955</td>\n",
       "      <td>0.161100</td>\n",
       "    </tr>\n",
       "    <tr>\n",
       "      <th>3</th>\n",
       "      <td>Collateral_valuation</td>\n",
       "      <td>03.[8324.5 ~ 13823.5)</td>\n",
       "      <td>0.06604</td>\n",
       "      <td>3302</td>\n",
       "      <td>604</td>\n",
       "      <td>0.182919</td>\n",
       "      <td>0.157705</td>\n",
       "      <td>0.602955</td>\n",
       "      <td>0.161100</td>\n",
       "    </tr>\n",
       "    <tr>\n",
       "      <th>4</th>\n",
       "      <td>Collateral_valuation</td>\n",
       "      <td>04.[13823.5 ~ inf)</td>\n",
       "      <td>0.06090</td>\n",
       "      <td>3045</td>\n",
       "      <td>891</td>\n",
       "      <td>0.292611</td>\n",
       "      <td>0.157705</td>\n",
       "      <td>0.602955</td>\n",
       "      <td>0.161100</td>\n",
       "    </tr>\n",
       "    <tr>\n",
       "      <th>...</th>\n",
       "      <td>...</td>\n",
       "      <td>...</td>\n",
       "      <td>...</td>\n",
       "      <td>...</td>\n",
       "      <td>...</td>\n",
       "      <td>...</td>\n",
       "      <td>...</td>\n",
       "      <td>...</td>\n",
       "      <td>...</td>\n",
       "    </tr>\n",
       "    <tr>\n",
       "      <th>67</th>\n",
       "      <td>None</td>\n",
       "      <td>None</td>\n",
       "      <td>NaN</td>\n",
       "      <td>None</td>\n",
       "      <td>None</td>\n",
       "      <td>NaN</td>\n",
       "      <td>NaN</td>\n",
       "      <td>NaN</td>\n",
       "      <td>NaN</td>\n",
       "    </tr>\n",
       "    <tr>\n",
       "      <th>68</th>\n",
       "      <td>Properties_Status</td>\n",
       "      <td>00.cat_B</td>\n",
       "      <td>0.63996</td>\n",
       "      <td>31998</td>\n",
       "      <td>4522</td>\n",
       "      <td>0.141321</td>\n",
       "      <td>0.070845</td>\n",
       "      <td>0.562709</td>\n",
       "      <td>0.107431</td>\n",
       "    </tr>\n",
       "    <tr>\n",
       "      <th>69</th>\n",
       "      <td>Properties_Status</td>\n",
       "      <td>01.cat_D</td>\n",
       "      <td>0.22186</td>\n",
       "      <td>11093</td>\n",
       "      <td>1935</td>\n",
       "      <td>0.174434</td>\n",
       "      <td>0.070845</td>\n",
       "      <td>0.562709</td>\n",
       "      <td>0.107431</td>\n",
       "    </tr>\n",
       "    <tr>\n",
       "      <th>70</th>\n",
       "      <td>Properties_Status</td>\n",
       "      <td>02.cat_A,cat_C</td>\n",
       "      <td>0.13818</td>\n",
       "      <td>6909</td>\n",
       "      <td>1762</td>\n",
       "      <td>0.255030</td>\n",
       "      <td>0.070845</td>\n",
       "      <td>0.562709</td>\n",
       "      <td>0.107431</td>\n",
       "    </tr>\n",
       "    <tr>\n",
       "      <th>71</th>\n",
       "      <td>None</td>\n",
       "      <td>None</td>\n",
       "      <td>NaN</td>\n",
       "      <td>None</td>\n",
       "      <td>None</td>\n",
       "      <td>NaN</td>\n",
       "      <td>NaN</td>\n",
       "      <td>NaN</td>\n",
       "      <td>NaN</td>\n",
       "    </tr>\n",
       "  </tbody>\n",
       "</table>\n",
       "<p>72 rows × 9 columns</p>\n",
       "</div>"
      ],
      "text/plain": [
       "                 feature                    bin  total_pct  total   bad  bad_rate        iv       auc        ks\n",
       "0   Collateral_valuation     00.[-inf ~ 2057.0)    0.15534   7767   657  0.084589  0.157705  0.602955  0.161100\n",
       "1   Collateral_valuation   01.[2057.0 ~ 4571.0)    0.17190   8595   988  0.114951  0.157705  0.602955  0.161100\n",
       "2   Collateral_valuation   02.[4571.0 ~ 8324.5)    0.11508   5754   884  0.153632  0.157705  0.602955  0.161100\n",
       "3   Collateral_valuation  03.[8324.5 ~ 13823.5)    0.06604   3302   604  0.182919  0.157705  0.602955  0.161100\n",
       "4   Collateral_valuation     04.[13823.5 ~ inf)    0.06090   3045   891  0.292611  0.157705  0.602955  0.161100\n",
       "..                   ...                    ...        ...    ...   ...       ...       ...       ...       ...\n",
       "67                  None                   None        NaN   None  None       NaN       NaN       NaN       NaN\n",
       "68     Properties_Status               00.cat_B    0.63996  31998  4522  0.141321  0.070845  0.562709  0.107431\n",
       "69     Properties_Status               01.cat_D    0.22186  11093  1935  0.174434  0.070845  0.562709  0.107431\n",
       "70     Properties_Status         02.cat_A,cat_C    0.13818   6909  1762  0.255030  0.070845  0.562709  0.107431\n",
       "71                  None                   None        NaN   None  None       NaN       NaN       NaN       NaN\n",
       "\n",
       "[72 rows x 9 columns]"
      ]
     },
     "execution_count": 13,
     "metadata": {},
     "output_type": "execute_result"
    }
   ],
   "source": [
    "df_combined_report = df_report.merge(df_eval, on='feature', how='left')\n",
    "df_combined_report"
   ]
  },
  {
   "cell_type": "code",
   "execution_count": null,
   "id": "af302de3",
   "metadata": {},
   "outputs": [],
   "source": []
  }
 ],
 "metadata": {
  "kernelspec": {
   "display_name": "Python 3 (ipykernel)",
   "language": "python",
   "name": "python3"
  },
  "language_info": {
   "codemirror_mode": {
    "name": "ipython",
    "version": 3
   },
   "file_extension": ".py",
   "mimetype": "text/x-python",
   "name": "python",
   "nbconvert_exporter": "python",
   "pygments_lexer": "ipython3",
   "version": "3.10.12"
  }
 },
 "nbformat": 4,
 "nbformat_minor": 5
}
