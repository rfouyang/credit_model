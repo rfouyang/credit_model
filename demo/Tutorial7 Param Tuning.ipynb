{
 "cells": [
  {
   "cell_type": "code",
   "execution_count": 1,
   "id": "e7481970",
   "metadata": {},
   "outputs": [],
   "source": [
    "import os, sys\n",
    "from pathlib import Path\n",
    "\n",
    "BASE_DIR = Path(Path.home(), \"workspace\", \"services\", \"credit_model\")\n",
    "DATA_DIR = Path(Path.home(), \"workspace\", \"data\")\n",
    "if BASE_DIR not in sys.path:\n",
    "    sys.path.insert(0, f\"{BASE_DIR}\")"
   ]
  },
  {
   "cell_type": "code",
   "execution_count": 2,
   "id": "0f1a515a",
   "metadata": {},
   "outputs": [],
   "source": [
    "from pprint import pprint\n",
    "import numpy as np\n",
    "import pandas as pd\n",
    "import matplotlib.pyplot as plt\n",
    "import lightgbm as lgb"
   ]
  },
  {
   "cell_type": "code",
   "execution_count": 3,
   "id": "2f238387",
   "metadata": {},
   "outputs": [],
   "source": [
    "%load_ext autoreload\n",
    "%autoreload 2"
   ]
  },
  {
   "cell_type": "code",
   "execution_count": 4,
   "id": "0a9fbf9c",
   "metadata": {},
   "outputs": [],
   "source": [
    "pd.set_option('display.max_columns', None)\n",
    "pd.set_option('display.width', 1000)"
   ]
  },
  {
   "cell_type": "code",
   "execution_count": 5,
   "id": "b4ac660b",
   "metadata": {},
   "outputs": [],
   "source": [
    "from util import metric_helper"
   ]
  },
  {
   "cell_type": "markdown",
   "id": "455271ba",
   "metadata": {},
   "source": [
    "# 加载数据"
   ]
  },
  {
   "cell_type": "code",
   "execution_count": 6,
   "id": "35de5207",
   "metadata": {},
   "outputs": [],
   "source": [
    "fp_data = Path(DATA_DIR, 'tutorial', 'data_woe_result.csv')\n",
    "df_woe = pd.read_csv(fp_data, index_col=None)"
   ]
  },
  {
   "cell_type": "code",
   "execution_count": 7,
   "id": "564fa357",
   "metadata": {},
   "outputs": [],
   "source": [
    "num_cols = ['Collateral_valuation', 'Age', 'Properties_Total', 'Amount', 'Term', 'Historic_Loans', 'Current_Loans', 'Max_Arrears']\n",
    "cat_cols = ['Region', 'Area', 'Activity', 'Guarantor', 'Collateral', 'Properties_Status']\n",
    "features = num_cols + cat_cols\n",
    "label = 'Defaulter'"
   ]
  },
  {
   "cell_type": "markdown",
   "id": "6f450aec",
   "metadata": {},
   "source": [
    "# Gridsearch"
   ]
  },
  {
   "cell_type": "code",
   "execution_count": 8,
   "id": "cf6f3747",
   "metadata": {},
   "outputs": [],
   "source": [
    "from sklearn.model_selection import GridSearchCV"
   ]
  },
  {
   "cell_type": "code",
   "execution_count": 9,
   "id": "41062316",
   "metadata": {},
   "outputs": [],
   "source": [
    "params = {\n",
    "    \"learning_rate\": 0.1,\n",
    "    \"max_depth\": 3,\n",
    "    \"num_leaves\": 7,\n",
    "    \"min_child_samples\": 800,\n",
    "    \"subsample\": 1,\n",
    "    \"subsample_freq\": 0,\n",
    "    \"colsample_bytree\": 1,\n",
    "    \"reg_alpha\": 157,\n",
    "    \"reg_lambda\": 500,\n",
    "}\n",
    "\n",
    "model = lgb.LGBMClassifier(\n",
    "    **params,\n",
    "    n_estimators=200,\n",
    "    objective=\"cross_entropy\",\n",
    "    class_weight=\"balanced\",\n",
    "    importance_type=\"gain\",\n",
    "    boosting_type=\"gbdt\",\n",
    "    silent=True,\n",
    "    n_jobs=8,\n",
    "    random_state=19910908\n",
    ")"
   ]
  },
  {
   "cell_type": "code",
   "execution_count": 10,
   "id": "79f1210c",
   "metadata": {},
   "outputs": [
    {
     "name": "stdout",
     "output_type": "stream",
     "text": [
      "Fitting 3 folds for each of 54 candidates, totalling 162 fits\n",
      "[CV 1/3] END learning_rate=0.01, max_depth=3, min_child_samples=1, num_leaves=15; AUC: (test=0.760) total time=   0.0s\n",
      "[CV 2/3] END learning_rate=0.01, max_depth=3, min_child_samples=1, num_leaves=15; AUC: (test=0.755) total time=   0.0s\n"
     ]
    },
    {
     "name": "stderr",
     "output_type": "stream",
     "text": [
      "C:\\Users\\USER\\.conda\\envs\\lec310\\lib\\site-packages\\lightgbm\\sklearn.py:598: UserWarning: 'silent' argument is deprecated and will be removed in a future release of LightGBM. Pass 'verbose' parameter via keyword arguments instead.\n",
      "  _log_warning(\"'silent' argument is deprecated and will be removed in a future release of LightGBM. \"\n",
      "C:\\Users\\USER\\.conda\\envs\\lec310\\lib\\site-packages\\lightgbm\\sklearn.py:598: UserWarning: 'silent' argument is deprecated and will be removed in a future release of LightGBM. Pass 'verbose' parameter via keyword arguments instead.\n",
      "  _log_warning(\"'silent' argument is deprecated and will be removed in a future release of LightGBM. \"\n",
      "C:\\Users\\USER\\.conda\\envs\\lec310\\lib\\site-packages\\lightgbm\\sklearn.py:598: UserWarning: 'silent' argument is deprecated and will be removed in a future release of LightGBM. Pass 'verbose' parameter via keyword arguments instead.\n",
      "  _log_warning(\"'silent' argument is deprecated and will be removed in a future release of LightGBM. \"\n"
     ]
    },
    {
     "name": "stdout",
     "output_type": "stream",
     "text": [
      "[CV 3/3] END learning_rate=0.01, max_depth=3, min_child_samples=1, num_leaves=15; AUC: (test=0.754) total time=   0.0s\n",
      "[CV 1/3] END learning_rate=0.01, max_depth=3, min_child_samples=1, num_leaves=31; AUC: (test=0.760) total time=   0.0s\n",
      "[CV 2/3] END learning_rate=0.01, max_depth=3, min_child_samples=1, num_leaves=31; AUC: (test=0.755) total time=   0.0s\n"
     ]
    },
    {
     "name": "stderr",
     "output_type": "stream",
     "text": [
      "C:\\Users\\USER\\.conda\\envs\\lec310\\lib\\site-packages\\lightgbm\\sklearn.py:598: UserWarning: 'silent' argument is deprecated and will be removed in a future release of LightGBM. Pass 'verbose' parameter via keyword arguments instead.\n",
      "  _log_warning(\"'silent' argument is deprecated and will be removed in a future release of LightGBM. \"\n",
      "C:\\Users\\USER\\.conda\\envs\\lec310\\lib\\site-packages\\lightgbm\\sklearn.py:598: UserWarning: 'silent' argument is deprecated and will be removed in a future release of LightGBM. Pass 'verbose' parameter via keyword arguments instead.\n",
      "  _log_warning(\"'silent' argument is deprecated and will be removed in a future release of LightGBM. \"\n",
      "C:\\Users\\USER\\.conda\\envs\\lec310\\lib\\site-packages\\lightgbm\\sklearn.py:598: UserWarning: 'silent' argument is deprecated and will be removed in a future release of LightGBM. Pass 'verbose' parameter via keyword arguments instead.\n",
      "  _log_warning(\"'silent' argument is deprecated and will be removed in a future release of LightGBM. \"\n"
     ]
    },
    {
     "name": "stdout",
     "output_type": "stream",
     "text": [
      "[CV 3/3] END learning_rate=0.01, max_depth=3, min_child_samples=1, num_leaves=31; AUC: (test=0.754) total time=   0.0s\n",
      "[CV 1/3] END learning_rate=0.01, max_depth=3, min_child_samples=1, num_leaves=63; AUC: (test=0.760) total time=   0.0s\n",
      "[CV 2/3] END learning_rate=0.01, max_depth=3, min_child_samples=1, num_leaves=63; AUC: (test=0.755) total time=   0.0s\n"
     ]
    },
    {
     "name": "stderr",
     "output_type": "stream",
     "text": [
      "C:\\Users\\USER\\.conda\\envs\\lec310\\lib\\site-packages\\lightgbm\\sklearn.py:598: UserWarning: 'silent' argument is deprecated and will be removed in a future release of LightGBM. Pass 'verbose' parameter via keyword arguments instead.\n",
      "  _log_warning(\"'silent' argument is deprecated and will be removed in a future release of LightGBM. \"\n",
      "C:\\Users\\USER\\.conda\\envs\\lec310\\lib\\site-packages\\lightgbm\\sklearn.py:598: UserWarning: 'silent' argument is deprecated and will be removed in a future release of LightGBM. Pass 'verbose' parameter via keyword arguments instead.\n",
      "  _log_warning(\"'silent' argument is deprecated and will be removed in a future release of LightGBM. \"\n",
      "C:\\Users\\USER\\.conda\\envs\\lec310\\lib\\site-packages\\lightgbm\\sklearn.py:598: UserWarning: 'silent' argument is deprecated and will be removed in a future release of LightGBM. Pass 'verbose' parameter via keyword arguments instead.\n",
      "  _log_warning(\"'silent' argument is deprecated and will be removed in a future release of LightGBM. \"\n"
     ]
    },
    {
     "name": "stdout",
     "output_type": "stream",
     "text": [
      "[CV 3/3] END learning_rate=0.01, max_depth=3, min_child_samples=1, num_leaves=63; AUC: (test=0.754) total time=   0.0s\n",
      "[CV 1/3] END learning_rate=0.01, max_depth=3, min_child_samples=20, num_leaves=15; AUC: (test=0.760) total time=   0.0s\n",
      "[CV 2/3] END learning_rate=0.01, max_depth=3, min_child_samples=20, num_leaves=15; AUC: (test=0.755) total time=   0.0s\n",
      "[CV 3/3] END learning_rate=0.01, max_depth=3, min_child_samples=20, num_leaves=15; AUC: (test=0.754) total time=   0.0s\n"
     ]
    },
    {
     "name": "stderr",
     "output_type": "stream",
     "text": [
      "C:\\Users\\USER\\.conda\\envs\\lec310\\lib\\site-packages\\lightgbm\\sklearn.py:598: UserWarning: 'silent' argument is deprecated and will be removed in a future release of LightGBM. Pass 'verbose' parameter via keyword arguments instead.\n",
      "  _log_warning(\"'silent' argument is deprecated and will be removed in a future release of LightGBM. \"\n",
      "C:\\Users\\USER\\.conda\\envs\\lec310\\lib\\site-packages\\lightgbm\\sklearn.py:598: UserWarning: 'silent' argument is deprecated and will be removed in a future release of LightGBM. Pass 'verbose' parameter via keyword arguments instead.\n",
      "  _log_warning(\"'silent' argument is deprecated and will be removed in a future release of LightGBM. \"\n",
      "C:\\Users\\USER\\.conda\\envs\\lec310\\lib\\site-packages\\lightgbm\\sklearn.py:598: UserWarning: 'silent' argument is deprecated and will be removed in a future release of LightGBM. Pass 'verbose' parameter via keyword arguments instead.\n",
      "  _log_warning(\"'silent' argument is deprecated and will be removed in a future release of LightGBM. \"\n",
      "C:\\Users\\USER\\.conda\\envs\\lec310\\lib\\site-packages\\lightgbm\\sklearn.py:598: UserWarning: 'silent' argument is deprecated and will be removed in a future release of LightGBM. Pass 'verbose' parameter via keyword arguments instead.\n",
      "  _log_warning(\"'silent' argument is deprecated and will be removed in a future release of LightGBM. \"\n"
     ]
    },
    {
     "name": "stdout",
     "output_type": "stream",
     "text": [
      "[CV 1/3] END learning_rate=0.01, max_depth=3, min_child_samples=20, num_leaves=31; AUC: (test=0.760) total time=   0.0s\n",
      "[CV 2/3] END learning_rate=0.01, max_depth=3, min_child_samples=20, num_leaves=31; AUC: (test=0.755) total time=   0.0s\n",
      "[CV 3/3] END learning_rate=0.01, max_depth=3, min_child_samples=20, num_leaves=31; AUC: (test=0.754) total time=   0.0s\n"
     ]
    },
    {
     "name": "stderr",
     "output_type": "stream",
     "text": [
      "C:\\Users\\USER\\.conda\\envs\\lec310\\lib\\site-packages\\lightgbm\\sklearn.py:598: UserWarning: 'silent' argument is deprecated and will be removed in a future release of LightGBM. Pass 'verbose' parameter via keyword arguments instead.\n",
      "  _log_warning(\"'silent' argument is deprecated and will be removed in a future release of LightGBM. \"\n",
      "C:\\Users\\USER\\.conda\\envs\\lec310\\lib\\site-packages\\lightgbm\\sklearn.py:598: UserWarning: 'silent' argument is deprecated and will be removed in a future release of LightGBM. Pass 'verbose' parameter via keyword arguments instead.\n",
      "  _log_warning(\"'silent' argument is deprecated and will be removed in a future release of LightGBM. \"\n",
      "C:\\Users\\USER\\.conda\\envs\\lec310\\lib\\site-packages\\lightgbm\\sklearn.py:598: UserWarning: 'silent' argument is deprecated and will be removed in a future release of LightGBM. Pass 'verbose' parameter via keyword arguments instead.\n",
      "  _log_warning(\"'silent' argument is deprecated and will be removed in a future release of LightGBM. \"\n"
     ]
    },
    {
     "name": "stdout",
     "output_type": "stream",
     "text": [
      "[CV 1/3] END learning_rate=0.01, max_depth=3, min_child_samples=20, num_leaves=63; AUC: (test=0.760) total time=   0.0s\n",
      "[CV 2/3] END learning_rate=0.01, max_depth=3, min_child_samples=20, num_leaves=63; AUC: (test=0.755) total time=   0.0s\n",
      "[CV 3/3] END learning_rate=0.01, max_depth=3, min_child_samples=20, num_leaves=63; AUC: (test=0.754) total time=   0.0s\n",
      "[CV 1/3] END learning_rate=0.01, max_depth=3, min_child_samples=50, num_leaves=15; AUC: (test=0.760) total time=   0.0s\n"
     ]
    },
    {
     "name": "stderr",
     "output_type": "stream",
     "text": [
      "C:\\Users\\USER\\.conda\\envs\\lec310\\lib\\site-packages\\lightgbm\\sklearn.py:598: UserWarning: 'silent' argument is deprecated and will be removed in a future release of LightGBM. Pass 'verbose' parameter via keyword arguments instead.\n",
      "  _log_warning(\"'silent' argument is deprecated and will be removed in a future release of LightGBM. \"\n",
      "C:\\Users\\USER\\.conda\\envs\\lec310\\lib\\site-packages\\lightgbm\\sklearn.py:598: UserWarning: 'silent' argument is deprecated and will be removed in a future release of LightGBM. Pass 'verbose' parameter via keyword arguments instead.\n",
      "  _log_warning(\"'silent' argument is deprecated and will be removed in a future release of LightGBM. \"\n",
      "C:\\Users\\USER\\.conda\\envs\\lec310\\lib\\site-packages\\lightgbm\\sklearn.py:598: UserWarning: 'silent' argument is deprecated and will be removed in a future release of LightGBM. Pass 'verbose' parameter via keyword arguments instead.\n",
      "  _log_warning(\"'silent' argument is deprecated and will be removed in a future release of LightGBM. \"\n",
      "C:\\Users\\USER\\.conda\\envs\\lec310\\lib\\site-packages\\lightgbm\\sklearn.py:598: UserWarning: 'silent' argument is deprecated and will be removed in a future release of LightGBM. Pass 'verbose' parameter via keyword arguments instead.\n",
      "  _log_warning(\"'silent' argument is deprecated and will be removed in a future release of LightGBM. \"\n"
     ]
    },
    {
     "name": "stdout",
     "output_type": "stream",
     "text": [
      "[CV 2/3] END learning_rate=0.01, max_depth=3, min_child_samples=50, num_leaves=15; AUC: (test=0.755) total time=   0.0s\n",
      "[CV 3/3] END learning_rate=0.01, max_depth=3, min_child_samples=50, num_leaves=15; AUC: (test=0.754) total time=   0.0s\n",
      "[CV 1/3] END learning_rate=0.01, max_depth=3, min_child_samples=50, num_leaves=31; AUC: (test=0.760) total time=   0.0s\n",
      "[CV 2/3] END learning_rate=0.01, max_depth=3, min_child_samples=50, num_leaves=31; AUC: (test=0.755) total time=   0.0s\n"
     ]
    },
    {
     "name": "stderr",
     "output_type": "stream",
     "text": [
      "C:\\Users\\USER\\.conda\\envs\\lec310\\lib\\site-packages\\lightgbm\\sklearn.py:598: UserWarning: 'silent' argument is deprecated and will be removed in a future release of LightGBM. Pass 'verbose' parameter via keyword arguments instead.\n",
      "  _log_warning(\"'silent' argument is deprecated and will be removed in a future release of LightGBM. \"\n",
      "C:\\Users\\USER\\.conda\\envs\\lec310\\lib\\site-packages\\lightgbm\\sklearn.py:598: UserWarning: 'silent' argument is deprecated and will be removed in a future release of LightGBM. Pass 'verbose' parameter via keyword arguments instead.\n",
      "  _log_warning(\"'silent' argument is deprecated and will be removed in a future release of LightGBM. \"\n",
      "C:\\Users\\USER\\.conda\\envs\\lec310\\lib\\site-packages\\lightgbm\\sklearn.py:598: UserWarning: 'silent' argument is deprecated and will be removed in a future release of LightGBM. Pass 'verbose' parameter via keyword arguments instead.\n",
      "  _log_warning(\"'silent' argument is deprecated and will be removed in a future release of LightGBM. \"\n",
      "C:\\Users\\USER\\.conda\\envs\\lec310\\lib\\site-packages\\lightgbm\\sklearn.py:598: UserWarning: 'silent' argument is deprecated and will be removed in a future release of LightGBM. Pass 'verbose' parameter via keyword arguments instead.\n",
      "  _log_warning(\"'silent' argument is deprecated and will be removed in a future release of LightGBM. \"\n",
      "C:\\Users\\USER\\.conda\\envs\\lec310\\lib\\site-packages\\lightgbm\\sklearn.py:598: UserWarning: 'silent' argument is deprecated and will be removed in a future release of LightGBM. Pass 'verbose' parameter via keyword arguments instead.\n",
      "  _log_warning(\"'silent' argument is deprecated and will be removed in a future release of LightGBM. \"\n",
      "C:\\Users\\USER\\.conda\\envs\\lec310\\lib\\site-packages\\lightgbm\\sklearn.py:598: UserWarning: 'silent' argument is deprecated and will be removed in a future release of LightGBM. Pass 'verbose' parameter via keyword arguments instead.\n",
      "  _log_warning(\"'silent' argument is deprecated and will be removed in a future release of LightGBM. \"\n"
     ]
    },
    {
     "name": "stdout",
     "output_type": "stream",
     "text": [
      "[CV 3/3] END learning_rate=0.01, max_depth=3, min_child_samples=50, num_leaves=31; AUC: (test=0.754) total time=   0.0s\n",
      "[CV 1/3] END learning_rate=0.01, max_depth=3, min_child_samples=50, num_leaves=63; AUC: (test=0.760) total time=   0.0s\n",
      "[CV 2/3] END learning_rate=0.01, max_depth=3, min_child_samples=50, num_leaves=63; AUC: (test=0.755) total time=   0.0s\n"
     ]
    },
    {
     "name": "stderr",
     "output_type": "stream",
     "text": [
      "C:\\Users\\USER\\.conda\\envs\\lec310\\lib\\site-packages\\lightgbm\\sklearn.py:598: UserWarning: 'silent' argument is deprecated and will be removed in a future release of LightGBM. Pass 'verbose' parameter via keyword arguments instead.\n",
      "  _log_warning(\"'silent' argument is deprecated and will be removed in a future release of LightGBM. \"\n",
      "C:\\Users\\USER\\.conda\\envs\\lec310\\lib\\site-packages\\lightgbm\\sklearn.py:598: UserWarning: 'silent' argument is deprecated and will be removed in a future release of LightGBM. Pass 'verbose' parameter via keyword arguments instead.\n",
      "  _log_warning(\"'silent' argument is deprecated and will be removed in a future release of LightGBM. \"\n",
      "C:\\Users\\USER\\.conda\\envs\\lec310\\lib\\site-packages\\lightgbm\\sklearn.py:598: UserWarning: 'silent' argument is deprecated and will be removed in a future release of LightGBM. Pass 'verbose' parameter via keyword arguments instead.\n",
      "  _log_warning(\"'silent' argument is deprecated and will be removed in a future release of LightGBM. \"\n"
     ]
    },
    {
     "name": "stdout",
     "output_type": "stream",
     "text": [
      "[CV 3/3] END learning_rate=0.01, max_depth=3, min_child_samples=50, num_leaves=63; AUC: (test=0.754) total time=   0.0s\n",
      "[CV 1/3] END learning_rate=0.01, max_depth=4, min_child_samples=1, num_leaves=15; AUC: (test=0.762) total time=   0.0s\n",
      "[CV 2/3] END learning_rate=0.01, max_depth=4, min_child_samples=1, num_leaves=15; AUC: (test=0.759) total time=   0.0s\n"
     ]
    },
    {
     "name": "stderr",
     "output_type": "stream",
     "text": [
      "C:\\Users\\USER\\.conda\\envs\\lec310\\lib\\site-packages\\lightgbm\\sklearn.py:598: UserWarning: 'silent' argument is deprecated and will be removed in a future release of LightGBM. Pass 'verbose' parameter via keyword arguments instead.\n",
      "  _log_warning(\"'silent' argument is deprecated and will be removed in a future release of LightGBM. \"\n",
      "C:\\Users\\USER\\.conda\\envs\\lec310\\lib\\site-packages\\lightgbm\\sklearn.py:598: UserWarning: 'silent' argument is deprecated and will be removed in a future release of LightGBM. Pass 'verbose' parameter via keyword arguments instead.\n",
      "  _log_warning(\"'silent' argument is deprecated and will be removed in a future release of LightGBM. \"\n",
      "C:\\Users\\USER\\.conda\\envs\\lec310\\lib\\site-packages\\lightgbm\\sklearn.py:598: UserWarning: 'silent' argument is deprecated and will be removed in a future release of LightGBM. Pass 'verbose' parameter via keyword arguments instead.\n",
      "  _log_warning(\"'silent' argument is deprecated and will be removed in a future release of LightGBM. \"\n"
     ]
    },
    {
     "name": "stdout",
     "output_type": "stream",
     "text": [
      "[CV 3/3] END learning_rate=0.01, max_depth=4, min_child_samples=1, num_leaves=15; AUC: (test=0.758) total time=   0.0s\n",
      "[CV 1/3] END learning_rate=0.01, max_depth=4, min_child_samples=1, num_leaves=31; AUC: (test=0.762) total time=   0.0s\n",
      "[CV 2/3] END learning_rate=0.01, max_depth=4, min_child_samples=1, num_leaves=31; AUC: (test=0.759) total time=   0.0s\n"
     ]
    },
    {
     "name": "stderr",
     "output_type": "stream",
     "text": [
      "C:\\Users\\USER\\.conda\\envs\\lec310\\lib\\site-packages\\lightgbm\\sklearn.py:598: UserWarning: 'silent' argument is deprecated and will be removed in a future release of LightGBM. Pass 'verbose' parameter via keyword arguments instead.\n",
      "  _log_warning(\"'silent' argument is deprecated and will be removed in a future release of LightGBM. \"\n",
      "C:\\Users\\USER\\.conda\\envs\\lec310\\lib\\site-packages\\lightgbm\\sklearn.py:598: UserWarning: 'silent' argument is deprecated and will be removed in a future release of LightGBM. Pass 'verbose' parameter via keyword arguments instead.\n",
      "  _log_warning(\"'silent' argument is deprecated and will be removed in a future release of LightGBM. \"\n",
      "C:\\Users\\USER\\.conda\\envs\\lec310\\lib\\site-packages\\lightgbm\\sklearn.py:598: UserWarning: 'silent' argument is deprecated and will be removed in a future release of LightGBM. Pass 'verbose' parameter via keyword arguments instead.\n",
      "  _log_warning(\"'silent' argument is deprecated and will be removed in a future release of LightGBM. \"\n"
     ]
    },
    {
     "name": "stdout",
     "output_type": "stream",
     "text": [
      "[CV 3/3] END learning_rate=0.01, max_depth=4, min_child_samples=1, num_leaves=31; AUC: (test=0.758) total time=   0.0s\n",
      "[CV 1/3] END learning_rate=0.01, max_depth=4, min_child_samples=1, num_leaves=63; AUC: (test=0.762) total time=   0.0s\n",
      "[CV 2/3] END learning_rate=0.01, max_depth=4, min_child_samples=1, num_leaves=63; AUC: (test=0.759) total time=   0.0s\n"
     ]
    },
    {
     "name": "stderr",
     "output_type": "stream",
     "text": [
      "C:\\Users\\USER\\.conda\\envs\\lec310\\lib\\site-packages\\lightgbm\\sklearn.py:598: UserWarning: 'silent' argument is deprecated and will be removed in a future release of LightGBM. Pass 'verbose' parameter via keyword arguments instead.\n",
      "  _log_warning(\"'silent' argument is deprecated and will be removed in a future release of LightGBM. \"\n",
      "C:\\Users\\USER\\.conda\\envs\\lec310\\lib\\site-packages\\lightgbm\\sklearn.py:598: UserWarning: 'silent' argument is deprecated and will be removed in a future release of LightGBM. Pass 'verbose' parameter via keyword arguments instead.\n",
      "  _log_warning(\"'silent' argument is deprecated and will be removed in a future release of LightGBM. \"\n",
      "C:\\Users\\USER\\.conda\\envs\\lec310\\lib\\site-packages\\lightgbm\\sklearn.py:598: UserWarning: 'silent' argument is deprecated and will be removed in a future release of LightGBM. Pass 'verbose' parameter via keyword arguments instead.\n",
      "  _log_warning(\"'silent' argument is deprecated and will be removed in a future release of LightGBM. \"\n"
     ]
    },
    {
     "name": "stdout",
     "output_type": "stream",
     "text": [
      "[CV 3/3] END learning_rate=0.01, max_depth=4, min_child_samples=1, num_leaves=63; AUC: (test=0.758) total time=   0.0s\n",
      "[CV 1/3] END learning_rate=0.01, max_depth=4, min_child_samples=20, num_leaves=15; AUC: (test=0.762) total time=   0.0s\n",
      "[CV 2/3] END learning_rate=0.01, max_depth=4, min_child_samples=20, num_leaves=15; AUC: (test=0.759) total time=   0.0s\n"
     ]
    },
    {
     "name": "stderr",
     "output_type": "stream",
     "text": [
      "C:\\Users\\USER\\.conda\\envs\\lec310\\lib\\site-packages\\lightgbm\\sklearn.py:598: UserWarning: 'silent' argument is deprecated and will be removed in a future release of LightGBM. Pass 'verbose' parameter via keyword arguments instead.\n",
      "  _log_warning(\"'silent' argument is deprecated and will be removed in a future release of LightGBM. \"\n",
      "C:\\Users\\USER\\.conda\\envs\\lec310\\lib\\site-packages\\lightgbm\\sklearn.py:598: UserWarning: 'silent' argument is deprecated and will be removed in a future release of LightGBM. Pass 'verbose' parameter via keyword arguments instead.\n",
      "  _log_warning(\"'silent' argument is deprecated and will be removed in a future release of LightGBM. \"\n",
      "C:\\Users\\USER\\.conda\\envs\\lec310\\lib\\site-packages\\lightgbm\\sklearn.py:598: UserWarning: 'silent' argument is deprecated and will be removed in a future release of LightGBM. Pass 'verbose' parameter via keyword arguments instead.\n",
      "  _log_warning(\"'silent' argument is deprecated and will be removed in a future release of LightGBM. \"\n"
     ]
    },
    {
     "name": "stdout",
     "output_type": "stream",
     "text": [
      "[CV 3/3] END learning_rate=0.01, max_depth=4, min_child_samples=20, num_leaves=15; AUC: (test=0.758) total time=   0.0s\n",
      "[CV 1/3] END learning_rate=0.01, max_depth=4, min_child_samples=20, num_leaves=31; AUC: (test=0.762) total time=   0.0s\n",
      "[CV 2/3] END learning_rate=0.01, max_depth=4, min_child_samples=20, num_leaves=31; AUC: (test=0.759) total time=   0.0s\n"
     ]
    },
    {
     "name": "stderr",
     "output_type": "stream",
     "text": [
      "C:\\Users\\USER\\.conda\\envs\\lec310\\lib\\site-packages\\lightgbm\\sklearn.py:598: UserWarning: 'silent' argument is deprecated and will be removed in a future release of LightGBM. Pass 'verbose' parameter via keyword arguments instead.\n",
      "  _log_warning(\"'silent' argument is deprecated and will be removed in a future release of LightGBM. \"\n",
      "C:\\Users\\USER\\.conda\\envs\\lec310\\lib\\site-packages\\lightgbm\\sklearn.py:598: UserWarning: 'silent' argument is deprecated and will be removed in a future release of LightGBM. Pass 'verbose' parameter via keyword arguments instead.\n",
      "  _log_warning(\"'silent' argument is deprecated and will be removed in a future release of LightGBM. \"\n",
      "C:\\Users\\USER\\.conda\\envs\\lec310\\lib\\site-packages\\lightgbm\\sklearn.py:598: UserWarning: 'silent' argument is deprecated and will be removed in a future release of LightGBM. Pass 'verbose' parameter via keyword arguments instead.\n",
      "  _log_warning(\"'silent' argument is deprecated and will be removed in a future release of LightGBM. \"\n"
     ]
    },
    {
     "name": "stdout",
     "output_type": "stream",
     "text": [
      "[CV 3/3] END learning_rate=0.01, max_depth=4, min_child_samples=20, num_leaves=31; AUC: (test=0.758) total time=   0.0s\n",
      "[CV 1/3] END learning_rate=0.01, max_depth=4, min_child_samples=20, num_leaves=63; AUC: (test=0.762) total time=   0.0s\n",
      "[CV 2/3] END learning_rate=0.01, max_depth=4, min_child_samples=20, num_leaves=63; AUC: (test=0.759) total time=   0.0s\n"
     ]
    },
    {
     "name": "stderr",
     "output_type": "stream",
     "text": [
      "C:\\Users\\USER\\.conda\\envs\\lec310\\lib\\site-packages\\lightgbm\\sklearn.py:598: UserWarning: 'silent' argument is deprecated and will be removed in a future release of LightGBM. Pass 'verbose' parameter via keyword arguments instead.\n",
      "  _log_warning(\"'silent' argument is deprecated and will be removed in a future release of LightGBM. \"\n",
      "C:\\Users\\USER\\.conda\\envs\\lec310\\lib\\site-packages\\lightgbm\\sklearn.py:598: UserWarning: 'silent' argument is deprecated and will be removed in a future release of LightGBM. Pass 'verbose' parameter via keyword arguments instead.\n",
      "  _log_warning(\"'silent' argument is deprecated and will be removed in a future release of LightGBM. \"\n",
      "C:\\Users\\USER\\.conda\\envs\\lec310\\lib\\site-packages\\lightgbm\\sklearn.py:598: UserWarning: 'silent' argument is deprecated and will be removed in a future release of LightGBM. Pass 'verbose' parameter via keyword arguments instead.\n",
      "  _log_warning(\"'silent' argument is deprecated and will be removed in a future release of LightGBM. \"\n"
     ]
    },
    {
     "name": "stdout",
     "output_type": "stream",
     "text": [
      "[CV 3/3] END learning_rate=0.01, max_depth=4, min_child_samples=20, num_leaves=63; AUC: (test=0.758) total time=   0.0s\n",
      "[CV 1/3] END learning_rate=0.01, max_depth=4, min_child_samples=50, num_leaves=15; AUC: (test=0.762) total time=   0.0s\n",
      "[CV 2/3] END learning_rate=0.01, max_depth=4, min_child_samples=50, num_leaves=15; AUC: (test=0.759) total time=   0.0s\n"
     ]
    },
    {
     "name": "stderr",
     "output_type": "stream",
     "text": [
      "C:\\Users\\USER\\.conda\\envs\\lec310\\lib\\site-packages\\lightgbm\\sklearn.py:598: UserWarning: 'silent' argument is deprecated and will be removed in a future release of LightGBM. Pass 'verbose' parameter via keyword arguments instead.\n",
      "  _log_warning(\"'silent' argument is deprecated and will be removed in a future release of LightGBM. \"\n",
      "C:\\Users\\USER\\.conda\\envs\\lec310\\lib\\site-packages\\lightgbm\\sklearn.py:598: UserWarning: 'silent' argument is deprecated and will be removed in a future release of LightGBM. Pass 'verbose' parameter via keyword arguments instead.\n",
      "  _log_warning(\"'silent' argument is deprecated and will be removed in a future release of LightGBM. \"\n",
      "C:\\Users\\USER\\.conda\\envs\\lec310\\lib\\site-packages\\lightgbm\\sklearn.py:598: UserWarning: 'silent' argument is deprecated and will be removed in a future release of LightGBM. Pass 'verbose' parameter via keyword arguments instead.\n",
      "  _log_warning(\"'silent' argument is deprecated and will be removed in a future release of LightGBM. \"\n"
     ]
    },
    {
     "name": "stdout",
     "output_type": "stream",
     "text": [
      "[CV 3/3] END learning_rate=0.01, max_depth=4, min_child_samples=50, num_leaves=15; AUC: (test=0.758) total time=   0.0s\n",
      "[CV 1/3] END learning_rate=0.01, max_depth=4, min_child_samples=50, num_leaves=31; AUC: (test=0.762) total time=   0.0s\n",
      "[CV 2/3] END learning_rate=0.01, max_depth=4, min_child_samples=50, num_leaves=31; AUC: (test=0.759) total time=   0.0s\n"
     ]
    },
    {
     "name": "stderr",
     "output_type": "stream",
     "text": [
      "C:\\Users\\USER\\.conda\\envs\\lec310\\lib\\site-packages\\lightgbm\\sklearn.py:598: UserWarning: 'silent' argument is deprecated and will be removed in a future release of LightGBM. Pass 'verbose' parameter via keyword arguments instead.\n",
      "  _log_warning(\"'silent' argument is deprecated and will be removed in a future release of LightGBM. \"\n",
      "C:\\Users\\USER\\.conda\\envs\\lec310\\lib\\site-packages\\lightgbm\\sklearn.py:598: UserWarning: 'silent' argument is deprecated and will be removed in a future release of LightGBM. Pass 'verbose' parameter via keyword arguments instead.\n",
      "  _log_warning(\"'silent' argument is deprecated and will be removed in a future release of LightGBM. \"\n",
      "C:\\Users\\USER\\.conda\\envs\\lec310\\lib\\site-packages\\lightgbm\\sklearn.py:598: UserWarning: 'silent' argument is deprecated and will be removed in a future release of LightGBM. Pass 'verbose' parameter via keyword arguments instead.\n",
      "  _log_warning(\"'silent' argument is deprecated and will be removed in a future release of LightGBM. \"\n"
     ]
    },
    {
     "name": "stdout",
     "output_type": "stream",
     "text": [
      "[CV 3/3] END learning_rate=0.01, max_depth=4, min_child_samples=50, num_leaves=31; AUC: (test=0.758) total time=   0.0s\n",
      "[CV 1/3] END learning_rate=0.01, max_depth=4, min_child_samples=50, num_leaves=63; AUC: (test=0.762) total time=   0.0s\n",
      "[CV 2/3] END learning_rate=0.01, max_depth=4, min_child_samples=50, num_leaves=63; AUC: (test=0.759) total time=   0.0s\n"
     ]
    },
    {
     "name": "stderr",
     "output_type": "stream",
     "text": [
      "C:\\Users\\USER\\.conda\\envs\\lec310\\lib\\site-packages\\lightgbm\\sklearn.py:598: UserWarning: 'silent' argument is deprecated and will be removed in a future release of LightGBM. Pass 'verbose' parameter via keyword arguments instead.\n",
      "  _log_warning(\"'silent' argument is deprecated and will be removed in a future release of LightGBM. \"\n",
      "C:\\Users\\USER\\.conda\\envs\\lec310\\lib\\site-packages\\lightgbm\\sklearn.py:598: UserWarning: 'silent' argument is deprecated and will be removed in a future release of LightGBM. Pass 'verbose' parameter via keyword arguments instead.\n",
      "  _log_warning(\"'silent' argument is deprecated and will be removed in a future release of LightGBM. \"\n",
      "C:\\Users\\USER\\.conda\\envs\\lec310\\lib\\site-packages\\lightgbm\\sklearn.py:598: UserWarning: 'silent' argument is deprecated and will be removed in a future release of LightGBM. Pass 'verbose' parameter via keyword arguments instead.\n",
      "  _log_warning(\"'silent' argument is deprecated and will be removed in a future release of LightGBM. \"\n"
     ]
    },
    {
     "name": "stdout",
     "output_type": "stream",
     "text": [
      "[CV 3/3] END learning_rate=0.01, max_depth=4, min_child_samples=50, num_leaves=63; AUC: (test=0.758) total time=   0.0s\n",
      "[CV 1/3] END learning_rate=0.01, max_depth=5, min_child_samples=1, num_leaves=15; AUC: (test=0.763) total time=   0.0s\n",
      "[CV 2/3] END learning_rate=0.01, max_depth=5, min_child_samples=1, num_leaves=15; AUC: (test=0.761) total time=   0.0s\n"
     ]
    },
    {
     "name": "stderr",
     "output_type": "stream",
     "text": [
      "C:\\Users\\USER\\.conda\\envs\\lec310\\lib\\site-packages\\lightgbm\\sklearn.py:598: UserWarning: 'silent' argument is deprecated and will be removed in a future release of LightGBM. Pass 'verbose' parameter via keyword arguments instead.\n",
      "  _log_warning(\"'silent' argument is deprecated and will be removed in a future release of LightGBM. \"\n",
      "C:\\Users\\USER\\.conda\\envs\\lec310\\lib\\site-packages\\lightgbm\\sklearn.py:598: UserWarning: 'silent' argument is deprecated and will be removed in a future release of LightGBM. Pass 'verbose' parameter via keyword arguments instead.\n",
      "  _log_warning(\"'silent' argument is deprecated and will be removed in a future release of LightGBM. \"\n",
      "C:\\Users\\USER\\.conda\\envs\\lec310\\lib\\site-packages\\lightgbm\\sklearn.py:598: UserWarning: 'silent' argument is deprecated and will be removed in a future release of LightGBM. Pass 'verbose' parameter via keyword arguments instead.\n",
      "  _log_warning(\"'silent' argument is deprecated and will be removed in a future release of LightGBM. \"\n"
     ]
    },
    {
     "name": "stdout",
     "output_type": "stream",
     "text": [
      "[CV 3/3] END learning_rate=0.01, max_depth=5, min_child_samples=1, num_leaves=15; AUC: (test=0.759) total time=   0.0s\n",
      "[CV 1/3] END learning_rate=0.01, max_depth=5, min_child_samples=1, num_leaves=31; AUC: (test=0.763) total time=   0.0s\n",
      "[CV 2/3] END learning_rate=0.01, max_depth=5, min_child_samples=1, num_leaves=31; AUC: (test=0.761) total time=   0.0s\n"
     ]
    },
    {
     "name": "stderr",
     "output_type": "stream",
     "text": [
      "C:\\Users\\USER\\.conda\\envs\\lec310\\lib\\site-packages\\lightgbm\\sklearn.py:598: UserWarning: 'silent' argument is deprecated and will be removed in a future release of LightGBM. Pass 'verbose' parameter via keyword arguments instead.\n",
      "  _log_warning(\"'silent' argument is deprecated and will be removed in a future release of LightGBM. \"\n",
      "C:\\Users\\USER\\.conda\\envs\\lec310\\lib\\site-packages\\lightgbm\\sklearn.py:598: UserWarning: 'silent' argument is deprecated and will be removed in a future release of LightGBM. Pass 'verbose' parameter via keyword arguments instead.\n",
      "  _log_warning(\"'silent' argument is deprecated and will be removed in a future release of LightGBM. \"\n",
      "C:\\Users\\USER\\.conda\\envs\\lec310\\lib\\site-packages\\lightgbm\\sklearn.py:598: UserWarning: 'silent' argument is deprecated and will be removed in a future release of LightGBM. Pass 'verbose' parameter via keyword arguments instead.\n",
      "  _log_warning(\"'silent' argument is deprecated and will be removed in a future release of LightGBM. \"\n"
     ]
    },
    {
     "name": "stdout",
     "output_type": "stream",
     "text": [
      "[CV 3/3] END learning_rate=0.01, max_depth=5, min_child_samples=1, num_leaves=31; AUC: (test=0.759) total time=   0.0s\n",
      "[CV 1/3] END learning_rate=0.01, max_depth=5, min_child_samples=1, num_leaves=63; AUC: (test=0.763) total time=   0.0s\n",
      "[CV 2/3] END learning_rate=0.01, max_depth=5, min_child_samples=1, num_leaves=63; AUC: (test=0.761) total time=   0.0s\n"
     ]
    },
    {
     "name": "stderr",
     "output_type": "stream",
     "text": [
      "C:\\Users\\USER\\.conda\\envs\\lec310\\lib\\site-packages\\lightgbm\\sklearn.py:598: UserWarning: 'silent' argument is deprecated and will be removed in a future release of LightGBM. Pass 'verbose' parameter via keyword arguments instead.\n",
      "  _log_warning(\"'silent' argument is deprecated and will be removed in a future release of LightGBM. \"\n",
      "C:\\Users\\USER\\.conda\\envs\\lec310\\lib\\site-packages\\lightgbm\\sklearn.py:598: UserWarning: 'silent' argument is deprecated and will be removed in a future release of LightGBM. Pass 'verbose' parameter via keyword arguments instead.\n",
      "  _log_warning(\"'silent' argument is deprecated and will be removed in a future release of LightGBM. \"\n",
      "C:\\Users\\USER\\.conda\\envs\\lec310\\lib\\site-packages\\lightgbm\\sklearn.py:598: UserWarning: 'silent' argument is deprecated and will be removed in a future release of LightGBM. Pass 'verbose' parameter via keyword arguments instead.\n",
      "  _log_warning(\"'silent' argument is deprecated and will be removed in a future release of LightGBM. \"\n"
     ]
    },
    {
     "name": "stdout",
     "output_type": "stream",
     "text": [
      "[CV 3/3] END learning_rate=0.01, max_depth=5, min_child_samples=1, num_leaves=63; AUC: (test=0.759) total time=   0.0s\n",
      "[CV 1/3] END learning_rate=0.01, max_depth=5, min_child_samples=20, num_leaves=15; AUC: (test=0.763) total time=   0.0s\n",
      "[CV 2/3] END learning_rate=0.01, max_depth=5, min_child_samples=20, num_leaves=15; AUC: (test=0.761) total time=   0.0s\n"
     ]
    },
    {
     "name": "stderr",
     "output_type": "stream",
     "text": [
      "C:\\Users\\USER\\.conda\\envs\\lec310\\lib\\site-packages\\lightgbm\\sklearn.py:598: UserWarning: 'silent' argument is deprecated and will be removed in a future release of LightGBM. Pass 'verbose' parameter via keyword arguments instead.\n",
      "  _log_warning(\"'silent' argument is deprecated and will be removed in a future release of LightGBM. \"\n"
     ]
    },
    {
     "name": "stdout",
     "output_type": "stream",
     "text": [
      "[CV 3/3] END learning_rate=0.01, max_depth=5, min_child_samples=20, num_leaves=15; AUC: (test=0.759) total time=   0.2s\n"
     ]
    },
    {
     "name": "stderr",
     "output_type": "stream",
     "text": [
      "C:\\Users\\USER\\.conda\\envs\\lec310\\lib\\site-packages\\lightgbm\\sklearn.py:598: UserWarning: 'silent' argument is deprecated and will be removed in a future release of LightGBM. Pass 'verbose' parameter via keyword arguments instead.\n",
      "  _log_warning(\"'silent' argument is deprecated and will be removed in a future release of LightGBM. \"\n"
     ]
    },
    {
     "name": "stdout",
     "output_type": "stream",
     "text": [
      "[CV 1/3] END learning_rate=0.01, max_depth=5, min_child_samples=20, num_leaves=31; AUC: (test=0.763) total time=   0.1s\n"
     ]
    },
    {
     "name": "stderr",
     "output_type": "stream",
     "text": [
      "C:\\Users\\USER\\.conda\\envs\\lec310\\lib\\site-packages\\lightgbm\\sklearn.py:598: UserWarning: 'silent' argument is deprecated and will be removed in a future release of LightGBM. Pass 'verbose' parameter via keyword arguments instead.\n",
      "  _log_warning(\"'silent' argument is deprecated and will be removed in a future release of LightGBM. \"\n"
     ]
    },
    {
     "name": "stdout",
     "output_type": "stream",
     "text": [
      "[CV 2/3] END learning_rate=0.01, max_depth=5, min_child_samples=20, num_leaves=31; AUC: (test=0.761) total time=   0.1s\n"
     ]
    },
    {
     "name": "stderr",
     "output_type": "stream",
     "text": [
      "C:\\Users\\USER\\.conda\\envs\\lec310\\lib\\site-packages\\lightgbm\\sklearn.py:598: UserWarning: 'silent' argument is deprecated and will be removed in a future release of LightGBM. Pass 'verbose' parameter via keyword arguments instead.\n",
      "  _log_warning(\"'silent' argument is deprecated and will be removed in a future release of LightGBM. \"\n"
     ]
    },
    {
     "name": "stdout",
     "output_type": "stream",
     "text": [
      "[CV 3/3] END learning_rate=0.01, max_depth=5, min_child_samples=20, num_leaves=31; AUC: (test=0.759) total time=   0.1s\n"
     ]
    },
    {
     "name": "stderr",
     "output_type": "stream",
     "text": [
      "C:\\Users\\USER\\.conda\\envs\\lec310\\lib\\site-packages\\lightgbm\\sklearn.py:598: UserWarning: 'silent' argument is deprecated and will be removed in a future release of LightGBM. Pass 'verbose' parameter via keyword arguments instead.\n",
      "  _log_warning(\"'silent' argument is deprecated and will be removed in a future release of LightGBM. \"\n"
     ]
    },
    {
     "name": "stdout",
     "output_type": "stream",
     "text": [
      "[CV 1/3] END learning_rate=0.01, max_depth=5, min_child_samples=20, num_leaves=63; AUC: (test=0.763) total time=   0.1s\n"
     ]
    },
    {
     "name": "stderr",
     "output_type": "stream",
     "text": [
      "C:\\Users\\USER\\.conda\\envs\\lec310\\lib\\site-packages\\lightgbm\\sklearn.py:598: UserWarning: 'silent' argument is deprecated and will be removed in a future release of LightGBM. Pass 'verbose' parameter via keyword arguments instead.\n",
      "  _log_warning(\"'silent' argument is deprecated and will be removed in a future release of LightGBM. \"\n"
     ]
    },
    {
     "name": "stdout",
     "output_type": "stream",
     "text": [
      "[CV 2/3] END learning_rate=0.01, max_depth=5, min_child_samples=20, num_leaves=63; AUC: (test=0.761) total time=   0.1s\n"
     ]
    },
    {
     "name": "stderr",
     "output_type": "stream",
     "text": [
      "C:\\Users\\USER\\.conda\\envs\\lec310\\lib\\site-packages\\lightgbm\\sklearn.py:598: UserWarning: 'silent' argument is deprecated and will be removed in a future release of LightGBM. Pass 'verbose' parameter via keyword arguments instead.\n",
      "  _log_warning(\"'silent' argument is deprecated and will be removed in a future release of LightGBM. \"\n"
     ]
    },
    {
     "name": "stdout",
     "output_type": "stream",
     "text": [
      "[CV 3/3] END learning_rate=0.01, max_depth=5, min_child_samples=20, num_leaves=63; AUC: (test=0.759) total time=   0.1s\n"
     ]
    },
    {
     "name": "stderr",
     "output_type": "stream",
     "text": [
      "C:\\Users\\USER\\.conda\\envs\\lec310\\lib\\site-packages\\lightgbm\\sklearn.py:598: UserWarning: 'silent' argument is deprecated and will be removed in a future release of LightGBM. Pass 'verbose' parameter via keyword arguments instead.\n",
      "  _log_warning(\"'silent' argument is deprecated and will be removed in a future release of LightGBM. \"\n"
     ]
    },
    {
     "name": "stdout",
     "output_type": "stream",
     "text": [
      "[CV 1/3] END learning_rate=0.01, max_depth=5, min_child_samples=50, num_leaves=15; AUC: (test=0.763) total time=   0.1s\n"
     ]
    },
    {
     "name": "stderr",
     "output_type": "stream",
     "text": [
      "C:\\Users\\USER\\.conda\\envs\\lec310\\lib\\site-packages\\lightgbm\\sklearn.py:598: UserWarning: 'silent' argument is deprecated and will be removed in a future release of LightGBM. Pass 'verbose' parameter via keyword arguments instead.\n",
      "  _log_warning(\"'silent' argument is deprecated and will be removed in a future release of LightGBM. \"\n"
     ]
    },
    {
     "name": "stdout",
     "output_type": "stream",
     "text": [
      "[CV 2/3] END learning_rate=0.01, max_depth=5, min_child_samples=50, num_leaves=15; AUC: (test=0.760) total time=   0.1s\n"
     ]
    },
    {
     "name": "stderr",
     "output_type": "stream",
     "text": [
      "C:\\Users\\USER\\.conda\\envs\\lec310\\lib\\site-packages\\lightgbm\\sklearn.py:598: UserWarning: 'silent' argument is deprecated and will be removed in a future release of LightGBM. Pass 'verbose' parameter via keyword arguments instead.\n",
      "  _log_warning(\"'silent' argument is deprecated and will be removed in a future release of LightGBM. \"\n"
     ]
    },
    {
     "name": "stdout",
     "output_type": "stream",
     "text": [
      "[CV 3/3] END learning_rate=0.01, max_depth=5, min_child_samples=50, num_leaves=15; AUC: (test=0.759) total time=   0.1s\n"
     ]
    },
    {
     "name": "stderr",
     "output_type": "stream",
     "text": [
      "C:\\Users\\USER\\.conda\\envs\\lec310\\lib\\site-packages\\lightgbm\\sklearn.py:598: UserWarning: 'silent' argument is deprecated and will be removed in a future release of LightGBM. Pass 'verbose' parameter via keyword arguments instead.\n",
      "  _log_warning(\"'silent' argument is deprecated and will be removed in a future release of LightGBM. \"\n"
     ]
    },
    {
     "name": "stdout",
     "output_type": "stream",
     "text": [
      "[CV 1/3] END learning_rate=0.01, max_depth=5, min_child_samples=50, num_leaves=31; AUC: (test=0.763) total time=   0.1s\n"
     ]
    },
    {
     "name": "stderr",
     "output_type": "stream",
     "text": [
      "C:\\Users\\USER\\.conda\\envs\\lec310\\lib\\site-packages\\lightgbm\\sklearn.py:598: UserWarning: 'silent' argument is deprecated and will be removed in a future release of LightGBM. Pass 'verbose' parameter via keyword arguments instead.\n",
      "  _log_warning(\"'silent' argument is deprecated and will be removed in a future release of LightGBM. \"\n"
     ]
    },
    {
     "name": "stdout",
     "output_type": "stream",
     "text": [
      "[CV 2/3] END learning_rate=0.01, max_depth=5, min_child_samples=50, num_leaves=31; AUC: (test=0.760) total time=   0.1s\n"
     ]
    },
    {
     "name": "stderr",
     "output_type": "stream",
     "text": [
      "C:\\Users\\USER\\.conda\\envs\\lec310\\lib\\site-packages\\lightgbm\\sklearn.py:598: UserWarning: 'silent' argument is deprecated and will be removed in a future release of LightGBM. Pass 'verbose' parameter via keyword arguments instead.\n",
      "  _log_warning(\"'silent' argument is deprecated and will be removed in a future release of LightGBM. \"\n"
     ]
    },
    {
     "name": "stdout",
     "output_type": "stream",
     "text": [
      "[CV 3/3] END learning_rate=0.01, max_depth=5, min_child_samples=50, num_leaves=31; AUC: (test=0.759) total time=   0.1s\n"
     ]
    },
    {
     "name": "stderr",
     "output_type": "stream",
     "text": [
      "C:\\Users\\USER\\.conda\\envs\\lec310\\lib\\site-packages\\lightgbm\\sklearn.py:598: UserWarning: 'silent' argument is deprecated and will be removed in a future release of LightGBM. Pass 'verbose' parameter via keyword arguments instead.\n",
      "  _log_warning(\"'silent' argument is deprecated and will be removed in a future release of LightGBM. \"\n"
     ]
    },
    {
     "name": "stdout",
     "output_type": "stream",
     "text": [
      "[CV 1/3] END learning_rate=0.01, max_depth=5, min_child_samples=50, num_leaves=63; AUC: (test=0.763) total time=   0.1s\n"
     ]
    },
    {
     "name": "stderr",
     "output_type": "stream",
     "text": [
      "C:\\Users\\USER\\.conda\\envs\\lec310\\lib\\site-packages\\lightgbm\\sklearn.py:598: UserWarning: 'silent' argument is deprecated and will be removed in a future release of LightGBM. Pass 'verbose' parameter via keyword arguments instead.\n",
      "  _log_warning(\"'silent' argument is deprecated and will be removed in a future release of LightGBM. \"\n"
     ]
    },
    {
     "name": "stdout",
     "output_type": "stream",
     "text": [
      "[CV 2/3] END learning_rate=0.01, max_depth=5, min_child_samples=50, num_leaves=63; AUC: (test=0.760) total time=   0.1s\n"
     ]
    },
    {
     "name": "stderr",
     "output_type": "stream",
     "text": [
      "C:\\Users\\USER\\.conda\\envs\\lec310\\lib\\site-packages\\lightgbm\\sklearn.py:598: UserWarning: 'silent' argument is deprecated and will be removed in a future release of LightGBM. Pass 'verbose' parameter via keyword arguments instead.\n",
      "  _log_warning(\"'silent' argument is deprecated and will be removed in a future release of LightGBM. \"\n"
     ]
    },
    {
     "name": "stdout",
     "output_type": "stream",
     "text": [
      "[CV 3/3] END learning_rate=0.01, max_depth=5, min_child_samples=50, num_leaves=63; AUC: (test=0.759) total time=   0.1s\n",
      "[CV 1/3] END learning_rate=0.1, max_depth=3, min_child_samples=1, num_leaves=15; AUC: (test=0.785) total time=   0.1s\n"
     ]
    },
    {
     "name": "stderr",
     "output_type": "stream",
     "text": [
      "C:\\Users\\USER\\.conda\\envs\\lec310\\lib\\site-packages\\lightgbm\\sklearn.py:598: UserWarning: 'silent' argument is deprecated and will be removed in a future release of LightGBM. Pass 'verbose' parameter via keyword arguments instead.\n",
      "  _log_warning(\"'silent' argument is deprecated and will be removed in a future release of LightGBM. \"\n",
      "C:\\Users\\USER\\.conda\\envs\\lec310\\lib\\site-packages\\lightgbm\\sklearn.py:598: UserWarning: 'silent' argument is deprecated and will be removed in a future release of LightGBM. Pass 'verbose' parameter via keyword arguments instead.\n",
      "  _log_warning(\"'silent' argument is deprecated and will be removed in a future release of LightGBM. \"\n"
     ]
    },
    {
     "name": "stdout",
     "output_type": "stream",
     "text": [
      "[CV 2/3] END learning_rate=0.1, max_depth=3, min_child_samples=1, num_leaves=15; AUC: (test=0.782) total time=   0.0s\n",
      "[CV 3/3] END learning_rate=0.1, max_depth=3, min_child_samples=1, num_leaves=15; AUC: (test=0.781) total time=   0.0s\n"
     ]
    },
    {
     "name": "stderr",
     "output_type": "stream",
     "text": [
      "C:\\Users\\USER\\.conda\\envs\\lec310\\lib\\site-packages\\lightgbm\\sklearn.py:598: UserWarning: 'silent' argument is deprecated and will be removed in a future release of LightGBM. Pass 'verbose' parameter via keyword arguments instead.\n",
      "  _log_warning(\"'silent' argument is deprecated and will be removed in a future release of LightGBM. \"\n",
      "C:\\Users\\USER\\.conda\\envs\\lec310\\lib\\site-packages\\lightgbm\\sklearn.py:598: UserWarning: 'silent' argument is deprecated and will be removed in a future release of LightGBM. Pass 'verbose' parameter via keyword arguments instead.\n",
      "  _log_warning(\"'silent' argument is deprecated and will be removed in a future release of LightGBM. \"\n"
     ]
    },
    {
     "name": "stdout",
     "output_type": "stream",
     "text": [
      "[CV 1/3] END learning_rate=0.1, max_depth=3, min_child_samples=1, num_leaves=31; AUC: (test=0.785) total time=   0.1s\n",
      "[CV 2/3] END learning_rate=0.1, max_depth=3, min_child_samples=1, num_leaves=31; AUC: (test=0.782) total time=   0.1s\n"
     ]
    },
    {
     "name": "stderr",
     "output_type": "stream",
     "text": [
      "C:\\Users\\USER\\.conda\\envs\\lec310\\lib\\site-packages\\lightgbm\\sklearn.py:598: UserWarning: 'silent' argument is deprecated and will be removed in a future release of LightGBM. Pass 'verbose' parameter via keyword arguments instead.\n",
      "  _log_warning(\"'silent' argument is deprecated and will be removed in a future release of LightGBM. \"\n",
      "C:\\Users\\USER\\.conda\\envs\\lec310\\lib\\site-packages\\lightgbm\\sklearn.py:598: UserWarning: 'silent' argument is deprecated and will be removed in a future release of LightGBM. Pass 'verbose' parameter via keyword arguments instead.\n",
      "  _log_warning(\"'silent' argument is deprecated and will be removed in a future release of LightGBM. \"\n"
     ]
    },
    {
     "name": "stdout",
     "output_type": "stream",
     "text": [
      "[CV 3/3] END learning_rate=0.1, max_depth=3, min_child_samples=1, num_leaves=31; AUC: (test=0.781) total time=   0.0s\n",
      "[CV 1/3] END learning_rate=0.1, max_depth=3, min_child_samples=1, num_leaves=63; AUC: (test=0.785) total time=   0.1s\n"
     ]
    },
    {
     "name": "stderr",
     "output_type": "stream",
     "text": [
      "C:\\Users\\USER\\.conda\\envs\\lec310\\lib\\site-packages\\lightgbm\\sklearn.py:598: UserWarning: 'silent' argument is deprecated and will be removed in a future release of LightGBM. Pass 'verbose' parameter via keyword arguments instead.\n",
      "  _log_warning(\"'silent' argument is deprecated and will be removed in a future release of LightGBM. \"\n",
      "C:\\Users\\USER\\.conda\\envs\\lec310\\lib\\site-packages\\lightgbm\\sklearn.py:598: UserWarning: 'silent' argument is deprecated and will be removed in a future release of LightGBM. Pass 'verbose' parameter via keyword arguments instead.\n",
      "  _log_warning(\"'silent' argument is deprecated and will be removed in a future release of LightGBM. \"\n"
     ]
    },
    {
     "name": "stdout",
     "output_type": "stream",
     "text": [
      "[CV 2/3] END learning_rate=0.1, max_depth=3, min_child_samples=1, num_leaves=63; AUC: (test=0.782) total time=   0.0s\n",
      "[CV 3/3] END learning_rate=0.1, max_depth=3, min_child_samples=1, num_leaves=63; AUC: (test=0.781) total time=   0.0s\n"
     ]
    },
    {
     "name": "stderr",
     "output_type": "stream",
     "text": [
      "C:\\Users\\USER\\.conda\\envs\\lec310\\lib\\site-packages\\lightgbm\\sklearn.py:598: UserWarning: 'silent' argument is deprecated and will be removed in a future release of LightGBM. Pass 'verbose' parameter via keyword arguments instead.\n",
      "  _log_warning(\"'silent' argument is deprecated and will be removed in a future release of LightGBM. \"\n",
      "C:\\Users\\USER\\.conda\\envs\\lec310\\lib\\site-packages\\lightgbm\\sklearn.py:598: UserWarning: 'silent' argument is deprecated and will be removed in a future release of LightGBM. Pass 'verbose' parameter via keyword arguments instead.\n",
      "  _log_warning(\"'silent' argument is deprecated and will be removed in a future release of LightGBM. \"\n"
     ]
    },
    {
     "name": "stdout",
     "output_type": "stream",
     "text": [
      "[CV 1/3] END learning_rate=0.1, max_depth=3, min_child_samples=20, num_leaves=15; AUC: (test=0.785) total time=   0.0s\n",
      "[CV 2/3] END learning_rate=0.1, max_depth=3, min_child_samples=20, num_leaves=15; AUC: (test=0.782) total time=   0.0s\n"
     ]
    },
    {
     "name": "stderr",
     "output_type": "stream",
     "text": [
      "C:\\Users\\USER\\.conda\\envs\\lec310\\lib\\site-packages\\lightgbm\\sklearn.py:598: UserWarning: 'silent' argument is deprecated and will be removed in a future release of LightGBM. Pass 'verbose' parameter via keyword arguments instead.\n",
      "  _log_warning(\"'silent' argument is deprecated and will be removed in a future release of LightGBM. \"\n",
      "C:\\Users\\USER\\.conda\\envs\\lec310\\lib\\site-packages\\lightgbm\\sklearn.py:598: UserWarning: 'silent' argument is deprecated and will be removed in a future release of LightGBM. Pass 'verbose' parameter via keyword arguments instead.\n",
      "  _log_warning(\"'silent' argument is deprecated and will be removed in a future release of LightGBM. \"\n"
     ]
    },
    {
     "name": "stdout",
     "output_type": "stream",
     "text": [
      "[CV 3/3] END learning_rate=0.1, max_depth=3, min_child_samples=20, num_leaves=15; AUC: (test=0.781) total time=   0.0s\n",
      "[CV 1/3] END learning_rate=0.1, max_depth=3, min_child_samples=20, num_leaves=31; AUC: (test=0.785) total time=   0.0s\n"
     ]
    },
    {
     "name": "stderr",
     "output_type": "stream",
     "text": [
      "C:\\Users\\USER\\.conda\\envs\\lec310\\lib\\site-packages\\lightgbm\\sklearn.py:598: UserWarning: 'silent' argument is deprecated and will be removed in a future release of LightGBM. Pass 'verbose' parameter via keyword arguments instead.\n",
      "  _log_warning(\"'silent' argument is deprecated and will be removed in a future release of LightGBM. \"\n",
      "C:\\Users\\USER\\.conda\\envs\\lec310\\lib\\site-packages\\lightgbm\\sklearn.py:598: UserWarning: 'silent' argument is deprecated and will be removed in a future release of LightGBM. Pass 'verbose' parameter via keyword arguments instead.\n",
      "  _log_warning(\"'silent' argument is deprecated and will be removed in a future release of LightGBM. \"\n"
     ]
    },
    {
     "name": "stdout",
     "output_type": "stream",
     "text": [
      "[CV 2/3] END learning_rate=0.1, max_depth=3, min_child_samples=20, num_leaves=31; AUC: (test=0.782) total time=   0.0s\n",
      "[CV 3/3] END learning_rate=0.1, max_depth=3, min_child_samples=20, num_leaves=31; AUC: (test=0.781) total time=   0.1s\n"
     ]
    },
    {
     "name": "stderr",
     "output_type": "stream",
     "text": [
      "C:\\Users\\USER\\.conda\\envs\\lec310\\lib\\site-packages\\lightgbm\\sklearn.py:598: UserWarning: 'silent' argument is deprecated and will be removed in a future release of LightGBM. Pass 'verbose' parameter via keyword arguments instead.\n",
      "  _log_warning(\"'silent' argument is deprecated and will be removed in a future release of LightGBM. \"\n",
      "C:\\Users\\USER\\.conda\\envs\\lec310\\lib\\site-packages\\lightgbm\\sklearn.py:598: UserWarning: 'silent' argument is deprecated and will be removed in a future release of LightGBM. Pass 'verbose' parameter via keyword arguments instead.\n",
      "  _log_warning(\"'silent' argument is deprecated and will be removed in a future release of LightGBM. \"\n"
     ]
    },
    {
     "name": "stdout",
     "output_type": "stream",
     "text": [
      "[CV 1/3] END learning_rate=0.1, max_depth=3, min_child_samples=20, num_leaves=63; AUC: (test=0.785) total time=   0.0s\n",
      "[CV 2/3] END learning_rate=0.1, max_depth=3, min_child_samples=20, num_leaves=63; AUC: (test=0.782) total time=   0.0s\n"
     ]
    },
    {
     "name": "stderr",
     "output_type": "stream",
     "text": [
      "C:\\Users\\USER\\.conda\\envs\\lec310\\lib\\site-packages\\lightgbm\\sklearn.py:598: UserWarning: 'silent' argument is deprecated and will be removed in a future release of LightGBM. Pass 'verbose' parameter via keyword arguments instead.\n",
      "  _log_warning(\"'silent' argument is deprecated and will be removed in a future release of LightGBM. \"\n",
      "C:\\Users\\USER\\.conda\\envs\\lec310\\lib\\site-packages\\lightgbm\\sklearn.py:598: UserWarning: 'silent' argument is deprecated and will be removed in a future release of LightGBM. Pass 'verbose' parameter via keyword arguments instead.\n",
      "  _log_warning(\"'silent' argument is deprecated and will be removed in a future release of LightGBM. \"\n"
     ]
    },
    {
     "name": "stdout",
     "output_type": "stream",
     "text": [
      "[CV 3/3] END learning_rate=0.1, max_depth=3, min_child_samples=20, num_leaves=63; AUC: (test=0.781) total time=   0.1s\n",
      "[CV 1/3] END learning_rate=0.1, max_depth=3, min_child_samples=50, num_leaves=15; AUC: (test=0.785) total time=   0.0s\n"
     ]
    },
    {
     "name": "stderr",
     "output_type": "stream",
     "text": [
      "C:\\Users\\USER\\.conda\\envs\\lec310\\lib\\site-packages\\lightgbm\\sklearn.py:598: UserWarning: 'silent' argument is deprecated and will be removed in a future release of LightGBM. Pass 'verbose' parameter via keyword arguments instead.\n",
      "  _log_warning(\"'silent' argument is deprecated and will be removed in a future release of LightGBM. \"\n",
      "C:\\Users\\USER\\.conda\\envs\\lec310\\lib\\site-packages\\lightgbm\\sklearn.py:598: UserWarning: 'silent' argument is deprecated and will be removed in a future release of LightGBM. Pass 'verbose' parameter via keyword arguments instead.\n",
      "  _log_warning(\"'silent' argument is deprecated and will be removed in a future release of LightGBM. \"\n"
     ]
    },
    {
     "name": "stdout",
     "output_type": "stream",
     "text": [
      "[CV 2/3] END learning_rate=0.1, max_depth=3, min_child_samples=50, num_leaves=15; AUC: (test=0.782) total time=   0.0s\n",
      "[CV 3/3] END learning_rate=0.1, max_depth=3, min_child_samples=50, num_leaves=15; AUC: (test=0.781) total time=   0.1s\n"
     ]
    },
    {
     "name": "stderr",
     "output_type": "stream",
     "text": [
      "C:\\Users\\USER\\.conda\\envs\\lec310\\lib\\site-packages\\lightgbm\\sklearn.py:598: UserWarning: 'silent' argument is deprecated and will be removed in a future release of LightGBM. Pass 'verbose' parameter via keyword arguments instead.\n",
      "  _log_warning(\"'silent' argument is deprecated and will be removed in a future release of LightGBM. \"\n",
      "C:\\Users\\USER\\.conda\\envs\\lec310\\lib\\site-packages\\lightgbm\\sklearn.py:598: UserWarning: 'silent' argument is deprecated and will be removed in a future release of LightGBM. Pass 'verbose' parameter via keyword arguments instead.\n",
      "  _log_warning(\"'silent' argument is deprecated and will be removed in a future release of LightGBM. \"\n"
     ]
    },
    {
     "name": "stdout",
     "output_type": "stream",
     "text": [
      "[CV 1/3] END learning_rate=0.1, max_depth=3, min_child_samples=50, num_leaves=31; AUC: (test=0.785) total time=   0.1s\n",
      "[CV 2/3] END learning_rate=0.1, max_depth=3, min_child_samples=50, num_leaves=31; AUC: (test=0.782) total time=   0.0s\n"
     ]
    },
    {
     "name": "stderr",
     "output_type": "stream",
     "text": [
      "C:\\Users\\USER\\.conda\\envs\\lec310\\lib\\site-packages\\lightgbm\\sklearn.py:598: UserWarning: 'silent' argument is deprecated and will be removed in a future release of LightGBM. Pass 'verbose' parameter via keyword arguments instead.\n",
      "  _log_warning(\"'silent' argument is deprecated and will be removed in a future release of LightGBM. \"\n",
      "C:\\Users\\USER\\.conda\\envs\\lec310\\lib\\site-packages\\lightgbm\\sklearn.py:598: UserWarning: 'silent' argument is deprecated and will be removed in a future release of LightGBM. Pass 'verbose' parameter via keyword arguments instead.\n",
      "  _log_warning(\"'silent' argument is deprecated and will be removed in a future release of LightGBM. \"\n"
     ]
    },
    {
     "name": "stdout",
     "output_type": "stream",
     "text": [
      "[CV 3/3] END learning_rate=0.1, max_depth=3, min_child_samples=50, num_leaves=31; AUC: (test=0.781) total time=   0.1s\n",
      "[CV 1/3] END learning_rate=0.1, max_depth=3, min_child_samples=50, num_leaves=63; AUC: (test=0.785) total time=   0.1s\n"
     ]
    },
    {
     "name": "stderr",
     "output_type": "stream",
     "text": [
      "C:\\Users\\USER\\.conda\\envs\\lec310\\lib\\site-packages\\lightgbm\\sklearn.py:598: UserWarning: 'silent' argument is deprecated and will be removed in a future release of LightGBM. Pass 'verbose' parameter via keyword arguments instead.\n",
      "  _log_warning(\"'silent' argument is deprecated and will be removed in a future release of LightGBM. \"\n",
      "C:\\Users\\USER\\.conda\\envs\\lec310\\lib\\site-packages\\lightgbm\\sklearn.py:598: UserWarning: 'silent' argument is deprecated and will be removed in a future release of LightGBM. Pass 'verbose' parameter via keyword arguments instead.\n",
      "  _log_warning(\"'silent' argument is deprecated and will be removed in a future release of LightGBM. \"\n"
     ]
    },
    {
     "name": "stdout",
     "output_type": "stream",
     "text": [
      "[CV 2/3] END learning_rate=0.1, max_depth=3, min_child_samples=50, num_leaves=63; AUC: (test=0.782) total time=   0.0s\n",
      "[CV 3/3] END learning_rate=0.1, max_depth=3, min_child_samples=50, num_leaves=63; AUC: (test=0.781) total time=   0.1s\n"
     ]
    },
    {
     "name": "stderr",
     "output_type": "stream",
     "text": [
      "C:\\Users\\USER\\.conda\\envs\\lec310\\lib\\site-packages\\lightgbm\\sklearn.py:598: UserWarning: 'silent' argument is deprecated and will be removed in a future release of LightGBM. Pass 'verbose' parameter via keyword arguments instead.\n",
      "  _log_warning(\"'silent' argument is deprecated and will be removed in a future release of LightGBM. \"\n",
      "C:\\Users\\USER\\.conda\\envs\\lec310\\lib\\site-packages\\lightgbm\\sklearn.py:598: UserWarning: 'silent' argument is deprecated and will be removed in a future release of LightGBM. Pass 'verbose' parameter via keyword arguments instead.\n",
      "  _log_warning(\"'silent' argument is deprecated and will be removed in a future release of LightGBM. \"\n"
     ]
    },
    {
     "name": "stdout",
     "output_type": "stream",
     "text": [
      "[CV 1/3] END learning_rate=0.1, max_depth=4, min_child_samples=1, num_leaves=15; AUC: (test=0.786) total time=   0.1s\n",
      "[CV 2/3] END learning_rate=0.1, max_depth=4, min_child_samples=1, num_leaves=15; AUC: (test=0.784) total time=   0.1s\n"
     ]
    },
    {
     "name": "stderr",
     "output_type": "stream",
     "text": [
      "C:\\Users\\USER\\.conda\\envs\\lec310\\lib\\site-packages\\lightgbm\\sklearn.py:598: UserWarning: 'silent' argument is deprecated and will be removed in a future release of LightGBM. Pass 'verbose' parameter via keyword arguments instead.\n",
      "  _log_warning(\"'silent' argument is deprecated and will be removed in a future release of LightGBM. \"\n",
      "C:\\Users\\USER\\.conda\\envs\\lec310\\lib\\site-packages\\lightgbm\\sklearn.py:598: UserWarning: 'silent' argument is deprecated and will be removed in a future release of LightGBM. Pass 'verbose' parameter via keyword arguments instead.\n",
      "  _log_warning(\"'silent' argument is deprecated and will be removed in a future release of LightGBM. \"\n"
     ]
    },
    {
     "name": "stdout",
     "output_type": "stream",
     "text": [
      "[CV 3/3] END learning_rate=0.1, max_depth=4, min_child_samples=1, num_leaves=15; AUC: (test=0.782) total time=   0.1s\n",
      "[CV 1/3] END learning_rate=0.1, max_depth=4, min_child_samples=1, num_leaves=31; AUC: (test=0.786) total time=   0.1s\n"
     ]
    },
    {
     "name": "stderr",
     "output_type": "stream",
     "text": [
      "C:\\Users\\USER\\.conda\\envs\\lec310\\lib\\site-packages\\lightgbm\\sklearn.py:598: UserWarning: 'silent' argument is deprecated and will be removed in a future release of LightGBM. Pass 'verbose' parameter via keyword arguments instead.\n",
      "  _log_warning(\"'silent' argument is deprecated and will be removed in a future release of LightGBM. \"\n",
      "C:\\Users\\USER\\.conda\\envs\\lec310\\lib\\site-packages\\lightgbm\\sklearn.py:598: UserWarning: 'silent' argument is deprecated and will be removed in a future release of LightGBM. Pass 'verbose' parameter via keyword arguments instead.\n",
      "  _log_warning(\"'silent' argument is deprecated and will be removed in a future release of LightGBM. \"\n"
     ]
    },
    {
     "name": "stdout",
     "output_type": "stream",
     "text": [
      "[CV 2/3] END learning_rate=0.1, max_depth=4, min_child_samples=1, num_leaves=31; AUC: (test=0.784) total time=   0.1s\n",
      "[CV 3/3] END learning_rate=0.1, max_depth=4, min_child_samples=1, num_leaves=31; AUC: (test=0.782) total time=   0.1s\n"
     ]
    },
    {
     "name": "stderr",
     "output_type": "stream",
     "text": [
      "C:\\Users\\USER\\.conda\\envs\\lec310\\lib\\site-packages\\lightgbm\\sklearn.py:598: UserWarning: 'silent' argument is deprecated and will be removed in a future release of LightGBM. Pass 'verbose' parameter via keyword arguments instead.\n",
      "  _log_warning(\"'silent' argument is deprecated and will be removed in a future release of LightGBM. \"\n",
      "C:\\Users\\USER\\.conda\\envs\\lec310\\lib\\site-packages\\lightgbm\\sklearn.py:598: UserWarning: 'silent' argument is deprecated and will be removed in a future release of LightGBM. Pass 'verbose' parameter via keyword arguments instead.\n",
      "  _log_warning(\"'silent' argument is deprecated and will be removed in a future release of LightGBM. \"\n"
     ]
    },
    {
     "name": "stdout",
     "output_type": "stream",
     "text": [
      "[CV 1/3] END learning_rate=0.1, max_depth=4, min_child_samples=1, num_leaves=63; AUC: (test=0.786) total time=   0.1s\n",
      "[CV 2/3] END learning_rate=0.1, max_depth=4, min_child_samples=1, num_leaves=63; AUC: (test=0.784) total time=   0.1s\n"
     ]
    },
    {
     "name": "stderr",
     "output_type": "stream",
     "text": [
      "C:\\Users\\USER\\.conda\\envs\\lec310\\lib\\site-packages\\lightgbm\\sklearn.py:598: UserWarning: 'silent' argument is deprecated and will be removed in a future release of LightGBM. Pass 'verbose' parameter via keyword arguments instead.\n",
      "  _log_warning(\"'silent' argument is deprecated and will be removed in a future release of LightGBM. \"\n",
      "C:\\Users\\USER\\.conda\\envs\\lec310\\lib\\site-packages\\lightgbm\\sklearn.py:598: UserWarning: 'silent' argument is deprecated and will be removed in a future release of LightGBM. Pass 'verbose' parameter via keyword arguments instead.\n",
      "  _log_warning(\"'silent' argument is deprecated and will be removed in a future release of LightGBM. \"\n"
     ]
    },
    {
     "name": "stdout",
     "output_type": "stream",
     "text": [
      "[CV 3/3] END learning_rate=0.1, max_depth=4, min_child_samples=1, num_leaves=63; AUC: (test=0.782) total time=   0.1s\n",
      "[CV 1/3] END learning_rate=0.1, max_depth=4, min_child_samples=20, num_leaves=15; AUC: (test=0.786) total time=   0.1s\n"
     ]
    },
    {
     "name": "stderr",
     "output_type": "stream",
     "text": [
      "C:\\Users\\USER\\.conda\\envs\\lec310\\lib\\site-packages\\lightgbm\\sklearn.py:598: UserWarning: 'silent' argument is deprecated and will be removed in a future release of LightGBM. Pass 'verbose' parameter via keyword arguments instead.\n",
      "  _log_warning(\"'silent' argument is deprecated and will be removed in a future release of LightGBM. \"\n",
      "C:\\Users\\USER\\.conda\\envs\\lec310\\lib\\site-packages\\lightgbm\\sklearn.py:598: UserWarning: 'silent' argument is deprecated and will be removed in a future release of LightGBM. Pass 'verbose' parameter via keyword arguments instead.\n",
      "  _log_warning(\"'silent' argument is deprecated and will be removed in a future release of LightGBM. \"\n"
     ]
    },
    {
     "name": "stdout",
     "output_type": "stream",
     "text": [
      "[CV 2/3] END learning_rate=0.1, max_depth=4, min_child_samples=20, num_leaves=15; AUC: (test=0.784) total time=   0.1s\n",
      "[CV 3/3] END learning_rate=0.1, max_depth=4, min_child_samples=20, num_leaves=15; AUC: (test=0.782) total time=   0.1s\n"
     ]
    },
    {
     "name": "stderr",
     "output_type": "stream",
     "text": [
      "C:\\Users\\USER\\.conda\\envs\\lec310\\lib\\site-packages\\lightgbm\\sklearn.py:598: UserWarning: 'silent' argument is deprecated and will be removed in a future release of LightGBM. Pass 'verbose' parameter via keyword arguments instead.\n",
      "  _log_warning(\"'silent' argument is deprecated and will be removed in a future release of LightGBM. \"\n",
      "C:\\Users\\USER\\.conda\\envs\\lec310\\lib\\site-packages\\lightgbm\\sklearn.py:598: UserWarning: 'silent' argument is deprecated and will be removed in a future release of LightGBM. Pass 'verbose' parameter via keyword arguments instead.\n",
      "  _log_warning(\"'silent' argument is deprecated and will be removed in a future release of LightGBM. \"\n"
     ]
    },
    {
     "name": "stdout",
     "output_type": "stream",
     "text": [
      "[CV 1/3] END learning_rate=0.1, max_depth=4, min_child_samples=20, num_leaves=31; AUC: (test=0.786) total time=   0.1s\n",
      "[CV 2/3] END learning_rate=0.1, max_depth=4, min_child_samples=20, num_leaves=31; AUC: (test=0.784) total time=   0.1s\n"
     ]
    },
    {
     "name": "stderr",
     "output_type": "stream",
     "text": [
      "C:\\Users\\USER\\.conda\\envs\\lec310\\lib\\site-packages\\lightgbm\\sklearn.py:598: UserWarning: 'silent' argument is deprecated and will be removed in a future release of LightGBM. Pass 'verbose' parameter via keyword arguments instead.\n",
      "  _log_warning(\"'silent' argument is deprecated and will be removed in a future release of LightGBM. \"\n",
      "C:\\Users\\USER\\.conda\\envs\\lec310\\lib\\site-packages\\lightgbm\\sklearn.py:598: UserWarning: 'silent' argument is deprecated and will be removed in a future release of LightGBM. Pass 'verbose' parameter via keyword arguments instead.\n",
      "  _log_warning(\"'silent' argument is deprecated and will be removed in a future release of LightGBM. \"\n"
     ]
    },
    {
     "name": "stdout",
     "output_type": "stream",
     "text": [
      "[CV 3/3] END learning_rate=0.1, max_depth=4, min_child_samples=20, num_leaves=31; AUC: (test=0.782) total time=   0.1s\n",
      "[CV 1/3] END learning_rate=0.1, max_depth=4, min_child_samples=20, num_leaves=63; AUC: (test=0.786) total time=   0.1s\n"
     ]
    },
    {
     "name": "stderr",
     "output_type": "stream",
     "text": [
      "C:\\Users\\USER\\.conda\\envs\\lec310\\lib\\site-packages\\lightgbm\\sklearn.py:598: UserWarning: 'silent' argument is deprecated and will be removed in a future release of LightGBM. Pass 'verbose' parameter via keyword arguments instead.\n",
      "  _log_warning(\"'silent' argument is deprecated and will be removed in a future release of LightGBM. \"\n",
      "C:\\Users\\USER\\.conda\\envs\\lec310\\lib\\site-packages\\lightgbm\\sklearn.py:598: UserWarning: 'silent' argument is deprecated and will be removed in a future release of LightGBM. Pass 'verbose' parameter via keyword arguments instead.\n",
      "  _log_warning(\"'silent' argument is deprecated and will be removed in a future release of LightGBM. \"\n"
     ]
    },
    {
     "name": "stdout",
     "output_type": "stream",
     "text": [
      "[CV 2/3] END learning_rate=0.1, max_depth=4, min_child_samples=20, num_leaves=63; AUC: (test=0.784) total time=   0.1s\n",
      "[CV 3/3] END learning_rate=0.1, max_depth=4, min_child_samples=20, num_leaves=63; AUC: (test=0.782) total time=   0.1s\n"
     ]
    },
    {
     "name": "stderr",
     "output_type": "stream",
     "text": [
      "C:\\Users\\USER\\.conda\\envs\\lec310\\lib\\site-packages\\lightgbm\\sklearn.py:598: UserWarning: 'silent' argument is deprecated and will be removed in a future release of LightGBM. Pass 'verbose' parameter via keyword arguments instead.\n",
      "  _log_warning(\"'silent' argument is deprecated and will be removed in a future release of LightGBM. \"\n",
      "C:\\Users\\USER\\.conda\\envs\\lec310\\lib\\site-packages\\lightgbm\\sklearn.py:598: UserWarning: 'silent' argument is deprecated and will be removed in a future release of LightGBM. Pass 'verbose' parameter via keyword arguments instead.\n",
      "  _log_warning(\"'silent' argument is deprecated and will be removed in a future release of LightGBM. \"\n"
     ]
    },
    {
     "name": "stdout",
     "output_type": "stream",
     "text": [
      "[CV 1/3] END learning_rate=0.1, max_depth=4, min_child_samples=50, num_leaves=15; AUC: (test=0.786) total time=   0.1s\n",
      "[CV 2/3] END learning_rate=0.1, max_depth=4, min_child_samples=50, num_leaves=15; AUC: (test=0.785) total time=   0.1s\n"
     ]
    },
    {
     "name": "stderr",
     "output_type": "stream",
     "text": [
      "C:\\Users\\USER\\.conda\\envs\\lec310\\lib\\site-packages\\lightgbm\\sklearn.py:598: UserWarning: 'silent' argument is deprecated and will be removed in a future release of LightGBM. Pass 'verbose' parameter via keyword arguments instead.\n",
      "  _log_warning(\"'silent' argument is deprecated and will be removed in a future release of LightGBM. \"\n",
      "C:\\Users\\USER\\.conda\\envs\\lec310\\lib\\site-packages\\lightgbm\\sklearn.py:598: UserWarning: 'silent' argument is deprecated and will be removed in a future release of LightGBM. Pass 'verbose' parameter via keyword arguments instead.\n",
      "  _log_warning(\"'silent' argument is deprecated and will be removed in a future release of LightGBM. \"\n"
     ]
    },
    {
     "name": "stdout",
     "output_type": "stream",
     "text": [
      "[CV 3/3] END learning_rate=0.1, max_depth=4, min_child_samples=50, num_leaves=15; AUC: (test=0.782) total time=   0.1s\n",
      "[CV 1/3] END learning_rate=0.1, max_depth=4, min_child_samples=50, num_leaves=31; AUC: (test=0.786) total time=   0.1s\n"
     ]
    },
    {
     "name": "stderr",
     "output_type": "stream",
     "text": [
      "C:\\Users\\USER\\.conda\\envs\\lec310\\lib\\site-packages\\lightgbm\\sklearn.py:598: UserWarning: 'silent' argument is deprecated and will be removed in a future release of LightGBM. Pass 'verbose' parameter via keyword arguments instead.\n",
      "  _log_warning(\"'silent' argument is deprecated and will be removed in a future release of LightGBM. \"\n",
      "C:\\Users\\USER\\.conda\\envs\\lec310\\lib\\site-packages\\lightgbm\\sklearn.py:598: UserWarning: 'silent' argument is deprecated and will be removed in a future release of LightGBM. Pass 'verbose' parameter via keyword arguments instead.\n",
      "  _log_warning(\"'silent' argument is deprecated and will be removed in a future release of LightGBM. \"\n"
     ]
    },
    {
     "name": "stdout",
     "output_type": "stream",
     "text": [
      "[CV 2/3] END learning_rate=0.1, max_depth=4, min_child_samples=50, num_leaves=31; AUC: (test=0.785) total time=   0.1s\n",
      "[CV 3/3] END learning_rate=0.1, max_depth=4, min_child_samples=50, num_leaves=31; AUC: (test=0.782) total time=   0.1s\n"
     ]
    },
    {
     "name": "stderr",
     "output_type": "stream",
     "text": [
      "C:\\Users\\USER\\.conda\\envs\\lec310\\lib\\site-packages\\lightgbm\\sklearn.py:598: UserWarning: 'silent' argument is deprecated and will be removed in a future release of LightGBM. Pass 'verbose' parameter via keyword arguments instead.\n",
      "  _log_warning(\"'silent' argument is deprecated and will be removed in a future release of LightGBM. \"\n",
      "C:\\Users\\USER\\.conda\\envs\\lec310\\lib\\site-packages\\lightgbm\\sklearn.py:598: UserWarning: 'silent' argument is deprecated and will be removed in a future release of LightGBM. Pass 'verbose' parameter via keyword arguments instead.\n",
      "  _log_warning(\"'silent' argument is deprecated and will be removed in a future release of LightGBM. \"\n"
     ]
    },
    {
     "name": "stdout",
     "output_type": "stream",
     "text": [
      "[CV 1/3] END learning_rate=0.1, max_depth=4, min_child_samples=50, num_leaves=63; AUC: (test=0.786) total time=   0.1s\n",
      "[CV 2/3] END learning_rate=0.1, max_depth=4, min_child_samples=50, num_leaves=63; AUC: (test=0.785) total time=   0.1s\n"
     ]
    },
    {
     "name": "stderr",
     "output_type": "stream",
     "text": [
      "C:\\Users\\USER\\.conda\\envs\\lec310\\lib\\site-packages\\lightgbm\\sklearn.py:598: UserWarning: 'silent' argument is deprecated and will be removed in a future release of LightGBM. Pass 'verbose' parameter via keyword arguments instead.\n",
      "  _log_warning(\"'silent' argument is deprecated and will be removed in a future release of LightGBM. \"\n",
      "C:\\Users\\USER\\.conda\\envs\\lec310\\lib\\site-packages\\lightgbm\\sklearn.py:598: UserWarning: 'silent' argument is deprecated and will be removed in a future release of LightGBM. Pass 'verbose' parameter via keyword arguments instead.\n",
      "  _log_warning(\"'silent' argument is deprecated and will be removed in a future release of LightGBM. \"\n"
     ]
    },
    {
     "name": "stdout",
     "output_type": "stream",
     "text": [
      "[CV 3/3] END learning_rate=0.1, max_depth=4, min_child_samples=50, num_leaves=63; AUC: (test=0.782) total time=   0.1s\n",
      "[CV 1/3] END learning_rate=0.1, max_depth=5, min_child_samples=1, num_leaves=15; AUC: (test=0.786) total time=   0.1s\n"
     ]
    },
    {
     "name": "stderr",
     "output_type": "stream",
     "text": [
      "C:\\Users\\USER\\.conda\\envs\\lec310\\lib\\site-packages\\lightgbm\\sklearn.py:598: UserWarning: 'silent' argument is deprecated and will be removed in a future release of LightGBM. Pass 'verbose' parameter via keyword arguments instead.\n",
      "  _log_warning(\"'silent' argument is deprecated and will be removed in a future release of LightGBM. \"\n",
      "C:\\Users\\USER\\.conda\\envs\\lec310\\lib\\site-packages\\lightgbm\\sklearn.py:598: UserWarning: 'silent' argument is deprecated and will be removed in a future release of LightGBM. Pass 'verbose' parameter via keyword arguments instead.\n",
      "  _log_warning(\"'silent' argument is deprecated and will be removed in a future release of LightGBM. \"\n"
     ]
    },
    {
     "name": "stdout",
     "output_type": "stream",
     "text": [
      "[CV 2/3] END learning_rate=0.1, max_depth=5, min_child_samples=1, num_leaves=15; AUC: (test=0.784) total time=   0.1s\n",
      "[CV 3/3] END learning_rate=0.1, max_depth=5, min_child_samples=1, num_leaves=15; AUC: (test=0.782) total time=   0.1s\n"
     ]
    },
    {
     "name": "stderr",
     "output_type": "stream",
     "text": [
      "C:\\Users\\USER\\.conda\\envs\\lec310\\lib\\site-packages\\lightgbm\\sklearn.py:598: UserWarning: 'silent' argument is deprecated and will be removed in a future release of LightGBM. Pass 'verbose' parameter via keyword arguments instead.\n",
      "  _log_warning(\"'silent' argument is deprecated and will be removed in a future release of LightGBM. \"\n",
      "C:\\Users\\USER\\.conda\\envs\\lec310\\lib\\site-packages\\lightgbm\\sklearn.py:598: UserWarning: 'silent' argument is deprecated and will be removed in a future release of LightGBM. Pass 'verbose' parameter via keyword arguments instead.\n",
      "  _log_warning(\"'silent' argument is deprecated and will be removed in a future release of LightGBM. \"\n"
     ]
    },
    {
     "name": "stdout",
     "output_type": "stream",
     "text": [
      "[CV 1/3] END learning_rate=0.1, max_depth=5, min_child_samples=1, num_leaves=31; AUC: (test=0.786) total time=   0.1s\n",
      "[CV 2/3] END learning_rate=0.1, max_depth=5, min_child_samples=1, num_leaves=31; AUC: (test=0.784) total time=   0.1s\n"
     ]
    },
    {
     "name": "stderr",
     "output_type": "stream",
     "text": [
      "C:\\Users\\USER\\.conda\\envs\\lec310\\lib\\site-packages\\lightgbm\\sklearn.py:598: UserWarning: 'silent' argument is deprecated and will be removed in a future release of LightGBM. Pass 'verbose' parameter via keyword arguments instead.\n",
      "  _log_warning(\"'silent' argument is deprecated and will be removed in a future release of LightGBM. \"\n",
      "C:\\Users\\USER\\.conda\\envs\\lec310\\lib\\site-packages\\lightgbm\\sklearn.py:598: UserWarning: 'silent' argument is deprecated and will be removed in a future release of LightGBM. Pass 'verbose' parameter via keyword arguments instead.\n",
      "  _log_warning(\"'silent' argument is deprecated and will be removed in a future release of LightGBM. \"\n"
     ]
    },
    {
     "name": "stdout",
     "output_type": "stream",
     "text": [
      "[CV 3/3] END learning_rate=0.1, max_depth=5, min_child_samples=1, num_leaves=31; AUC: (test=0.782) total time=   0.1s\n",
      "[CV 1/3] END learning_rate=0.1, max_depth=5, min_child_samples=1, num_leaves=63; AUC: (test=0.786) total time=   0.1s\n"
     ]
    },
    {
     "name": "stderr",
     "output_type": "stream",
     "text": [
      "C:\\Users\\USER\\.conda\\envs\\lec310\\lib\\site-packages\\lightgbm\\sklearn.py:598: UserWarning: 'silent' argument is deprecated and will be removed in a future release of LightGBM. Pass 'verbose' parameter via keyword arguments instead.\n",
      "  _log_warning(\"'silent' argument is deprecated and will be removed in a future release of LightGBM. \"\n",
      "C:\\Users\\USER\\.conda\\envs\\lec310\\lib\\site-packages\\lightgbm\\sklearn.py:598: UserWarning: 'silent' argument is deprecated and will be removed in a future release of LightGBM. Pass 'verbose' parameter via keyword arguments instead.\n",
      "  _log_warning(\"'silent' argument is deprecated and will be removed in a future release of LightGBM. \"\n"
     ]
    },
    {
     "name": "stdout",
     "output_type": "stream",
     "text": [
      "[CV 2/3] END learning_rate=0.1, max_depth=5, min_child_samples=1, num_leaves=63; AUC: (test=0.784) total time=   0.1s\n",
      "[CV 3/3] END learning_rate=0.1, max_depth=5, min_child_samples=1, num_leaves=63; AUC: (test=0.782) total time=   0.1s\n"
     ]
    },
    {
     "name": "stderr",
     "output_type": "stream",
     "text": [
      "C:\\Users\\USER\\.conda\\envs\\lec310\\lib\\site-packages\\lightgbm\\sklearn.py:598: UserWarning: 'silent' argument is deprecated and will be removed in a future release of LightGBM. Pass 'verbose' parameter via keyword arguments instead.\n",
      "  _log_warning(\"'silent' argument is deprecated and will be removed in a future release of LightGBM. \"\n",
      "C:\\Users\\USER\\.conda\\envs\\lec310\\lib\\site-packages\\lightgbm\\sklearn.py:598: UserWarning: 'silent' argument is deprecated and will be removed in a future release of LightGBM. Pass 'verbose' parameter via keyword arguments instead.\n",
      "  _log_warning(\"'silent' argument is deprecated and will be removed in a future release of LightGBM. \"\n"
     ]
    },
    {
     "name": "stdout",
     "output_type": "stream",
     "text": [
      "[CV 1/3] END learning_rate=0.1, max_depth=5, min_child_samples=20, num_leaves=15; AUC: (test=0.786) total time=   0.1s\n",
      "[CV 2/3] END learning_rate=0.1, max_depth=5, min_child_samples=20, num_leaves=15; AUC: (test=0.784) total time=   0.1s\n"
     ]
    },
    {
     "name": "stderr",
     "output_type": "stream",
     "text": [
      "C:\\Users\\USER\\.conda\\envs\\lec310\\lib\\site-packages\\lightgbm\\sklearn.py:598: UserWarning: 'silent' argument is deprecated and will be removed in a future release of LightGBM. Pass 'verbose' parameter via keyword arguments instead.\n",
      "  _log_warning(\"'silent' argument is deprecated and will be removed in a future release of LightGBM. \"\n",
      "C:\\Users\\USER\\.conda\\envs\\lec310\\lib\\site-packages\\lightgbm\\sklearn.py:598: UserWarning: 'silent' argument is deprecated and will be removed in a future release of LightGBM. Pass 'verbose' parameter via keyword arguments instead.\n",
      "  _log_warning(\"'silent' argument is deprecated and will be removed in a future release of LightGBM. \"\n"
     ]
    },
    {
     "name": "stdout",
     "output_type": "stream",
     "text": [
      "[CV 3/3] END learning_rate=0.1, max_depth=5, min_child_samples=20, num_leaves=15; AUC: (test=0.782) total time=   0.1s\n",
      "[CV 1/3] END learning_rate=0.1, max_depth=5, min_child_samples=20, num_leaves=31; AUC: (test=0.786) total time=   0.1s\n"
     ]
    },
    {
     "name": "stderr",
     "output_type": "stream",
     "text": [
      "C:\\Users\\USER\\.conda\\envs\\lec310\\lib\\site-packages\\lightgbm\\sklearn.py:598: UserWarning: 'silent' argument is deprecated and will be removed in a future release of LightGBM. Pass 'verbose' parameter via keyword arguments instead.\n",
      "  _log_warning(\"'silent' argument is deprecated and will be removed in a future release of LightGBM. \"\n",
      "C:\\Users\\USER\\.conda\\envs\\lec310\\lib\\site-packages\\lightgbm\\sklearn.py:598: UserWarning: 'silent' argument is deprecated and will be removed in a future release of LightGBM. Pass 'verbose' parameter via keyword arguments instead.\n",
      "  _log_warning(\"'silent' argument is deprecated and will be removed in a future release of LightGBM. \"\n"
     ]
    },
    {
     "name": "stdout",
     "output_type": "stream",
     "text": [
      "[CV 2/3] END learning_rate=0.1, max_depth=5, min_child_samples=20, num_leaves=31; AUC: (test=0.784) total time=   0.1s\n",
      "[CV 3/3] END learning_rate=0.1, max_depth=5, min_child_samples=20, num_leaves=31; AUC: (test=0.782) total time=   0.1s\n"
     ]
    },
    {
     "name": "stderr",
     "output_type": "stream",
     "text": [
      "C:\\Users\\USER\\.conda\\envs\\lec310\\lib\\site-packages\\lightgbm\\sklearn.py:598: UserWarning: 'silent' argument is deprecated and will be removed in a future release of LightGBM. Pass 'verbose' parameter via keyword arguments instead.\n",
      "  _log_warning(\"'silent' argument is deprecated and will be removed in a future release of LightGBM. \"\n",
      "C:\\Users\\USER\\.conda\\envs\\lec310\\lib\\site-packages\\lightgbm\\sklearn.py:598: UserWarning: 'silent' argument is deprecated and will be removed in a future release of LightGBM. Pass 'verbose' parameter via keyword arguments instead.\n",
      "  _log_warning(\"'silent' argument is deprecated and will be removed in a future release of LightGBM. \"\n"
     ]
    },
    {
     "name": "stdout",
     "output_type": "stream",
     "text": [
      "[CV 1/3] END learning_rate=0.1, max_depth=5, min_child_samples=20, num_leaves=63; AUC: (test=0.786) total time=   0.1s\n",
      "[CV 2/3] END learning_rate=0.1, max_depth=5, min_child_samples=20, num_leaves=63; AUC: (test=0.784) total time=   0.1s\n"
     ]
    },
    {
     "name": "stderr",
     "output_type": "stream",
     "text": [
      "C:\\Users\\USER\\.conda\\envs\\lec310\\lib\\site-packages\\lightgbm\\sklearn.py:598: UserWarning: 'silent' argument is deprecated and will be removed in a future release of LightGBM. Pass 'verbose' parameter via keyword arguments instead.\n",
      "  _log_warning(\"'silent' argument is deprecated and will be removed in a future release of LightGBM. \"\n",
      "C:\\Users\\USER\\.conda\\envs\\lec310\\lib\\site-packages\\lightgbm\\sklearn.py:598: UserWarning: 'silent' argument is deprecated and will be removed in a future release of LightGBM. Pass 'verbose' parameter via keyword arguments instead.\n",
      "  _log_warning(\"'silent' argument is deprecated and will be removed in a future release of LightGBM. \"\n"
     ]
    },
    {
     "name": "stdout",
     "output_type": "stream",
     "text": [
      "[CV 3/3] END learning_rate=0.1, max_depth=5, min_child_samples=20, num_leaves=63; AUC: (test=0.782) total time=   0.1s\n",
      "[CV 1/3] END learning_rate=0.1, max_depth=5, min_child_samples=50, num_leaves=15; AUC: (test=0.786) total time=   0.1s\n"
     ]
    },
    {
     "name": "stderr",
     "output_type": "stream",
     "text": [
      "C:\\Users\\USER\\.conda\\envs\\lec310\\lib\\site-packages\\lightgbm\\sklearn.py:598: UserWarning: 'silent' argument is deprecated and will be removed in a future release of LightGBM. Pass 'verbose' parameter via keyword arguments instead.\n",
      "  _log_warning(\"'silent' argument is deprecated and will be removed in a future release of LightGBM. \"\n",
      "C:\\Users\\USER\\.conda\\envs\\lec310\\lib\\site-packages\\lightgbm\\sklearn.py:598: UserWarning: 'silent' argument is deprecated and will be removed in a future release of LightGBM. Pass 'verbose' parameter via keyword arguments instead.\n",
      "  _log_warning(\"'silent' argument is deprecated and will be removed in a future release of LightGBM. \"\n"
     ]
    },
    {
     "name": "stdout",
     "output_type": "stream",
     "text": [
      "[CV 2/3] END learning_rate=0.1, max_depth=5, min_child_samples=50, num_leaves=15; AUC: (test=0.784) total time=   0.1s\n",
      "[CV 3/3] END learning_rate=0.1, max_depth=5, min_child_samples=50, num_leaves=15; AUC: (test=0.782) total time=   0.1s\n"
     ]
    },
    {
     "name": "stderr",
     "output_type": "stream",
     "text": [
      "C:\\Users\\USER\\.conda\\envs\\lec310\\lib\\site-packages\\lightgbm\\sklearn.py:598: UserWarning: 'silent' argument is deprecated and will be removed in a future release of LightGBM. Pass 'verbose' parameter via keyword arguments instead.\n",
      "  _log_warning(\"'silent' argument is deprecated and will be removed in a future release of LightGBM. \"\n",
      "C:\\Users\\USER\\.conda\\envs\\lec310\\lib\\site-packages\\lightgbm\\sklearn.py:598: UserWarning: 'silent' argument is deprecated and will be removed in a future release of LightGBM. Pass 'verbose' parameter via keyword arguments instead.\n",
      "  _log_warning(\"'silent' argument is deprecated and will be removed in a future release of LightGBM. \"\n"
     ]
    },
    {
     "name": "stdout",
     "output_type": "stream",
     "text": [
      "[CV 1/3] END learning_rate=0.1, max_depth=5, min_child_samples=50, num_leaves=31; AUC: (test=0.786) total time=   0.1s\n",
      "[CV 2/3] END learning_rate=0.1, max_depth=5, min_child_samples=50, num_leaves=31; AUC: (test=0.784) total time=   0.1s\n"
     ]
    },
    {
     "name": "stderr",
     "output_type": "stream",
     "text": [
      "C:\\Users\\USER\\.conda\\envs\\lec310\\lib\\site-packages\\lightgbm\\sklearn.py:598: UserWarning: 'silent' argument is deprecated and will be removed in a future release of LightGBM. Pass 'verbose' parameter via keyword arguments instead.\n",
      "  _log_warning(\"'silent' argument is deprecated and will be removed in a future release of LightGBM. \"\n",
      "C:\\Users\\USER\\.conda\\envs\\lec310\\lib\\site-packages\\lightgbm\\sklearn.py:598: UserWarning: 'silent' argument is deprecated and will be removed in a future release of LightGBM. Pass 'verbose' parameter via keyword arguments instead.\n",
      "  _log_warning(\"'silent' argument is deprecated and will be removed in a future release of LightGBM. \"\n"
     ]
    },
    {
     "name": "stdout",
     "output_type": "stream",
     "text": [
      "[CV 3/3] END learning_rate=0.1, max_depth=5, min_child_samples=50, num_leaves=31; AUC: (test=0.782) total time=   0.1s\n",
      "[CV 1/3] END learning_rate=0.1, max_depth=5, min_child_samples=50, num_leaves=63; AUC: (test=0.786) total time=   0.1s\n"
     ]
    },
    {
     "name": "stderr",
     "output_type": "stream",
     "text": [
      "C:\\Users\\USER\\.conda\\envs\\lec310\\lib\\site-packages\\lightgbm\\sklearn.py:598: UserWarning: 'silent' argument is deprecated and will be removed in a future release of LightGBM. Pass 'verbose' parameter via keyword arguments instead.\n",
      "  _log_warning(\"'silent' argument is deprecated and will be removed in a future release of LightGBM. \"\n",
      "C:\\Users\\USER\\.conda\\envs\\lec310\\lib\\site-packages\\lightgbm\\sklearn.py:598: UserWarning: 'silent' argument is deprecated and will be removed in a future release of LightGBM. Pass 'verbose' parameter via keyword arguments instead.\n",
      "  _log_warning(\"'silent' argument is deprecated and will be removed in a future release of LightGBM. \"\n"
     ]
    },
    {
     "name": "stdout",
     "output_type": "stream",
     "text": [
      "[CV 2/3] END learning_rate=0.1, max_depth=5, min_child_samples=50, num_leaves=63; AUC: (test=0.784) total time=   0.1s\n",
      "[CV 3/3] END learning_rate=0.1, max_depth=5, min_child_samples=50, num_leaves=63; AUC: (test=0.782) total time=   0.1s\n"
     ]
    },
    {
     "name": "stderr",
     "output_type": "stream",
     "text": [
      "C:\\Users\\USER\\.conda\\envs\\lec310\\lib\\site-packages\\lightgbm\\sklearn.py:598: UserWarning: 'silent' argument is deprecated and will be removed in a future release of LightGBM. Pass 'verbose' parameter via keyword arguments instead.\n",
      "  _log_warning(\"'silent' argument is deprecated and will be removed in a future release of LightGBM. \"\n",
      "C:\\Users\\USER\\.conda\\envs\\lec310\\lib\\site-packages\\lightgbm\\sklearn.py:598: UserWarning: 'silent' argument is deprecated and will be removed in a future release of LightGBM. Pass 'verbose' parameter via keyword arguments instead.\n",
      "  _log_warning(\"'silent' argument is deprecated and will be removed in a future release of LightGBM. \"\n"
     ]
    }
   ],
   "source": [
    "param_grid = {\n",
    "    \"learning_rate\": [0.01, 0.1],\n",
    "    \"max_depth\": [3, 4, 5],\n",
    "    \"num_leaves\": [15, 31, 63],\n",
    "    \"min_child_samples\": [1, 20, 50],\n",
    "}\n",
    "\n",
    "grid = GridSearchCV(\n",
    "    model,\n",
    "    param_grid,\n",
    "    verbose=3,\n",
    "    cv=3,\n",
    "    scoring={\"AUC\": \"roc_auc\"},\n",
    "    n_jobs=1,\n",
    "    refit=\"AUC\",\n",
    ")\n",
    "result = grid.fit(df_woe.loc[df_woe['sample_type']=='train', features], \n",
    "                  df_woe.loc[df_woe['sample_type']=='train', label])"
   ]
  },
  {
   "cell_type": "code",
   "execution_count": 11,
   "id": "233ca21b",
   "metadata": {},
   "outputs": [
    {
     "name": "stdout",
     "output_type": "stream",
     "text": [
      "    learning_rate  max_depth  min_child_samples  num_leaves  mean_test_AUC\n",
      "0            0.01          3                  1          15       0.756151\n",
      "1            0.01          3                  1          31       0.756151\n",
      "2            0.01          3                  1          63       0.756151\n",
      "3            0.01          3                 20          15       0.756151\n",
      "4            0.01          3                 20          31       0.756151\n",
      "5            0.01          3                 20          63       0.756151\n",
      "6            0.01          3                 50          15       0.756149\n",
      "7            0.01          3                 50          31       0.756149\n",
      "8            0.01          3                 50          63       0.756149\n",
      "9            0.01          4                  1          15       0.759626\n",
      "10           0.01          4                  1          31       0.759626\n",
      "11           0.01          4                  1          63       0.759626\n",
      "12           0.01          4                 20          15       0.759626\n",
      "13           0.01          4                 20          31       0.759626\n",
      "14           0.01          4                 20          63       0.759626\n",
      "15           0.01          4                 50          15       0.759624\n",
      "16           0.01          4                 50          31       0.759624\n",
      "17           0.01          4                 50          63       0.759624\n",
      "18           0.01          5                  1          15       0.760995\n",
      "19           0.01          5                  1          31       0.761024\n",
      "20           0.01          5                  1          63       0.761024\n",
      "21           0.01          5                 20          15       0.760995\n",
      "22           0.01          5                 20          31       0.761024\n",
      "23           0.01          5                 20          63       0.761024\n",
      "24           0.01          5                 50          15       0.760901\n",
      "25           0.01          5                 50          31       0.760983\n",
      "26           0.01          5                 50          63       0.760983\n",
      "27           0.10          3                  1          15       0.782574\n",
      "28           0.10          3                  1          31       0.782574\n",
      "29           0.10          3                  1          63       0.782574\n",
      "30           0.10          3                 20          15       0.782538\n",
      "31           0.10          3                 20          31       0.782538\n",
      "32           0.10          3                 20          63       0.782538\n",
      "33           0.10          3                 50          15       0.782489\n",
      "34           0.10          3                 50          31       0.782489\n",
      "35           0.10          3                 50          63       0.782489\n",
      "36           0.10          4                  1          15       0.784149\n",
      "37           0.10          4                  1          31       0.784149\n",
      "38           0.10          4                  1          63       0.784149\n",
      "39           0.10          4                 20          15       0.784149\n",
      "40           0.10          4                 20          31       0.784149\n",
      "41           0.10          4                 20          63       0.784149\n",
      "42           0.10          4                 50          15       0.784135\n",
      "43           0.10          4                 50          31       0.784135\n",
      "44           0.10          4                 50          63       0.784135\n",
      "45           0.10          5                  1          15       0.783818\n",
      "46           0.10          5                  1          31       0.783792\n",
      "47           0.10          5                  1          63       0.783792\n",
      "48           0.10          5                 20          15       0.783818\n",
      "49           0.10          5                 20          31       0.783792\n",
      "50           0.10          5                 20          63       0.783792\n",
      "51           0.10          5                 50          15       0.784021\n",
      "52           0.10          5                 50          31       0.784021\n",
      "53           0.10          5                 50          63       0.784021\n"
     ]
    }
   ],
   "source": [
    "df_cv = pd.DataFrame(result.cv_results_[\"params\"])\n",
    "df_cv[\"mean_test_AUC\"] = result.cv_results_[\"mean_test_AUC\"]\n",
    "print(df_cv)"
   ]
  },
  {
   "cell_type": "code",
   "execution_count": null,
   "id": "faed7a24",
   "metadata": {},
   "outputs": [],
   "source": []
  },
  {
   "cell_type": "markdown",
   "id": "dc3dc066",
   "metadata": {},
   "source": [
    "# 贝叶斯优化"
   ]
  },
  {
   "cell_type": "code",
   "execution_count": 12,
   "id": "fbd82707",
   "metadata": {},
   "outputs": [],
   "source": [
    "import ast\n",
    "import csv\n",
    "from timeit import default_timer as timer\n",
    "import lightgbm as lgb\n",
    "from hyperopt import STATUS_OK, Trials, fmin, hp, tpe\n",
    "from sklearn.model_selection import StratifiedKFold"
   ]
  },
  {
   "cell_type": "code",
   "execution_count": 13,
   "id": "c01a91f8",
   "metadata": {},
   "outputs": [],
   "source": [
    "class BO:\n",
    "    def __init__(self, fp_path, **kwargs):\n",
    "        self.fp_path = fp_path\n",
    "        self.iter = 0\n",
    "        self.train_set = None\n",
    "\n",
    "        self.kfold = kwargs.get(\"kfold\", 3)\n",
    "\n",
    "        csv_conn = open(self.fp_path, \"w\")\n",
    "        writer = csv.writer(csv_conn)\n",
    "        writer.writerow([\"loss\", \"auc_train\", \"auc_valid\", \"params\", \"iteration\", \"train_time\"])\n",
    "        csv_conn.close()\n",
    "\n",
    "    def load_data(self, df_xtrain, df_ytrain):\n",
    "        self.df_xtrain = df_xtrain.reset_index(drop=True)\n",
    "        self.df_ytrain = df_ytrain.reset_index(drop=True)\n",
    "\n",
    "    def objective(self, params):\n",
    "        self.iter += 1\n",
    "\n",
    "        start = timer()\n",
    "        model = lgb.LGBMClassifier(\n",
    "            **params,\n",
    "            n_estimators=200,\n",
    "            objective=\"cross_entropy\",\n",
    "            class_weight=\"balanced\",\n",
    "            importance_type=\"gain\",\n",
    "            boosting_type=\"gbdt\",\n",
    "            n_jobs=1,\n",
    "            random_state=19910908\n",
    "        )\n",
    "\n",
    "        lst_auc_train, lst_auc_valid = list(), list()\n",
    "        kf = StratifiedKFold(n_splits=self.kfold, shuffle=False)\n",
    "        for itrain, ivalid in kf.split(self.df_xtrain, self.df_ytrain):\n",
    "            df_xtrain, df_ytrain = (\n",
    "                self.df_xtrain.loc[itrain, :],\n",
    "                self.df_ytrain.loc[itrain],\n",
    "            )\n",
    "            df_xvalid, df_yvalid = (\n",
    "                self.df_xtrain.loc[ivalid, :],\n",
    "                self.df_ytrain.loc[ivalid],\n",
    "            )\n",
    "\n",
    "            eval_set = [(df_xtrain, df_ytrain), (df_xvalid, df_yvalid)]\n",
    "            model.fit(df_xtrain, df_ytrain, \n",
    "                      eval_set=eval_set, eval_metric=\"auc\",\n",
    "                      callbacks=[lgb.log_evaluation(0)],)\n",
    "\n",
    "            auc_train = metric_helper.Metric.get_auc(df_ytrain, model.predict(df_xtrain))\n",
    "            auc_valid = metric_helper.Metric.get_auc(df_yvalid, model.predict(df_xvalid))\n",
    "            lst_auc_train.append(auc_train)\n",
    "            lst_auc_valid.append(auc_valid)\n",
    "\n",
    "        run_time = timer() - start\n",
    "\n",
    "        auc_train_avg = np.mean(lst_auc_train)\n",
    "        auc_valid_avg = np.mean(lst_auc_valid)\n",
    "        loss = -np.mean(lst_auc_valid)\n",
    "\n",
    "        csv_conn = open(self.fp_path, \"a\")\n",
    "        writer = csv.writer(csv_conn)\n",
    "        writer.writerow([loss, auc_train_avg, auc_valid_avg, params, self.iter, run_time])\n",
    "\n",
    "        res = {\n",
    "            \"loss\": loss,\n",
    "            \"auc_train\": auc_train_avg,\n",
    "            \"auc_valid\": auc_valid_avg,\n",
    "            \"params\": params,\n",
    "            \"iteration\": self.iter,\n",
    "            \"train_time\": run_time,\n",
    "            \"status\": STATUS_OK,\n",
    "        }\n",
    "        print(res)\n",
    "\n",
    "        return res\n",
    "\n",
    "    def optimize(self, max_evals):\n",
    "        self.iter = 0\n",
    "\n",
    "        space = {\n",
    "            \"learning_rate\": hp.choice(\"learning_rate\", [0.01, 0.1]),\n",
    "            \"max_depth\": hp.choice(\"max_depth\", [3, 4, 5]),\n",
    "            \"num_leaves\": hp.choice(\"num_leaves\", [15, 31, 63]),\n",
    "            \"min_child_samples\": hp.choice(\"min_child_samples\", [1, 20, 50]),\n",
    "        }\n",
    "\n",
    "        best = fmin(\n",
    "            fn=self.objective,\n",
    "            space=space,\n",
    "            algo=tpe.suggest,\n",
    "            max_evals=max_evals,\n",
    "            trials=Trials(),\n",
    "            max_queue_len=10,\n",
    "            show_progressbar=True,\n",
    "            rstate=np.random.default_rng(199198),\n",
    "        )\n",
    "\n",
    "        return best"
   ]
  },
  {
   "cell_type": "code",
   "execution_count": 14,
   "id": "d93224d9",
   "metadata": {},
   "outputs": [
    {
     "name": "stdout",
     "output_type": "stream",
     "text": [
      "{'loss': -0.7291371735408757, 'auc_train': 0.7582412837874494, 'auc_valid': 0.7291371735408757, 'params': {'learning_rate': 0.1, 'max_depth': 4, 'min_child_samples': 50, 'num_leaves': 31}, 'iteration': 1, 'train_time': 5.547456199987209, 'status': 'ok'}\n",
      "{'loss': -0.7272398918549515, 'auc_train': 0.7583559117962616, 'auc_valid': 0.7272398918549515, 'params': {'learning_rate': 0.1, 'max_depth': 4, 'min_child_samples': 1, 'num_leaves': 15}, 'iteration': 2, 'train_time': 5.491355100006331, 'status': 'ok'}\n",
      "{'loss': -0.7104573465863293, 'auc_train': 0.7190461077331465, 'auc_valid': 0.7104573465863293, 'params': {'learning_rate': 0.01, 'max_depth': 5, 'min_child_samples': 50, 'num_leaves': 15}, 'iteration': 3, 'train_time': 5.452411399994162, 'status': 'ok'}\n",
      "{'loss': -0.7083906756270414, 'auc_train': 0.716844605466831, 'auc_valid': 0.7083906756270414, 'params': {'learning_rate': 0.01, 'max_depth': 4, 'min_child_samples': 1, 'num_leaves': 63}, 'iteration': 4, 'train_time': 5.613233699987177, 'status': 'ok'}\n",
      "{'loss': -0.7270003555391451, 'auc_train': 0.7643715961318511, 'auc_valid': 0.7270003555391451, 'params': {'learning_rate': 0.1, 'max_depth': 5, 'min_child_samples': 50, 'num_leaves': 15}, 'iteration': 5, 'train_time': 4.691930200002389, 'status': 'ok'}\n",
      "{'loss': -0.6987116660093012, 'auc_train': 0.7041659304247848, 'auc_valid': 0.6987116660093012, 'params': {'learning_rate': 0.01, 'max_depth': 3, 'min_child_samples': 20, 'num_leaves': 15}, 'iteration': 6, 'train_time': 3.866919299995061, 'status': 'ok'}\n",
      "{'loss': -0.7088108000359236, 'auc_train': 0.7168545526258122, 'auc_valid': 0.7088108000359236, 'params': {'learning_rate': 0.01, 'max_depth': 4, 'min_child_samples': 20, 'num_leaves': 31}, 'iteration': 7, 'train_time': 4.4389239000011, 'status': 'ok'}\n",
      "{'loss': -0.7280583350480097, 'auc_train': 0.7949348290656011, 'auc_valid': 0.7280583350480097, 'params': {'learning_rate': 0.1, 'max_depth': 5, 'min_child_samples': 1, 'num_leaves': 63}, 'iteration': 8, 'train_time': 5.469437100007781, 'status': 'ok'}\n",
      "{'loss': -0.7088108000359236, 'auc_train': 0.7168545526258122, 'auc_valid': 0.7088108000359236, 'params': {'learning_rate': 0.01, 'max_depth': 4, 'min_child_samples': 20, 'num_leaves': 31}, 'iteration': 9, 'train_time': 4.5338793999981135, 'status': 'ok'}\n",
      "{'loss': -0.7291371735408757, 'auc_train': 0.7582412837874494, 'auc_valid': 0.7291371735408757, 'params': {'learning_rate': 0.1, 'max_depth': 4, 'min_child_samples': 50, 'num_leaves': 31}, 'iteration': 10, 'train_time': 4.93101879999449, 'status': 'ok'}\n",
      "{'loss': -0.7233470835325863, 'auc_train': 0.7382118203876432, 'auc_valid': 0.7233470835325863, 'params': {'learning_rate': 0.1, 'max_depth': 3, 'min_child_samples': 20, 'num_leaves': 31}, 'iteration': 11, 'train_time': 4.462782200003858, 'status': 'ok'}\n",
      "{'loss': -0.7128026066533196, 'auc_train': 0.7276564438534264, 'auc_valid': 0.7128026066533196, 'params': {'learning_rate': 0.01, 'max_depth': 5, 'min_child_samples': 1, 'num_leaves': 31}, 'iteration': 12, 'train_time': 5.025289900004282, 'status': 'ok'}\n",
      "{'loss': -0.7280401838948439, 'auc_train': 0.7603100507541334, 'auc_valid': 0.7280401838948439, 'params': {'learning_rate': 0.1, 'max_depth': 4, 'min_child_samples': 1, 'num_leaves': 63}, 'iteration': 13, 'train_time': 4.967448600000353, 'status': 'ok'}\n",
      "{'loss': -0.7233470835325863, 'auc_train': 0.7382118203876432, 'auc_valid': 0.7233470835325863, 'params': {'learning_rate': 0.1, 'max_depth': 3, 'min_child_samples': 20, 'num_leaves': 63}, 'iteration': 14, 'train_time': 4.376772699994035, 'status': 'ok'}\n",
      "{'loss': -0.6987116660093012, 'auc_train': 0.7041659304247848, 'auc_valid': 0.6987116660093012, 'params': {'learning_rate': 0.01, 'max_depth': 3, 'min_child_samples': 50, 'num_leaves': 15}, 'iteration': 15, 'train_time': 3.9652368999959435, 'status': 'ok'}\n",
      "{'loss': -0.7291371735408757, 'auc_train': 0.7582412837874494, 'auc_valid': 0.7291371735408757, 'params': {'learning_rate': 0.1, 'max_depth': 4, 'min_child_samples': 50, 'num_leaves': 31}, 'iteration': 16, 'train_time': 4.988040900003398, 'status': 'ok'}\n",
      "{'loss': -0.7138598186124674, 'auc_train': 0.7266846922265731, 'auc_valid': 0.7138598186124674, 'params': {'learning_rate': 0.01, 'max_depth': 5, 'min_child_samples': 50, 'num_leaves': 63}, 'iteration': 17, 'train_time': 5.158776500000386, 'status': 'ok'}\n",
      "{'loss': -0.7229268856899586, 'auc_train': 0.7384324957477483, 'auc_valid': 0.7229268856899586, 'params': {'learning_rate': 0.1, 'max_depth': 3, 'min_child_samples': 1, 'num_leaves': 15}, 'iteration': 18, 'train_time': 4.4899452999961795, 'status': 'ok'}\n",
      "{'loss': -0.7142862021697107, 'auc_train': 0.726922171671316, 'auc_valid': 0.7142862021697107, 'params': {'learning_rate': 0.01, 'max_depth': 5, 'min_child_samples': 50, 'num_leaves': 31}, 'iteration': 19, 'train_time': 5.065673200006131, 'status': 'ok'}\n",
      "{'loss': -0.726645305104269, 'auc_train': 0.7588912608263308, 'auc_valid': 0.726645305104269, 'params': {'learning_rate': 0.1, 'max_depth': 4, 'min_child_samples': 20, 'num_leaves': 63}, 'iteration': 20, 'train_time': 4.910242300000391, 'status': 'ok'}\n",
      "{'loss': -0.7291371735408757, 'auc_train': 0.7582412837874494, 'auc_valid': 0.7291371735408757, 'params': {'learning_rate': 0.1, 'max_depth': 4, 'min_child_samples': 50, 'num_leaves': 31}, 'iteration': 21, 'train_time': 4.932072299998254, 'status': 'ok'}\n",
      "{'loss': -0.7291371735408757, 'auc_train': 0.7582412837874494, 'auc_valid': 0.7291371735408757, 'params': {'learning_rate': 0.1, 'max_depth': 4, 'min_child_samples': 50, 'num_leaves': 31}, 'iteration': 22, 'train_time': 4.906338800006779, 'status': 'ok'}\n",
      "{'loss': -0.7291371735408757, 'auc_train': 0.7582412837874494, 'auc_valid': 0.7291371735408757, 'params': {'learning_rate': 0.1, 'max_depth': 4, 'min_child_samples': 50, 'num_leaves': 31}, 'iteration': 23, 'train_time': 4.951100999998744, 'status': 'ok'}\n",
      "{'loss': -0.7291371735408757, 'auc_train': 0.7582412837874494, 'auc_valid': 0.7291371735408757, 'params': {'learning_rate': 0.1, 'max_depth': 4, 'min_child_samples': 50, 'num_leaves': 31}, 'iteration': 24, 'train_time': 5.010065599999507, 'status': 'ok'}\n",
      "{'loss': -0.7291371735408757, 'auc_train': 0.7582412837874494, 'auc_valid': 0.7291371735408757, 'params': {'learning_rate': 0.1, 'max_depth': 4, 'min_child_samples': 50, 'num_leaves': 31}, 'iteration': 25, 'train_time': 4.878554800001439, 'status': 'ok'}\n",
      "{'loss': -0.7291371735408757, 'auc_train': 0.7582412837874494, 'auc_valid': 0.7291371735408757, 'params': {'learning_rate': 0.1, 'max_depth': 4, 'min_child_samples': 50, 'num_leaves': 31}, 'iteration': 26, 'train_time': 4.9378926000063075, 'status': 'ok'}\n",
      "{'loss': -0.7291371735408757, 'auc_train': 0.7582412837874494, 'auc_valid': 0.7291371735408757, 'params': {'learning_rate': 0.1, 'max_depth': 4, 'min_child_samples': 50, 'num_leaves': 31}, 'iteration': 27, 'train_time': 4.911639999991166, 'status': 'ok'}\n",
      "{'loss': -0.7291371735408757, 'auc_train': 0.7582412837874494, 'auc_valid': 0.7291371735408757, 'params': {'learning_rate': 0.1, 'max_depth': 4, 'min_child_samples': 50, 'num_leaves': 31}, 'iteration': 28, 'train_time': 4.865334999994957, 'status': 'ok'}\n",
      "{'loss': -0.7291371735408757, 'auc_train': 0.7582412837874494, 'auc_valid': 0.7291371735408757, 'params': {'learning_rate': 0.1, 'max_depth': 4, 'min_child_samples': 50, 'num_leaves': 31}, 'iteration': 29, 'train_time': 4.985385899999528, 'status': 'ok'}\n",
      "{'loss': -0.7291371735408757, 'auc_train': 0.7582412837874494, 'auc_valid': 0.7291371735408757, 'params': {'learning_rate': 0.1, 'max_depth': 4, 'min_child_samples': 50, 'num_leaves': 31}, 'iteration': 30, 'train_time': 4.889912300001015, 'status': 'ok'}\n",
      "{'loss': -0.7265665694985369, 'auc_train': 0.7561893711248633, 'auc_valid': 0.7265665694985369, 'params': {'learning_rate': 0.1, 'max_depth': 4, 'min_child_samples': 50, 'num_leaves': 15}, 'iteration': 31, 'train_time': 4.960489199991571, 'status': 'ok'}\n",
      "{'loss': -0.7280401838948439, 'auc_train': 0.7603100507541334, 'auc_valid': 0.7280401838948439, 'params': {'learning_rate': 0.1, 'max_depth': 4, 'min_child_samples': 1, 'num_leaves': 31}, 'iteration': 32, 'train_time': 5.00474160000158, 'status': 'ok'}\n",
      "{'loss': -0.7233394635211726, 'auc_train': 0.7380753430282633, 'auc_valid': 0.7233394635211726, 'params': {'learning_rate': 0.1, 'max_depth': 3, 'min_child_samples': 50, 'num_leaves': 31}, 'iteration': 33, 'train_time': 4.566023599996697, 'status': 'ok'}\n",
      "{'loss': -0.7270003555391451, 'auc_train': 0.7643715961318511, 'auc_valid': 0.7270003555391451, 'params': {'learning_rate': 0.1, 'max_depth': 5, 'min_child_samples': 50, 'num_leaves': 15}, 'iteration': 34, 'train_time': 4.812903899990488, 'status': 'ok'}\n",
      "{'loss': -0.7291371735408757, 'auc_train': 0.7582412837874494, 'auc_valid': 0.7291371735408757, 'params': {'learning_rate': 0.1, 'max_depth': 4, 'min_child_samples': 50, 'num_leaves': 31}, 'iteration': 35, 'train_time': 4.963919800007716, 'status': 'ok'}\n",
      "{'loss': -0.7280401838948439, 'auc_train': 0.7603100507541334, 'auc_valid': 0.7280401838948439, 'params': {'learning_rate': 0.1, 'max_depth': 4, 'min_child_samples': 1, 'num_leaves': 63}, 'iteration': 36, 'train_time': 5.061362200009171, 'status': 'ok'}\n",
      "{'loss': -0.7104573465863293, 'auc_train': 0.7190461077331465, 'auc_valid': 0.7104573465863293, 'params': {'learning_rate': 0.01, 'max_depth': 5, 'min_child_samples': 20, 'num_leaves': 15}, 'iteration': 37, 'train_time': 4.726715299999341, 'status': 'ok'}\n",
      "{'loss': -0.7233394635211726, 'auc_train': 0.7380753430282633, 'auc_valid': 0.7233394635211726, 'params': {'learning_rate': 0.1, 'max_depth': 3, 'min_child_samples': 50, 'num_leaves': 31}, 'iteration': 38, 'train_time': 4.511887200002093, 'status': 'ok'}\n",
      "{'loss': -0.7088108000359236, 'auc_train': 0.7168545526258122, 'auc_valid': 0.7088108000359236, 'params': {'learning_rate': 0.01, 'max_depth': 4, 'min_child_samples': 20, 'num_leaves': 31}, 'iteration': 39, 'train_time': 4.563854499996523, 'status': 'ok'}\n",
      "{'loss': -0.7280401838948439, 'auc_train': 0.7603100507541334, 'auc_valid': 0.7280401838948439, 'params': {'learning_rate': 0.1, 'max_depth': 4, 'min_child_samples': 1, 'num_leaves': 63}, 'iteration': 40, 'train_time': 5.031497999996645, 'status': 'ok'}\n",
      "{'loss': -0.7270003555391451, 'auc_train': 0.7643715961318511, 'auc_valid': 0.7270003555391451, 'params': {'learning_rate': 0.1, 'max_depth': 5, 'min_child_samples': 50, 'num_leaves': 15}, 'iteration': 41, 'train_time': 4.801447700010613, 'status': 'ok'}\n",
      "{'loss': -0.7088108000359236, 'auc_train': 0.7168545526258122, 'auc_valid': 0.7088108000359236, 'params': {'learning_rate': 0.01, 'max_depth': 4, 'min_child_samples': 20, 'num_leaves': 31}, 'iteration': 42, 'train_time': 4.583966700010933, 'status': 'ok'}\n",
      "{'loss': -0.7233394635211726, 'auc_train': 0.7380753430282633, 'auc_valid': 0.7233394635211726, 'params': {'learning_rate': 0.1, 'max_depth': 3, 'min_child_samples': 50, 'num_leaves': 31}, 'iteration': 43, 'train_time': 4.422029399996973, 'status': 'ok'}\n",
      "{'loss': -0.7280401838948439, 'auc_train': 0.7603100507541334, 'auc_valid': 0.7280401838948439, 'params': {'learning_rate': 0.1, 'max_depth': 4, 'min_child_samples': 1, 'num_leaves': 63}, 'iteration': 44, 'train_time': 4.946974299993599, 'status': 'ok'}\n",
      "{'loss': -0.7142862021697107, 'auc_train': 0.726922171671316, 'auc_valid': 0.7142862021697107, 'params': {'learning_rate': 0.01, 'max_depth': 5, 'min_child_samples': 50, 'num_leaves': 31}, 'iteration': 45, 'train_time': 5.090380199995707, 'status': 'ok'}\n",
      "{'loss': -0.7233470835325863, 'auc_train': 0.7382118203876432, 'auc_valid': 0.7233470835325863, 'params': {'learning_rate': 0.1, 'max_depth': 3, 'min_child_samples': 20, 'num_leaves': 15}, 'iteration': 46, 'train_time': 4.519193500003894, 'status': 'ok'}\n",
      "{'loss': -0.7291371735408757, 'auc_train': 0.7582412837874494, 'auc_valid': 0.7291371735408757, 'params': {'learning_rate': 0.1, 'max_depth': 4, 'min_child_samples': 50, 'num_leaves': 31}, 'iteration': 47, 'train_time': 4.975051000001258, 'status': 'ok'}\n",
      "{'loss': -0.7083906756270414, 'auc_train': 0.716844605466831, 'auc_valid': 0.7083906756270414, 'params': {'learning_rate': 0.01, 'max_depth': 4, 'min_child_samples': 1, 'num_leaves': 63}, 'iteration': 48, 'train_time': 4.5270144999958575, 'status': 'ok'}\n",
      "{'loss': -0.7293101315152555, 'auc_train': 0.7869310055659571, 'auc_valid': 0.7293101315152555, 'params': {'learning_rate': 0.1, 'max_depth': 5, 'min_child_samples': 50, 'num_leaves': 31}, 'iteration': 49, 'train_time': 5.513026000000536, 'status': 'ok'}\n",
      "{'loss': -0.7233470835325863, 'auc_train': 0.7382118203876432, 'auc_valid': 0.7233470835325863, 'params': {'learning_rate': 0.1, 'max_depth': 3, 'min_child_samples': 20, 'num_leaves': 31}, 'iteration': 50, 'train_time': 4.513676600006875, 'status': 'ok'}\n",
      "{'loss': -0.7104573465863293, 'auc_train': 0.7190461077331465, 'auc_valid': 0.7104573465863293, 'params': {'learning_rate': 0.01, 'max_depth': 5, 'min_child_samples': 50, 'num_leaves': 15}, 'iteration': 51, 'train_time': 4.848468799988041, 'status': 'ok'}\n",
      "{'loss': -0.7288614111387685, 'auc_train': 0.7897270238039886, 'auc_valid': 0.7288614111387685, 'params': {'learning_rate': 0.1, 'max_depth': 5, 'min_child_samples': 50, 'num_leaves': 63}, 'iteration': 52, 'train_time': 5.455541599993012, 'status': 'ok'}\n",
      "{'loss': -0.7282917665651176, 'auc_train': 0.794454222858551, 'auc_valid': 0.7282917665651176, 'params': {'learning_rate': 0.1, 'max_depth': 5, 'min_child_samples': 1, 'num_leaves': 31}, 'iteration': 53, 'train_time': 5.483023500011768, 'status': 'ok'}\n",
      "{'loss': -0.7293101315152555, 'auc_train': 0.7869310055659571, 'auc_valid': 0.7293101315152555, 'params': {'learning_rate': 0.1, 'max_depth': 5, 'min_child_samples': 50, 'num_leaves': 31}, 'iteration': 54, 'train_time': 5.801491999998689, 'status': 'ok'}\n",
      "{'loss': -0.7133911518276381, 'auc_train': 0.727660146069976, 'auc_valid': 0.7133911518276381, 'params': {'learning_rate': 0.01, 'max_depth': 5, 'min_child_samples': 20, 'num_leaves': 31}, 'iteration': 55, 'train_time': 5.518677600004594, 'status': 'ok'}\n",
      "{'loss': -0.7288614111387685, 'auc_train': 0.7897270238039886, 'auc_valid': 0.7288614111387685, 'params': {'learning_rate': 0.1, 'max_depth': 5, 'min_child_samples': 50, 'num_leaves': 63}, 'iteration': 56, 'train_time': 6.087608400004683, 'status': 'ok'}\n",
      "{'loss': -0.7293101315152555, 'auc_train': 0.7869310055659571, 'auc_valid': 0.7293101315152555, 'params': {'learning_rate': 0.1, 'max_depth': 5, 'min_child_samples': 50, 'num_leaves': 31}, 'iteration': 57, 'train_time': 6.080810999992536, 'status': 'ok'}\n",
      "{'loss': -0.7270003555391451, 'auc_train': 0.7643715961318511, 'auc_valid': 0.7270003555391451, 'params': {'learning_rate': 0.1, 'max_depth': 5, 'min_child_samples': 50, 'num_leaves': 15}, 'iteration': 58, 'train_time': 5.326567600000999, 'status': 'ok'}\n",
      "{'loss': -0.7128026066533196, 'auc_train': 0.7276564438534264, 'auc_valid': 0.7128026066533196, 'params': {'learning_rate': 0.01, 'max_depth': 5, 'min_child_samples': 1, 'num_leaves': 31}, 'iteration': 59, 'train_time': 5.691184199997224, 'status': 'ok'}\n",
      "{'loss': -0.7233394635211726, 'auc_train': 0.7380753430282633, 'auc_valid': 0.7233394635211726, 'params': {'learning_rate': 0.1, 'max_depth': 3, 'min_child_samples': 50, 'num_leaves': 31}, 'iteration': 60, 'train_time': 4.998003700005938, 'status': 'ok'}\n",
      "{'loss': -0.7293101315152555, 'auc_train': 0.7869310055659571, 'auc_valid': 0.7293101315152555, 'params': {'learning_rate': 0.1, 'max_depth': 5, 'min_child_samples': 50, 'num_leaves': 31}, 'iteration': 61, 'train_time': 6.138227300005383, 'status': 'ok'}\n",
      "{'loss': -0.7290496783196682, 'auc_train': 0.7918606603827575, 'auc_valid': 0.7290496783196682, 'params': {'learning_rate': 0.1, 'max_depth': 5, 'min_child_samples': 20, 'num_leaves': 31}, 'iteration': 62, 'train_time': 6.164643199997954, 'status': 'ok'}\n",
      "{'loss': -0.7288614111387685, 'auc_train': 0.7897270238039886, 'auc_valid': 0.7288614111387685, 'params': {'learning_rate': 0.1, 'max_depth': 5, 'min_child_samples': 50, 'num_leaves': 63}, 'iteration': 63, 'train_time': 6.453443900012644, 'status': 'ok'}\n",
      "{'loss': -0.7293101315152555, 'auc_train': 0.7869310055659571, 'auc_valid': 0.7293101315152555, 'params': {'learning_rate': 0.1, 'max_depth': 5, 'min_child_samples': 50, 'num_leaves': 31}, 'iteration': 64, 'train_time': 6.125282599998172, 'status': 'ok'}\n"
     ]
    },
    {
     "name": "stdout",
     "output_type": "stream",
     "text": [
      "{'loss': -0.7104573465863293, 'auc_train': 0.7190461077331465, 'auc_valid': 0.7104573465863293, 'params': {'learning_rate': 0.01, 'max_depth': 5, 'min_child_samples': 50, 'num_leaves': 15}, 'iteration': 65, 'train_time': 5.310110599995824, 'status': 'ok'}\n",
      "{'loss': -0.7293101315152555, 'auc_train': 0.7869310055659571, 'auc_valid': 0.7293101315152555, 'params': {'learning_rate': 0.1, 'max_depth': 5, 'min_child_samples': 50, 'num_leaves': 31}, 'iteration': 66, 'train_time': 6.058748200011905, 'status': 'ok'}\n",
      "{'loss': -0.7293101315152555, 'auc_train': 0.7869310055659571, 'auc_valid': 0.7293101315152555, 'params': {'learning_rate': 0.1, 'max_depth': 5, 'min_child_samples': 50, 'num_leaves': 31}, 'iteration': 67, 'train_time': 6.104465800002799, 'status': 'ok'}\n",
      "{'loss': -0.7293101315152555, 'auc_train': 0.7869310055659571, 'auc_valid': 0.7293101315152555, 'params': {'learning_rate': 0.1, 'max_depth': 5, 'min_child_samples': 50, 'num_leaves': 31}, 'iteration': 68, 'train_time': 6.141981699998723, 'status': 'ok'}\n",
      "{'loss': -0.7293101315152555, 'auc_train': 0.7869310055659571, 'auc_valid': 0.7293101315152555, 'params': {'learning_rate': 0.1, 'max_depth': 5, 'min_child_samples': 50, 'num_leaves': 31}, 'iteration': 69, 'train_time': 6.120267400008743, 'status': 'ok'}\n",
      "{'loss': -0.7293101315152555, 'auc_train': 0.7869310055659571, 'auc_valid': 0.7293101315152555, 'params': {'learning_rate': 0.1, 'max_depth': 5, 'min_child_samples': 50, 'num_leaves': 31}, 'iteration': 70, 'train_time': 6.2281805999955395, 'status': 'ok'}\n",
      "{'loss': -0.7293101315152555, 'auc_train': 0.7869310055659571, 'auc_valid': 0.7293101315152555, 'params': {'learning_rate': 0.1, 'max_depth': 5, 'min_child_samples': 50, 'num_leaves': 31}, 'iteration': 71, 'train_time': 6.076083799998742, 'status': 'ok'}\n",
      "{'loss': -0.7293101315152555, 'auc_train': 0.7869310055659571, 'auc_valid': 0.7293101315152555, 'params': {'learning_rate': 0.1, 'max_depth': 5, 'min_child_samples': 50, 'num_leaves': 31}, 'iteration': 72, 'train_time': 6.358531700010644, 'status': 'ok'}\n",
      "{'loss': -0.7293101315152555, 'auc_train': 0.7869310055659571, 'auc_valid': 0.7293101315152555, 'params': {'learning_rate': 0.1, 'max_depth': 5, 'min_child_samples': 50, 'num_leaves': 31}, 'iteration': 73, 'train_time': 6.281085299997358, 'status': 'ok'}\n",
      "{'loss': -0.7293101315152555, 'auc_train': 0.7869310055659571, 'auc_valid': 0.7293101315152555, 'params': {'learning_rate': 0.1, 'max_depth': 5, 'min_child_samples': 50, 'num_leaves': 31}, 'iteration': 74, 'train_time': 5.389086700000917, 'status': 'ok'}\n",
      "{'loss': -0.7293101315152555, 'auc_train': 0.7869310055659571, 'auc_valid': 0.7293101315152555, 'params': {'learning_rate': 0.1, 'max_depth': 5, 'min_child_samples': 50, 'num_leaves': 31}, 'iteration': 75, 'train_time': 5.52140650000365, 'status': 'ok'}\n",
      "{'loss': -0.7282917665651176, 'auc_train': 0.794454222858551, 'auc_valid': 0.7282917665651176, 'params': {'learning_rate': 0.1, 'max_depth': 5, 'min_child_samples': 1, 'num_leaves': 31}, 'iteration': 76, 'train_time': 5.492378199996892, 'status': 'ok'}\n",
      "{'loss': -0.7293101315152555, 'auc_train': 0.7869310055659571, 'auc_valid': 0.7293101315152555, 'params': {'learning_rate': 0.1, 'max_depth': 5, 'min_child_samples': 50, 'num_leaves': 31}, 'iteration': 77, 'train_time': 5.594747600000119, 'status': 'ok'}\n",
      "{'loss': -0.7290496783196682, 'auc_train': 0.7918606603827575, 'auc_valid': 0.7290496783196682, 'params': {'learning_rate': 0.1, 'max_depth': 5, 'min_child_samples': 20, 'num_leaves': 31}, 'iteration': 78, 'train_time': 5.460648899999796, 'status': 'ok'}\n",
      "{'loss': -0.7233394635211726, 'auc_train': 0.7380753430282633, 'auc_valid': 0.7233394635211726, 'params': {'learning_rate': 0.1, 'max_depth': 3, 'min_child_samples': 50, 'num_leaves': 15}, 'iteration': 79, 'train_time': 4.436063999994076, 'status': 'ok'}\n",
      "{'loss': -0.7288614111387685, 'auc_train': 0.7897270238039886, 'auc_valid': 0.7288614111387685, 'params': {'learning_rate': 0.1, 'max_depth': 5, 'min_child_samples': 50, 'num_leaves': 63}, 'iteration': 80, 'train_time': 5.50129330001073, 'status': 'ok'}\n",
      "100%|██████████| 80/80 [06:55<00:00,  5.20s/trial, best loss: -0.7293101315152555]\n"
     ]
    },
    {
     "data": {
      "text/plain": [
       "{'learning_rate': 1, 'max_depth': 2, 'min_child_samples': 2, 'num_leaves': 1}"
      ]
     },
     "execution_count": 14,
     "metadata": {},
     "output_type": "execute_result"
    }
   ],
   "source": [
    "fp_path = Path(DATA_DIR, \"bo.csv\")\n",
    "bo = BO(fp_path)\n",
    "bo.load_data(df_woe.loc[df_woe['sample_type']=='train', features], \n",
    "             df_woe.loc[df_woe['sample_type']=='train', label])\n",
    "bo.optimize(80)"
   ]
  },
  {
   "cell_type": "code",
   "execution_count": 15,
   "id": "9048e081",
   "metadata": {},
   "outputs": [
    {
     "name": "stdout",
     "output_type": "stream",
     "text": [
      "{'learning_rate': 0.1, 'max_depth': 5, 'min_child_samples': 50, 'num_leaves': 31}\n",
      "loss                                                   -0.72931\n",
      "auc_train                                              0.786931\n",
      "auc_valid                                               0.72931\n",
      "params        {'learning_rate': 0.1, 'max_depth': 5, 'min_ch...\n",
      "iteration                                                    49\n",
      "train_time                                             5.513026\n",
      "Name: 0, dtype: object\n"
     ]
    }
   ],
   "source": [
    "df_cv = pd.read_csv(fp_path)\n",
    "df_cv = df_cv.sort_values(by=[\"auc_valid\", \"auc_train\"], ascending=[False, False]).reset_index(drop=True)\n",
    "best_param = df_cv.iloc[0][\"params\"]\n",
    "print(ast.literal_eval(best_param))\n",
    "print(df_cv.iloc[0])"
   ]
  },
  {
   "cell_type": "code",
   "execution_count": null,
   "id": "69dc28a0",
   "metadata": {},
   "outputs": [],
   "source": []
  },
  {
   "cell_type": "code",
   "execution_count": null,
   "id": "77ed3ceb",
   "metadata": {},
   "outputs": [],
   "source": []
  }
 ],
 "metadata": {
  "kernelspec": {
   "display_name": "Python 3 (ipykernel)",
   "language": "python",
   "name": "python3"
  },
  "language_info": {
   "codemirror_mode": {
    "name": "ipython",
    "version": 3
   },
   "file_extension": ".py",
   "mimetype": "text/x-python",
   "name": "python",
   "nbconvert_exporter": "python",
   "pygments_lexer": "ipython3",
   "version": "3.10.12"
  }
 },
 "nbformat": 4,
 "nbformat_minor": 5
}
