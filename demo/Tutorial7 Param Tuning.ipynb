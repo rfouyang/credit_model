{
 "cells": [
  {
   "cell_type": "code",
   "execution_count": 1,
   "id": "e7481970",
   "metadata": {},
   "outputs": [],
   "source": [
    "import os, sys\n",
    "from pathlib import Path\n",
    "\n",
    "BASE_DIR = Path(Path.home(), \"workspace\", \"services\", \"credit_model\")\n",
    "DATA_DIR = Path(Path.home(), \"workspace\", \"data\")\n",
    "if BASE_DIR not in sys.path:\n",
    "    sys.path.insert(0, f\"{BASE_DIR}\")"
   ]
  },
  {
   "cell_type": "code",
   "execution_count": 2,
   "id": "0f1a515a",
   "metadata": {},
   "outputs": [],
   "source": [
    "from pprint import pprint\n",
    "import numpy as np\n",
    "import pandas as pd\n",
    "import matplotlib.pyplot as plt\n",
    "import lightgbm as lgb"
   ]
  },
  {
   "cell_type": "code",
   "execution_count": 3,
   "id": "2f238387",
   "metadata": {},
   "outputs": [],
   "source": [
    "%load_ext autoreload\n",
    "%autoreload 2"
   ]
  },
  {
   "cell_type": "code",
   "execution_count": 4,
   "id": "0a9fbf9c",
   "metadata": {},
   "outputs": [],
   "source": [
    "pd.set_option('display.max_columns', None)\n",
    "pd.set_option('display.width', 1000)"
   ]
  },
  {
   "cell_type": "code",
   "execution_count": 5,
   "id": "b4ac660b",
   "metadata": {},
   "outputs": [],
   "source": [
    "from util import metric_helper"
   ]
  },
  {
   "cell_type": "markdown",
   "id": "455271ba",
   "metadata": {},
   "source": [
    "# 加载数据"
   ]
  },
  {
   "cell_type": "code",
   "execution_count": 6,
   "id": "35de5207",
   "metadata": {},
   "outputs": [],
   "source": [
    "fp_data = Path(DATA_DIR, 'tutorial', 'data_woe_result.csv')\n",
    "df_woe = pd.read_csv(fp_data, index_col=None)"
   ]
  },
  {
   "cell_type": "code",
   "execution_count": 7,
   "id": "564fa357",
   "metadata": {},
   "outputs": [],
   "source": [
    "num_cols = ['Collateral_valuation', 'Age', 'Properties_Total', 'Amount', 'Term', 'Historic_Loans', 'Current_Loans', 'Max_Arrears']\n",
    "cat_cols = ['Region', 'Area', 'Activity', 'Guarantor', 'Collateral', 'Properties_Status']\n",
    "features = num_cols + cat_cols\n",
    "label = 'Defaulter'"
   ]
  },
  {
   "cell_type": "markdown",
   "id": "6f450aec",
   "metadata": {},
   "source": [
    "# Gridsearch"
   ]
  },
  {
   "cell_type": "code",
   "execution_count": 8,
   "id": "cf6f3747",
   "metadata": {},
   "outputs": [],
   "source": [
    "from sklearn.model_selection import GridSearchCV"
   ]
  },
  {
   "cell_type": "code",
   "execution_count": 9,
   "id": "41062316",
   "metadata": {},
   "outputs": [],
   "source": [
    "params = {\n",
    "    \"learning_rate\": 0.1,\n",
    "    \"max_depth\": 3,\n",
    "    \"num_leaves\": 7,\n",
    "    \"min_child_samples\": 800,\n",
    "    \"subsample\": 1,\n",
    "    \"subsample_freq\": 0,\n",
    "    \"colsample_bytree\": 1,\n",
    "    \"reg_alpha\": 157,\n",
    "    \"reg_lambda\": 500,\n",
    "}\n",
    "\n",
    "model = lgb.LGBMClassifier(\n",
    "    **params,\n",
    "    n_estimators=200,\n",
    "    objective=\"cross_entropy\",\n",
    "    class_weight=\"balanced\",\n",
    "    importance_type=\"gain\",\n",
    "    boosting_type=\"gbdt\",\n",
    "    silent=True,\n",
    "    n_jobs=8,\n",
    "    random_state=19910908\n",
    ")"
   ]
  },
  {
   "cell_type": "code",
   "execution_count": 10,
   "id": "79f1210c",
   "metadata": {},
   "outputs": [
    {
     "name": "stdout",
     "output_type": "stream",
     "text": [
      "Fitting 3 folds for each of 54 candidates, totalling 162 fits\n",
      "[CV 1/3] END learning_rate=0.01, max_depth=3, min_child_samples=1, num_leaves=15; AUC: (test=0.760) total time=   0.0s\n",
      "[CV 2/3] END learning_rate=0.01, max_depth=3, min_child_samples=1, num_leaves=15; AUC: (test=0.755) total time=   0.0s\n"
     ]
    },
    {
     "name": "stderr",
     "output_type": "stream",
     "text": [
      "C:\\Users\\USER\\.conda\\envs\\lec310\\lib\\site-packages\\lightgbm\\sklearn.py:598: UserWarning: 'silent' argument is deprecated and will be removed in a future release of LightGBM. Pass 'verbose' parameter via keyword arguments instead.\n",
      "  _log_warning(\"'silent' argument is deprecated and will be removed in a future release of LightGBM. \"\n",
      "C:\\Users\\USER\\.conda\\envs\\lec310\\lib\\site-packages\\lightgbm\\sklearn.py:598: UserWarning: 'silent' argument is deprecated and will be removed in a future release of LightGBM. Pass 'verbose' parameter via keyword arguments instead.\n",
      "  _log_warning(\"'silent' argument is deprecated and will be removed in a future release of LightGBM. \"\n",
      "C:\\Users\\USER\\.conda\\envs\\lec310\\lib\\site-packages\\lightgbm\\sklearn.py:598: UserWarning: 'silent' argument is deprecated and will be removed in a future release of LightGBM. Pass 'verbose' parameter via keyword arguments instead.\n",
      "  _log_warning(\"'silent' argument is deprecated and will be removed in a future release of LightGBM. \"\n"
     ]
    },
    {
     "name": "stdout",
     "output_type": "stream",
     "text": [
      "[CV 3/3] END learning_rate=0.01, max_depth=3, min_child_samples=1, num_leaves=15; AUC: (test=0.754) total time=   0.0s\n",
      "[CV 1/3] END learning_rate=0.01, max_depth=3, min_child_samples=1, num_leaves=31; AUC: (test=0.760) total time=   0.0s\n",
      "[CV 2/3] END learning_rate=0.01, max_depth=3, min_child_samples=1, num_leaves=31; AUC: (test=0.755) total time=   0.0s\n"
     ]
    },
    {
     "name": "stderr",
     "output_type": "stream",
     "text": [
      "C:\\Users\\USER\\.conda\\envs\\lec310\\lib\\site-packages\\lightgbm\\sklearn.py:598: UserWarning: 'silent' argument is deprecated and will be removed in a future release of LightGBM. Pass 'verbose' parameter via keyword arguments instead.\n",
      "  _log_warning(\"'silent' argument is deprecated and will be removed in a future release of LightGBM. \"\n",
      "C:\\Users\\USER\\.conda\\envs\\lec310\\lib\\site-packages\\lightgbm\\sklearn.py:598: UserWarning: 'silent' argument is deprecated and will be removed in a future release of LightGBM. Pass 'verbose' parameter via keyword arguments instead.\n",
      "  _log_warning(\"'silent' argument is deprecated and will be removed in a future release of LightGBM. \"\n",
      "C:\\Users\\USER\\.conda\\envs\\lec310\\lib\\site-packages\\lightgbm\\sklearn.py:598: UserWarning: 'silent' argument is deprecated and will be removed in a future release of LightGBM. Pass 'verbose' parameter via keyword arguments instead.\n",
      "  _log_warning(\"'silent' argument is deprecated and will be removed in a future release of LightGBM. \"\n"
     ]
    },
    {
     "name": "stdout",
     "output_type": "stream",
     "text": [
      "[CV 3/3] END learning_rate=0.01, max_depth=3, min_child_samples=1, num_leaves=31; AUC: (test=0.754) total time=   0.0s\n",
      "[CV 1/3] END learning_rate=0.01, max_depth=3, min_child_samples=1, num_leaves=63; AUC: (test=0.760) total time=   0.0s\n",
      "[CV 2/3] END learning_rate=0.01, max_depth=3, min_child_samples=1, num_leaves=63; AUC: (test=0.755) total time=   0.0s\n"
     ]
    },
    {
     "name": "stderr",
     "output_type": "stream",
     "text": [
      "C:\\Users\\USER\\.conda\\envs\\lec310\\lib\\site-packages\\lightgbm\\sklearn.py:598: UserWarning: 'silent' argument is deprecated and will be removed in a future release of LightGBM. Pass 'verbose' parameter via keyword arguments instead.\n",
      "  _log_warning(\"'silent' argument is deprecated and will be removed in a future release of LightGBM. \"\n",
      "C:\\Users\\USER\\.conda\\envs\\lec310\\lib\\site-packages\\lightgbm\\sklearn.py:598: UserWarning: 'silent' argument is deprecated and will be removed in a future release of LightGBM. Pass 'verbose' parameter via keyword arguments instead.\n",
      "  _log_warning(\"'silent' argument is deprecated and will be removed in a future release of LightGBM. \"\n",
      "C:\\Users\\USER\\.conda\\envs\\lec310\\lib\\site-packages\\lightgbm\\sklearn.py:598: UserWarning: 'silent' argument is deprecated and will be removed in a future release of LightGBM. Pass 'verbose' parameter via keyword arguments instead.\n",
      "  _log_warning(\"'silent' argument is deprecated and will be removed in a future release of LightGBM. \"\n"
     ]
    },
    {
     "name": "stdout",
     "output_type": "stream",
     "text": [
      "[CV 3/3] END learning_rate=0.01, max_depth=3, min_child_samples=1, num_leaves=63; AUC: (test=0.754) total time=   0.0s\n",
      "[CV 1/3] END learning_rate=0.01, max_depth=3, min_child_samples=20, num_leaves=15; AUC: (test=0.760) total time=   0.0s\n",
      "[CV 2/3] END learning_rate=0.01, max_depth=3, min_child_samples=20, num_leaves=15; AUC: (test=0.755) total time=   0.0s\n",
      "[CV 3/3] END learning_rate=0.01, max_depth=3, min_child_samples=20, num_leaves=15; AUC: (test=0.754) total time=   0.0s\n"
     ]
    },
    {
     "name": "stderr",
     "output_type": "stream",
     "text": [
      "C:\\Users\\USER\\.conda\\envs\\lec310\\lib\\site-packages\\lightgbm\\sklearn.py:598: UserWarning: 'silent' argument is deprecated and will be removed in a future release of LightGBM. Pass 'verbose' parameter via keyword arguments instead.\n",
      "  _log_warning(\"'silent' argument is deprecated and will be removed in a future release of LightGBM. \"\n",
      "C:\\Users\\USER\\.conda\\envs\\lec310\\lib\\site-packages\\lightgbm\\sklearn.py:598: UserWarning: 'silent' argument is deprecated and will be removed in a future release of LightGBM. Pass 'verbose' parameter via keyword arguments instead.\n",
      "  _log_warning(\"'silent' argument is deprecated and will be removed in a future release of LightGBM. \"\n",
      "C:\\Users\\USER\\.conda\\envs\\lec310\\lib\\site-packages\\lightgbm\\sklearn.py:598: UserWarning: 'silent' argument is deprecated and will be removed in a future release of LightGBM. Pass 'verbose' parameter via keyword arguments instead.\n",
      "  _log_warning(\"'silent' argument is deprecated and will be removed in a future release of LightGBM. \"\n",
      "C:\\Users\\USER\\.conda\\envs\\lec310\\lib\\site-packages\\lightgbm\\sklearn.py:598: UserWarning: 'silent' argument is deprecated and will be removed in a future release of LightGBM. Pass 'verbose' parameter via keyword arguments instead.\n",
      "  _log_warning(\"'silent' argument is deprecated and will be removed in a future release of LightGBM. \"\n"
     ]
    },
    {
     "name": "stdout",
     "output_type": "stream",
     "text": [
      "[CV 1/3] END learning_rate=0.01, max_depth=3, min_child_samples=20, num_leaves=31; AUC: (test=0.760) total time=   0.0s\n",
      "[CV 2/3] END learning_rate=0.01, max_depth=3, min_child_samples=20, num_leaves=31; AUC: (test=0.755) total time=   0.0s\n",
      "[CV 3/3] END learning_rate=0.01, max_depth=3, min_child_samples=20, num_leaves=31; AUC: (test=0.754) total time=   0.0s\n"
     ]
    },
    {
     "name": "stderr",
     "output_type": "stream",
     "text": [
      "C:\\Users\\USER\\.conda\\envs\\lec310\\lib\\site-packages\\lightgbm\\sklearn.py:598: UserWarning: 'silent' argument is deprecated and will be removed in a future release of LightGBM. Pass 'verbose' parameter via keyword arguments instead.\n",
      "  _log_warning(\"'silent' argument is deprecated and will be removed in a future release of LightGBM. \"\n",
      "C:\\Users\\USER\\.conda\\envs\\lec310\\lib\\site-packages\\lightgbm\\sklearn.py:598: UserWarning: 'silent' argument is deprecated and will be removed in a future release of LightGBM. Pass 'verbose' parameter via keyword arguments instead.\n",
      "  _log_warning(\"'silent' argument is deprecated and will be removed in a future release of LightGBM. \"\n",
      "C:\\Users\\USER\\.conda\\envs\\lec310\\lib\\site-packages\\lightgbm\\sklearn.py:598: UserWarning: 'silent' argument is deprecated and will be removed in a future release of LightGBM. Pass 'verbose' parameter via keyword arguments instead.\n",
      "  _log_warning(\"'silent' argument is deprecated and will be removed in a future release of LightGBM. \"\n"
     ]
    },
    {
     "name": "stdout",
     "output_type": "stream",
     "text": [
      "[CV 1/3] END learning_rate=0.01, max_depth=3, min_child_samples=20, num_leaves=63; AUC: (test=0.760) total time=   0.0s\n",
      "[CV 2/3] END learning_rate=0.01, max_depth=3, min_child_samples=20, num_leaves=63; AUC: (test=0.755) total time=   0.0s\n",
      "[CV 3/3] END learning_rate=0.01, max_depth=3, min_child_samples=20, num_leaves=63; AUC: (test=0.754) total time=   0.0s\n"
     ]
    },
    {
     "name": "stderr",
     "output_type": "stream",
     "text": [
      "C:\\Users\\USER\\.conda\\envs\\lec310\\lib\\site-packages\\lightgbm\\sklearn.py:598: UserWarning: 'silent' argument is deprecated and will be removed in a future release of LightGBM. Pass 'verbose' parameter via keyword arguments instead.\n",
      "  _log_warning(\"'silent' argument is deprecated and will be removed in a future release of LightGBM. \"\n",
      "C:\\Users\\USER\\.conda\\envs\\lec310\\lib\\site-packages\\lightgbm\\sklearn.py:598: UserWarning: 'silent' argument is deprecated and will be removed in a future release of LightGBM. Pass 'verbose' parameter via keyword arguments instead.\n",
      "  _log_warning(\"'silent' argument is deprecated and will be removed in a future release of LightGBM. \"\n",
      "C:\\Users\\USER\\.conda\\envs\\lec310\\lib\\site-packages\\lightgbm\\sklearn.py:598: UserWarning: 'silent' argument is deprecated and will be removed in a future release of LightGBM. Pass 'verbose' parameter via keyword arguments instead.\n",
      "  _log_warning(\"'silent' argument is deprecated and will be removed in a future release of LightGBM. \"\n"
     ]
    },
    {
     "name": "stdout",
     "output_type": "stream",
     "text": [
      "[CV 1/3] END learning_rate=0.01, max_depth=3, min_child_samples=50, num_leaves=15; AUC: (test=0.760) total time=   0.0s\n",
      "[CV 2/3] END learning_rate=0.01, max_depth=3, min_child_samples=50, num_leaves=15; AUC: (test=0.755) total time=   0.0s\n",
      "[CV 3/3] END learning_rate=0.01, max_depth=3, min_child_samples=50, num_leaves=15; AUC: (test=0.754) total time=   0.0s\n"
     ]
    },
    {
     "name": "stderr",
     "output_type": "stream",
     "text": [
      "C:\\Users\\USER\\.conda\\envs\\lec310\\lib\\site-packages\\lightgbm\\sklearn.py:598: UserWarning: 'silent' argument is deprecated and will be removed in a future release of LightGBM. Pass 'verbose' parameter via keyword arguments instead.\n",
      "  _log_warning(\"'silent' argument is deprecated and will be removed in a future release of LightGBM. \"\n",
      "C:\\Users\\USER\\.conda\\envs\\lec310\\lib\\site-packages\\lightgbm\\sklearn.py:598: UserWarning: 'silent' argument is deprecated and will be removed in a future release of LightGBM. Pass 'verbose' parameter via keyword arguments instead.\n",
      "  _log_warning(\"'silent' argument is deprecated and will be removed in a future release of LightGBM. \"\n",
      "C:\\Users\\USER\\.conda\\envs\\lec310\\lib\\site-packages\\lightgbm\\sklearn.py:598: UserWarning: 'silent' argument is deprecated and will be removed in a future release of LightGBM. Pass 'verbose' parameter via keyword arguments instead.\n",
      "  _log_warning(\"'silent' argument is deprecated and will be removed in a future release of LightGBM. \"\n"
     ]
    },
    {
     "name": "stdout",
     "output_type": "stream",
     "text": [
      "[CV 1/3] END learning_rate=0.01, max_depth=3, min_child_samples=50, num_leaves=31; AUC: (test=0.760) total time=   0.0s\n",
      "[CV 2/3] END learning_rate=0.01, max_depth=3, min_child_samples=50, num_leaves=31; AUC: (test=0.755) total time=   0.0s\n",
      "[CV 3/3] END learning_rate=0.01, max_depth=3, min_child_samples=50, num_leaves=31; AUC: (test=0.754) total time=   0.0s\n"
     ]
    },
    {
     "name": "stderr",
     "output_type": "stream",
     "text": [
      "C:\\Users\\USER\\.conda\\envs\\lec310\\lib\\site-packages\\lightgbm\\sklearn.py:598: UserWarning: 'silent' argument is deprecated and will be removed in a future release of LightGBM. Pass 'verbose' parameter via keyword arguments instead.\n",
      "  _log_warning(\"'silent' argument is deprecated and will be removed in a future release of LightGBM. \"\n",
      "C:\\Users\\USER\\.conda\\envs\\lec310\\lib\\site-packages\\lightgbm\\sklearn.py:598: UserWarning: 'silent' argument is deprecated and will be removed in a future release of LightGBM. Pass 'verbose' parameter via keyword arguments instead.\n",
      "  _log_warning(\"'silent' argument is deprecated and will be removed in a future release of LightGBM. \"\n",
      "C:\\Users\\USER\\.conda\\envs\\lec310\\lib\\site-packages\\lightgbm\\sklearn.py:598: UserWarning: 'silent' argument is deprecated and will be removed in a future release of LightGBM. Pass 'verbose' parameter via keyword arguments instead.\n",
      "  _log_warning(\"'silent' argument is deprecated and will be removed in a future release of LightGBM. \"\n"
     ]
    },
    {
     "name": "stdout",
     "output_type": "stream",
     "text": [
      "[CV 1/3] END learning_rate=0.01, max_depth=3, min_child_samples=50, num_leaves=63; AUC: (test=0.760) total time=   0.0s\n",
      "[CV 2/3] END learning_rate=0.01, max_depth=3, min_child_samples=50, num_leaves=63; AUC: (test=0.755) total time=   0.0s\n",
      "[CV 3/3] END learning_rate=0.01, max_depth=3, min_child_samples=50, num_leaves=63; AUC: (test=0.754) total time=   0.0s\n"
     ]
    },
    {
     "name": "stderr",
     "output_type": "stream",
     "text": [
      "C:\\Users\\USER\\.conda\\envs\\lec310\\lib\\site-packages\\lightgbm\\sklearn.py:598: UserWarning: 'silent' argument is deprecated and will be removed in a future release of LightGBM. Pass 'verbose' parameter via keyword arguments instead.\n",
      "  _log_warning(\"'silent' argument is deprecated and will be removed in a future release of LightGBM. \"\n",
      "C:\\Users\\USER\\.conda\\envs\\lec310\\lib\\site-packages\\lightgbm\\sklearn.py:598: UserWarning: 'silent' argument is deprecated and will be removed in a future release of LightGBM. Pass 'verbose' parameter via keyword arguments instead.\n",
      "  _log_warning(\"'silent' argument is deprecated and will be removed in a future release of LightGBM. \"\n",
      "C:\\Users\\USER\\.conda\\envs\\lec310\\lib\\site-packages\\lightgbm\\sklearn.py:598: UserWarning: 'silent' argument is deprecated and will be removed in a future release of LightGBM. Pass 'verbose' parameter via keyword arguments instead.\n",
      "  _log_warning(\"'silent' argument is deprecated and will be removed in a future release of LightGBM. \"\n"
     ]
    },
    {
     "name": "stdout",
     "output_type": "stream",
     "text": [
      "[CV 1/3] END learning_rate=0.01, max_depth=4, min_child_samples=1, num_leaves=15; AUC: (test=0.762) total time=   0.0s\n",
      "[CV 2/3] END learning_rate=0.01, max_depth=4, min_child_samples=1, num_leaves=15; AUC: (test=0.759) total time=   0.0s\n",
      "[CV 3/3] END learning_rate=0.01, max_depth=4, min_child_samples=1, num_leaves=15; AUC: (test=0.758) total time=   0.0s\n"
     ]
    },
    {
     "name": "stderr",
     "output_type": "stream",
     "text": [
      "C:\\Users\\USER\\.conda\\envs\\lec310\\lib\\site-packages\\lightgbm\\sklearn.py:598: UserWarning: 'silent' argument is deprecated and will be removed in a future release of LightGBM. Pass 'verbose' parameter via keyword arguments instead.\n",
      "  _log_warning(\"'silent' argument is deprecated and will be removed in a future release of LightGBM. \"\n",
      "C:\\Users\\USER\\.conda\\envs\\lec310\\lib\\site-packages\\lightgbm\\sklearn.py:598: UserWarning: 'silent' argument is deprecated and will be removed in a future release of LightGBM. Pass 'verbose' parameter via keyword arguments instead.\n",
      "  _log_warning(\"'silent' argument is deprecated and will be removed in a future release of LightGBM. \"\n",
      "C:\\Users\\USER\\.conda\\envs\\lec310\\lib\\site-packages\\lightgbm\\sklearn.py:598: UserWarning: 'silent' argument is deprecated and will be removed in a future release of LightGBM. Pass 'verbose' parameter via keyword arguments instead.\n",
      "  _log_warning(\"'silent' argument is deprecated and will be removed in a future release of LightGBM. \"\n"
     ]
    },
    {
     "name": "stdout",
     "output_type": "stream",
     "text": [
      "[CV 1/3] END learning_rate=0.01, max_depth=4, min_child_samples=1, num_leaves=31; AUC: (test=0.762) total time=   0.0s\n",
      "[CV 2/3] END learning_rate=0.01, max_depth=4, min_child_samples=1, num_leaves=31; AUC: (test=0.759) total time=   0.0s\n",
      "[CV 3/3] END learning_rate=0.01, max_depth=4, min_child_samples=1, num_leaves=31; AUC: (test=0.758) total time=   0.0s\n"
     ]
    },
    {
     "name": "stderr",
     "output_type": "stream",
     "text": [
      "C:\\Users\\USER\\.conda\\envs\\lec310\\lib\\site-packages\\lightgbm\\sklearn.py:598: UserWarning: 'silent' argument is deprecated and will be removed in a future release of LightGBM. Pass 'verbose' parameter via keyword arguments instead.\n",
      "  _log_warning(\"'silent' argument is deprecated and will be removed in a future release of LightGBM. \"\n",
      "C:\\Users\\USER\\.conda\\envs\\lec310\\lib\\site-packages\\lightgbm\\sklearn.py:598: UserWarning: 'silent' argument is deprecated and will be removed in a future release of LightGBM. Pass 'verbose' parameter via keyword arguments instead.\n",
      "  _log_warning(\"'silent' argument is deprecated and will be removed in a future release of LightGBM. \"\n",
      "C:\\Users\\USER\\.conda\\envs\\lec310\\lib\\site-packages\\lightgbm\\sklearn.py:598: UserWarning: 'silent' argument is deprecated and will be removed in a future release of LightGBM. Pass 'verbose' parameter via keyword arguments instead.\n",
      "  _log_warning(\"'silent' argument is deprecated and will be removed in a future release of LightGBM. \"\n"
     ]
    },
    {
     "name": "stdout",
     "output_type": "stream",
     "text": [
      "[CV 1/3] END learning_rate=0.01, max_depth=4, min_child_samples=1, num_leaves=63; AUC: (test=0.762) total time=   0.0s\n",
      "[CV 2/3] END learning_rate=0.01, max_depth=4, min_child_samples=1, num_leaves=63; AUC: (test=0.759) total time=   0.0s\n",
      "[CV 3/3] END learning_rate=0.01, max_depth=4, min_child_samples=1, num_leaves=63; AUC: (test=0.758) total time=   0.0s\n"
     ]
    },
    {
     "name": "stderr",
     "output_type": "stream",
     "text": [
      "C:\\Users\\USER\\.conda\\envs\\lec310\\lib\\site-packages\\lightgbm\\sklearn.py:598: UserWarning: 'silent' argument is deprecated and will be removed in a future release of LightGBM. Pass 'verbose' parameter via keyword arguments instead.\n",
      "  _log_warning(\"'silent' argument is deprecated and will be removed in a future release of LightGBM. \"\n",
      "C:\\Users\\USER\\.conda\\envs\\lec310\\lib\\site-packages\\lightgbm\\sklearn.py:598: UserWarning: 'silent' argument is deprecated and will be removed in a future release of LightGBM. Pass 'verbose' parameter via keyword arguments instead.\n",
      "  _log_warning(\"'silent' argument is deprecated and will be removed in a future release of LightGBM. \"\n",
      "C:\\Users\\USER\\.conda\\envs\\lec310\\lib\\site-packages\\lightgbm\\sklearn.py:598: UserWarning: 'silent' argument is deprecated and will be removed in a future release of LightGBM. Pass 'verbose' parameter via keyword arguments instead.\n",
      "  _log_warning(\"'silent' argument is deprecated and will be removed in a future release of LightGBM. \"\n"
     ]
    },
    {
     "name": "stdout",
     "output_type": "stream",
     "text": [
      "[CV 1/3] END learning_rate=0.01, max_depth=4, min_child_samples=20, num_leaves=15; AUC: (test=0.762) total time=   0.0s\n",
      "[CV 2/3] END learning_rate=0.01, max_depth=4, min_child_samples=20, num_leaves=15; AUC: (test=0.759) total time=   0.0s\n",
      "[CV 3/3] END learning_rate=0.01, max_depth=4, min_child_samples=20, num_leaves=15; AUC: (test=0.758) total time=   0.0s\n"
     ]
    },
    {
     "name": "stderr",
     "output_type": "stream",
     "text": [
      "C:\\Users\\USER\\.conda\\envs\\lec310\\lib\\site-packages\\lightgbm\\sklearn.py:598: UserWarning: 'silent' argument is deprecated and will be removed in a future release of LightGBM. Pass 'verbose' parameter via keyword arguments instead.\n",
      "  _log_warning(\"'silent' argument is deprecated and will be removed in a future release of LightGBM. \"\n",
      "C:\\Users\\USER\\.conda\\envs\\lec310\\lib\\site-packages\\lightgbm\\sklearn.py:598: UserWarning: 'silent' argument is deprecated and will be removed in a future release of LightGBM. Pass 'verbose' parameter via keyword arguments instead.\n",
      "  _log_warning(\"'silent' argument is deprecated and will be removed in a future release of LightGBM. \"\n",
      "C:\\Users\\USER\\.conda\\envs\\lec310\\lib\\site-packages\\lightgbm\\sklearn.py:598: UserWarning: 'silent' argument is deprecated and will be removed in a future release of LightGBM. Pass 'verbose' parameter via keyword arguments instead.\n",
      "  _log_warning(\"'silent' argument is deprecated and will be removed in a future release of LightGBM. \"\n"
     ]
    },
    {
     "name": "stdout",
     "output_type": "stream",
     "text": [
      "[CV 1/3] END learning_rate=0.01, max_depth=4, min_child_samples=20, num_leaves=31; AUC: (test=0.762) total time=   0.0s\n",
      "[CV 2/3] END learning_rate=0.01, max_depth=4, min_child_samples=20, num_leaves=31; AUC: (test=0.759) total time=   0.0s\n",
      "[CV 3/3] END learning_rate=0.01, max_depth=4, min_child_samples=20, num_leaves=31; AUC: (test=0.758) total time=   0.0s\n"
     ]
    },
    {
     "name": "stderr",
     "output_type": "stream",
     "text": [
      "C:\\Users\\USER\\.conda\\envs\\lec310\\lib\\site-packages\\lightgbm\\sklearn.py:598: UserWarning: 'silent' argument is deprecated and will be removed in a future release of LightGBM. Pass 'verbose' parameter via keyword arguments instead.\n",
      "  _log_warning(\"'silent' argument is deprecated and will be removed in a future release of LightGBM. \"\n",
      "C:\\Users\\USER\\.conda\\envs\\lec310\\lib\\site-packages\\lightgbm\\sklearn.py:598: UserWarning: 'silent' argument is deprecated and will be removed in a future release of LightGBM. Pass 'verbose' parameter via keyword arguments instead.\n",
      "  _log_warning(\"'silent' argument is deprecated and will be removed in a future release of LightGBM. \"\n",
      "C:\\Users\\USER\\.conda\\envs\\lec310\\lib\\site-packages\\lightgbm\\sklearn.py:598: UserWarning: 'silent' argument is deprecated and will be removed in a future release of LightGBM. Pass 'verbose' parameter via keyword arguments instead.\n",
      "  _log_warning(\"'silent' argument is deprecated and will be removed in a future release of LightGBM. \"\n"
     ]
    },
    {
     "name": "stdout",
     "output_type": "stream",
     "text": [
      "[CV 1/3] END learning_rate=0.01, max_depth=4, min_child_samples=20, num_leaves=63; AUC: (test=0.762) total time=   0.0s\n",
      "[CV 2/3] END learning_rate=0.01, max_depth=4, min_child_samples=20, num_leaves=63; AUC: (test=0.759) total time=   0.0s\n",
      "[CV 3/3] END learning_rate=0.01, max_depth=4, min_child_samples=20, num_leaves=63; AUC: (test=0.758) total time=   0.0s\n"
     ]
    },
    {
     "name": "stderr",
     "output_type": "stream",
     "text": [
      "C:\\Users\\USER\\.conda\\envs\\lec310\\lib\\site-packages\\lightgbm\\sklearn.py:598: UserWarning: 'silent' argument is deprecated and will be removed in a future release of LightGBM. Pass 'verbose' parameter via keyword arguments instead.\n",
      "  _log_warning(\"'silent' argument is deprecated and will be removed in a future release of LightGBM. \"\n",
      "C:\\Users\\USER\\.conda\\envs\\lec310\\lib\\site-packages\\lightgbm\\sklearn.py:598: UserWarning: 'silent' argument is deprecated and will be removed in a future release of LightGBM. Pass 'verbose' parameter via keyword arguments instead.\n",
      "  _log_warning(\"'silent' argument is deprecated and will be removed in a future release of LightGBM. \"\n",
      "C:\\Users\\USER\\.conda\\envs\\lec310\\lib\\site-packages\\lightgbm\\sklearn.py:598: UserWarning: 'silent' argument is deprecated and will be removed in a future release of LightGBM. Pass 'verbose' parameter via keyword arguments instead.\n",
      "  _log_warning(\"'silent' argument is deprecated and will be removed in a future release of LightGBM. \"\n"
     ]
    },
    {
     "name": "stdout",
     "output_type": "stream",
     "text": [
      "[CV 1/3] END learning_rate=0.01, max_depth=4, min_child_samples=50, num_leaves=15; AUC: (test=0.762) total time=   0.0s\n",
      "[CV 2/3] END learning_rate=0.01, max_depth=4, min_child_samples=50, num_leaves=15; AUC: (test=0.759) total time=   0.0s\n",
      "[CV 3/3] END learning_rate=0.01, max_depth=4, min_child_samples=50, num_leaves=15; AUC: (test=0.758) total time=   0.0s\n"
     ]
    },
    {
     "name": "stderr",
     "output_type": "stream",
     "text": [
      "C:\\Users\\USER\\.conda\\envs\\lec310\\lib\\site-packages\\lightgbm\\sklearn.py:598: UserWarning: 'silent' argument is deprecated and will be removed in a future release of LightGBM. Pass 'verbose' parameter via keyword arguments instead.\n",
      "  _log_warning(\"'silent' argument is deprecated and will be removed in a future release of LightGBM. \"\n",
      "C:\\Users\\USER\\.conda\\envs\\lec310\\lib\\site-packages\\lightgbm\\sklearn.py:598: UserWarning: 'silent' argument is deprecated and will be removed in a future release of LightGBM. Pass 'verbose' parameter via keyword arguments instead.\n",
      "  _log_warning(\"'silent' argument is deprecated and will be removed in a future release of LightGBM. \"\n",
      "C:\\Users\\USER\\.conda\\envs\\lec310\\lib\\site-packages\\lightgbm\\sklearn.py:598: UserWarning: 'silent' argument is deprecated and will be removed in a future release of LightGBM. Pass 'verbose' parameter via keyword arguments instead.\n",
      "  _log_warning(\"'silent' argument is deprecated and will be removed in a future release of LightGBM. \"\n"
     ]
    },
    {
     "name": "stdout",
     "output_type": "stream",
     "text": [
      "[CV 1/3] END learning_rate=0.01, max_depth=4, min_child_samples=50, num_leaves=31; AUC: (test=0.762) total time=   0.0s\n",
      "[CV 2/3] END learning_rate=0.01, max_depth=4, min_child_samples=50, num_leaves=31; AUC: (test=0.759) total time=   0.0s\n",
      "[CV 3/3] END learning_rate=0.01, max_depth=4, min_child_samples=50, num_leaves=31; AUC: (test=0.758) total time=   0.0s\n"
     ]
    },
    {
     "name": "stderr",
     "output_type": "stream",
     "text": [
      "C:\\Users\\USER\\.conda\\envs\\lec310\\lib\\site-packages\\lightgbm\\sklearn.py:598: UserWarning: 'silent' argument is deprecated and will be removed in a future release of LightGBM. Pass 'verbose' parameter via keyword arguments instead.\n",
      "  _log_warning(\"'silent' argument is deprecated and will be removed in a future release of LightGBM. \"\n",
      "C:\\Users\\USER\\.conda\\envs\\lec310\\lib\\site-packages\\lightgbm\\sklearn.py:598: UserWarning: 'silent' argument is deprecated and will be removed in a future release of LightGBM. Pass 'verbose' parameter via keyword arguments instead.\n",
      "  _log_warning(\"'silent' argument is deprecated and will be removed in a future release of LightGBM. \"\n",
      "C:\\Users\\USER\\.conda\\envs\\lec310\\lib\\site-packages\\lightgbm\\sklearn.py:598: UserWarning: 'silent' argument is deprecated and will be removed in a future release of LightGBM. Pass 'verbose' parameter via keyword arguments instead.\n",
      "  _log_warning(\"'silent' argument is deprecated and will be removed in a future release of LightGBM. \"\n"
     ]
    },
    {
     "name": "stdout",
     "output_type": "stream",
     "text": [
      "[CV 1/3] END learning_rate=0.01, max_depth=4, min_child_samples=50, num_leaves=63; AUC: (test=0.762) total time=   0.0s\n",
      "[CV 2/3] END learning_rate=0.01, max_depth=4, min_child_samples=50, num_leaves=63; AUC: (test=0.759) total time=   0.0s\n",
      "[CV 3/3] END learning_rate=0.01, max_depth=4, min_child_samples=50, num_leaves=63; AUC: (test=0.758) total time=   0.0s\n"
     ]
    },
    {
     "name": "stderr",
     "output_type": "stream",
     "text": [
      "C:\\Users\\USER\\.conda\\envs\\lec310\\lib\\site-packages\\lightgbm\\sklearn.py:598: UserWarning: 'silent' argument is deprecated and will be removed in a future release of LightGBM. Pass 'verbose' parameter via keyword arguments instead.\n",
      "  _log_warning(\"'silent' argument is deprecated and will be removed in a future release of LightGBM. \"\n",
      "C:\\Users\\USER\\.conda\\envs\\lec310\\lib\\site-packages\\lightgbm\\sklearn.py:598: UserWarning: 'silent' argument is deprecated and will be removed in a future release of LightGBM. Pass 'verbose' parameter via keyword arguments instead.\n",
      "  _log_warning(\"'silent' argument is deprecated and will be removed in a future release of LightGBM. \"\n",
      "C:\\Users\\USER\\.conda\\envs\\lec310\\lib\\site-packages\\lightgbm\\sklearn.py:598: UserWarning: 'silent' argument is deprecated and will be removed in a future release of LightGBM. Pass 'verbose' parameter via keyword arguments instead.\n",
      "  _log_warning(\"'silent' argument is deprecated and will be removed in a future release of LightGBM. \"\n"
     ]
    },
    {
     "name": "stdout",
     "output_type": "stream",
     "text": [
      "[CV 1/3] END learning_rate=0.01, max_depth=5, min_child_samples=1, num_leaves=15; AUC: (test=0.763) total time=   0.0s\n",
      "[CV 2/3] END learning_rate=0.01, max_depth=5, min_child_samples=1, num_leaves=15; AUC: (test=0.761) total time=   0.0s\n",
      "[CV 3/3] END learning_rate=0.01, max_depth=5, min_child_samples=1, num_leaves=15; AUC: (test=0.759) total time=   0.0s\n"
     ]
    },
    {
     "name": "stderr",
     "output_type": "stream",
     "text": [
      "C:\\Users\\USER\\.conda\\envs\\lec310\\lib\\site-packages\\lightgbm\\sklearn.py:598: UserWarning: 'silent' argument is deprecated and will be removed in a future release of LightGBM. Pass 'verbose' parameter via keyword arguments instead.\n",
      "  _log_warning(\"'silent' argument is deprecated and will be removed in a future release of LightGBM. \"\n",
      "C:\\Users\\USER\\.conda\\envs\\lec310\\lib\\site-packages\\lightgbm\\sklearn.py:598: UserWarning: 'silent' argument is deprecated and will be removed in a future release of LightGBM. Pass 'verbose' parameter via keyword arguments instead.\n",
      "  _log_warning(\"'silent' argument is deprecated and will be removed in a future release of LightGBM. \"\n",
      "C:\\Users\\USER\\.conda\\envs\\lec310\\lib\\site-packages\\lightgbm\\sklearn.py:598: UserWarning: 'silent' argument is deprecated and will be removed in a future release of LightGBM. Pass 'verbose' parameter via keyword arguments instead.\n",
      "  _log_warning(\"'silent' argument is deprecated and will be removed in a future release of LightGBM. \"\n"
     ]
    },
    {
     "name": "stdout",
     "output_type": "stream",
     "text": [
      "[CV 1/3] END learning_rate=0.01, max_depth=5, min_child_samples=1, num_leaves=31; AUC: (test=0.763) total time=   0.0s\n",
      "[CV 2/3] END learning_rate=0.01, max_depth=5, min_child_samples=1, num_leaves=31; AUC: (test=0.761) total time=   0.0s\n",
      "[CV 3/3] END learning_rate=0.01, max_depth=5, min_child_samples=1, num_leaves=31; AUC: (test=0.759) total time=   0.0s\n"
     ]
    },
    {
     "name": "stderr",
     "output_type": "stream",
     "text": [
      "C:\\Users\\USER\\.conda\\envs\\lec310\\lib\\site-packages\\lightgbm\\sklearn.py:598: UserWarning: 'silent' argument is deprecated and will be removed in a future release of LightGBM. Pass 'verbose' parameter via keyword arguments instead.\n",
      "  _log_warning(\"'silent' argument is deprecated and will be removed in a future release of LightGBM. \"\n",
      "C:\\Users\\USER\\.conda\\envs\\lec310\\lib\\site-packages\\lightgbm\\sklearn.py:598: UserWarning: 'silent' argument is deprecated and will be removed in a future release of LightGBM. Pass 'verbose' parameter via keyword arguments instead.\n",
      "  _log_warning(\"'silent' argument is deprecated and will be removed in a future release of LightGBM. \"\n",
      "C:\\Users\\USER\\.conda\\envs\\lec310\\lib\\site-packages\\lightgbm\\sklearn.py:598: UserWarning: 'silent' argument is deprecated and will be removed in a future release of LightGBM. Pass 'verbose' parameter via keyword arguments instead.\n",
      "  _log_warning(\"'silent' argument is deprecated and will be removed in a future release of LightGBM. \"\n"
     ]
    },
    {
     "name": "stdout",
     "output_type": "stream",
     "text": [
      "[CV 1/3] END learning_rate=0.01, max_depth=5, min_child_samples=1, num_leaves=63; AUC: (test=0.763) total time=   0.0s\n",
      "[CV 2/3] END learning_rate=0.01, max_depth=5, min_child_samples=1, num_leaves=63; AUC: (test=0.761) total time=   0.0s\n",
      "[CV 3/3] END learning_rate=0.01, max_depth=5, min_child_samples=1, num_leaves=63; AUC: (test=0.759) total time=   0.0s\n"
     ]
    },
    {
     "name": "stderr",
     "output_type": "stream",
     "text": [
      "C:\\Users\\USER\\.conda\\envs\\lec310\\lib\\site-packages\\lightgbm\\sklearn.py:598: UserWarning: 'silent' argument is deprecated and will be removed in a future release of LightGBM. Pass 'verbose' parameter via keyword arguments instead.\n",
      "  _log_warning(\"'silent' argument is deprecated and will be removed in a future release of LightGBM. \"\n",
      "C:\\Users\\USER\\.conda\\envs\\lec310\\lib\\site-packages\\lightgbm\\sklearn.py:598: UserWarning: 'silent' argument is deprecated and will be removed in a future release of LightGBM. Pass 'verbose' parameter via keyword arguments instead.\n",
      "  _log_warning(\"'silent' argument is deprecated and will be removed in a future release of LightGBM. \"\n",
      "C:\\Users\\USER\\.conda\\envs\\lec310\\lib\\site-packages\\lightgbm\\sklearn.py:598: UserWarning: 'silent' argument is deprecated and will be removed in a future release of LightGBM. Pass 'verbose' parameter via keyword arguments instead.\n",
      "  _log_warning(\"'silent' argument is deprecated and will be removed in a future release of LightGBM. \"\n"
     ]
    },
    {
     "name": "stdout",
     "output_type": "stream",
     "text": [
      "[CV 1/3] END learning_rate=0.01, max_depth=5, min_child_samples=20, num_leaves=15; AUC: (test=0.763) total time=   0.0s\n",
      "[CV 2/3] END learning_rate=0.01, max_depth=5, min_child_samples=20, num_leaves=15; AUC: (test=0.761) total time=   0.0s\n",
      "[CV 3/3] END learning_rate=0.01, max_depth=5, min_child_samples=20, num_leaves=15; AUC: (test=0.759) total time=   0.0s\n"
     ]
    },
    {
     "name": "stderr",
     "output_type": "stream",
     "text": [
      "C:\\Users\\USER\\.conda\\envs\\lec310\\lib\\site-packages\\lightgbm\\sklearn.py:598: UserWarning: 'silent' argument is deprecated and will be removed in a future release of LightGBM. Pass 'verbose' parameter via keyword arguments instead.\n",
      "  _log_warning(\"'silent' argument is deprecated and will be removed in a future release of LightGBM. \"\n",
      "C:\\Users\\USER\\.conda\\envs\\lec310\\lib\\site-packages\\lightgbm\\sklearn.py:598: UserWarning: 'silent' argument is deprecated and will be removed in a future release of LightGBM. Pass 'verbose' parameter via keyword arguments instead.\n",
      "  _log_warning(\"'silent' argument is deprecated and will be removed in a future release of LightGBM. \"\n",
      "C:\\Users\\USER\\.conda\\envs\\lec310\\lib\\site-packages\\lightgbm\\sklearn.py:598: UserWarning: 'silent' argument is deprecated and will be removed in a future release of LightGBM. Pass 'verbose' parameter via keyword arguments instead.\n",
      "  _log_warning(\"'silent' argument is deprecated and will be removed in a future release of LightGBM. \"\n"
     ]
    },
    {
     "name": "stdout",
     "output_type": "stream",
     "text": [
      "[CV 1/3] END learning_rate=0.01, max_depth=5, min_child_samples=20, num_leaves=31; AUC: (test=0.763) total time=   0.0s\n",
      "[CV 2/3] END learning_rate=0.01, max_depth=5, min_child_samples=20, num_leaves=31; AUC: (test=0.761) total time=   0.0s\n"
     ]
    },
    {
     "name": "stderr",
     "output_type": "stream",
     "text": [
      "C:\\Users\\USER\\.conda\\envs\\lec310\\lib\\site-packages\\lightgbm\\sklearn.py:598: UserWarning: 'silent' argument is deprecated and will be removed in a future release of LightGBM. Pass 'verbose' parameter via keyword arguments instead.\n",
      "  _log_warning(\"'silent' argument is deprecated and will be removed in a future release of LightGBM. \"\n",
      "C:\\Users\\USER\\.conda\\envs\\lec310\\lib\\site-packages\\lightgbm\\sklearn.py:598: UserWarning: 'silent' argument is deprecated and will be removed in a future release of LightGBM. Pass 'verbose' parameter via keyword arguments instead.\n",
      "  _log_warning(\"'silent' argument is deprecated and will be removed in a future release of LightGBM. \"\n"
     ]
    },
    {
     "name": "stdout",
     "output_type": "stream",
     "text": [
      "[CV 3/3] END learning_rate=0.01, max_depth=5, min_child_samples=20, num_leaves=31; AUC: (test=0.759) total time=   0.0s\n",
      "[CV 1/3] END learning_rate=0.01, max_depth=5, min_child_samples=20, num_leaves=63; AUC: (test=0.763) total time=   0.0s\n",
      "[CV 2/3] END learning_rate=0.01, max_depth=5, min_child_samples=20, num_leaves=63; AUC: (test=0.761) total time=   0.0s\n"
     ]
    },
    {
     "name": "stderr",
     "output_type": "stream",
     "text": [
      "C:\\Users\\USER\\.conda\\envs\\lec310\\lib\\site-packages\\lightgbm\\sklearn.py:598: UserWarning: 'silent' argument is deprecated and will be removed in a future release of LightGBM. Pass 'verbose' parameter via keyword arguments instead.\n",
      "  _log_warning(\"'silent' argument is deprecated and will be removed in a future release of LightGBM. \"\n",
      "C:\\Users\\USER\\.conda\\envs\\lec310\\lib\\site-packages\\lightgbm\\sklearn.py:598: UserWarning: 'silent' argument is deprecated and will be removed in a future release of LightGBM. Pass 'verbose' parameter via keyword arguments instead.\n",
      "  _log_warning(\"'silent' argument is deprecated and will be removed in a future release of LightGBM. \"\n",
      "C:\\Users\\USER\\.conda\\envs\\lec310\\lib\\site-packages\\lightgbm\\sklearn.py:598: UserWarning: 'silent' argument is deprecated and will be removed in a future release of LightGBM. Pass 'verbose' parameter via keyword arguments instead.\n",
      "  _log_warning(\"'silent' argument is deprecated and will be removed in a future release of LightGBM. \"\n"
     ]
    },
    {
     "name": "stdout",
     "output_type": "stream",
     "text": [
      "[CV 3/3] END learning_rate=0.01, max_depth=5, min_child_samples=20, num_leaves=63; AUC: (test=0.759) total time=   0.0s\n",
      "[CV 1/3] END learning_rate=0.01, max_depth=5, min_child_samples=50, num_leaves=15; AUC: (test=0.763) total time=   0.0s\n",
      "[CV 2/3] END learning_rate=0.01, max_depth=5, min_child_samples=50, num_leaves=15; AUC: (test=0.760) total time=   0.0s\n"
     ]
    },
    {
     "name": "stderr",
     "output_type": "stream",
     "text": [
      "C:\\Users\\USER\\.conda\\envs\\lec310\\lib\\site-packages\\lightgbm\\sklearn.py:598: UserWarning: 'silent' argument is deprecated and will be removed in a future release of LightGBM. Pass 'verbose' parameter via keyword arguments instead.\n",
      "  _log_warning(\"'silent' argument is deprecated and will be removed in a future release of LightGBM. \"\n",
      "C:\\Users\\USER\\.conda\\envs\\lec310\\lib\\site-packages\\lightgbm\\sklearn.py:598: UserWarning: 'silent' argument is deprecated and will be removed in a future release of LightGBM. Pass 'verbose' parameter via keyword arguments instead.\n",
      "  _log_warning(\"'silent' argument is deprecated and will be removed in a future release of LightGBM. \"\n",
      "C:\\Users\\USER\\.conda\\envs\\lec310\\lib\\site-packages\\lightgbm\\sklearn.py:598: UserWarning: 'silent' argument is deprecated and will be removed in a future release of LightGBM. Pass 'verbose' parameter via keyword arguments instead.\n",
      "  _log_warning(\"'silent' argument is deprecated and will be removed in a future release of LightGBM. \"\n",
      "C:\\Users\\USER\\.conda\\envs\\lec310\\lib\\site-packages\\lightgbm\\sklearn.py:598: UserWarning: 'silent' argument is deprecated and will be removed in a future release of LightGBM. Pass 'verbose' parameter via keyword arguments instead.\n",
      "  _log_warning(\"'silent' argument is deprecated and will be removed in a future release of LightGBM. \"\n",
      "C:\\Users\\USER\\.conda\\envs\\lec310\\lib\\site-packages\\lightgbm\\sklearn.py:598: UserWarning: 'silent' argument is deprecated and will be removed in a future release of LightGBM. Pass 'verbose' parameter via keyword arguments instead.\n",
      "  _log_warning(\"'silent' argument is deprecated and will be removed in a future release of LightGBM. \"\n"
     ]
    },
    {
     "name": "stdout",
     "output_type": "stream",
     "text": [
      "[CV 3/3] END learning_rate=0.01, max_depth=5, min_child_samples=50, num_leaves=15; AUC: (test=0.759) total time=   0.0s\n",
      "[CV 1/3] END learning_rate=0.01, max_depth=5, min_child_samples=50, num_leaves=31; AUC: (test=0.763) total time=   0.0s\n",
      "[CV 2/3] END learning_rate=0.01, max_depth=5, min_child_samples=50, num_leaves=31; AUC: (test=0.760) total time=   0.0s\n"
     ]
    },
    {
     "name": "stderr",
     "output_type": "stream",
     "text": [
      "C:\\Users\\USER\\.conda\\envs\\lec310\\lib\\site-packages\\lightgbm\\sklearn.py:598: UserWarning: 'silent' argument is deprecated and will be removed in a future release of LightGBM. Pass 'verbose' parameter via keyword arguments instead.\n",
      "  _log_warning(\"'silent' argument is deprecated and will be removed in a future release of LightGBM. \"\n",
      "C:\\Users\\USER\\.conda\\envs\\lec310\\lib\\site-packages\\lightgbm\\sklearn.py:598: UserWarning: 'silent' argument is deprecated and will be removed in a future release of LightGBM. Pass 'verbose' parameter via keyword arguments instead.\n",
      "  _log_warning(\"'silent' argument is deprecated and will be removed in a future release of LightGBM. \"\n"
     ]
    },
    {
     "name": "stdout",
     "output_type": "stream",
     "text": [
      "[CV 3/3] END learning_rate=0.01, max_depth=5, min_child_samples=50, num_leaves=31; AUC: (test=0.759) total time=   0.0s\n",
      "[CV 1/3] END learning_rate=0.01, max_depth=5, min_child_samples=50, num_leaves=63; AUC: (test=0.763) total time=   0.0s\n",
      "[CV 2/3] END learning_rate=0.01, max_depth=5, min_child_samples=50, num_leaves=63; AUC: (test=0.760) total time=   0.0s\n"
     ]
    },
    {
     "name": "stderr",
     "output_type": "stream",
     "text": [
      "C:\\Users\\USER\\.conda\\envs\\lec310\\lib\\site-packages\\lightgbm\\sklearn.py:598: UserWarning: 'silent' argument is deprecated and will be removed in a future release of LightGBM. Pass 'verbose' parameter via keyword arguments instead.\n",
      "  _log_warning(\"'silent' argument is deprecated and will be removed in a future release of LightGBM. \"\n",
      "C:\\Users\\USER\\.conda\\envs\\lec310\\lib\\site-packages\\lightgbm\\sklearn.py:598: UserWarning: 'silent' argument is deprecated and will be removed in a future release of LightGBM. Pass 'verbose' parameter via keyword arguments instead.\n",
      "  _log_warning(\"'silent' argument is deprecated and will be removed in a future release of LightGBM. \"\n"
     ]
    },
    {
     "name": "stdout",
     "output_type": "stream",
     "text": [
      "[CV 3/3] END learning_rate=0.01, max_depth=5, min_child_samples=50, num_leaves=63; AUC: (test=0.759) total time=   0.0s\n",
      "[CV 1/3] END learning_rate=0.1, max_depth=3, min_child_samples=1, num_leaves=15; AUC: (test=0.785) total time=   0.0s\n",
      "[CV 2/3] END learning_rate=0.1, max_depth=3, min_child_samples=1, num_leaves=15; AUC: (test=0.782) total time=   0.0s\n"
     ]
    },
    {
     "name": "stderr",
     "output_type": "stream",
     "text": [
      "C:\\Users\\USER\\.conda\\envs\\lec310\\lib\\site-packages\\lightgbm\\sklearn.py:598: UserWarning: 'silent' argument is deprecated and will be removed in a future release of LightGBM. Pass 'verbose' parameter via keyword arguments instead.\n",
      "  _log_warning(\"'silent' argument is deprecated and will be removed in a future release of LightGBM. \"\n",
      "C:\\Users\\USER\\.conda\\envs\\lec310\\lib\\site-packages\\lightgbm\\sklearn.py:598: UserWarning: 'silent' argument is deprecated and will be removed in a future release of LightGBM. Pass 'verbose' parameter via keyword arguments instead.\n",
      "  _log_warning(\"'silent' argument is deprecated and will be removed in a future release of LightGBM. \"\n",
      "C:\\Users\\USER\\.conda\\envs\\lec310\\lib\\site-packages\\lightgbm\\sklearn.py:598: UserWarning: 'silent' argument is deprecated and will be removed in a future release of LightGBM. Pass 'verbose' parameter via keyword arguments instead.\n",
      "  _log_warning(\"'silent' argument is deprecated and will be removed in a future release of LightGBM. \"\n"
     ]
    },
    {
     "name": "stdout",
     "output_type": "stream",
     "text": [
      "[CV 3/3] END learning_rate=0.1, max_depth=3, min_child_samples=1, num_leaves=15; AUC: (test=0.781) total time=   0.0s\n",
      "[CV 1/3] END learning_rate=0.1, max_depth=3, min_child_samples=1, num_leaves=31; AUC: (test=0.785) total time=   0.0s\n",
      "[CV 2/3] END learning_rate=0.1, max_depth=3, min_child_samples=1, num_leaves=31; AUC: (test=0.782) total time=   0.0s\n"
     ]
    },
    {
     "name": "stderr",
     "output_type": "stream",
     "text": [
      "C:\\Users\\USER\\.conda\\envs\\lec310\\lib\\site-packages\\lightgbm\\sklearn.py:598: UserWarning: 'silent' argument is deprecated and will be removed in a future release of LightGBM. Pass 'verbose' parameter via keyword arguments instead.\n",
      "  _log_warning(\"'silent' argument is deprecated and will be removed in a future release of LightGBM. \"\n",
      "C:\\Users\\USER\\.conda\\envs\\lec310\\lib\\site-packages\\lightgbm\\sklearn.py:598: UserWarning: 'silent' argument is deprecated and will be removed in a future release of LightGBM. Pass 'verbose' parameter via keyword arguments instead.\n",
      "  _log_warning(\"'silent' argument is deprecated and will be removed in a future release of LightGBM. \"\n",
      "C:\\Users\\USER\\.conda\\envs\\lec310\\lib\\site-packages\\lightgbm\\sklearn.py:598: UserWarning: 'silent' argument is deprecated and will be removed in a future release of LightGBM. Pass 'verbose' parameter via keyword arguments instead.\n",
      "  _log_warning(\"'silent' argument is deprecated and will be removed in a future release of LightGBM. \"\n"
     ]
    },
    {
     "name": "stdout",
     "output_type": "stream",
     "text": [
      "[CV 3/3] END learning_rate=0.1, max_depth=3, min_child_samples=1, num_leaves=31; AUC: (test=0.781) total time=   0.0s\n",
      "[CV 1/3] END learning_rate=0.1, max_depth=3, min_child_samples=1, num_leaves=63; AUC: (test=0.785) total time=   0.0s\n",
      "[CV 2/3] END learning_rate=0.1, max_depth=3, min_child_samples=1, num_leaves=63; AUC: (test=0.782) total time=   0.0s\n"
     ]
    },
    {
     "name": "stderr",
     "output_type": "stream",
     "text": [
      "C:\\Users\\USER\\.conda\\envs\\lec310\\lib\\site-packages\\lightgbm\\sklearn.py:598: UserWarning: 'silent' argument is deprecated and will be removed in a future release of LightGBM. Pass 'verbose' parameter via keyword arguments instead.\n",
      "  _log_warning(\"'silent' argument is deprecated and will be removed in a future release of LightGBM. \"\n",
      "C:\\Users\\USER\\.conda\\envs\\lec310\\lib\\site-packages\\lightgbm\\sklearn.py:598: UserWarning: 'silent' argument is deprecated and will be removed in a future release of LightGBM. Pass 'verbose' parameter via keyword arguments instead.\n",
      "  _log_warning(\"'silent' argument is deprecated and will be removed in a future release of LightGBM. \"\n",
      "C:\\Users\\USER\\.conda\\envs\\lec310\\lib\\site-packages\\lightgbm\\sklearn.py:598: UserWarning: 'silent' argument is deprecated and will be removed in a future release of LightGBM. Pass 'verbose' parameter via keyword arguments instead.\n",
      "  _log_warning(\"'silent' argument is deprecated and will be removed in a future release of LightGBM. \"\n"
     ]
    },
    {
     "name": "stdout",
     "output_type": "stream",
     "text": [
      "[CV 3/3] END learning_rate=0.1, max_depth=3, min_child_samples=1, num_leaves=63; AUC: (test=0.781) total time=   0.0s\n",
      "[CV 1/3] END learning_rate=0.1, max_depth=3, min_child_samples=20, num_leaves=15; AUC: (test=0.785) total time=   0.0s\n",
      "[CV 2/3] END learning_rate=0.1, max_depth=3, min_child_samples=20, num_leaves=15; AUC: (test=0.782) total time=   0.0s\n"
     ]
    },
    {
     "name": "stderr",
     "output_type": "stream",
     "text": [
      "C:\\Users\\USER\\.conda\\envs\\lec310\\lib\\site-packages\\lightgbm\\sklearn.py:598: UserWarning: 'silent' argument is deprecated and will be removed in a future release of LightGBM. Pass 'verbose' parameter via keyword arguments instead.\n",
      "  _log_warning(\"'silent' argument is deprecated and will be removed in a future release of LightGBM. \"\n",
      "C:\\Users\\USER\\.conda\\envs\\lec310\\lib\\site-packages\\lightgbm\\sklearn.py:598: UserWarning: 'silent' argument is deprecated and will be removed in a future release of LightGBM. Pass 'verbose' parameter via keyword arguments instead.\n",
      "  _log_warning(\"'silent' argument is deprecated and will be removed in a future release of LightGBM. \"\n",
      "C:\\Users\\USER\\.conda\\envs\\lec310\\lib\\site-packages\\lightgbm\\sklearn.py:598: UserWarning: 'silent' argument is deprecated and will be removed in a future release of LightGBM. Pass 'verbose' parameter via keyword arguments instead.\n",
      "  _log_warning(\"'silent' argument is deprecated and will be removed in a future release of LightGBM. \"\n"
     ]
    },
    {
     "name": "stdout",
     "output_type": "stream",
     "text": [
      "[CV 3/3] END learning_rate=0.1, max_depth=3, min_child_samples=20, num_leaves=15; AUC: (test=0.781) total time=   0.0s\n",
      "[CV 1/3] END learning_rate=0.1, max_depth=3, min_child_samples=20, num_leaves=31; AUC: (test=0.785) total time=   0.0s\n",
      "[CV 2/3] END learning_rate=0.1, max_depth=3, min_child_samples=20, num_leaves=31; AUC: (test=0.782) total time=   0.0s\n"
     ]
    },
    {
     "name": "stderr",
     "output_type": "stream",
     "text": [
      "C:\\Users\\USER\\.conda\\envs\\lec310\\lib\\site-packages\\lightgbm\\sklearn.py:598: UserWarning: 'silent' argument is deprecated and will be removed in a future release of LightGBM. Pass 'verbose' parameter via keyword arguments instead.\n",
      "  _log_warning(\"'silent' argument is deprecated and will be removed in a future release of LightGBM. \"\n",
      "C:\\Users\\USER\\.conda\\envs\\lec310\\lib\\site-packages\\lightgbm\\sklearn.py:598: UserWarning: 'silent' argument is deprecated and will be removed in a future release of LightGBM. Pass 'verbose' parameter via keyword arguments instead.\n",
      "  _log_warning(\"'silent' argument is deprecated and will be removed in a future release of LightGBM. \"\n",
      "C:\\Users\\USER\\.conda\\envs\\lec310\\lib\\site-packages\\lightgbm\\sklearn.py:598: UserWarning: 'silent' argument is deprecated and will be removed in a future release of LightGBM. Pass 'verbose' parameter via keyword arguments instead.\n",
      "  _log_warning(\"'silent' argument is deprecated and will be removed in a future release of LightGBM. \"\n"
     ]
    },
    {
     "name": "stdout",
     "output_type": "stream",
     "text": [
      "[CV 3/3] END learning_rate=0.1, max_depth=3, min_child_samples=20, num_leaves=31; AUC: (test=0.781) total time=   0.0s\n",
      "[CV 1/3] END learning_rate=0.1, max_depth=3, min_child_samples=20, num_leaves=63; AUC: (test=0.785) total time=   0.0s\n",
      "[CV 2/3] END learning_rate=0.1, max_depth=3, min_child_samples=20, num_leaves=63; AUC: (test=0.782) total time=   0.0s\n"
     ]
    },
    {
     "name": "stderr",
     "output_type": "stream",
     "text": [
      "C:\\Users\\USER\\.conda\\envs\\lec310\\lib\\site-packages\\lightgbm\\sklearn.py:598: UserWarning: 'silent' argument is deprecated and will be removed in a future release of LightGBM. Pass 'verbose' parameter via keyword arguments instead.\n",
      "  _log_warning(\"'silent' argument is deprecated and will be removed in a future release of LightGBM. \"\n",
      "C:\\Users\\USER\\.conda\\envs\\lec310\\lib\\site-packages\\lightgbm\\sklearn.py:598: UserWarning: 'silent' argument is deprecated and will be removed in a future release of LightGBM. Pass 'verbose' parameter via keyword arguments instead.\n",
      "  _log_warning(\"'silent' argument is deprecated and will be removed in a future release of LightGBM. \"\n",
      "C:\\Users\\USER\\.conda\\envs\\lec310\\lib\\site-packages\\lightgbm\\sklearn.py:598: UserWarning: 'silent' argument is deprecated and will be removed in a future release of LightGBM. Pass 'verbose' parameter via keyword arguments instead.\n",
      "  _log_warning(\"'silent' argument is deprecated and will be removed in a future release of LightGBM. \"\n"
     ]
    },
    {
     "name": "stdout",
     "output_type": "stream",
     "text": [
      "[CV 3/3] END learning_rate=0.1, max_depth=3, min_child_samples=20, num_leaves=63; AUC: (test=0.781) total time=   0.0s\n",
      "[CV 1/3] END learning_rate=0.1, max_depth=3, min_child_samples=50, num_leaves=15; AUC: (test=0.785) total time=   0.0s\n",
      "[CV 2/3] END learning_rate=0.1, max_depth=3, min_child_samples=50, num_leaves=15; AUC: (test=0.782) total time=   0.0s\n"
     ]
    },
    {
     "name": "stderr",
     "output_type": "stream",
     "text": [
      "C:\\Users\\USER\\.conda\\envs\\lec310\\lib\\site-packages\\lightgbm\\sklearn.py:598: UserWarning: 'silent' argument is deprecated and will be removed in a future release of LightGBM. Pass 'verbose' parameter via keyword arguments instead.\n",
      "  _log_warning(\"'silent' argument is deprecated and will be removed in a future release of LightGBM. \"\n",
      "C:\\Users\\USER\\.conda\\envs\\lec310\\lib\\site-packages\\lightgbm\\sklearn.py:598: UserWarning: 'silent' argument is deprecated and will be removed in a future release of LightGBM. Pass 'verbose' parameter via keyword arguments instead.\n",
      "  _log_warning(\"'silent' argument is deprecated and will be removed in a future release of LightGBM. \"\n",
      "C:\\Users\\USER\\.conda\\envs\\lec310\\lib\\site-packages\\lightgbm\\sklearn.py:598: UserWarning: 'silent' argument is deprecated and will be removed in a future release of LightGBM. Pass 'verbose' parameter via keyword arguments instead.\n",
      "  _log_warning(\"'silent' argument is deprecated and will be removed in a future release of LightGBM. \"\n"
     ]
    },
    {
     "name": "stdout",
     "output_type": "stream",
     "text": [
      "[CV 3/3] END learning_rate=0.1, max_depth=3, min_child_samples=50, num_leaves=15; AUC: (test=0.781) total time=   0.0s\n",
      "[CV 1/3] END learning_rate=0.1, max_depth=3, min_child_samples=50, num_leaves=31; AUC: (test=0.785) total time=   0.0s\n",
      "[CV 2/3] END learning_rate=0.1, max_depth=3, min_child_samples=50, num_leaves=31; AUC: (test=0.782) total time=   0.0s\n"
     ]
    },
    {
     "name": "stderr",
     "output_type": "stream",
     "text": [
      "C:\\Users\\USER\\.conda\\envs\\lec310\\lib\\site-packages\\lightgbm\\sklearn.py:598: UserWarning: 'silent' argument is deprecated and will be removed in a future release of LightGBM. Pass 'verbose' parameter via keyword arguments instead.\n",
      "  _log_warning(\"'silent' argument is deprecated and will be removed in a future release of LightGBM. \"\n",
      "C:\\Users\\USER\\.conda\\envs\\lec310\\lib\\site-packages\\lightgbm\\sklearn.py:598: UserWarning: 'silent' argument is deprecated and will be removed in a future release of LightGBM. Pass 'verbose' parameter via keyword arguments instead.\n",
      "  _log_warning(\"'silent' argument is deprecated and will be removed in a future release of LightGBM. \"\n",
      "C:\\Users\\USER\\.conda\\envs\\lec310\\lib\\site-packages\\lightgbm\\sklearn.py:598: UserWarning: 'silent' argument is deprecated and will be removed in a future release of LightGBM. Pass 'verbose' parameter via keyword arguments instead.\n",
      "  _log_warning(\"'silent' argument is deprecated and will be removed in a future release of LightGBM. \"\n"
     ]
    },
    {
     "name": "stdout",
     "output_type": "stream",
     "text": [
      "[CV 3/3] END learning_rate=0.1, max_depth=3, min_child_samples=50, num_leaves=31; AUC: (test=0.781) total time=   0.0s\n",
      "[CV 1/3] END learning_rate=0.1, max_depth=3, min_child_samples=50, num_leaves=63; AUC: (test=0.785) total time=   0.0s\n",
      "[CV 2/3] END learning_rate=0.1, max_depth=3, min_child_samples=50, num_leaves=63; AUC: (test=0.782) total time=   0.0s\n"
     ]
    },
    {
     "name": "stderr",
     "output_type": "stream",
     "text": [
      "C:\\Users\\USER\\.conda\\envs\\lec310\\lib\\site-packages\\lightgbm\\sklearn.py:598: UserWarning: 'silent' argument is deprecated and will be removed in a future release of LightGBM. Pass 'verbose' parameter via keyword arguments instead.\n",
      "  _log_warning(\"'silent' argument is deprecated and will be removed in a future release of LightGBM. \"\n",
      "C:\\Users\\USER\\.conda\\envs\\lec310\\lib\\site-packages\\lightgbm\\sklearn.py:598: UserWarning: 'silent' argument is deprecated and will be removed in a future release of LightGBM. Pass 'verbose' parameter via keyword arguments instead.\n",
      "  _log_warning(\"'silent' argument is deprecated and will be removed in a future release of LightGBM. \"\n",
      "C:\\Users\\USER\\.conda\\envs\\lec310\\lib\\site-packages\\lightgbm\\sklearn.py:598: UserWarning: 'silent' argument is deprecated and will be removed in a future release of LightGBM. Pass 'verbose' parameter via keyword arguments instead.\n",
      "  _log_warning(\"'silent' argument is deprecated and will be removed in a future release of LightGBM. \"\n"
     ]
    },
    {
     "name": "stdout",
     "output_type": "stream",
     "text": [
      "[CV 3/3] END learning_rate=0.1, max_depth=3, min_child_samples=50, num_leaves=63; AUC: (test=0.781) total time=   0.0s\n",
      "[CV 1/3] END learning_rate=0.1, max_depth=4, min_child_samples=1, num_leaves=15; AUC: (test=0.786) total time=   0.0s\n",
      "[CV 2/3] END learning_rate=0.1, max_depth=4, min_child_samples=1, num_leaves=15; AUC: (test=0.784) total time=   0.0s\n"
     ]
    },
    {
     "name": "stderr",
     "output_type": "stream",
     "text": [
      "C:\\Users\\USER\\.conda\\envs\\lec310\\lib\\site-packages\\lightgbm\\sklearn.py:598: UserWarning: 'silent' argument is deprecated and will be removed in a future release of LightGBM. Pass 'verbose' parameter via keyword arguments instead.\n",
      "  _log_warning(\"'silent' argument is deprecated and will be removed in a future release of LightGBM. \"\n",
      "C:\\Users\\USER\\.conda\\envs\\lec310\\lib\\site-packages\\lightgbm\\sklearn.py:598: UserWarning: 'silent' argument is deprecated and will be removed in a future release of LightGBM. Pass 'verbose' parameter via keyword arguments instead.\n",
      "  _log_warning(\"'silent' argument is deprecated and will be removed in a future release of LightGBM. \"\n",
      "C:\\Users\\USER\\.conda\\envs\\lec310\\lib\\site-packages\\lightgbm\\sklearn.py:598: UserWarning: 'silent' argument is deprecated and will be removed in a future release of LightGBM. Pass 'verbose' parameter via keyword arguments instead.\n",
      "  _log_warning(\"'silent' argument is deprecated and will be removed in a future release of LightGBM. \"\n"
     ]
    },
    {
     "name": "stdout",
     "output_type": "stream",
     "text": [
      "[CV 3/3] END learning_rate=0.1, max_depth=4, min_child_samples=1, num_leaves=15; AUC: (test=0.782) total time=   0.0s\n",
      "[CV 1/3] END learning_rate=0.1, max_depth=4, min_child_samples=1, num_leaves=31; AUC: (test=0.786) total time=   0.0s\n",
      "[CV 2/3] END learning_rate=0.1, max_depth=4, min_child_samples=1, num_leaves=31; AUC: (test=0.784) total time=   0.0s\n"
     ]
    },
    {
     "name": "stderr",
     "output_type": "stream",
     "text": [
      "C:\\Users\\USER\\.conda\\envs\\lec310\\lib\\site-packages\\lightgbm\\sklearn.py:598: UserWarning: 'silent' argument is deprecated and will be removed in a future release of LightGBM. Pass 'verbose' parameter via keyword arguments instead.\n",
      "  _log_warning(\"'silent' argument is deprecated and will be removed in a future release of LightGBM. \"\n",
      "C:\\Users\\USER\\.conda\\envs\\lec310\\lib\\site-packages\\lightgbm\\sklearn.py:598: UserWarning: 'silent' argument is deprecated and will be removed in a future release of LightGBM. Pass 'verbose' parameter via keyword arguments instead.\n",
      "  _log_warning(\"'silent' argument is deprecated and will be removed in a future release of LightGBM. \"\n",
      "C:\\Users\\USER\\.conda\\envs\\lec310\\lib\\site-packages\\lightgbm\\sklearn.py:598: UserWarning: 'silent' argument is deprecated and will be removed in a future release of LightGBM. Pass 'verbose' parameter via keyword arguments instead.\n",
      "  _log_warning(\"'silent' argument is deprecated and will be removed in a future release of LightGBM. \"\n"
     ]
    },
    {
     "name": "stdout",
     "output_type": "stream",
     "text": [
      "[CV 3/3] END learning_rate=0.1, max_depth=4, min_child_samples=1, num_leaves=31; AUC: (test=0.782) total time=   0.0s\n",
      "[CV 1/3] END learning_rate=0.1, max_depth=4, min_child_samples=1, num_leaves=63; AUC: (test=0.786) total time=   0.0s\n",
      "[CV 2/3] END learning_rate=0.1, max_depth=4, min_child_samples=1, num_leaves=63; AUC: (test=0.784) total time=   0.0s\n"
     ]
    },
    {
     "name": "stderr",
     "output_type": "stream",
     "text": [
      "C:\\Users\\USER\\.conda\\envs\\lec310\\lib\\site-packages\\lightgbm\\sklearn.py:598: UserWarning: 'silent' argument is deprecated and will be removed in a future release of LightGBM. Pass 'verbose' parameter via keyword arguments instead.\n",
      "  _log_warning(\"'silent' argument is deprecated and will be removed in a future release of LightGBM. \"\n",
      "C:\\Users\\USER\\.conda\\envs\\lec310\\lib\\site-packages\\lightgbm\\sklearn.py:598: UserWarning: 'silent' argument is deprecated and will be removed in a future release of LightGBM. Pass 'verbose' parameter via keyword arguments instead.\n",
      "  _log_warning(\"'silent' argument is deprecated and will be removed in a future release of LightGBM. \"\n",
      "C:\\Users\\USER\\.conda\\envs\\lec310\\lib\\site-packages\\lightgbm\\sklearn.py:598: UserWarning: 'silent' argument is deprecated and will be removed in a future release of LightGBM. Pass 'verbose' parameter via keyword arguments instead.\n",
      "  _log_warning(\"'silent' argument is deprecated and will be removed in a future release of LightGBM. \"\n"
     ]
    },
    {
     "name": "stdout",
     "output_type": "stream",
     "text": [
      "[CV 3/3] END learning_rate=0.1, max_depth=4, min_child_samples=1, num_leaves=63; AUC: (test=0.782) total time=   0.0s\n",
      "[CV 1/3] END learning_rate=0.1, max_depth=4, min_child_samples=20, num_leaves=15; AUC: (test=0.786) total time=   0.0s\n",
      "[CV 2/3] END learning_rate=0.1, max_depth=4, min_child_samples=20, num_leaves=15; AUC: (test=0.784) total time=   0.0s\n"
     ]
    },
    {
     "name": "stderr",
     "output_type": "stream",
     "text": [
      "C:\\Users\\USER\\.conda\\envs\\lec310\\lib\\site-packages\\lightgbm\\sklearn.py:598: UserWarning: 'silent' argument is deprecated and will be removed in a future release of LightGBM. Pass 'verbose' parameter via keyword arguments instead.\n",
      "  _log_warning(\"'silent' argument is deprecated and will be removed in a future release of LightGBM. \"\n",
      "C:\\Users\\USER\\.conda\\envs\\lec310\\lib\\site-packages\\lightgbm\\sklearn.py:598: UserWarning: 'silent' argument is deprecated and will be removed in a future release of LightGBM. Pass 'verbose' parameter via keyword arguments instead.\n",
      "  _log_warning(\"'silent' argument is deprecated and will be removed in a future release of LightGBM. \"\n",
      "C:\\Users\\USER\\.conda\\envs\\lec310\\lib\\site-packages\\lightgbm\\sklearn.py:598: UserWarning: 'silent' argument is deprecated and will be removed in a future release of LightGBM. Pass 'verbose' parameter via keyword arguments instead.\n",
      "  _log_warning(\"'silent' argument is deprecated and will be removed in a future release of LightGBM. \"\n",
      "C:\\Users\\USER\\.conda\\envs\\lec310\\lib\\site-packages\\lightgbm\\sklearn.py:598: UserWarning: 'silent' argument is deprecated and will be removed in a future release of LightGBM. Pass 'verbose' parameter via keyword arguments instead.\n",
      "  _log_warning(\"'silent' argument is deprecated and will be removed in a future release of LightGBM. \"\n",
      "C:\\Users\\USER\\.conda\\envs\\lec310\\lib\\site-packages\\lightgbm\\sklearn.py:598: UserWarning: 'silent' argument is deprecated and will be removed in a future release of LightGBM. Pass 'verbose' parameter via keyword arguments instead.\n",
      "  _log_warning(\"'silent' argument is deprecated and will be removed in a future release of LightGBM. \"\n"
     ]
    },
    {
     "name": "stdout",
     "output_type": "stream",
     "text": [
      "[CV 3/3] END learning_rate=0.1, max_depth=4, min_child_samples=20, num_leaves=15; AUC: (test=0.782) total time=   0.0s\n",
      "[CV 1/3] END learning_rate=0.1, max_depth=4, min_child_samples=20, num_leaves=31; AUC: (test=0.786) total time=   0.0s\n",
      "[CV 2/3] END learning_rate=0.1, max_depth=4, min_child_samples=20, num_leaves=31; AUC: (test=0.784) total time=   0.0s\n"
     ]
    },
    {
     "name": "stderr",
     "output_type": "stream",
     "text": [
      "C:\\Users\\USER\\.conda\\envs\\lec310\\lib\\site-packages\\lightgbm\\sklearn.py:598: UserWarning: 'silent' argument is deprecated and will be removed in a future release of LightGBM. Pass 'verbose' parameter via keyword arguments instead.\n",
      "  _log_warning(\"'silent' argument is deprecated and will be removed in a future release of LightGBM. \"\n",
      "C:\\Users\\USER\\.conda\\envs\\lec310\\lib\\site-packages\\lightgbm\\sklearn.py:598: UserWarning: 'silent' argument is deprecated and will be removed in a future release of LightGBM. Pass 'verbose' parameter via keyword arguments instead.\n",
      "  _log_warning(\"'silent' argument is deprecated and will be removed in a future release of LightGBM. \"\n",
      "C:\\Users\\USER\\.conda\\envs\\lec310\\lib\\site-packages\\lightgbm\\sklearn.py:598: UserWarning: 'silent' argument is deprecated and will be removed in a future release of LightGBM. Pass 'verbose' parameter via keyword arguments instead.\n",
      "  _log_warning(\"'silent' argument is deprecated and will be removed in a future release of LightGBM. \"\n"
     ]
    },
    {
     "name": "stdout",
     "output_type": "stream",
     "text": [
      "[CV 3/3] END learning_rate=0.1, max_depth=4, min_child_samples=20, num_leaves=31; AUC: (test=0.782) total time=   0.0s\n",
      "[CV 1/3] END learning_rate=0.1, max_depth=4, min_child_samples=20, num_leaves=63; AUC: (test=0.786) total time=   0.0s\n",
      "[CV 2/3] END learning_rate=0.1, max_depth=4, min_child_samples=20, num_leaves=63; AUC: (test=0.784) total time=   0.0s\n",
      "[CV 3/3] END learning_rate=0.1, max_depth=4, min_child_samples=20, num_leaves=63; AUC: (test=0.782) total time=   0.0s\n",
      "[CV 1/3] END learning_rate=0.1, max_depth=4, min_child_samples=50, num_leaves=15; AUC: (test=0.786) total time=   0.0s\n"
     ]
    },
    {
     "name": "stderr",
     "output_type": "stream",
     "text": [
      "C:\\Users\\USER\\.conda\\envs\\lec310\\lib\\site-packages\\lightgbm\\sklearn.py:598: UserWarning: 'silent' argument is deprecated and will be removed in a future release of LightGBM. Pass 'verbose' parameter via keyword arguments instead.\n",
      "  _log_warning(\"'silent' argument is deprecated and will be removed in a future release of LightGBM. \"\n",
      "C:\\Users\\USER\\.conda\\envs\\lec310\\lib\\site-packages\\lightgbm\\sklearn.py:598: UserWarning: 'silent' argument is deprecated and will be removed in a future release of LightGBM. Pass 'verbose' parameter via keyword arguments instead.\n",
      "  _log_warning(\"'silent' argument is deprecated and will be removed in a future release of LightGBM. \"\n",
      "C:\\Users\\USER\\.conda\\envs\\lec310\\lib\\site-packages\\lightgbm\\sklearn.py:598: UserWarning: 'silent' argument is deprecated and will be removed in a future release of LightGBM. Pass 'verbose' parameter via keyword arguments instead.\n",
      "  _log_warning(\"'silent' argument is deprecated and will be removed in a future release of LightGBM. \"\n"
     ]
    },
    {
     "name": "stdout",
     "output_type": "stream",
     "text": [
      "[CV 2/3] END learning_rate=0.1, max_depth=4, min_child_samples=50, num_leaves=15; AUC: (test=0.785) total time=   0.0s\n",
      "[CV 3/3] END learning_rate=0.1, max_depth=4, min_child_samples=50, num_leaves=15; AUC: (test=0.782) total time=   0.0s\n"
     ]
    },
    {
     "name": "stderr",
     "output_type": "stream",
     "text": [
      "C:\\Users\\USER\\.conda\\envs\\lec310\\lib\\site-packages\\lightgbm\\sklearn.py:598: UserWarning: 'silent' argument is deprecated and will be removed in a future release of LightGBM. Pass 'verbose' parameter via keyword arguments instead.\n",
      "  _log_warning(\"'silent' argument is deprecated and will be removed in a future release of LightGBM. \"\n",
      "C:\\Users\\USER\\.conda\\envs\\lec310\\lib\\site-packages\\lightgbm\\sklearn.py:598: UserWarning: 'silent' argument is deprecated and will be removed in a future release of LightGBM. Pass 'verbose' parameter via keyword arguments instead.\n",
      "  _log_warning(\"'silent' argument is deprecated and will be removed in a future release of LightGBM. \"\n"
     ]
    },
    {
     "name": "stdout",
     "output_type": "stream",
     "text": [
      "[CV 1/3] END learning_rate=0.1, max_depth=4, min_child_samples=50, num_leaves=31; AUC: (test=0.786) total time=   0.0s\n",
      "[CV 2/3] END learning_rate=0.1, max_depth=4, min_child_samples=50, num_leaves=31; AUC: (test=0.785) total time=   0.0s\n"
     ]
    },
    {
     "name": "stderr",
     "output_type": "stream",
     "text": [
      "C:\\Users\\USER\\.conda\\envs\\lec310\\lib\\site-packages\\lightgbm\\sklearn.py:598: UserWarning: 'silent' argument is deprecated and will be removed in a future release of LightGBM. Pass 'verbose' parameter via keyword arguments instead.\n",
      "  _log_warning(\"'silent' argument is deprecated and will be removed in a future release of LightGBM. \"\n",
      "C:\\Users\\USER\\.conda\\envs\\lec310\\lib\\site-packages\\lightgbm\\sklearn.py:598: UserWarning: 'silent' argument is deprecated and will be removed in a future release of LightGBM. Pass 'verbose' parameter via keyword arguments instead.\n",
      "  _log_warning(\"'silent' argument is deprecated and will be removed in a future release of LightGBM. \"\n"
     ]
    },
    {
     "name": "stdout",
     "output_type": "stream",
     "text": [
      "[CV 3/3] END learning_rate=0.1, max_depth=4, min_child_samples=50, num_leaves=31; AUC: (test=0.782) total time=   0.0s\n",
      "[CV 1/3] END learning_rate=0.1, max_depth=4, min_child_samples=50, num_leaves=63; AUC: (test=0.786) total time=   0.0s\n"
     ]
    },
    {
     "name": "stderr",
     "output_type": "stream",
     "text": [
      "C:\\Users\\USER\\.conda\\envs\\lec310\\lib\\site-packages\\lightgbm\\sklearn.py:598: UserWarning: 'silent' argument is deprecated and will be removed in a future release of LightGBM. Pass 'verbose' parameter via keyword arguments instead.\n",
      "  _log_warning(\"'silent' argument is deprecated and will be removed in a future release of LightGBM. \"\n",
      "C:\\Users\\USER\\.conda\\envs\\lec310\\lib\\site-packages\\lightgbm\\sklearn.py:598: UserWarning: 'silent' argument is deprecated and will be removed in a future release of LightGBM. Pass 'verbose' parameter via keyword arguments instead.\n",
      "  _log_warning(\"'silent' argument is deprecated and will be removed in a future release of LightGBM. \"\n"
     ]
    },
    {
     "name": "stdout",
     "output_type": "stream",
     "text": [
      "[CV 2/3] END learning_rate=0.1, max_depth=4, min_child_samples=50, num_leaves=63; AUC: (test=0.785) total time=   0.0s\n",
      "[CV 3/3] END learning_rate=0.1, max_depth=4, min_child_samples=50, num_leaves=63; AUC: (test=0.782) total time=   0.0s\n",
      "[CV 1/3] END learning_rate=0.1, max_depth=5, min_child_samples=1, num_leaves=15; AUC: (test=0.786) total time=   0.0s\n"
     ]
    },
    {
     "name": "stderr",
     "output_type": "stream",
     "text": [
      "C:\\Users\\USER\\.conda\\envs\\lec310\\lib\\site-packages\\lightgbm\\sklearn.py:598: UserWarning: 'silent' argument is deprecated and will be removed in a future release of LightGBM. Pass 'verbose' parameter via keyword arguments instead.\n",
      "  _log_warning(\"'silent' argument is deprecated and will be removed in a future release of LightGBM. \"\n",
      "C:\\Users\\USER\\.conda\\envs\\lec310\\lib\\site-packages\\lightgbm\\sklearn.py:598: UserWarning: 'silent' argument is deprecated and will be removed in a future release of LightGBM. Pass 'verbose' parameter via keyword arguments instead.\n",
      "  _log_warning(\"'silent' argument is deprecated and will be removed in a future release of LightGBM. \"\n",
      "C:\\Users\\USER\\.conda\\envs\\lec310\\lib\\site-packages\\lightgbm\\sklearn.py:598: UserWarning: 'silent' argument is deprecated and will be removed in a future release of LightGBM. Pass 'verbose' parameter via keyword arguments instead.\n",
      "  _log_warning(\"'silent' argument is deprecated and will be removed in a future release of LightGBM. \"\n",
      "C:\\Users\\USER\\.conda\\envs\\lec310\\lib\\site-packages\\lightgbm\\sklearn.py:598: UserWarning: 'silent' argument is deprecated and will be removed in a future release of LightGBM. Pass 'verbose' parameter via keyword arguments instead.\n",
      "  _log_warning(\"'silent' argument is deprecated and will be removed in a future release of LightGBM. \"\n",
      "C:\\Users\\USER\\.conda\\envs\\lec310\\lib\\site-packages\\lightgbm\\sklearn.py:598: UserWarning: 'silent' argument is deprecated and will be removed in a future release of LightGBM. Pass 'verbose' parameter via keyword arguments instead.\n",
      "  _log_warning(\"'silent' argument is deprecated and will be removed in a future release of LightGBM. \"\n"
     ]
    },
    {
     "name": "stdout",
     "output_type": "stream",
     "text": [
      "[CV 2/3] END learning_rate=0.1, max_depth=5, min_child_samples=1, num_leaves=15; AUC: (test=0.784) total time=   0.0s\n",
      "[CV 3/3] END learning_rate=0.1, max_depth=5, min_child_samples=1, num_leaves=15; AUC: (test=0.782) total time=   0.0s\n",
      "[CV 1/3] END learning_rate=0.1, max_depth=5, min_child_samples=1, num_leaves=31; AUC: (test=0.786) total time=   0.0s\n",
      "[CV 2/3] END learning_rate=0.1, max_depth=5, min_child_samples=1, num_leaves=31; AUC: (test=0.784) total time=   0.0s\n",
      "[CV 3/3] END learning_rate=0.1, max_depth=5, min_child_samples=1, num_leaves=31; AUC: (test=0.782) total time=   0.0s\n"
     ]
    },
    {
     "name": "stderr",
     "output_type": "stream",
     "text": [
      "C:\\Users\\USER\\.conda\\envs\\lec310\\lib\\site-packages\\lightgbm\\sklearn.py:598: UserWarning: 'silent' argument is deprecated and will be removed in a future release of LightGBM. Pass 'verbose' parameter via keyword arguments instead.\n",
      "  _log_warning(\"'silent' argument is deprecated and will be removed in a future release of LightGBM. \"\n",
      "C:\\Users\\USER\\.conda\\envs\\lec310\\lib\\site-packages\\lightgbm\\sklearn.py:598: UserWarning: 'silent' argument is deprecated and will be removed in a future release of LightGBM. Pass 'verbose' parameter via keyword arguments instead.\n",
      "  _log_warning(\"'silent' argument is deprecated and will be removed in a future release of LightGBM. \"\n",
      "C:\\Users\\USER\\.conda\\envs\\lec310\\lib\\site-packages\\lightgbm\\sklearn.py:598: UserWarning: 'silent' argument is deprecated and will be removed in a future release of LightGBM. Pass 'verbose' parameter via keyword arguments instead.\n",
      "  _log_warning(\"'silent' argument is deprecated and will be removed in a future release of LightGBM. \"\n"
     ]
    },
    {
     "name": "stdout",
     "output_type": "stream",
     "text": [
      "[CV 1/3] END learning_rate=0.1, max_depth=5, min_child_samples=1, num_leaves=63; AUC: (test=0.786) total time=   0.0s\n",
      "[CV 2/3] END learning_rate=0.1, max_depth=5, min_child_samples=1, num_leaves=63; AUC: (test=0.784) total time=   0.0s\n",
      "[CV 3/3] END learning_rate=0.1, max_depth=5, min_child_samples=1, num_leaves=63; AUC: (test=0.782) total time=   0.0s\n"
     ]
    },
    {
     "name": "stderr",
     "output_type": "stream",
     "text": [
      "C:\\Users\\USER\\.conda\\envs\\lec310\\lib\\site-packages\\lightgbm\\sklearn.py:598: UserWarning: 'silent' argument is deprecated and will be removed in a future release of LightGBM. Pass 'verbose' parameter via keyword arguments instead.\n",
      "  _log_warning(\"'silent' argument is deprecated and will be removed in a future release of LightGBM. \"\n",
      "C:\\Users\\USER\\.conda\\envs\\lec310\\lib\\site-packages\\lightgbm\\sklearn.py:598: UserWarning: 'silent' argument is deprecated and will be removed in a future release of LightGBM. Pass 'verbose' parameter via keyword arguments instead.\n",
      "  _log_warning(\"'silent' argument is deprecated and will be removed in a future release of LightGBM. \"\n",
      "C:\\Users\\USER\\.conda\\envs\\lec310\\lib\\site-packages\\lightgbm\\sklearn.py:598: UserWarning: 'silent' argument is deprecated and will be removed in a future release of LightGBM. Pass 'verbose' parameter via keyword arguments instead.\n",
      "  _log_warning(\"'silent' argument is deprecated and will be removed in a future release of LightGBM. \"\n"
     ]
    },
    {
     "name": "stdout",
     "output_type": "stream",
     "text": [
      "[CV 1/3] END learning_rate=0.1, max_depth=5, min_child_samples=20, num_leaves=15; AUC: (test=0.786) total time=   0.0s\n",
      "[CV 2/3] END learning_rate=0.1, max_depth=5, min_child_samples=20, num_leaves=15; AUC: (test=0.784) total time=   0.0s\n",
      "[CV 3/3] END learning_rate=0.1, max_depth=5, min_child_samples=20, num_leaves=15; AUC: (test=0.782) total time=   0.0s\n"
     ]
    },
    {
     "name": "stderr",
     "output_type": "stream",
     "text": [
      "C:\\Users\\USER\\.conda\\envs\\lec310\\lib\\site-packages\\lightgbm\\sklearn.py:598: UserWarning: 'silent' argument is deprecated and will be removed in a future release of LightGBM. Pass 'verbose' parameter via keyword arguments instead.\n",
      "  _log_warning(\"'silent' argument is deprecated and will be removed in a future release of LightGBM. \"\n",
      "C:\\Users\\USER\\.conda\\envs\\lec310\\lib\\site-packages\\lightgbm\\sklearn.py:598: UserWarning: 'silent' argument is deprecated and will be removed in a future release of LightGBM. Pass 'verbose' parameter via keyword arguments instead.\n",
      "  _log_warning(\"'silent' argument is deprecated and will be removed in a future release of LightGBM. \"\n",
      "C:\\Users\\USER\\.conda\\envs\\lec310\\lib\\site-packages\\lightgbm\\sklearn.py:598: UserWarning: 'silent' argument is deprecated and will be removed in a future release of LightGBM. Pass 'verbose' parameter via keyword arguments instead.\n",
      "  _log_warning(\"'silent' argument is deprecated and will be removed in a future release of LightGBM. \"\n"
     ]
    },
    {
     "name": "stdout",
     "output_type": "stream",
     "text": [
      "[CV 1/3] END learning_rate=0.1, max_depth=5, min_child_samples=20, num_leaves=31; AUC: (test=0.786) total time=   0.0s\n",
      "[CV 2/3] END learning_rate=0.1, max_depth=5, min_child_samples=20, num_leaves=31; AUC: (test=0.784) total time=   0.0s\n",
      "[CV 3/3] END learning_rate=0.1, max_depth=5, min_child_samples=20, num_leaves=31; AUC: (test=0.782) total time=   0.0s\n"
     ]
    },
    {
     "name": "stderr",
     "output_type": "stream",
     "text": [
      "C:\\Users\\USER\\.conda\\envs\\lec310\\lib\\site-packages\\lightgbm\\sklearn.py:598: UserWarning: 'silent' argument is deprecated and will be removed in a future release of LightGBM. Pass 'verbose' parameter via keyword arguments instead.\n",
      "  _log_warning(\"'silent' argument is deprecated and will be removed in a future release of LightGBM. \"\n",
      "C:\\Users\\USER\\.conda\\envs\\lec310\\lib\\site-packages\\lightgbm\\sklearn.py:598: UserWarning: 'silent' argument is deprecated and will be removed in a future release of LightGBM. Pass 'verbose' parameter via keyword arguments instead.\n",
      "  _log_warning(\"'silent' argument is deprecated and will be removed in a future release of LightGBM. \"\n",
      "C:\\Users\\USER\\.conda\\envs\\lec310\\lib\\site-packages\\lightgbm\\sklearn.py:598: UserWarning: 'silent' argument is deprecated and will be removed in a future release of LightGBM. Pass 'verbose' parameter via keyword arguments instead.\n",
      "  _log_warning(\"'silent' argument is deprecated and will be removed in a future release of LightGBM. \"\n"
     ]
    },
    {
     "name": "stdout",
     "output_type": "stream",
     "text": [
      "[CV 1/3] END learning_rate=0.1, max_depth=5, min_child_samples=20, num_leaves=63; AUC: (test=0.786) total time=   0.0s\n",
      "[CV 2/3] END learning_rate=0.1, max_depth=5, min_child_samples=20, num_leaves=63; AUC: (test=0.784) total time=   0.0s\n",
      "[CV 3/3] END learning_rate=0.1, max_depth=5, min_child_samples=20, num_leaves=63; AUC: (test=0.782) total time=   0.0s\n"
     ]
    },
    {
     "name": "stderr",
     "output_type": "stream",
     "text": [
      "C:\\Users\\USER\\.conda\\envs\\lec310\\lib\\site-packages\\lightgbm\\sklearn.py:598: UserWarning: 'silent' argument is deprecated and will be removed in a future release of LightGBM. Pass 'verbose' parameter via keyword arguments instead.\n",
      "  _log_warning(\"'silent' argument is deprecated and will be removed in a future release of LightGBM. \"\n",
      "C:\\Users\\USER\\.conda\\envs\\lec310\\lib\\site-packages\\lightgbm\\sklearn.py:598: UserWarning: 'silent' argument is deprecated and will be removed in a future release of LightGBM. Pass 'verbose' parameter via keyword arguments instead.\n",
      "  _log_warning(\"'silent' argument is deprecated and will be removed in a future release of LightGBM. \"\n",
      "C:\\Users\\USER\\.conda\\envs\\lec310\\lib\\site-packages\\lightgbm\\sklearn.py:598: UserWarning: 'silent' argument is deprecated and will be removed in a future release of LightGBM. Pass 'verbose' parameter via keyword arguments instead.\n",
      "  _log_warning(\"'silent' argument is deprecated and will be removed in a future release of LightGBM. \"\n"
     ]
    },
    {
     "name": "stdout",
     "output_type": "stream",
     "text": [
      "[CV 1/3] END learning_rate=0.1, max_depth=5, min_child_samples=50, num_leaves=15; AUC: (test=0.786) total time=   0.0s\n",
      "[CV 2/3] END learning_rate=0.1, max_depth=5, min_child_samples=50, num_leaves=15; AUC: (test=0.784) total time=   0.0s\n",
      "[CV 3/3] END learning_rate=0.1, max_depth=5, min_child_samples=50, num_leaves=15; AUC: (test=0.782) total time=   0.0s\n"
     ]
    },
    {
     "name": "stderr",
     "output_type": "stream",
     "text": [
      "C:\\Users\\USER\\.conda\\envs\\lec310\\lib\\site-packages\\lightgbm\\sklearn.py:598: UserWarning: 'silent' argument is deprecated and will be removed in a future release of LightGBM. Pass 'verbose' parameter via keyword arguments instead.\n",
      "  _log_warning(\"'silent' argument is deprecated and will be removed in a future release of LightGBM. \"\n",
      "C:\\Users\\USER\\.conda\\envs\\lec310\\lib\\site-packages\\lightgbm\\sklearn.py:598: UserWarning: 'silent' argument is deprecated and will be removed in a future release of LightGBM. Pass 'verbose' parameter via keyword arguments instead.\n",
      "  _log_warning(\"'silent' argument is deprecated and will be removed in a future release of LightGBM. \"\n",
      "C:\\Users\\USER\\.conda\\envs\\lec310\\lib\\site-packages\\lightgbm\\sklearn.py:598: UserWarning: 'silent' argument is deprecated and will be removed in a future release of LightGBM. Pass 'verbose' parameter via keyword arguments instead.\n",
      "  _log_warning(\"'silent' argument is deprecated and will be removed in a future release of LightGBM. \"\n"
     ]
    },
    {
     "name": "stdout",
     "output_type": "stream",
     "text": [
      "[CV 1/3] END learning_rate=0.1, max_depth=5, min_child_samples=50, num_leaves=31; AUC: (test=0.786) total time=   0.0s\n",
      "[CV 2/3] END learning_rate=0.1, max_depth=5, min_child_samples=50, num_leaves=31; AUC: (test=0.784) total time=   0.0s\n",
      "[CV 3/3] END learning_rate=0.1, max_depth=5, min_child_samples=50, num_leaves=31; AUC: (test=0.782) total time=   0.0s\n"
     ]
    },
    {
     "name": "stderr",
     "output_type": "stream",
     "text": [
      "C:\\Users\\USER\\.conda\\envs\\lec310\\lib\\site-packages\\lightgbm\\sklearn.py:598: UserWarning: 'silent' argument is deprecated and will be removed in a future release of LightGBM. Pass 'verbose' parameter via keyword arguments instead.\n",
      "  _log_warning(\"'silent' argument is deprecated and will be removed in a future release of LightGBM. \"\n",
      "C:\\Users\\USER\\.conda\\envs\\lec310\\lib\\site-packages\\lightgbm\\sklearn.py:598: UserWarning: 'silent' argument is deprecated and will be removed in a future release of LightGBM. Pass 'verbose' parameter via keyword arguments instead.\n",
      "  _log_warning(\"'silent' argument is deprecated and will be removed in a future release of LightGBM. \"\n",
      "C:\\Users\\USER\\.conda\\envs\\lec310\\lib\\site-packages\\lightgbm\\sklearn.py:598: UserWarning: 'silent' argument is deprecated and will be removed in a future release of LightGBM. Pass 'verbose' parameter via keyword arguments instead.\n",
      "  _log_warning(\"'silent' argument is deprecated and will be removed in a future release of LightGBM. \"\n"
     ]
    },
    {
     "name": "stdout",
     "output_type": "stream",
     "text": [
      "[CV 1/3] END learning_rate=0.1, max_depth=5, min_child_samples=50, num_leaves=63; AUC: (test=0.786) total time=   0.0s\n",
      "[CV 2/3] END learning_rate=0.1, max_depth=5, min_child_samples=50, num_leaves=63; AUC: (test=0.784) total time=   0.0s\n",
      "[CV 3/3] END learning_rate=0.1, max_depth=5, min_child_samples=50, num_leaves=63; AUC: (test=0.782) total time=   0.0s\n"
     ]
    },
    {
     "name": "stderr",
     "output_type": "stream",
     "text": [
      "C:\\Users\\USER\\.conda\\envs\\lec310\\lib\\site-packages\\lightgbm\\sklearn.py:598: UserWarning: 'silent' argument is deprecated and will be removed in a future release of LightGBM. Pass 'verbose' parameter via keyword arguments instead.\n",
      "  _log_warning(\"'silent' argument is deprecated and will be removed in a future release of LightGBM. \"\n",
      "C:\\Users\\USER\\.conda\\envs\\lec310\\lib\\site-packages\\lightgbm\\sklearn.py:598: UserWarning: 'silent' argument is deprecated and will be removed in a future release of LightGBM. Pass 'verbose' parameter via keyword arguments instead.\n",
      "  _log_warning(\"'silent' argument is deprecated and will be removed in a future release of LightGBM. \"\n",
      "C:\\Users\\USER\\.conda\\envs\\lec310\\lib\\site-packages\\lightgbm\\sklearn.py:598: UserWarning: 'silent' argument is deprecated and will be removed in a future release of LightGBM. Pass 'verbose' parameter via keyword arguments instead.\n",
      "  _log_warning(\"'silent' argument is deprecated and will be removed in a future release of LightGBM. \"\n"
     ]
    }
   ],
   "source": [
    "param_grid = {\n",
    "    \"learning_rate\": [0.01, 0.1],\n",
    "    \"max_depth\": [3, 4, 5],\n",
    "    \"num_leaves\": [15, 31, 63],\n",
    "    \"min_child_samples\": [1, 20, 50],\n",
    "}\n",
    "\n",
    "grid = GridSearchCV(\n",
    "    model,\n",
    "    param_grid,\n",
    "    verbose=3,\n",
    "    cv=3,\n",
    "    scoring={\"AUC\": \"roc_auc\"},\n",
    "    n_jobs=1,\n",
    "    refit=\"AUC\",\n",
    ")\n",
    "result = grid.fit(df_woe.loc[df_woe['sample_type']=='train', features], \n",
    "                  df_woe.loc[df_woe['sample_type']=='train', label])"
   ]
  },
  {
   "cell_type": "code",
   "execution_count": 11,
   "id": "233ca21b",
   "metadata": {},
   "outputs": [
    {
     "name": "stdout",
     "output_type": "stream",
     "text": [
      "    learning_rate  max_depth  min_child_samples  num_leaves  mean_test_AUC\n",
      "0            0.01          3                  1          15       0.756151\n",
      "1            0.01          3                  1          31       0.756151\n",
      "2            0.01          3                  1          63       0.756151\n",
      "3            0.01          3                 20          15       0.756151\n",
      "4            0.01          3                 20          31       0.756151\n",
      "5            0.01          3                 20          63       0.756151\n",
      "6            0.01          3                 50          15       0.756149\n",
      "7            0.01          3                 50          31       0.756149\n",
      "8            0.01          3                 50          63       0.756149\n",
      "9            0.01          4                  1          15       0.759626\n",
      "10           0.01          4                  1          31       0.759626\n",
      "11           0.01          4                  1          63       0.759626\n",
      "12           0.01          4                 20          15       0.759626\n",
      "13           0.01          4                 20          31       0.759626\n",
      "14           0.01          4                 20          63       0.759626\n",
      "15           0.01          4                 50          15       0.759624\n",
      "16           0.01          4                 50          31       0.759624\n",
      "17           0.01          4                 50          63       0.759624\n",
      "18           0.01          5                  1          15       0.760995\n",
      "19           0.01          5                  1          31       0.761024\n",
      "20           0.01          5                  1          63       0.761024\n",
      "21           0.01          5                 20          15       0.760995\n",
      "22           0.01          5                 20          31       0.761024\n",
      "23           0.01          5                 20          63       0.761024\n",
      "24           0.01          5                 50          15       0.760901\n",
      "25           0.01          5                 50          31       0.760983\n",
      "26           0.01          5                 50          63       0.760983\n",
      "27           0.10          3                  1          15       0.782574\n",
      "28           0.10          3                  1          31       0.782574\n",
      "29           0.10          3                  1          63       0.782574\n",
      "30           0.10          3                 20          15       0.782538\n",
      "31           0.10          3                 20          31       0.782538\n",
      "32           0.10          3                 20          63       0.782538\n",
      "33           0.10          3                 50          15       0.782489\n",
      "34           0.10          3                 50          31       0.782489\n",
      "35           0.10          3                 50          63       0.782489\n",
      "36           0.10          4                  1          15       0.784149\n",
      "37           0.10          4                  1          31       0.784149\n",
      "38           0.10          4                  1          63       0.784149\n",
      "39           0.10          4                 20          15       0.784149\n",
      "40           0.10          4                 20          31       0.784149\n",
      "41           0.10          4                 20          63       0.784149\n",
      "42           0.10          4                 50          15       0.784135\n",
      "43           0.10          4                 50          31       0.784135\n",
      "44           0.10          4                 50          63       0.784135\n",
      "45           0.10          5                  1          15       0.783818\n",
      "46           0.10          5                  1          31       0.783792\n",
      "47           0.10          5                  1          63       0.783792\n",
      "48           0.10          5                 20          15       0.783818\n",
      "49           0.10          5                 20          31       0.783792\n",
      "50           0.10          5                 20          63       0.783792\n",
      "51           0.10          5                 50          15       0.784021\n",
      "52           0.10          5                 50          31       0.784021\n",
      "53           0.10          5                 50          63       0.784021\n"
     ]
    }
   ],
   "source": [
    "df_cv = pd.DataFrame(result.cv_results_[\"params\"])\n",
    "df_cv[\"mean_test_AUC\"] = result.cv_results_[\"mean_test_AUC\"]\n",
    "print(df_cv)"
   ]
  },
  {
   "cell_type": "code",
   "execution_count": null,
   "id": "faed7a24",
   "metadata": {},
   "outputs": [],
   "source": []
  },
  {
   "cell_type": "markdown",
   "id": "dc3dc066",
   "metadata": {},
   "source": [
    "# 贝叶斯优化"
   ]
  },
  {
   "cell_type": "code",
   "execution_count": 12,
   "id": "fbd82707",
   "metadata": {},
   "outputs": [],
   "source": [
    "import ast\n",
    "import csv\n",
    "from timeit import default_timer as timer\n",
    "import lightgbm as lgb\n",
    "from hyperopt import STATUS_OK, Trials, fmin, hp, tpe\n",
    "from sklearn.model_selection import StratifiedKFold"
   ]
  },
  {
   "cell_type": "code",
   "execution_count": 13,
   "id": "c01a91f8",
   "metadata": {},
   "outputs": [],
   "source": [
    "class BO:\n",
    "    def __init__(self, fp_path, **kwargs):\n",
    "        self.fp_path = fp_path\n",
    "        self.iter = 0\n",
    "        self.train_set = None\n",
    "\n",
    "        self.kfold = kwargs.get(\"kfold\", 3)\n",
    "\n",
    "        csv_conn = open(self.fp_path, \"w\")\n",
    "        writer = csv.writer(csv_conn)\n",
    "        writer.writerow([\"loss\", \"auc_train\", \"auc_valid\", \"params\", \"iteration\", \"train_time\"])\n",
    "        csv_conn.close()\n",
    "\n",
    "    def load_data(self, df_xtrain, df_ytrain):\n",
    "        self.df_xtrain = df_xtrain.reset_index(drop=True)\n",
    "        self.df_ytrain = df_ytrain.reset_index(drop=True)\n",
    "\n",
    "    def objective(self, params):\n",
    "        self.iter += 1\n",
    "\n",
    "        start = timer()\n",
    "        model = lgb.LGBMClassifier(\n",
    "            **params,\n",
    "            n_estimators=200,\n",
    "            objective=\"cross_entropy\",\n",
    "            class_weight=\"balanced\",\n",
    "            importance_type=\"gain\",\n",
    "            boosting_type=\"gbdt\",\n",
    "            n_jobs=1,\n",
    "            random_state=19910908\n",
    "        )\n",
    "\n",
    "        lst_auc_train, lst_auc_valid = list(), list()\n",
    "        kf = StratifiedKFold(n_splits=self.kfold, shuffle=False)\n",
    "        for itrain, ivalid in kf.split(self.df_xtrain, self.df_ytrain):\n",
    "            df_xtrain, df_ytrain = (\n",
    "                self.df_xtrain.loc[itrain, :],\n",
    "                self.df_ytrain.loc[itrain],\n",
    "            )\n",
    "            df_xvalid, df_yvalid = (\n",
    "                self.df_xtrain.loc[ivalid, :],\n",
    "                self.df_ytrain.loc[ivalid],\n",
    "            )\n",
    "\n",
    "            eval_set = [(df_xtrain, df_ytrain), (df_xvalid, df_yvalid)]\n",
    "            model.fit(df_xtrain, df_ytrain, \n",
    "                      eval_set=eval_set, eval_metric=\"auc\",\n",
    "                      callbacks=[lgb.log_evaluation(0)],)\n",
    "\n",
    "            auc_train = metric_helper.Metric.get_auc(df_ytrain, model.predict(df_xtrain))\n",
    "            auc_valid = metric_helper.Metric.get_auc(df_yvalid, model.predict(df_xvalid))\n",
    "            lst_auc_train.append(auc_train)\n",
    "            lst_auc_valid.append(auc_valid)\n",
    "\n",
    "        run_time = timer() - start\n",
    "\n",
    "        auc_train_avg = np.mean(lst_auc_train)\n",
    "        auc_valid_avg = np.mean(lst_auc_valid)\n",
    "        loss = -np.mean(lst_auc_valid)\n",
    "\n",
    "        csv_conn = open(self.fp_path, \"a\")\n",
    "        writer = csv.writer(csv_conn)\n",
    "        writer.writerow([loss, auc_train_avg, auc_valid_avg, params, self.iter, run_time])\n",
    "\n",
    "        res = {\n",
    "            \"loss\": loss,\n",
    "            \"auc_train\": auc_train_avg,\n",
    "            \"auc_valid\": auc_valid_avg,\n",
    "            \"params\": params,\n",
    "            \"iteration\": self.iter,\n",
    "            \"train_time\": run_time,\n",
    "            \"status\": STATUS_OK,\n",
    "        }\n",
    "        print(res)\n",
    "\n",
    "        return res\n",
    "\n",
    "    def optimize(self, max_evals):\n",
    "        self.iter = 0\n",
    "\n",
    "        space = {\n",
    "            \"learning_rate\": hp.choice(\"learning_rate\", [0.01, 0.1]),\n",
    "            \"max_depth\": hp.choice(\"max_depth\", [3, 4, 5]),\n",
    "            \"num_leaves\": hp.choice(\"num_leaves\", [15, 31, 63]),\n",
    "            \"min_child_samples\": hp.choice(\"min_child_samples\", [1, 20, 50]),\n",
    "        }\n",
    "\n",
    "        best = fmin(\n",
    "            fn=self.objective,\n",
    "            space=space,\n",
    "            algo=tpe.suggest,\n",
    "            max_evals=max_evals,\n",
    "            trials=Trials(),\n",
    "            max_queue_len=10,\n",
    "            show_progressbar=True,\n",
    "            rstate=np.random.default_rng(199198),\n",
    "        )\n",
    "\n",
    "        return best"
   ]
  },
  {
   "cell_type": "code",
   "execution_count": 14,
   "id": "d93224d9",
   "metadata": {},
   "outputs": [
    {
     "name": "stdout",
     "output_type": "stream",
     "text": [
      "{'loss': -0.7291371735408757, 'auc_train': 0.7582412837874494, 'auc_valid': 0.7291371735408757, 'params': {'learning_rate': 0.1, 'max_depth': 4, 'min_child_samples': 50, 'num_leaves': 31}, 'iteration': 1, 'train_time': 3.2458060000062687, 'status': 'ok'}\n",
      "{'loss': -0.7272398918549515, 'auc_train': 0.7583559117962616, 'auc_valid': 0.7272398918549515, 'params': {'learning_rate': 0.1, 'max_depth': 4, 'min_child_samples': 1, 'num_leaves': 15}, 'iteration': 2, 'train_time': 3.243888099998003, 'status': 'ok'}\n",
      "{'loss': -0.7104573465863293, 'auc_train': 0.7190461077331465, 'auc_valid': 0.7104573465863293, 'params': {'learning_rate': 0.01, 'max_depth': 5, 'min_child_samples': 50, 'num_leaves': 15}, 'iteration': 3, 'train_time': 3.050186400010716, 'status': 'ok'}\n",
      "{'loss': -0.7083906756270414, 'auc_train': 0.716844605466831, 'auc_valid': 0.7083906756270414, 'params': {'learning_rate': 0.01, 'max_depth': 4, 'min_child_samples': 1, 'num_leaves': 63}, 'iteration': 4, 'train_time': 2.8692513999994844, 'status': 'ok'}\n",
      "{'loss': -0.7270003555391451, 'auc_train': 0.7643715961318511, 'auc_valid': 0.7270003555391451, 'params': {'learning_rate': 0.1, 'max_depth': 5, 'min_child_samples': 50, 'num_leaves': 15}, 'iteration': 5, 'train_time': 3.0930279000021983, 'status': 'ok'}\n",
      "{'loss': -0.6987116660093012, 'auc_train': 0.7041659304247848, 'auc_valid': 0.6987116660093012, 'params': {'learning_rate': 0.01, 'max_depth': 3, 'min_child_samples': 20, 'num_leaves': 15}, 'iteration': 6, 'train_time': 2.461447699999553, 'status': 'ok'}\n",
      "{'loss': -0.7088108000359236, 'auc_train': 0.7168545526258122, 'auc_valid': 0.7088108000359236, 'params': {'learning_rate': 0.01, 'max_depth': 4, 'min_child_samples': 20, 'num_leaves': 31}, 'iteration': 7, 'train_time': 2.8561268000048585, 'status': 'ok'}\n",
      "{'loss': -0.7280583350480097, 'auc_train': 0.7949348290656011, 'auc_valid': 0.7280583350480097, 'params': {'learning_rate': 0.1, 'max_depth': 5, 'min_child_samples': 1, 'num_leaves': 63}, 'iteration': 8, 'train_time': 3.5212954999879003, 'status': 'ok'}\n",
      "{'loss': -0.7088108000359236, 'auc_train': 0.7168545526258122, 'auc_valid': 0.7088108000359236, 'params': {'learning_rate': 0.01, 'max_depth': 4, 'min_child_samples': 20, 'num_leaves': 31}, 'iteration': 9, 'train_time': 2.875216200001887, 'status': 'ok'}\n",
      "{'loss': -0.7291371735408757, 'auc_train': 0.7582412837874494, 'auc_valid': 0.7291371735408757, 'params': {'learning_rate': 0.1, 'max_depth': 4, 'min_child_samples': 50, 'num_leaves': 31}, 'iteration': 10, 'train_time': 3.2204166000010446, 'status': 'ok'}\n",
      "{'loss': -0.7233470835325863, 'auc_train': 0.7382118203876432, 'auc_valid': 0.7233470835325863, 'params': {'learning_rate': 0.1, 'max_depth': 3, 'min_child_samples': 20, 'num_leaves': 31}, 'iteration': 11, 'train_time': 2.87062309999601, 'status': 'ok'}\n",
      "{'loss': -0.7128026066533196, 'auc_train': 0.7276564438534264, 'auc_valid': 0.7128026066533196, 'params': {'learning_rate': 0.01, 'max_depth': 5, 'min_child_samples': 1, 'num_leaves': 31}, 'iteration': 12, 'train_time': 3.210061899997527, 'status': 'ok'}\n",
      "{'loss': -0.7280401838948439, 'auc_train': 0.7603100507541334, 'auc_valid': 0.7280401838948439, 'params': {'learning_rate': 0.1, 'max_depth': 4, 'min_child_samples': 1, 'num_leaves': 63}, 'iteration': 13, 'train_time': 3.253294200010714, 'status': 'ok'}\n",
      "{'loss': -0.7233470835325863, 'auc_train': 0.7382118203876432, 'auc_valid': 0.7233470835325863, 'params': {'learning_rate': 0.1, 'max_depth': 3, 'min_child_samples': 20, 'num_leaves': 63}, 'iteration': 14, 'train_time': 2.8840824000071734, 'status': 'ok'}\n",
      "{'loss': -0.6987116660093012, 'auc_train': 0.7041659304247848, 'auc_valid': 0.6987116660093012, 'params': {'learning_rate': 0.01, 'max_depth': 3, 'min_child_samples': 50, 'num_leaves': 15}, 'iteration': 15, 'train_time': 2.4506857999949716, 'status': 'ok'}\n",
      "{'loss': -0.7291371735408757, 'auc_train': 0.7582412837874494, 'auc_valid': 0.7291371735408757, 'params': {'learning_rate': 0.1, 'max_depth': 4, 'min_child_samples': 50, 'num_leaves': 31}, 'iteration': 16, 'train_time': 3.258458600001177, 'status': 'ok'}\n",
      "{'loss': -0.7138598186124674, 'auc_train': 0.7266846922265731, 'auc_valid': 0.7138598186124674, 'params': {'learning_rate': 0.01, 'max_depth': 5, 'min_child_samples': 50, 'num_leaves': 63}, 'iteration': 17, 'train_time': 3.2565743000013754, 'status': 'ok'}\n",
      "{'loss': -0.7229268856899586, 'auc_train': 0.7384324957477483, 'auc_valid': 0.7229268856899586, 'params': {'learning_rate': 0.1, 'max_depth': 3, 'min_child_samples': 1, 'num_leaves': 15}, 'iteration': 18, 'train_time': 2.9578061000065645, 'status': 'ok'}\n",
      "{'loss': -0.7142862021697107, 'auc_train': 0.726922171671316, 'auc_valid': 0.7142862021697107, 'params': {'learning_rate': 0.01, 'max_depth': 5, 'min_child_samples': 50, 'num_leaves': 31}, 'iteration': 19, 'train_time': 3.262470800007577, 'status': 'ok'}\n",
      "{'loss': -0.726645305104269, 'auc_train': 0.7588912608263308, 'auc_valid': 0.726645305104269, 'params': {'learning_rate': 0.1, 'max_depth': 4, 'min_child_samples': 20, 'num_leaves': 63}, 'iteration': 20, 'train_time': 3.31962160000694, 'status': 'ok'}\n",
      "{'loss': -0.7291371735408757, 'auc_train': 0.7582412837874494, 'auc_valid': 0.7291371735408757, 'params': {'learning_rate': 0.1, 'max_depth': 4, 'min_child_samples': 50, 'num_leaves': 31}, 'iteration': 21, 'train_time': 3.308394899999257, 'status': 'ok'}\n",
      "{'loss': -0.7291371735408757, 'auc_train': 0.7582412837874494, 'auc_valid': 0.7291371735408757, 'params': {'learning_rate': 0.1, 'max_depth': 4, 'min_child_samples': 50, 'num_leaves': 31}, 'iteration': 22, 'train_time': 3.2667734999995446, 'status': 'ok'}\n",
      "{'loss': -0.7291371735408757, 'auc_train': 0.7582412837874494, 'auc_valid': 0.7291371735408757, 'params': {'learning_rate': 0.1, 'max_depth': 4, 'min_child_samples': 50, 'num_leaves': 31}, 'iteration': 23, 'train_time': 3.2772082000010414, 'status': 'ok'}\n",
      "{'loss': -0.7291371735408757, 'auc_train': 0.7582412837874494, 'auc_valid': 0.7291371735408757, 'params': {'learning_rate': 0.1, 'max_depth': 4, 'min_child_samples': 50, 'num_leaves': 31}, 'iteration': 24, 'train_time': 3.23625549999997, 'status': 'ok'}\n",
      "{'loss': -0.7291371735408757, 'auc_train': 0.7582412837874494, 'auc_valid': 0.7291371735408757, 'params': {'learning_rate': 0.1, 'max_depth': 4, 'min_child_samples': 50, 'num_leaves': 31}, 'iteration': 25, 'train_time': 3.2820737000001827, 'status': 'ok'}\n",
      "{'loss': -0.7291371735408757, 'auc_train': 0.7582412837874494, 'auc_valid': 0.7291371735408757, 'params': {'learning_rate': 0.1, 'max_depth': 4, 'min_child_samples': 50, 'num_leaves': 31}, 'iteration': 26, 'train_time': 3.234716399994795, 'status': 'ok'}\n",
      "{'loss': -0.7291371735408757, 'auc_train': 0.7582412837874494, 'auc_valid': 0.7291371735408757, 'params': {'learning_rate': 0.1, 'max_depth': 4, 'min_child_samples': 50, 'num_leaves': 31}, 'iteration': 27, 'train_time': 3.20044039998902, 'status': 'ok'}\n",
      "{'loss': -0.7291371735408757, 'auc_train': 0.7582412837874494, 'auc_valid': 0.7291371735408757, 'params': {'learning_rate': 0.1, 'max_depth': 4, 'min_child_samples': 50, 'num_leaves': 31}, 'iteration': 28, 'train_time': 3.2657921999925748, 'status': 'ok'}\n",
      "{'loss': -0.7291371735408757, 'auc_train': 0.7582412837874494, 'auc_valid': 0.7291371735408757, 'params': {'learning_rate': 0.1, 'max_depth': 4, 'min_child_samples': 50, 'num_leaves': 31}, 'iteration': 29, 'train_time': 3.2719403999944916, 'status': 'ok'}\n",
      "{'loss': -0.7291371735408757, 'auc_train': 0.7582412837874494, 'auc_valid': 0.7291371735408757, 'params': {'learning_rate': 0.1, 'max_depth': 4, 'min_child_samples': 50, 'num_leaves': 31}, 'iteration': 30, 'train_time': 3.2574435000133235, 'status': 'ok'}\n",
      "{'loss': -0.7265665694985369, 'auc_train': 0.7561893711248633, 'auc_valid': 0.7265665694985369, 'params': {'learning_rate': 0.1, 'max_depth': 4, 'min_child_samples': 50, 'num_leaves': 15}, 'iteration': 31, 'train_time': 3.17308839999896, 'status': 'ok'}\n",
      "{'loss': -0.7280401838948439, 'auc_train': 0.7603100507541334, 'auc_valid': 0.7280401838948439, 'params': {'learning_rate': 0.1, 'max_depth': 4, 'min_child_samples': 1, 'num_leaves': 31}, 'iteration': 32, 'train_time': 3.2407022999977926, 'status': 'ok'}\n"
     ]
    },
    {
     "name": "stdout",
     "output_type": "stream",
     "text": [
      "{'loss': -0.7233394635211726, 'auc_train': 0.7380753430282633, 'auc_valid': 0.7233394635211726, 'params': {'learning_rate': 0.1, 'max_depth': 3, 'min_child_samples': 50, 'num_leaves': 31}, 'iteration': 33, 'train_time': 2.947383100006846, 'status': 'ok'}\n",
      "{'loss': -0.7270003555391451, 'auc_train': 0.7643715961318511, 'auc_valid': 0.7270003555391451, 'params': {'learning_rate': 0.1, 'max_depth': 5, 'min_child_samples': 50, 'num_leaves': 15}, 'iteration': 34, 'train_time': 3.1520812999951886, 'status': 'ok'}\n",
      "{'loss': -0.7291371735408757, 'auc_train': 0.7582412837874494, 'auc_valid': 0.7291371735408757, 'params': {'learning_rate': 0.1, 'max_depth': 4, 'min_child_samples': 50, 'num_leaves': 31}, 'iteration': 35, 'train_time': 3.2715205999993486, 'status': 'ok'}\n",
      "{'loss': -0.7280401838948439, 'auc_train': 0.7603100507541334, 'auc_valid': 0.7280401838948439, 'params': {'learning_rate': 0.1, 'max_depth': 4, 'min_child_samples': 1, 'num_leaves': 63}, 'iteration': 36, 'train_time': 3.209957099999883, 'status': 'ok'}\n",
      "{'loss': -0.7104573465863293, 'auc_train': 0.7190461077331465, 'auc_valid': 0.7104573465863293, 'params': {'learning_rate': 0.01, 'max_depth': 5, 'min_child_samples': 20, 'num_leaves': 15}, 'iteration': 37, 'train_time': 3.0749657999986084, 'status': 'ok'}\n",
      "{'loss': -0.7233394635211726, 'auc_train': 0.7380753430282633, 'auc_valid': 0.7233394635211726, 'params': {'learning_rate': 0.1, 'max_depth': 3, 'min_child_samples': 50, 'num_leaves': 31}, 'iteration': 38, 'train_time': 2.9384172999998555, 'status': 'ok'}\n",
      "{'loss': -0.7088108000359236, 'auc_train': 0.7168545526258122, 'auc_valid': 0.7088108000359236, 'params': {'learning_rate': 0.01, 'max_depth': 4, 'min_child_samples': 20, 'num_leaves': 31}, 'iteration': 39, 'train_time': 2.9462892999872565, 'status': 'ok'}\n",
      "{'loss': -0.7280401838948439, 'auc_train': 0.7603100507541334, 'auc_valid': 0.7280401838948439, 'params': {'learning_rate': 0.1, 'max_depth': 4, 'min_child_samples': 1, 'num_leaves': 63}, 'iteration': 40, 'train_time': 3.2422269999951823, 'status': 'ok'}\n",
      "{'loss': -0.7270003555391451, 'auc_train': 0.7643715961318511, 'auc_valid': 0.7270003555391451, 'params': {'learning_rate': 0.1, 'max_depth': 5, 'min_child_samples': 50, 'num_leaves': 15}, 'iteration': 41, 'train_time': 3.1668872000009287, 'status': 'ok'}\n",
      "{'loss': -0.7088108000359236, 'auc_train': 0.7168545526258122, 'auc_valid': 0.7088108000359236, 'params': {'learning_rate': 0.01, 'max_depth': 4, 'min_child_samples': 20, 'num_leaves': 31}, 'iteration': 42, 'train_time': 2.891967499992461, 'status': 'ok'}\n",
      "{'loss': -0.7233394635211726, 'auc_train': 0.7380753430282633, 'auc_valid': 0.7233394635211726, 'params': {'learning_rate': 0.1, 'max_depth': 3, 'min_child_samples': 50, 'num_leaves': 31}, 'iteration': 43, 'train_time': 2.8962385000049835, 'status': 'ok'}\n",
      "{'loss': -0.7280401838948439, 'auc_train': 0.7603100507541334, 'auc_valid': 0.7280401838948439, 'params': {'learning_rate': 0.1, 'max_depth': 4, 'min_child_samples': 1, 'num_leaves': 63}, 'iteration': 44, 'train_time': 3.229746900004102, 'status': 'ok'}\n",
      "{'loss': -0.7142862021697107, 'auc_train': 0.726922171671316, 'auc_valid': 0.7142862021697107, 'params': {'learning_rate': 0.01, 'max_depth': 5, 'min_child_samples': 50, 'num_leaves': 31}, 'iteration': 45, 'train_time': 3.2407502999994904, 'status': 'ok'}\n",
      "{'loss': -0.7233470835325863, 'auc_train': 0.7382118203876432, 'auc_valid': 0.7233470835325863, 'params': {'learning_rate': 0.1, 'max_depth': 3, 'min_child_samples': 20, 'num_leaves': 15}, 'iteration': 46, 'train_time': 2.8807989999913843, 'status': 'ok'}\n",
      "{'loss': -0.7291371735408757, 'auc_train': 0.7582412837874494, 'auc_valid': 0.7291371735408757, 'params': {'learning_rate': 0.1, 'max_depth': 4, 'min_child_samples': 50, 'num_leaves': 31}, 'iteration': 47, 'train_time': 3.209861199997249, 'status': 'ok'}\n",
      "{'loss': -0.7083906756270414, 'auc_train': 0.716844605466831, 'auc_valid': 0.7083906756270414, 'params': {'learning_rate': 0.01, 'max_depth': 4, 'min_child_samples': 1, 'num_leaves': 63}, 'iteration': 48, 'train_time': 2.8903189999982715, 'status': 'ok'}\n",
      "{'loss': -0.7293101315152555, 'auc_train': 0.7869310055659571, 'auc_valid': 0.7293101315152555, 'params': {'learning_rate': 0.1, 'max_depth': 5, 'min_child_samples': 50, 'num_leaves': 31}, 'iteration': 49, 'train_time': 3.561766600003466, 'status': 'ok'}\n",
      "{'loss': -0.7233470835325863, 'auc_train': 0.7382118203876432, 'auc_valid': 0.7233470835325863, 'params': {'learning_rate': 0.1, 'max_depth': 3, 'min_child_samples': 20, 'num_leaves': 31}, 'iteration': 50, 'train_time': 2.8891774999938207, 'status': 'ok'}\n",
      "{'loss': -0.7104573465863293, 'auc_train': 0.7190461077331465, 'auc_valid': 0.7104573465863293, 'params': {'learning_rate': 0.01, 'max_depth': 5, 'min_child_samples': 50, 'num_leaves': 15}, 'iteration': 51, 'train_time': 3.0472512999986066, 'status': 'ok'}\n",
      "{'loss': -0.7288614111387685, 'auc_train': 0.7897270238039886, 'auc_valid': 0.7288614111387685, 'params': {'learning_rate': 0.1, 'max_depth': 5, 'min_child_samples': 50, 'num_leaves': 63}, 'iteration': 52, 'train_time': 3.58018569998967, 'status': 'ok'}\n",
      "{'loss': -0.7282917665651176, 'auc_train': 0.794454222858551, 'auc_valid': 0.7282917665651176, 'params': {'learning_rate': 0.1, 'max_depth': 5, 'min_child_samples': 1, 'num_leaves': 31}, 'iteration': 53, 'train_time': 3.633872500009602, 'status': 'ok'}\n",
      "{'loss': -0.7293101315152555, 'auc_train': 0.7869310055659571, 'auc_valid': 0.7293101315152555, 'params': {'learning_rate': 0.1, 'max_depth': 5, 'min_child_samples': 50, 'num_leaves': 31}, 'iteration': 54, 'train_time': 3.58760820000316, 'status': 'ok'}\n",
      "{'loss': -0.7133911518276381, 'auc_train': 0.727660146069976, 'auc_valid': 0.7133911518276381, 'params': {'learning_rate': 0.01, 'max_depth': 5, 'min_child_samples': 20, 'num_leaves': 31}, 'iteration': 55, 'train_time': 3.2550818999879993, 'status': 'ok'}\n",
      "{'loss': -0.7288614111387685, 'auc_train': 0.7897270238039886, 'auc_valid': 0.7288614111387685, 'params': {'learning_rate': 0.1, 'max_depth': 5, 'min_child_samples': 50, 'num_leaves': 63}, 'iteration': 56, 'train_time': 3.5646714999893447, 'status': 'ok'}\n",
      "{'loss': -0.7293101315152555, 'auc_train': 0.7869310055659571, 'auc_valid': 0.7293101315152555, 'params': {'learning_rate': 0.1, 'max_depth': 5, 'min_child_samples': 50, 'num_leaves': 31}, 'iteration': 57, 'train_time': 3.6188095999968937, 'status': 'ok'}\n",
      "{'loss': -0.7270003555391451, 'auc_train': 0.7643715961318511, 'auc_valid': 0.7270003555391451, 'params': {'learning_rate': 0.1, 'max_depth': 5, 'min_child_samples': 50, 'num_leaves': 15}, 'iteration': 58, 'train_time': 3.14977319999889, 'status': 'ok'}\n",
      "{'loss': -0.7128026066533196, 'auc_train': 0.7276564438534264, 'auc_valid': 0.7128026066533196, 'params': {'learning_rate': 0.01, 'max_depth': 5, 'min_child_samples': 1, 'num_leaves': 31}, 'iteration': 59, 'train_time': 3.2354304999898886, 'status': 'ok'}\n",
      "{'loss': -0.7233394635211726, 'auc_train': 0.7380753430282633, 'auc_valid': 0.7233394635211726, 'params': {'learning_rate': 0.1, 'max_depth': 3, 'min_child_samples': 50, 'num_leaves': 31}, 'iteration': 60, 'train_time': 2.915892100005294, 'status': 'ok'}\n",
      "{'loss': -0.7293101315152555, 'auc_train': 0.7869310055659571, 'auc_valid': 0.7293101315152555, 'params': {'learning_rate': 0.1, 'max_depth': 5, 'min_child_samples': 50, 'num_leaves': 31}, 'iteration': 61, 'train_time': 3.49413540000387, 'status': 'ok'}\n",
      "{'loss': -0.7290496783196682, 'auc_train': 0.7918606603827575, 'auc_valid': 0.7290496783196682, 'params': {'learning_rate': 0.1, 'max_depth': 5, 'min_child_samples': 20, 'num_leaves': 31}, 'iteration': 62, 'train_time': 3.55605800000194, 'status': 'ok'}\n",
      "{'loss': -0.7288614111387685, 'auc_train': 0.7897270238039886, 'auc_valid': 0.7288614111387685, 'params': {'learning_rate': 0.1, 'max_depth': 5, 'min_child_samples': 50, 'num_leaves': 63}, 'iteration': 63, 'train_time': 3.5488799000013387, 'status': 'ok'}\n",
      "{'loss': -0.7293101315152555, 'auc_train': 0.7869310055659571, 'auc_valid': 0.7293101315152555, 'params': {'learning_rate': 0.1, 'max_depth': 5, 'min_child_samples': 50, 'num_leaves': 31}, 'iteration': 64, 'train_time': 3.5537457000027644, 'status': 'ok'}\n"
     ]
    },
    {
     "name": "stdout",
     "output_type": "stream",
     "text": [
      "{'loss': -0.7104573465863293, 'auc_train': 0.7190461077331465, 'auc_valid': 0.7104573465863293, 'params': {'learning_rate': 0.01, 'max_depth': 5, 'min_child_samples': 50, 'num_leaves': 15}, 'iteration': 65, 'train_time': 3.0595936000026995, 'status': 'ok'}\n",
      "{'loss': -0.7293101315152555, 'auc_train': 0.7869310055659571, 'auc_valid': 0.7293101315152555, 'params': {'learning_rate': 0.1, 'max_depth': 5, 'min_child_samples': 50, 'num_leaves': 31}, 'iteration': 66, 'train_time': 3.550788599997759, 'status': 'ok'}\n",
      "{'loss': -0.7293101315152555, 'auc_train': 0.7869310055659571, 'auc_valid': 0.7293101315152555, 'params': {'learning_rate': 0.1, 'max_depth': 5, 'min_child_samples': 50, 'num_leaves': 31}, 'iteration': 67, 'train_time': 3.5368597000051523, 'status': 'ok'}\n",
      "{'loss': -0.7293101315152555, 'auc_train': 0.7869310055659571, 'auc_valid': 0.7293101315152555, 'params': {'learning_rate': 0.1, 'max_depth': 5, 'min_child_samples': 50, 'num_leaves': 31}, 'iteration': 68, 'train_time': 3.5670392000029096, 'status': 'ok'}\n",
      "{'loss': -0.7293101315152555, 'auc_train': 0.7869310055659571, 'auc_valid': 0.7293101315152555, 'params': {'learning_rate': 0.1, 'max_depth': 5, 'min_child_samples': 50, 'num_leaves': 31}, 'iteration': 69, 'train_time': 3.5821985000075074, 'status': 'ok'}\n",
      "{'loss': -0.7293101315152555, 'auc_train': 0.7869310055659571, 'auc_valid': 0.7293101315152555, 'params': {'learning_rate': 0.1, 'max_depth': 5, 'min_child_samples': 50, 'num_leaves': 31}, 'iteration': 70, 'train_time': 3.5784088000073098, 'status': 'ok'}\n",
      "{'loss': -0.7293101315152555, 'auc_train': 0.7869310055659571, 'auc_valid': 0.7293101315152555, 'params': {'learning_rate': 0.1, 'max_depth': 5, 'min_child_samples': 50, 'num_leaves': 31}, 'iteration': 71, 'train_time': 3.545625700004166, 'status': 'ok'}\n",
      "{'loss': -0.7293101315152555, 'auc_train': 0.7869310055659571, 'auc_valid': 0.7293101315152555, 'params': {'learning_rate': 0.1, 'max_depth': 5, 'min_child_samples': 50, 'num_leaves': 31}, 'iteration': 72, 'train_time': 3.600355899994611, 'status': 'ok'}\n",
      "{'loss': -0.7293101315152555, 'auc_train': 0.7869310055659571, 'auc_valid': 0.7293101315152555, 'params': {'learning_rate': 0.1, 'max_depth': 5, 'min_child_samples': 50, 'num_leaves': 31}, 'iteration': 73, 'train_time': 3.6026275000040187, 'status': 'ok'}\n",
      "{'loss': -0.7293101315152555, 'auc_train': 0.7869310055659571, 'auc_valid': 0.7293101315152555, 'params': {'learning_rate': 0.1, 'max_depth': 5, 'min_child_samples': 50, 'num_leaves': 31}, 'iteration': 74, 'train_time': 3.5995034000079613, 'status': 'ok'}\n",
      "{'loss': -0.7293101315152555, 'auc_train': 0.7869310055659571, 'auc_valid': 0.7293101315152555, 'params': {'learning_rate': 0.1, 'max_depth': 5, 'min_child_samples': 50, 'num_leaves': 31}, 'iteration': 75, 'train_time': 3.5926467000099365, 'status': 'ok'}\n",
      "{'loss': -0.7282917665651176, 'auc_train': 0.794454222858551, 'auc_valid': 0.7282917665651176, 'params': {'learning_rate': 0.1, 'max_depth': 5, 'min_child_samples': 1, 'num_leaves': 31}, 'iteration': 76, 'train_time': 3.58578850000049, 'status': 'ok'}\n",
      "{'loss': -0.7293101315152555, 'auc_train': 0.7869310055659571, 'auc_valid': 0.7293101315152555, 'params': {'learning_rate': 0.1, 'max_depth': 5, 'min_child_samples': 50, 'num_leaves': 31}, 'iteration': 77, 'train_time': 3.5888718999922276, 'status': 'ok'}\n",
      "{'loss': -0.7290496783196682, 'auc_train': 0.7918606603827575, 'auc_valid': 0.7290496783196682, 'params': {'learning_rate': 0.1, 'max_depth': 5, 'min_child_samples': 20, 'num_leaves': 31}, 'iteration': 78, 'train_time': 3.5218140999932075, 'status': 'ok'}\n",
      "{'loss': -0.7233394635211726, 'auc_train': 0.7380753430282633, 'auc_valid': 0.7233394635211726, 'params': {'learning_rate': 0.1, 'max_depth': 3, 'min_child_samples': 50, 'num_leaves': 15}, 'iteration': 79, 'train_time': 2.8749928000033833, 'status': 'ok'}\n",
      "{'loss': -0.7288614111387685, 'auc_train': 0.7897270238039886, 'auc_valid': 0.7288614111387685, 'params': {'learning_rate': 0.1, 'max_depth': 5, 'min_child_samples': 50, 'num_leaves': 63}, 'iteration': 80, 'train_time': 3.550911199999973, 'status': 'ok'}\n",
      "100%|███████████████████████████████████████████████| 80/80 [04:19<00:00,  3.25s/trial, best loss: -0.7293101315152555]\n"
     ]
    },
    {
     "data": {
      "text/plain": [
       "{'learning_rate': 1, 'max_depth': 2, 'min_child_samples': 2, 'num_leaves': 1}"
      ]
     },
     "execution_count": 14,
     "metadata": {},
     "output_type": "execute_result"
    }
   ],
   "source": [
    "fp_path = Path(DATA_DIR, \"bo.csv\")\n",
    "bo = BO(fp_path)\n",
    "bo.load_data(df_woe.loc[df_woe['sample_type']=='train', features], \n",
    "             df_woe.loc[df_woe['sample_type']=='train', label])\n",
    "bo.optimize(80)"
   ]
  },
  {
   "cell_type": "code",
   "execution_count": 15,
   "id": "9048e081",
   "metadata": {},
   "outputs": [
    {
     "name": "stdout",
     "output_type": "stream",
     "text": [
      "{'learning_rate': 0.1, 'max_depth': 5, 'min_child_samples': 50, 'num_leaves': 31}\n",
      "loss                                                   -0.72931\n",
      "auc_train                                              0.786931\n",
      "auc_valid                                               0.72931\n",
      "params        {'learning_rate': 0.1, 'max_depth': 5, 'min_ch...\n",
      "iteration                                                    49\n",
      "train_time                                             3.561767\n",
      "Name: 0, dtype: object\n"
     ]
    }
   ],
   "source": [
    "df_cv = pd.read_csv(fp_path)\n",
    "df_cv = df_cv.sort_values(by=[\"auc_valid\", \"auc_train\"], ascending=[False, False]).reset_index(drop=True)\n",
    "best_param = df_cv.iloc[0][\"params\"]\n",
    "print(ast.literal_eval(best_param))\n",
    "print(df_cv.iloc[0])"
   ]
  },
  {
   "cell_type": "code",
   "execution_count": null,
   "id": "69dc28a0",
   "metadata": {},
   "outputs": [],
   "source": []
  },
  {
   "cell_type": "code",
   "execution_count": null,
   "id": "77ed3ceb",
   "metadata": {},
   "outputs": [],
   "source": []
  }
 ],
 "metadata": {
  "kernelspec": {
   "display_name": "Python 3 (ipykernel)",
   "language": "python",
   "name": "python3"
  },
  "language_info": {
   "codemirror_mode": {
    "name": "ipython",
    "version": 3
   },
   "file_extension": ".py",
   "mimetype": "text/x-python",
   "name": "python",
   "nbconvert_exporter": "python",
   "pygments_lexer": "ipython3",
   "version": "3.10.11"
  }
 },
 "nbformat": 4,
 "nbformat_minor": 5
}
