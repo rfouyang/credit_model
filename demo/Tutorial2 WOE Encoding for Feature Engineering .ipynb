{
 "cells": [
  {
   "cell_type": "code",
   "execution_count": 1,
   "id": "5e7415fe",
   "metadata": {},
   "outputs": [],
   "source": [
    "import os, sys\n",
    "from pathlib import Path\n",
    "\n",
    "BASE_DIR = Path(Path.home(), \"workspace\", \"services\", \"credit_model\")\n",
    "DATA_DIR = Path(Path.home(), \"workspace\", \"data\")\n",
    "if BASE_DIR not in sys.path:\n",
    "    sys.path.insert(0, f\"{BASE_DIR}\")"
   ]
  },
  {
   "cell_type": "code",
   "execution_count": 2,
   "id": "5c8e423e",
   "metadata": {},
   "outputs": [],
   "source": [
    "from pprint import pprint\n",
    "import numpy as np\n",
    "import pandas as pd\n",
    "import matplotlib.pyplot as plt\n",
    "import toad"
   ]
  },
  {
   "cell_type": "code",
   "execution_count": 3,
   "id": "e2813b51",
   "metadata": {},
   "outputs": [],
   "source": [
    "%load_ext autoreload\n",
    "%autoreload 2"
   ]
  },
  {
   "cell_type": "code",
   "execution_count": 4,
   "id": "1af8f37f",
   "metadata": {},
   "outputs": [],
   "source": [
    "from util import woe_helper\n",
    "from util import woe_mono\n",
    "from util import report_helper"
   ]
  },
  {
   "cell_type": "code",
   "execution_count": 5,
   "id": "8ee80b1b",
   "metadata": {},
   "outputs": [],
   "source": [
    "pd.set_option('display.max_columns', None)\n",
    "pd.set_option('display.width', 1000)"
   ]
  },
  {
   "cell_type": "markdown",
   "id": "49622cce",
   "metadata": {},
   "source": [
    "# 加载数据集"
   ]
  },
  {
   "cell_type": "code",
   "execution_count": 6,
   "id": "16b342be",
   "metadata": {},
   "outputs": [],
   "source": [
    "fp_data = Path(DATA_DIR, 'tutorial', 'data.csv')\n",
    "df_data = pd.read_csv(fp_data, index_col=None)"
   ]
  },
  {
   "cell_type": "code",
   "execution_count": 7,
   "id": "c0bda6e2",
   "metadata": {},
   "outputs": [],
   "source": [
    "num_cols = ['Collateral_valuation', 'Age', 'Properties_Total', 'Amount', 'Term', 'Historic_Loans', 'Current_Loans', 'Max_Arrears']\n",
    "cat_cols = ['Region', 'Area', 'Activity', 'Guarantor', 'Collateral', 'Properties_Status']\n",
    "features = num_cols + cat_cols\n",
    "label = 'Defaulter'"
   ]
  },
  {
   "cell_type": "code",
   "execution_count": 8,
   "id": "4e9c92af",
   "metadata": {},
   "outputs": [],
   "source": [
    "for c in cat_cols:\n",
    "    df_data.loc[:, c] = df_data.loc[:, c].apply(lambda x: str(f\"cat_{x}\"))"
   ]
  },
  {
   "cell_type": "markdown",
   "id": "23a67906",
   "metadata": {},
   "source": [
    "# WOE编码"
   ]
  },
  {
   "cell_type": "markdown",
   "id": "05260969",
   "metadata": {},
   "source": [
    "* 决策树分箱"
   ]
  },
  {
   "cell_type": "code",
   "execution_count": 9,
   "id": "89ff524d",
   "metadata": {},
   "outputs": [
    {
     "name": "stderr",
     "output_type": "stream",
     "text": [
      "100%|██████████| 14/14 [00:00<00:00, 52.79it/s]\n"
     ]
    },
    {
     "name": "stdout",
     "output_type": "stream",
     "text": [
      "finish combiner fit\n",
      "finish combiner transform\n"
     ]
    },
    {
     "name": "stderr",
     "output_type": "stream",
     "text": [
      "100%|██████████| 14/14 [00:00<00:00, 53.52it/s]"
     ]
    },
    {
     "name": "stdout",
     "output_type": "stream",
     "text": [
      "finish WOE fit\n"
     ]
    },
    {
     "name": "stderr",
     "output_type": "stream",
     "text": [
      "\n"
     ]
    }
   ],
   "source": [
    "woe = woe_helper.WOE()\n",
    "woe.fit(df_data, label, exclude=['AppNo', label], method='dt')"
   ]
  },
  {
   "cell_type": "code",
   "execution_count": 10,
   "id": "d44d0e8d",
   "metadata": {},
   "outputs": [
    {
     "name": "stdout",
     "output_type": "stream",
     "text": [
      "{'Activity': [['cat_17.0', 'cat_14.0', 'cat_10.0'], ['cat_18.0', 'cat_nan'],\n",
      "              ['cat_1.0', 'cat_15.0'],\n",
      "              ['cat_19.0', 'cat_3.0', 'cat_16.0', 'cat_5.0', 'cat_12.0'],\n",
      "              ['cat_9.0', 'cat_8.0', 'cat_4.0', 'cat_2.0', 'cat_6.0', 'cat_7.0',\n",
      "               'cat_11.0']],\n",
      " 'Age': [27.5, 34.5, 41.5, 47.5],\n",
      " 'Amount': [3481.5, 7483.0, 9868.5, 16920.0],\n",
      " 'Area': [['cat_90', 'cat_75', 'cat_65', 'cat_45', 'cat_55', 'cat_95',\n",
      "           'cat_57'],\n",
      "          ['cat_80', 'cat_85', 'cat_25'],\n",
      "          ['cat_70', 'cat_5', 'cat_30', 'cat_40', 'cat_87'],\n",
      "          ['cat_20', 'cat_60', 'cat_50', 'cat_15'], ['cat_10', 'cat_35']],\n",
      " 'Collateral': [['cat_1'], ['cat_0']],\n",
      " 'Collateral_valuation': [2057.0, 4571.0, 8324.5, 13823.5, nan],\n",
      " 'Current_Loans': [1.5, 2.5, nan],\n",
      " 'Guarantor': [['cat_1', 'cat_0']],\n",
      " 'Historic_Loans': [1.5, 2.5, 3.5, 8.5],\n",
      " 'Max_Arrears': [0.5, 37.5, 133.5],\n",
      " 'Properties_Status': [['cat_B'], ['cat_D'], ['cat_A', 'cat_C']],\n",
      " 'Properties_Total': [1.5, 2.5],\n",
      " 'Region': [['cat_10'], ['cat_11', 'cat_14'], ['cat_12', 'cat_8', 'cat_9'],\n",
      "            ['cat_1', 'cat_7', 'cat_6'],\n",
      "            ['cat_4', 'cat_2', 'cat_5', 'cat_13', 'cat_15', 'cat_3']],\n",
      " 'Term': [13.5, 22.5, 29.5, 37.5]}\n"
     ]
    }
   ],
   "source": [
    "pprint(woe.combiner.export(), compact=True)"
   ]
  },
  {
   "cell_type": "code",
   "execution_count": 11,
   "id": "6228c095",
   "metadata": {},
   "outputs": [
    {
     "name": "stdout",
     "output_type": "stream",
     "text": [
      "{'Activity': {'00.cat_17.0,cat_14...': -0.8129836351829568,\n",
      "              '01.cat_18.0,cat_nan': -0.13008891743452072,\n",
      "              '02.cat_1.0,cat_15.0': 0.002896482207561219,\n",
      "              '03.cat_19.0,cat_3.0..': 0.5055059063947105,\n",
      "              '04.cat_9.0,cat_8.0,..': 1.0003920052142827},\n",
      " 'Age': {'00.[-inf ~ 27.5)': 0.5360301075019426,\n",
      "         '01.[27.5 ~ 34.5)': 0.29425294929505913,\n",
      "         '02.[34.5 ~ 41.5)': 0.03061985151045089,\n",
      "         '03.[41.5 ~ 47.5)': -0.20278872329788467,\n",
      "         '04.[47.5 ~ inf)': -0.37676921635470967},\n",
      " 'Amount': {'00.[-inf ~ 3481.5)': -0.5219436333558987,\n",
      "            '01.[3481.5 ~ 7483.0)': -0.1662607632426821,\n",
      "            '02.[7483.0 ~ 9868.5)': 0.10329032687215677,\n",
      "            '03.[9868.5 ~ 16920.0)': 0.420052771730602,\n",
      "            '04.[16920.0 ~ inf)': 0.7496377503309519},\n",
      " 'Area': {'00.cat_90,cat_75,ca..': -0.6795022831530181,\n",
      "          '01.cat_80,cat_85,ca..': -0.1174547703386852,\n",
      "          '02.cat_70,cat_5,cat..': -0.039813023252234,\n",
      "          '03.cat_20,cat_60,ca..': 0.23982575851799334,\n",
      "          '04.cat_10,cat_35': 0.55084561862822},\n",
      " 'Collateral': {'00.cat_1': -0.17791064056587275,\n",
      "                '01.cat_0': 0.20675517853690248},\n",
      " 'Collateral_valuation': {'00.[-inf ~ 2057.0)': -0.7555803607399743,\n",
      "                          '01.[2057.0 ~ 4571.0)': -0.4151483136767317,\n",
      "                          '02.[4571.0 ~ 8324.5)': -0.08039900986629035,\n",
      "                          '03.[8324.5 ~ 13823.5)': 0.12930130473981533,\n",
      "                          '04.[13823.5 ~ inf)': 0.7432557133271771,\n",
      "                          '05.nan': 0.20675517853690248},\n",
      " 'Current_Loans': {'00.[-inf ~ 1.5)': 0.04929295744906977,\n",
      "                   '01.[1.5 ~ 2.5)': -0.03987062321857013,\n",
      "                   '02.[2.5 ~ inf)': 0.10019057473599603,\n",
      "                   '03.nan': -0.13241650940588606},\n",
      " 'Guarantor': {'00.cat_1,cat_0': 0.0},\n",
      " 'Historic_Loans': {'00.[-inf ~ 1.5)': 0.35188822057533614,\n",
      "                    '01.[1.5 ~ 2.5)': 0.1883752221794513,\n",
      "                    '02.[2.5 ~ 3.5)': 0.05610438250128288,\n",
      "                    '03.[3.5 ~ 8.5)': -0.22198380590325015,\n",
      "                    '04.[8.5 ~ inf)': -0.789018351891712},\n",
      " 'Max_Arrears': {'00.[-inf ~ 0.5)': -0.016711455627161784,\n",
      "                 '01.[0.5 ~ 37.5)': -0.2751772049105092,\n",
      "                 '02.[37.5 ~ 133.5)': -0.17390092036327262,\n",
      "                 '03.[133.5 ~ inf)': 0.6056941612907341},\n",
      " 'Properties_Status': {'00.cat_B': -0.17836537892315527,\n",
      "                       '01.cat_D': 0.07147265581954305,\n",
      "                       '02.cat_A,cat_C': 0.554028650416072},\n",
      " 'Properties_Total': {'00.[-inf ~ 1.5)': 0.3537927638215846,\n",
      "                      '01.[1.5 ~ 2.5)': -0.27110424729381544,\n",
      "                      '02.[2.5 ~ inf)': -0.3766177534106816},\n",
      " 'Region': {'00.cat_10': -1.278657056345899,\n",
      "            '01.cat_11,cat_14': -0.3711861683048671,\n",
      "            '02.cat_12,cat_8,cat..': 0.2740641324184902,\n",
      "            '03.cat_1,cat_7,cat_..': 0.43311724767093807,\n",
      "            '04.cat_4,cat_2,cat_..': 0.796758243999482},\n",
      " 'Term': {'00.[-inf ~ 13.5)': -0.5068362715251957,\n",
      "          '01.[13.5 ~ 22.5)': -0.36929530923508735,\n",
      "          '02.[22.5 ~ 29.5)': -0.39194520912740805,\n",
      "          '03.[29.5 ~ 37.5)': 0.38538385116154045,\n",
      "          '04.[37.5 ~ inf)': 0.956236355343912}}\n"
     ]
    }
   ],
   "source": [
    "pprint(woe.woe_encoder.export(), compact=True)"
   ]
  },
  {
   "cell_type": "markdown",
   "id": "c9bdfc99",
   "metadata": {},
   "source": [
    "* 等距分箱"
   ]
  },
  {
   "cell_type": "code",
   "execution_count": 12,
   "id": "50e4a97c",
   "metadata": {},
   "outputs": [
    {
     "name": "stderr",
     "output_type": "stream",
     "text": [
      "100%|██████████| 14/14 [00:00<00:00, 69.98it/s]\n"
     ]
    },
    {
     "name": "stdout",
     "output_type": "stream",
     "text": [
      "finish combiner fit\n",
      "finish combiner transform\n"
     ]
    },
    {
     "name": "stderr",
     "output_type": "stream",
     "text": [
      "100%|██████████| 14/14 [00:00<00:00, 47.22it/s]"
     ]
    },
    {
     "name": "stdout",
     "output_type": "stream",
     "text": [
      "finish WOE fit\n"
     ]
    },
    {
     "name": "stderr",
     "output_type": "stream",
     "text": [
      "\n"
     ]
    }
   ],
   "source": [
    "woe = woe_helper.WOE()\n",
    "woe.fit(df_data, label, exclude=['AppNo', label], method='step')"
   ]
  },
  {
   "cell_type": "code",
   "execution_count": 13,
   "id": "168b7adb",
   "metadata": {},
   "outputs": [
    {
     "name": "stdout",
     "output_type": "stream",
     "text": [
      "{'Activity': [['cat_17.0', 'cat_14.0', 'cat_10.0', 'cat_18.0'],\n",
      "              ['cat_nan', 'cat_1.0', 'cat_15.0', 'cat_19.0'],\n",
      "              ['cat_3.0', 'cat_16.0', 'cat_5.0'],\n",
      "              ['cat_12.0', 'cat_9.0', 'cat_8.0', 'cat_4.0'],\n",
      "              ['cat_2.0', 'cat_6.0', 'cat_7.0', 'cat_11.0']],\n",
      " 'Age': [30.4, 42.8, 55.199999999999996, 67.6],\n",
      " 'Amount': [27859.6, 54582.2, 81304.79999999999, 108027.4],\n",
      " 'Area': [['cat_90', 'cat_75', 'cat_65', 'cat_45'],\n",
      "          ['cat_55', 'cat_95', 'cat_57', 'cat_80'],\n",
      "          ['cat_85', 'cat_25', 'cat_70', 'cat_5'],\n",
      "          ['cat_30', 'cat_40', 'cat_87', 'cat_20'],\n",
      "          ['cat_60', 'cat_50', 'cat_15', 'cat_10', 'cat_35']],\n",
      " 'Collateral': [['cat_1'], [], [], [], ['cat_0']],\n",
      " 'Collateral_valuation': [27531.6, 55053.2, 82574.79999999999, 110096.4, nan],\n",
      " 'Current_Loans': [3.2, 5.4, 7.6000000000000005, 9.8, nan],\n",
      " 'Guarantor': [['cat_1'], [], [], [], ['cat_0']],\n",
      " 'Historic_Loans': [8.4, 15.8, 23.200000000000003, 30.6],\n",
      " 'Max_Arrears': [696.6, 1393.2, 2089.8, 2786.4],\n",
      " 'Properties_Status': [['cat_B'], ['cat_D'], [], ['cat_A'], ['cat_C']],\n",
      " 'Properties_Total': [3.8, 6.6, 9.399999999999999, 12.2],\n",
      " 'Region': [['cat_10', 'cat_11', 'cat_14'], ['cat_12', 'cat_8', 'cat_9'],\n",
      "            ['cat_1', 'cat_7', 'cat_6'], ['cat_4', 'cat_2', 'cat_5'],\n",
      "            ['cat_13', 'cat_15', 'cat_3']],\n",
      " 'Term': [22.6, 34.2, 45.800000000000004, 57.400000000000006]}\n"
     ]
    }
   ],
   "source": [
    "pprint(woe.combiner.export(), compact=True)"
   ]
  },
  {
   "cell_type": "code",
   "execution_count": 14,
   "id": "39f87d9c",
   "metadata": {},
   "outputs": [
    {
     "name": "stdout",
     "output_type": "stream",
     "text": [
      "{'Activity': {'00.cat_17.0,cat_14...': -0.6870459648472289,\n",
      "              '01.cat_nan,cat_1.0,..': 0.0984249223225517,\n",
      "              '02.cat_3.0,cat_16.0..': 0.5184248676321269,\n",
      "              '03.cat_12.0,cat_9.0..': 0.8704007092984497,\n",
      "              '04.cat_2.0,cat_6.0,..': 1.112348915162334},\n",
      " 'Age': {'00.[-inf ~ 30.4)': 0.4424758713969199,\n",
      "         '01.[30.4 ~ 42.8)': 0.09632362801628765,\n",
      "         '02.[42.8 ~ 55.199999999999996)': -0.30734713120781953,\n",
      "         '03.[55.199999999999996 ~ 67.6)': -0.330237014514601,\n",
      "         '04.[67.6 ~ inf)': 0.8438984769962602},\n",
      " 'Amount': {'00.[-inf ~ 27859.6)': -0.045174334096137546,\n",
      "            '01.[27859.6 ~ 54582.2)': 0.9035294426953699,\n",
      "            '02.[54582.2 ~ 81304.79999999999)': 0.47810980589780927,\n",
      "            '03.[81304.79999999999 ~ 108027.4)': 0.7786952831854982,\n",
      "            '04.[108027.4 ~ inf)': 0.23969878245281107},\n",
      " 'Area': {'00.cat_90,cat_75,ca..': -0.7543054926623624,\n",
      "          '01.cat_55,cat_95,ca..': -0.4950154566131787,\n",
      "          '02.cat_85,cat_25,ca..': -0.07642348384628884,\n",
      "          '03.cat_30,cat_40,ca..': 0.027623412751213584,\n",
      "          '04.cat_60,cat_50,ca..': 0.42344329862319363},\n",
      " 'Collateral': {'00.cat_1': -0.17791064056587275,\n",
      "                '04.cat_0': 0.20675517853690248},\n",
      " 'Collateral_valuation': {'00.[-inf ~ 27531.6)': -0.22751912057797205,\n",
      "                          '01.[27531.6 ~ 55053.2)': 1.026455462135064,\n",
      "                          '02.[55053.2 ~ 82574.79999999999)': 1.066377355637279,\n",
      "                          '03.[82574.79999999999 ~ 110096.4)': -0.16576632565535332,\n",
      "                          '04.[110096.4 ~ inf)': 2.185608931508124,\n",
      "                          '05.nan': 0.20675517853690248},\n",
      " 'Current_Loans': {'00.[-inf ~ 3.2)': 0.02229076806451405,\n",
      "                   '01.[3.2 ~ 5.4)': 0.21989615515663122,\n",
      "                   '02.[5.4 ~ 7.6000000000000005)': 0.03186165242127675,\n",
      "                   '03.[7.6000000000000005 ~ 9.8)': 0.1154010657752338,\n",
      "                   '04.[9.8 ~ inf)': 0.9328459630127564,\n",
      "                   '05.nan': -0.13241650940588606},\n",
      " 'Guarantor': {'00.cat_1': -0.04141152483573542,\n",
      "               '04.cat_0': 0.0038639353466027033},\n",
      " 'Historic_Loans': {'00.[-inf ~ 8.4)': 0.08010684084900363,\n",
      "                    '01.[8.4 ~ 15.8)': -0.7396412670074475,\n",
      "                    '02.[15.8 ~ 23.200000000000003)': -1.0741830010986024,\n",
      "                    '03.[23.200000000000003 ~ 30.6)': -2.6225020984766574,\n",
      "                    '04.[30.6 ~ inf)': -0.24580903332888984},\n",
      " 'Max_Arrears': {'00.[-inf ~ 696.6)': -0.05497525273057283,\n",
      "                 '01.[696.6 ~ 1393.2)': 1.3854578495466228,\n",
      "                 '02.[1393.2 ~ 2089.8)': 3.0812803761795435,\n",
      "                 '03.[2089.8 ~ 2786.4)': 2.9022866094782636,\n",
      "                 '04.[2786.4 ~ inf)': 4.804046973920648},\n",
      " 'Properties_Status': {'00.cat_B': -0.17836537892315527,\n",
      "                       '01.cat_D': 0.07147265581954305,\n",
      "                       '03.cat_A': 0.5370258222637738,\n",
      "                       '04.cat_C': 0.6727854678709048},\n",
      " 'Properties_Total': {'00.[-inf ~ 3.8)': 0.03809379438235632,\n",
      "                      '01.[3.8 ~ 6.6)': -0.41725744174702706,\n",
      "                      '02.[6.6 ~ 9.399999999999999)': -0.40385145696776215,\n",
      "                      '03.[9.399999999999999 ~ 12.2)': 0.46284233376702083,\n",
      "                      '04.[12.2 ~ inf)': -0.3199170054826117},\n",
      " 'Region': {'00.cat_10,cat_11,ca..': -0.8833253860914472,\n",
      "            '01.cat_12,cat_8,cat..': 0.2740641324184902,\n",
      "            '02.cat_1,cat_7,cat_..': 0.43311724767093807,\n",
      "            '03.cat_4,cat_2,cat_..': 0.6905086798295543,\n",
      "            '04.cat_13,cat_15,ca..': 1.0299028681520228},\n",
      " 'Term': {'00.[-inf ~ 22.6)': -0.43194347406936906,\n",
      "          '01.[22.6 ~ 34.2)': -0.2093807702388317,\n",
      "          '02.[34.2 ~ 45.800000000000004)': 0.402762522642351,\n",
      "          '03.[45.800000000000004 ~ 57.400000000000006)': 0.9313077378209735,\n",
      "          '04.[57.400000000000006 ~ inf)': 1.2251047024919492}}\n"
     ]
    }
   ],
   "source": [
    "pprint(woe.woe_encoder.export(), compact=True)"
   ]
  },
  {
   "cell_type": "markdown",
   "id": "434669be",
   "metadata": {},
   "source": [
    "* 等频分箱"
   ]
  },
  {
   "cell_type": "code",
   "execution_count": 15,
   "id": "d0ad2f26",
   "metadata": {},
   "outputs": [
    {
     "name": "stderr",
     "output_type": "stream",
     "text": [
      "100%|██████████| 14/14 [00:00<00:00, 67.62it/s]\n"
     ]
    },
    {
     "name": "stdout",
     "output_type": "stream",
     "text": [
      "finish combiner fit\n",
      "finish combiner transform\n"
     ]
    },
    {
     "name": "stderr",
     "output_type": "stream",
     "text": [
      "100%|██████████| 14/14 [00:00<00:00, 51.75it/s]"
     ]
    },
    {
     "name": "stdout",
     "output_type": "stream",
     "text": [
      "finish WOE fit\n"
     ]
    },
    {
     "name": "stderr",
     "output_type": "stream",
     "text": [
      "\n"
     ]
    }
   ],
   "source": [
    "woe = woe_helper.WOE()\n",
    "woe.fit(df_data, label, exclude=['AppNo', label], method='quantile')"
   ]
  },
  {
   "cell_type": "code",
   "execution_count": 16,
   "id": "01cce648",
   "metadata": {},
   "outputs": [
    {
     "name": "stdout",
     "output_type": "stream",
     "text": [
      "{'Activity': [['cat_17.0'], ['cat_14.0', 'cat_10.0'], ['cat_18.0', 'cat_nan'],\n",
      "              ['cat_1.0', 'cat_15.0'],\n",
      "              ['cat_19.0', 'cat_3.0', 'cat_16.0', 'cat_5.0', 'cat_12.0',\n",
      "               'cat_9.0', 'cat_8.0', 'cat_4.0', 'cat_2.0', 'cat_6.0', 'cat_7.0',\n",
      "               'cat_11.0']],\n",
      " 'Age': [32.0, 38.0, 44.0, 51.0],\n",
      " 'Amount': [2599.0, 4359.0, 6842.400000000005, 11947.600000000013],\n",
      " 'Area': [['cat_90', 'cat_75', 'cat_65', 'cat_45', 'cat_55'],\n",
      "          ['cat_95', 'cat_57', 'cat_80', 'cat_85', 'cat_25', 'cat_70'],\n",
      "          ['cat_5', 'cat_30'],\n",
      "          ['cat_40', 'cat_87', 'cat_20', 'cat_60', 'cat_50'],\n",
      "          ['cat_15', 'cat_10', 'cat_35']],\n",
      " 'Collateral': [['cat_1'], ['cat_0']],\n",
      " 'Collateral_valuation': [1632.0, 2925.0, 4909.600000000002, 9045.0, nan],\n",
      " 'Current_Loans': [2.0, nan],\n",
      " 'Guarantor': [['cat_1'], ['cat_0']],\n",
      " 'Historic_Loans': [2.0, 4.0, 7.0],\n",
      " 'Max_Arrears': [41.0],\n",
      " 'Properties_Status': [['cat_B'], ['cat_D', 'cat_A', 'cat_C']],\n",
      " 'Properties_Total': [2.0, 3.0],\n",
      " 'Region': [['cat_10', 'cat_11'], ['cat_14', 'cat_12', 'cat_8'],\n",
      "            ['cat_9', 'cat_1'],\n",
      "            ['cat_7', 'cat_6', 'cat_4', 'cat_2', 'cat_5', 'cat_13', 'cat_15',\n",
      "             'cat_3']],\n",
      " 'Term': [19.0, 23.0, 35.0]}\n"
     ]
    }
   ],
   "source": [
    "pprint(woe.combiner.export(), compact=True)"
   ]
  },
  {
   "cell_type": "code",
   "execution_count": 17,
   "id": "6122b0bb",
   "metadata": {},
   "outputs": [
    {
     "name": "stdout",
     "output_type": "stream",
     "text": [
      "{'Activity': {'00.cat_17.0': -1.0151835792767194,\n",
      "              '01.cat_14.0,cat_10...': -0.7944111181195914,\n",
      "              '02.cat_18.0,cat_nan': -0.13008891743452072,\n",
      "              '03.cat_1.0,cat_15.0': 0.002896482207561219,\n",
      "              '04.cat_19.0,cat_3.0..': 0.7299110361583229},\n",
      " 'Age': {'00.[-inf ~ 32.0)': 0.4269676218279467,\n",
      "         '01.[32.0 ~ 38.0)': 0.16182527302681998,\n",
      "         '02.[38.0 ~ 44.0)': -0.03822036508482391,\n",
      "         '03.[44.0 ~ 51.0)': -0.27196490467410467,\n",
      "         '04.[51.0 ~ inf)': -0.3808819755920818},\n",
      " 'Amount': {'00.[-inf ~ 2599.0)': -0.5458217182381493,\n",
      "            '01.[2599.0 ~ 4359.0)': -0.3484524135751891,\n",
      "            '02.[4359.0 ~ 6842.400000000005)': -0.14941529168739764,\n",
      "            '03.[6842.400000000005 ~ 11947.600000000013)': 0.1076118103535108,\n",
      "            '04.[11947.600000000013 ~ inf)': 0.6470422555617712},\n",
      " 'Area': {'00.cat_90,cat_75,ca..': -0.7215296862451074,\n",
      "          '01.cat_95,cat_57,ca..': -0.1764867839298167,\n",
      "          '02.cat_5,cat_30': -0.057014962029317835,\n",
      "          '03.cat_40,cat_87,ca..': 0.09651343534040324,\n",
      "          '04.cat_15,cat_10,ca..': 0.48172074979083257},\n",
      " 'Collateral': {'00.cat_1': -0.17791064056587275,\n",
      "                '01.cat_0': 0.20675517853690248},\n",
      " 'Collateral_valuation': {'00.[-inf ~ 1632.0)': -0.7790333148860933,\n",
      "                          '01.[1632.0 ~ 2925.0)': -0.4731172550867478,\n",
      "                          '02.[2925.0 ~ 4909.600000000002)': -0.3906025144026075,\n",
      "                          '03.[4909.600000000002 ~ 9045.0)': -0.08333161569313545,\n",
      "                          '04.[9045.0 ~ inf)': 0.49551975283560795,\n",
      "                          '05.nan': 0.20675517853690248},\n",
      " 'Current_Loans': {'00.[-inf ~ 2.0)': 0.04929295744906977,\n",
      "                   '01.[2.0 ~ inf)': 0.02281418074995262,\n",
      "                   '02.nan': -0.13241650940588606},\n",
      " 'Guarantor': {'00.cat_1': -0.04141152483573542,\n",
      "               '01.cat_0': 0.0038639353466027033},\n",
      " 'Historic_Loans': {'00.[-inf ~ 2.0)': 0.35188822057533614,\n",
      "                    '01.[2.0 ~ 4.0)': 0.1320973044757982,\n",
      "                    '02.[4.0 ~ 7.0)': -0.17612309441339116,\n",
      "                    '03.[7.0 ~ inf)': -0.5944616620841583},\n",
      " 'Max_Arrears': {'00.[-inf ~ 41.0)': -0.07183307589231014,\n",
      "                 '01.[41.0 ~ inf)': 0.2560236564948117},\n",
      " 'Properties_Status': {'00.cat_B': -0.17836537892315527,\n",
      "                       '01.cat_D,cat_A,cat_..': 0.272905697025123},\n",
      " 'Properties_Total': {'00.[-inf ~ 2.0)': 0.3537927638215846,\n",
      "                      '01.[2.0 ~ 3.0)': -0.27110424729381544,\n",
      "                      '02.[3.0 ~ inf)': -0.3766177534106816},\n",
      " 'Region': {'00.cat_10,cat_11': -1.1731125336972388,\n",
      "            '01.cat_14,cat_12,ca..': 0.030929898055105588,\n",
      "            '02.cat_9,cat_1': 0.3158644155442489,\n",
      "            '03.cat_7,cat_6,cat_..': 0.5851376531246174},\n",
      " 'Term': {'00.[-inf ~ 19.0)': -0.45945997690512086,\n",
      "          '01.[19.0 ~ 23.0)': -0.40268481150984536,\n",
      "          '02.[23.0 ~ 35.0)': -0.2093807702388317,\n",
      "          '03.[35.0 ~ inf)': 0.7082032474899569}}\n"
     ]
    }
   ],
   "source": [
    "pprint(woe.woe_encoder.export(), compact=True)"
   ]
  },
  {
   "cell_type": "markdown",
   "id": "006d93f0",
   "metadata": {},
   "source": [
    "# 手动更新分箱"
   ]
  },
  {
   "cell_type": "code",
   "execution_count": 18,
   "id": "2f2f17d1",
   "metadata": {},
   "outputs": [
    {
     "name": "stdout",
     "output_type": "stream",
     "text": [
      "finish update rule\n",
      "finish combiner transform\n"
     ]
    },
    {
     "name": "stderr",
     "output_type": "stream",
     "text": [
      "100%|██████████| 2/2 [00:00<00:00, 37.64it/s]"
     ]
    },
    {
     "name": "stdout",
     "output_type": "stream",
     "text": [
      "finish WOE refit\n"
     ]
    },
    {
     "name": "stderr",
     "output_type": "stream",
     "text": [
      "\n"
     ]
    }
   ],
   "source": [
    "rule = {\n",
    "    'Age': [20, 30, 40, 50], \n",
    "    'Amount': [25000, 50000, 80000, 100000]\n",
    "}\n",
    "woe.update_rule(rule, df_data, label, exclude=['AppNo', label])"
   ]
  },
  {
   "cell_type": "code",
   "execution_count": 19,
   "id": "b317d208",
   "metadata": {},
   "outputs": [
    {
     "name": "stdout",
     "output_type": "stream",
     "text": [
      "{'Activity': [['cat_17.0'], ['cat_14.0', 'cat_10.0'], ['cat_18.0', 'cat_nan'],\n",
      "              ['cat_1.0', 'cat_15.0'],\n",
      "              ['cat_19.0', 'cat_3.0', 'cat_16.0', 'cat_5.0', 'cat_12.0',\n",
      "               'cat_9.0', 'cat_8.0', 'cat_4.0', 'cat_2.0', 'cat_6.0', 'cat_7.0',\n",
      "               'cat_11.0']],\n",
      " 'Age': [20, 30, 40, 50],\n",
      " 'Amount': [25000, 50000, 80000, 100000],\n",
      " 'Area': [['cat_90', 'cat_75', 'cat_65', 'cat_45', 'cat_55'],\n",
      "          ['cat_95', 'cat_57', 'cat_80', 'cat_85', 'cat_25', 'cat_70'],\n",
      "          ['cat_5', 'cat_30'],\n",
      "          ['cat_40', 'cat_87', 'cat_20', 'cat_60', 'cat_50'],\n",
      "          ['cat_15', 'cat_10', 'cat_35']],\n",
      " 'Collateral': [['cat_1'], ['cat_0']],\n",
      " 'Collateral_valuation': [1632.0, 2925.0, 4909.600000000002, 9045.0, nan],\n",
      " 'Current_Loans': [2.0, nan],\n",
      " 'Guarantor': [['cat_1'], ['cat_0']],\n",
      " 'Historic_Loans': [2.0, 4.0, 7.0],\n",
      " 'Max_Arrears': [41.0],\n",
      " 'Properties_Status': [['cat_B'], ['cat_D', 'cat_A', 'cat_C']],\n",
      " 'Properties_Total': [2.0, 3.0],\n",
      " 'Region': [['cat_10', 'cat_11'], ['cat_14', 'cat_12', 'cat_8'],\n",
      "            ['cat_9', 'cat_1'],\n",
      "            ['cat_7', 'cat_6', 'cat_4', 'cat_2', 'cat_5', 'cat_13', 'cat_15',\n",
      "             'cat_3']],\n",
      " 'Term': [19.0, 23.0, 35.0]}\n"
     ]
    }
   ],
   "source": [
    "pprint(woe.combiner.export(), compact=True)"
   ]
  },
  {
   "cell_type": "code",
   "execution_count": 20,
   "id": "162cefa4",
   "metadata": {},
   "outputs": [
    {
     "name": "stdout",
     "output_type": "stream",
     "text": [
      "{'Activity': {'00.cat_17.0': -1.0151835792767194,\n",
      "              '01.cat_14.0,cat_10...': -0.7944111181195914,\n",
      "              '02.cat_18.0,cat_nan': -0.13008891743452072,\n",
      "              '03.cat_1.0,cat_15.0': 0.002896482207561219,\n",
      "              '04.cat_19.0,cat_3.0..': 0.7299110361583229},\n",
      " 'Age': {'00.[-inf ~ 20)': 1.0319368656569874,\n",
      "         '01.[20 ~ 30)': 0.4526441002103075,\n",
      "         '02.[30 ~ 40)': 0.16379411587243822,\n",
      "         '03.[40 ~ 50)': -0.17772062032415029,\n",
      "         '04.[50 ~ inf)': -0.3875641111219295},\n",
      " 'Amount': {'00.[-inf ~ 25000)': -0.07076435975391539,\n",
      "            '01.[25000 ~ 50000)': 0.9239795338071148,\n",
      "            '02.[50000 ~ 80000)': 0.6162492426414344,\n",
      "            '03.[80000 ~ 100000)': 0.6451638905609753,\n",
      "            '04.[100000 ~ inf)': 0.5273808549045919},\n",
      " 'Area': {'00.cat_90,cat_75,ca..': -0.7215296862451074,\n",
      "          '01.cat_95,cat_57,ca..': -0.1764867839298167,\n",
      "          '02.cat_5,cat_30': -0.057014962029317835,\n",
      "          '03.cat_40,cat_87,ca..': 0.09651343534040324,\n",
      "          '04.cat_15,cat_10,ca..': 0.48172074979083257},\n",
      " 'Collateral': {'00.cat_1': -0.17791064056587275,\n",
      "                '01.cat_0': 0.20675517853690248},\n",
      " 'Collateral_valuation': {'00.[-inf ~ 1632.0)': -0.7790333148860933,\n",
      "                          '01.[1632.0 ~ 2925.0)': -0.4731172550867478,\n",
      "                          '02.[2925.0 ~ 4909.600000000002)': -0.3906025144026075,\n",
      "                          '03.[4909.600000000002 ~ 9045.0)': -0.08333161569313545,\n",
      "                          '04.[9045.0 ~ inf)': 0.49551975283560795,\n",
      "                          '05.nan': 0.20675517853690248},\n",
      " 'Current_Loans': {'00.[-inf ~ 2.0)': 0.04929295744906977,\n",
      "                   '01.[2.0 ~ inf)': 0.02281418074995262,\n",
      "                   '02.nan': -0.13241650940588606},\n",
      " 'Guarantor': {'00.cat_1': -0.04141152483573542,\n",
      "               '01.cat_0': 0.0038639353466027033},\n",
      " 'Historic_Loans': {'00.[-inf ~ 2.0)': 0.35188822057533614,\n",
      "                    '01.[2.0 ~ 4.0)': 0.1320973044757982,\n",
      "                    '02.[4.0 ~ 7.0)': -0.17612309441339116,\n",
      "                    '03.[7.0 ~ inf)': -0.5944616620841583},\n",
      " 'Max_Arrears': {'00.[-inf ~ 41.0)': -0.07183307589231014,\n",
      "                 '01.[41.0 ~ inf)': 0.2560236564948117},\n",
      " 'Properties_Status': {'00.cat_B': -0.17836537892315527,\n",
      "                       '01.cat_D,cat_A,cat_..': 0.272905697025123},\n",
      " 'Properties_Total': {'00.[-inf ~ 2.0)': 0.3537927638215846,\n",
      "                      '01.[2.0 ~ 3.0)': -0.27110424729381544,\n",
      "                      '02.[3.0 ~ inf)': -0.3766177534106816},\n",
      " 'Region': {'00.cat_10,cat_11': -1.1731125336972388,\n",
      "            '01.cat_14,cat_12,ca..': 0.030929898055105588,\n",
      "            '02.cat_9,cat_1': 0.3158644155442489,\n",
      "            '03.cat_7,cat_6,cat_..': 0.5851376531246174},\n",
      " 'Term': {'00.[-inf ~ 19.0)': -0.45945997690512086,\n",
      "          '01.[19.0 ~ 23.0)': -0.40268481150984536,\n",
      "          '02.[23.0 ~ 35.0)': -0.2093807702388317,\n",
      "          '03.[35.0 ~ inf)': 0.7082032474899569}}\n"
     ]
    }
   ],
   "source": [
    "pprint(woe.woe_encoder.export(), compact=True)"
   ]
  },
  {
   "cell_type": "code",
   "execution_count": null,
   "id": "a052afee",
   "metadata": {},
   "outputs": [],
   "source": []
  },
  {
   "cell_type": "markdown",
   "id": "3609b11e",
   "metadata": {},
   "source": [
    "# 单调分箱"
   ]
  },
  {
   "cell_type": "code",
   "execution_count": 21,
   "id": "d855ed32",
   "metadata": {},
   "outputs": [
    {
     "name": "stderr",
     "output_type": "stream",
     "text": [
      "\r",
      "  0%|          | 0/14 [00:00<?, ?it/s]"
     ]
    },
    {
     "name": "stdout",
     "output_type": "stream",
     "text": [
      "add edge case: None in Age\n"
     ]
    },
    {
     "name": "stderr",
     "output_type": "stream",
     "text": [
      " 64%|██████▍   | 9/14 [00:21<00:07,  1.54s/it]"
     ]
    },
    {
     "name": "stdout",
     "output_type": "stream",
     "text": [
      "add edge case: None in Historic_Loans\n"
     ]
    },
    {
     "name": "stderr",
     "output_type": "stream",
     "text": [
      " 86%|████████▌ | 12/14 [00:21<00:01,  1.26it/s]"
     ]
    },
    {
     "name": "stdout",
     "output_type": "stream",
     "text": [
      "add edge case: None in Max_Arrears\n",
      "add edge case: None in Term\n"
     ]
    },
    {
     "name": "stderr",
     "output_type": "stream",
     "text": [
      "100%|██████████| 14/14 [00:22<00:00,  1.60s/it]\n"
     ]
    },
    {
     "data": {
      "text/plain": [
       "<util.woe_mono.WOEMono at 0x155a9bfe920>"
      ]
     },
     "execution_count": 21,
     "metadata": {},
     "output_type": "execute_result"
    }
   ],
   "source": [
    "won = woe_mono.WOEMono()\n",
    "won.fit(df_data[features], df_data[label], categorical_features=cat_cols, missing_values=[18])"
   ]
  },
  {
   "cell_type": "code",
   "execution_count": 22,
   "id": "cab47cef",
   "metadata": {},
   "outputs": [
    {
     "name": "stdout",
     "output_type": "stream",
     "text": [
      "{'Activity': {'data': ['cat_1.0', 'cat_10.0', 'cat_11.0', 'cat_12.0',\n",
      "                       'cat_14.0', 'cat_15.0', 'cat_16.0', 'cat_17.0',\n",
      "                       'cat_18.0', 'cat_19.0', 'cat_2.0', 'cat_3.0', 'cat_4.0',\n",
      "                       'cat_5.0', 'cat_6.0', 'cat_7.0', 'cat_8.0', 'cat_9.0',\n",
      "                       'cat_nan'],\n",
      "              'missing': ['NA']},\n",
      " 'Age': {'data': [-inf, 26.0, 34.0, 41.0, 47.0, inf],\n",
      "         'missing': [-990000.0, 18.0]},\n",
      " 'Amount': {'data': [-inf, 3481.0, 7944.0, 12013.0, 25318.0, inf],\n",
      "            'missing': [-990000.0]},\n",
      " 'Area': {'data': ['cat_10', 'cat_15', 'cat_20', 'cat_25', 'cat_30', 'cat_35',\n",
      "                   'cat_40', 'cat_45', 'cat_5', 'cat_50', 'cat_55', 'cat_57',\n",
      "                   'cat_60', 'cat_65', 'cat_70', 'cat_75', 'cat_80', 'cat_85',\n",
      "                   'cat_87', 'cat_90', 'cat_95'],\n",
      "          'missing': ['NA']},\n",
      " 'Collateral': {'data': ['cat_0', 'cat_1'], 'missing': ['NA']},\n",
      " 'Collateral_valuation': {'data': [-inf, 2055.0, 4569.0, 9798.0, 16158.0, inf],\n",
      "                          'missing': [-990000.0]},\n",
      " 'Current_Loans': {'data': [-inf, 2.0, 3.0, inf], 'missing': [-990000.0]},\n",
      " 'Guarantor': {'data': ['cat_0', 'cat_1'], 'missing': ['NA']},\n",
      " 'Historic_Loans': {'data': [-inf, 1.0, 3.0, 7.0, 13.0, inf],\n",
      "                    'missing': [-990000.0, 18.0]},\n",
      " 'Max_Arrears': {'data': [-inf, 69.0, 206.0, 327.0, 576.0, inf],\n",
      "                 'missing': [-990000.0, 18.0]},\n",
      " 'Properties_Status': {'data': ['cat_A', 'cat_B', 'cat_C', 'cat_D'],\n",
      "                       'missing': ['NA']},\n",
      " 'Properties_Total': {'data': [-inf, 1.0, 2.0, 3.0, inf],\n",
      "                      'missing': [-990000.0]},\n",
      " 'Region': {'data': ['cat_1', 'cat_10', 'cat_11', 'cat_12', 'cat_13', 'cat_14',\n",
      "                     'cat_15', 'cat_2', 'cat_3', 'cat_4', 'cat_5', 'cat_6',\n",
      "                     'cat_7', 'cat_8', 'cat_9'],\n",
      "            'missing': ['NA']},\n",
      " 'Term': {'data': [-inf, 13.0, 29.0, 37.0, 52.0, inf],\n",
      "          'missing': [-990000.0, 18.0]}}\n"
     ]
    }
   ],
   "source": [
    "pprint(won.export(), compact=True)"
   ]
  },
  {
   "cell_type": "markdown",
   "id": "a8db817f",
   "metadata": {},
   "source": [
    "# 带多缺失值的WOE"
   ]
  },
  {
   "cell_type": "code",
   "execution_count": 23,
   "id": "01792cf9",
   "metadata": {},
   "outputs": [
    {
     "name": "stderr",
     "output_type": "stream",
     "text": [
      "\r",
      "  0%|          | 0/14 [00:00<?, ?it/s]"
     ]
    },
    {
     "name": "stdout",
     "output_type": "stream",
     "text": [
      "add edge case: None in Age\n"
     ]
    },
    {
     "name": "stderr",
     "output_type": "stream",
     "text": [
      " 64%|██████▍   | 9/14 [00:21<00:07,  1.51s/it]"
     ]
    },
    {
     "name": "stdout",
     "output_type": "stream",
     "text": [
      "add edge case: None in Historic_Loans\n"
     ]
    },
    {
     "name": "stderr",
     "output_type": "stream",
     "text": [
      " 86%|████████▌ | 12/14 [00:21<00:01,  1.29it/s]"
     ]
    },
    {
     "name": "stdout",
     "output_type": "stream",
     "text": [
      "add edge case: None in Max_Arrears\n",
      "add edge case: None in Term\n"
     ]
    },
    {
     "name": "stderr",
     "output_type": "stream",
     "text": [
      "100%|██████████| 14/14 [00:22<00:00,  1.58s/it]\n"
     ]
    },
    {
     "data": {
      "text/plain": [
       "<util.woe_mono.WOEMono at 0x155afc243a0>"
      ]
     },
     "execution_count": 23,
     "metadata": {},
     "output_type": "execute_result"
    }
   ],
   "source": [
    "won = woe_mono.WOEMono()\n",
    "won.fit(df_data[features], df_data[label], categorical_features=cat_cols, missing_values=[18])"
   ]
  },
  {
   "cell_type": "code",
   "execution_count": 24,
   "id": "462d2d05",
   "metadata": {},
   "outputs": [
    {
     "name": "stdout",
     "output_type": "stream",
     "text": [
      "{'Activity': {'data': ['cat_1.0', 'cat_10.0', 'cat_11.0', 'cat_12.0',\n",
      "                       'cat_14.0', 'cat_15.0', 'cat_16.0', 'cat_17.0',\n",
      "                       'cat_18.0', 'cat_19.0', 'cat_2.0', 'cat_3.0', 'cat_4.0',\n",
      "                       'cat_5.0', 'cat_6.0', 'cat_7.0', 'cat_8.0', 'cat_9.0',\n",
      "                       'cat_nan'],\n",
      "              'missing': ['NA']},\n",
      " 'Age': {'data': [-inf, 26.0, 34.0, 41.0, 47.0, inf],\n",
      "         'missing': [-990000.0, 18.0]},\n",
      " 'Amount': {'data': [-inf, 3481.0, 7944.0, 12013.0, 25318.0, inf],\n",
      "            'missing': [-990000.0]},\n",
      " 'Area': {'data': ['cat_10', 'cat_15', 'cat_20', 'cat_25', 'cat_30', 'cat_35',\n",
      "                   'cat_40', 'cat_45', 'cat_5', 'cat_50', 'cat_55', 'cat_57',\n",
      "                   'cat_60', 'cat_65', 'cat_70', 'cat_75', 'cat_80', 'cat_85',\n",
      "                   'cat_87', 'cat_90', 'cat_95'],\n",
      "          'missing': ['NA']},\n",
      " 'Collateral': {'data': ['cat_0', 'cat_1'], 'missing': ['NA']},\n",
      " 'Collateral_valuation': {'data': [-inf, 2055.0, 4569.0, 9798.0, 16158.0, inf],\n",
      "                          'missing': [-990000.0]},\n",
      " 'Current_Loans': {'data': [-inf, 2.0, 3.0, inf], 'missing': [-990000.0]},\n",
      " 'Guarantor': {'data': ['cat_0', 'cat_1'], 'missing': ['NA']},\n",
      " 'Historic_Loans': {'data': [-inf, 1.0, 3.0, 7.0, 13.0, inf],\n",
      "                    'missing': [-990000.0, 18.0]},\n",
      " 'Max_Arrears': {'data': [-inf, 69.0, 206.0, 327.0, 576.0, inf],\n",
      "                 'missing': [-990000.0, 18.0]},\n",
      " 'Properties_Status': {'data': ['cat_A', 'cat_B', 'cat_C', 'cat_D'],\n",
      "                       'missing': ['NA']},\n",
      " 'Properties_Total': {'data': [-inf, 1.0, 2.0, 3.0, inf],\n",
      "                      'missing': [-990000.0]},\n",
      " 'Region': {'data': ['cat_1', 'cat_10', 'cat_11', 'cat_12', 'cat_13', 'cat_14',\n",
      "                     'cat_15', 'cat_2', 'cat_3', 'cat_4', 'cat_5', 'cat_6',\n",
      "                     'cat_7', 'cat_8', 'cat_9'],\n",
      "            'missing': ['NA']},\n",
      " 'Term': {'data': [-inf, 13.0, 29.0, 37.0, 52.0, inf],\n",
      "          'missing': [-990000.0, 18.0]}}\n"
     ]
    }
   ],
   "source": [
    "pprint(won.export(), compact=True)"
   ]
  },
  {
   "cell_type": "markdown",
   "id": "0ef58b69",
   "metadata": {},
   "source": [
    "# 特征报表"
   ]
  },
  {
   "cell_type": "code",
   "execution_count": 25,
   "id": "8fcb7410",
   "metadata": {},
   "outputs": [
    {
     "name": "stderr",
     "output_type": "stream",
     "text": [
      "100%|██████████| 14/14 [00:00<00:00, 53.62it/s]\n"
     ]
    },
    {
     "name": "stdout",
     "output_type": "stream",
     "text": [
      "finish combiner fit\n",
      "finish combiner transform\n"
     ]
    },
    {
     "name": "stderr",
     "output_type": "stream",
     "text": [
      "100%|██████████| 14/14 [00:00<00:00, 54.92it/s]\n"
     ]
    },
    {
     "name": "stdout",
     "output_type": "stream",
     "text": [
      "finish WOE fit\n",
      "finish update rule\n",
      "finish combiner transform\n"
     ]
    },
    {
     "name": "stderr",
     "output_type": "stream",
     "text": [
      "100%|██████████| 2/2 [00:00<00:00, 39.29it/s]"
     ]
    },
    {
     "name": "stdout",
     "output_type": "stream",
     "text": [
      "finish WOE refit\n"
     ]
    },
    {
     "name": "stderr",
     "output_type": "stream",
     "text": [
      "\n"
     ]
    }
   ],
   "source": [
    "woe = woe_helper.WOE()\n",
    "woe.fit(df_data, label, exclude=['AppNo', label], method='dt')\n",
    "rule = {\n",
    "    'Age': [20, 30, 40, 50], \n",
    "    'Amount': [25000, 50000, 80000, 100000]\n",
    "}\n",
    "woe.update_rule(rule, df_data, label, exclude=['AppNo', label])"
   ]
  },
  {
   "cell_type": "code",
   "execution_count": 26,
   "id": "284ae031",
   "metadata": {},
   "outputs": [
    {
     "name": "stderr",
     "output_type": "stream",
     "text": [
      "100%|██████████| 14/14 [00:00<00:00, 107.57it/s]\n",
      "100%|██████████| 14/14 [00:00<00:00, 117.25it/s]\n"
     ]
    }
   ],
   "source": [
    "df_woe = woe.transform(df_data)"
   ]
  },
  {
   "cell_type": "code",
   "execution_count": 27,
   "id": "25b2b350",
   "metadata": {},
   "outputs": [
    {
     "data": {
      "text/html": [
       "<div>\n",
       "<style scoped>\n",
       "    .dataframe tbody tr th:only-of-type {\n",
       "        vertical-align: middle;\n",
       "    }\n",
       "\n",
       "    .dataframe tbody tr th {\n",
       "        vertical-align: top;\n",
       "    }\n",
       "\n",
       "    .dataframe thead th {\n",
       "        text-align: right;\n",
       "    }\n",
       "</style>\n",
       "<table border=\"1\" class=\"dataframe\">\n",
       "  <thead>\n",
       "    <tr style=\"text-align: right;\">\n",
       "      <th></th>\n",
       "      <th>AppNo</th>\n",
       "      <th>Region</th>\n",
       "      <th>Area</th>\n",
       "      <th>Activity</th>\n",
       "      <th>Guarantor</th>\n",
       "      <th>Collateral</th>\n",
       "      <th>Collateral_valuation</th>\n",
       "      <th>Age</th>\n",
       "      <th>Properties_Status</th>\n",
       "      <th>Properties_Total</th>\n",
       "      <th>Amount</th>\n",
       "      <th>Term</th>\n",
       "      <th>Historic_Loans</th>\n",
       "      <th>Current_Loans</th>\n",
       "      <th>Max_Arrears</th>\n",
       "      <th>Defaulter</th>\n",
       "    </tr>\n",
       "  </thead>\n",
       "  <tbody>\n",
       "    <tr>\n",
       "      <th>0</th>\n",
       "      <td>350121</td>\n",
       "      <td>-1.278657</td>\n",
       "      <td>-0.679502</td>\n",
       "      <td>1.000392</td>\n",
       "      <td>0.0</td>\n",
       "      <td>-0.177911</td>\n",
       "      <td>-0.415148</td>\n",
       "      <td>0.452644</td>\n",
       "      <td>0.554029</td>\n",
       "      <td>-0.271104</td>\n",
       "      <td>-0.070764</td>\n",
       "      <td>-0.369295</td>\n",
       "      <td>0.351888</td>\n",
       "      <td>0.049293</td>\n",
       "      <td>-0.016711</td>\n",
       "      <td>0</td>\n",
       "    </tr>\n",
       "    <tr>\n",
       "      <th>1</th>\n",
       "      <td>350122</td>\n",
       "      <td>0.796758</td>\n",
       "      <td>0.550846</td>\n",
       "      <td>1.000392</td>\n",
       "      <td>0.0</td>\n",
       "      <td>0.206755</td>\n",
       "      <td>0.206755</td>\n",
       "      <td>0.452644</td>\n",
       "      <td>0.554029</td>\n",
       "      <td>-0.271104</td>\n",
       "      <td>-0.070764</td>\n",
       "      <td>-0.391945</td>\n",
       "      <td>0.351888</td>\n",
       "      <td>0.049293</td>\n",
       "      <td>-0.016711</td>\n",
       "      <td>0</td>\n",
       "    </tr>\n",
       "    <tr>\n",
       "      <th>2</th>\n",
       "      <td>350123</td>\n",
       "      <td>0.433117</td>\n",
       "      <td>0.239826</td>\n",
       "      <td>0.002896</td>\n",
       "      <td>0.0</td>\n",
       "      <td>0.206755</td>\n",
       "      <td>0.206755</td>\n",
       "      <td>0.452644</td>\n",
       "      <td>0.554029</td>\n",
       "      <td>0.353793</td>\n",
       "      <td>-0.070764</td>\n",
       "      <td>-0.369295</td>\n",
       "      <td>0.351888</td>\n",
       "      <td>0.049293</td>\n",
       "      <td>-0.016711</td>\n",
       "      <td>0</td>\n",
       "    </tr>\n",
       "    <tr>\n",
       "      <th>3</th>\n",
       "      <td>350124</td>\n",
       "      <td>-1.278657</td>\n",
       "      <td>-0.679502</td>\n",
       "      <td>-0.812984</td>\n",
       "      <td>0.0</td>\n",
       "      <td>-0.177911</td>\n",
       "      <td>-0.755580</td>\n",
       "      <td>-0.387564</td>\n",
       "      <td>-0.178365</td>\n",
       "      <td>0.353793</td>\n",
       "      <td>-0.070764</td>\n",
       "      <td>-0.506836</td>\n",
       "      <td>-0.221984</td>\n",
       "      <td>-0.039871</td>\n",
       "      <td>-0.173901</td>\n",
       "      <td>0</td>\n",
       "    </tr>\n",
       "    <tr>\n",
       "      <th>4</th>\n",
       "      <td>350125</td>\n",
       "      <td>-1.278657</td>\n",
       "      <td>-0.117455</td>\n",
       "      <td>-0.812984</td>\n",
       "      <td>0.0</td>\n",
       "      <td>-0.177911</td>\n",
       "      <td>-0.755580</td>\n",
       "      <td>0.163794</td>\n",
       "      <td>-0.178365</td>\n",
       "      <td>-0.271104</td>\n",
       "      <td>-0.070764</td>\n",
       "      <td>-0.506836</td>\n",
       "      <td>-0.221984</td>\n",
       "      <td>-0.039871</td>\n",
       "      <td>-0.016711</td>\n",
       "      <td>0</td>\n",
       "    </tr>\n",
       "  </tbody>\n",
       "</table>\n",
       "</div>"
      ],
      "text/plain": [
       "    AppNo    Region      Area  Activity  Guarantor  Collateral  Collateral_valuation       Age  Properties_Status  Properties_Total    Amount      Term  Historic_Loans  Current_Loans  Max_Arrears  Defaulter\n",
       "0  350121 -1.278657 -0.679502  1.000392        0.0   -0.177911             -0.415148  0.452644           0.554029         -0.271104 -0.070764 -0.369295        0.351888       0.049293    -0.016711          0\n",
       "1  350122  0.796758  0.550846  1.000392        0.0    0.206755              0.206755  0.452644           0.554029         -0.271104 -0.070764 -0.391945        0.351888       0.049293    -0.016711          0\n",
       "2  350123  0.433117  0.239826  0.002896        0.0    0.206755              0.206755  0.452644           0.554029          0.353793 -0.070764 -0.369295        0.351888       0.049293    -0.016711          0\n",
       "3  350124 -1.278657 -0.679502 -0.812984        0.0   -0.177911             -0.755580 -0.387564          -0.178365          0.353793 -0.070764 -0.506836       -0.221984      -0.039871    -0.173901          0\n",
       "4  350125 -1.278657 -0.117455 -0.812984        0.0   -0.177911             -0.755580  0.163794          -0.178365         -0.271104 -0.070764 -0.506836       -0.221984      -0.039871    -0.016711          0"
      ]
     },
     "execution_count": 27,
     "metadata": {},
     "output_type": "execute_result"
    }
   ],
   "source": [
    "df_woe.head()"
   ]
  },
  {
   "cell_type": "code",
   "execution_count": 28,
   "id": "b60be504",
   "metadata": {},
   "outputs": [
    {
     "name": "stderr",
     "output_type": "stream",
     "text": [
      "100%|██████████| 14/14 [00:00<00:00, 110.74it/s]\n"
     ]
    }
   ],
   "source": [
    "df_bin = woe.transform(df_data, bin_only=True)"
   ]
  },
  {
   "cell_type": "code",
   "execution_count": 29,
   "id": "42758062",
   "metadata": {},
   "outputs": [
    {
     "data": {
      "text/html": [
       "<div>\n",
       "<style scoped>\n",
       "    .dataframe tbody tr th:only-of-type {\n",
       "        vertical-align: middle;\n",
       "    }\n",
       "\n",
       "    .dataframe tbody tr th {\n",
       "        vertical-align: top;\n",
       "    }\n",
       "\n",
       "    .dataframe thead th {\n",
       "        text-align: right;\n",
       "    }\n",
       "</style>\n",
       "<table border=\"1\" class=\"dataframe\">\n",
       "  <thead>\n",
       "    <tr style=\"text-align: right;\">\n",
       "      <th></th>\n",
       "      <th>AppNo</th>\n",
       "      <th>Region</th>\n",
       "      <th>Area</th>\n",
       "      <th>Activity</th>\n",
       "      <th>Guarantor</th>\n",
       "      <th>Collateral</th>\n",
       "      <th>Collateral_valuation</th>\n",
       "      <th>Age</th>\n",
       "      <th>Properties_Status</th>\n",
       "      <th>Properties_Total</th>\n",
       "      <th>Amount</th>\n",
       "      <th>Term</th>\n",
       "      <th>Historic_Loans</th>\n",
       "      <th>Current_Loans</th>\n",
       "      <th>Max_Arrears</th>\n",
       "      <th>Defaulter</th>\n",
       "    </tr>\n",
       "  </thead>\n",
       "  <tbody>\n",
       "    <tr>\n",
       "      <th>0</th>\n",
       "      <td>350121</td>\n",
       "      <td>00.cat_10</td>\n",
       "      <td>00.cat_90,cat_75,ca..</td>\n",
       "      <td>04.cat_9.0,cat_8.0,..</td>\n",
       "      <td>00.cat_1,cat_0</td>\n",
       "      <td>00.cat_1</td>\n",
       "      <td>01.[2057.0 ~ 4571.0)</td>\n",
       "      <td>01.[20 ~ 30)</td>\n",
       "      <td>02.cat_A,cat_C</td>\n",
       "      <td>01.[1.5 ~ 2.5)</td>\n",
       "      <td>00.[-inf ~ 25000)</td>\n",
       "      <td>01.[13.5 ~ 22.5)</td>\n",
       "      <td>00.[-inf ~ 1.5)</td>\n",
       "      <td>00.[-inf ~ 1.5)</td>\n",
       "      <td>00.[-inf ~ 0.5)</td>\n",
       "      <td>0</td>\n",
       "    </tr>\n",
       "    <tr>\n",
       "      <th>1</th>\n",
       "      <td>350122</td>\n",
       "      <td>04.cat_4,cat_2,cat_..</td>\n",
       "      <td>04.cat_10,cat_35</td>\n",
       "      <td>04.cat_9.0,cat_8.0,..</td>\n",
       "      <td>00.cat_1,cat_0</td>\n",
       "      <td>01.cat_0</td>\n",
       "      <td>05.nan</td>\n",
       "      <td>01.[20 ~ 30)</td>\n",
       "      <td>02.cat_A,cat_C</td>\n",
       "      <td>01.[1.5 ~ 2.5)</td>\n",
       "      <td>00.[-inf ~ 25000)</td>\n",
       "      <td>02.[22.5 ~ 29.5)</td>\n",
       "      <td>00.[-inf ~ 1.5)</td>\n",
       "      <td>00.[-inf ~ 1.5)</td>\n",
       "      <td>00.[-inf ~ 0.5)</td>\n",
       "      <td>0</td>\n",
       "    </tr>\n",
       "    <tr>\n",
       "      <th>2</th>\n",
       "      <td>350123</td>\n",
       "      <td>03.cat_1,cat_7,cat_..</td>\n",
       "      <td>03.cat_20,cat_60,ca..</td>\n",
       "      <td>02.cat_1.0,cat_15.0</td>\n",
       "      <td>00.cat_1,cat_0</td>\n",
       "      <td>01.cat_0</td>\n",
       "      <td>05.nan</td>\n",
       "      <td>01.[20 ~ 30)</td>\n",
       "      <td>02.cat_A,cat_C</td>\n",
       "      <td>00.[-inf ~ 1.5)</td>\n",
       "      <td>00.[-inf ~ 25000)</td>\n",
       "      <td>01.[13.5 ~ 22.5)</td>\n",
       "      <td>00.[-inf ~ 1.5)</td>\n",
       "      <td>00.[-inf ~ 1.5)</td>\n",
       "      <td>00.[-inf ~ 0.5)</td>\n",
       "      <td>0</td>\n",
       "    </tr>\n",
       "    <tr>\n",
       "      <th>3</th>\n",
       "      <td>350124</td>\n",
       "      <td>00.cat_10</td>\n",
       "      <td>00.cat_90,cat_75,ca..</td>\n",
       "      <td>00.cat_17.0,cat_14...</td>\n",
       "      <td>00.cat_1,cat_0</td>\n",
       "      <td>00.cat_1</td>\n",
       "      <td>00.[-inf ~ 2057.0)</td>\n",
       "      <td>04.[50 ~ inf)</td>\n",
       "      <td>00.cat_B</td>\n",
       "      <td>00.[-inf ~ 1.5)</td>\n",
       "      <td>00.[-inf ~ 25000)</td>\n",
       "      <td>00.[-inf ~ 13.5)</td>\n",
       "      <td>03.[3.5 ~ 8.5)</td>\n",
       "      <td>01.[1.5 ~ 2.5)</td>\n",
       "      <td>02.[37.5 ~ 133.5)</td>\n",
       "      <td>0</td>\n",
       "    </tr>\n",
       "    <tr>\n",
       "      <th>4</th>\n",
       "      <td>350125</td>\n",
       "      <td>00.cat_10</td>\n",
       "      <td>01.cat_80,cat_85,ca..</td>\n",
       "      <td>00.cat_17.0,cat_14...</td>\n",
       "      <td>00.cat_1,cat_0</td>\n",
       "      <td>00.cat_1</td>\n",
       "      <td>00.[-inf ~ 2057.0)</td>\n",
       "      <td>02.[30 ~ 40)</td>\n",
       "      <td>00.cat_B</td>\n",
       "      <td>01.[1.5 ~ 2.5)</td>\n",
       "      <td>00.[-inf ~ 25000)</td>\n",
       "      <td>00.[-inf ~ 13.5)</td>\n",
       "      <td>03.[3.5 ~ 8.5)</td>\n",
       "      <td>01.[1.5 ~ 2.5)</td>\n",
       "      <td>00.[-inf ~ 0.5)</td>\n",
       "      <td>0</td>\n",
       "    </tr>\n",
       "  </tbody>\n",
       "</table>\n",
       "</div>"
      ],
      "text/plain": [
       "    AppNo                 Region                   Area               Activity       Guarantor Collateral  Collateral_valuation            Age Properties_Status Properties_Total             Amount              Term   Historic_Loans    Current_Loans        Max_Arrears  Defaulter\n",
       "0  350121              00.cat_10  00.cat_90,cat_75,ca..  04.cat_9.0,cat_8.0,..  00.cat_1,cat_0   00.cat_1  01.[2057.0 ~ 4571.0)   01.[20 ~ 30)    02.cat_A,cat_C   01.[1.5 ~ 2.5)  00.[-inf ~ 25000)  01.[13.5 ~ 22.5)  00.[-inf ~ 1.5)  00.[-inf ~ 1.5)    00.[-inf ~ 0.5)          0\n",
       "1  350122  04.cat_4,cat_2,cat_..       04.cat_10,cat_35  04.cat_9.0,cat_8.0,..  00.cat_1,cat_0   01.cat_0                05.nan   01.[20 ~ 30)    02.cat_A,cat_C   01.[1.5 ~ 2.5)  00.[-inf ~ 25000)  02.[22.5 ~ 29.5)  00.[-inf ~ 1.5)  00.[-inf ~ 1.5)    00.[-inf ~ 0.5)          0\n",
       "2  350123  03.cat_1,cat_7,cat_..  03.cat_20,cat_60,ca..    02.cat_1.0,cat_15.0  00.cat_1,cat_0   01.cat_0                05.nan   01.[20 ~ 30)    02.cat_A,cat_C  00.[-inf ~ 1.5)  00.[-inf ~ 25000)  01.[13.5 ~ 22.5)  00.[-inf ~ 1.5)  00.[-inf ~ 1.5)    00.[-inf ~ 0.5)          0\n",
       "3  350124              00.cat_10  00.cat_90,cat_75,ca..  00.cat_17.0,cat_14...  00.cat_1,cat_0   00.cat_1    00.[-inf ~ 2057.0)  04.[50 ~ inf)          00.cat_B  00.[-inf ~ 1.5)  00.[-inf ~ 25000)  00.[-inf ~ 13.5)   03.[3.5 ~ 8.5)   01.[1.5 ~ 2.5)  02.[37.5 ~ 133.5)          0\n",
       "4  350125              00.cat_10  01.cat_80,cat_85,ca..  00.cat_17.0,cat_14...  00.cat_1,cat_0   00.cat_1    00.[-inf ~ 2057.0)   02.[30 ~ 40)          00.cat_B   01.[1.5 ~ 2.5)  00.[-inf ~ 25000)  00.[-inf ~ 13.5)   03.[3.5 ~ 8.5)   01.[1.5 ~ 2.5)    00.[-inf ~ 0.5)          0"
      ]
     },
     "execution_count": 29,
     "metadata": {},
     "output_type": "execute_result"
    }
   ],
   "source": [
    "df_bin.head()"
   ]
  },
  {
   "cell_type": "code",
   "execution_count": 30,
   "id": "9dbdd02e",
   "metadata": {},
   "outputs": [],
   "source": [
    "df_report = report_helper.FTReport.get_report(df_bin, features, label)"
   ]
  },
  {
   "cell_type": "code",
   "execution_count": 31,
   "id": "29f37fd4",
   "metadata": {},
   "outputs": [
    {
     "data": {
      "text/html": [
       "<style type=\"text/css\">\n",
       "</style>\n",
       "<table id=\"T_6a3f7\">\n",
       "  <thead>\n",
       "    <tr>\n",
       "      <th class=\"blank level0\" >&nbsp;</th>\n",
       "      <th id=\"T_6a3f7_level0_col0\" class=\"col_heading level0 col0\" >feature</th>\n",
       "      <th id=\"T_6a3f7_level0_col1\" class=\"col_heading level0 col1\" >bin</th>\n",
       "      <th id=\"T_6a3f7_level0_col2\" class=\"col_heading level0 col2\" >total_pct</th>\n",
       "      <th id=\"T_6a3f7_level0_col3\" class=\"col_heading level0 col3\" >total</th>\n",
       "      <th id=\"T_6a3f7_level0_col4\" class=\"col_heading level0 col4\" >bad</th>\n",
       "      <th id=\"T_6a3f7_level0_col5\" class=\"col_heading level0 col5\" >bad_rate</th>\n",
       "    </tr>\n",
       "  </thead>\n",
       "  <tbody>\n",
       "    <tr>\n",
       "      <th id=\"T_6a3f7_level0_row0\" class=\"row_heading level0 row0\" >0</th>\n",
       "      <td id=\"T_6a3f7_row0_col0\" class=\"data row0 col0\" >Collateral_valuation</td>\n",
       "      <td id=\"T_6a3f7_row0_col1\" class=\"data row0 col1\" >00.[-inf ~ 2057.0)</td>\n",
       "      <td id=\"T_6a3f7_row0_col2\" class=\"data row0 col2\" >15.53%</td>\n",
       "      <td id=\"T_6a3f7_row0_col3\" class=\"data row0 col3\" >7767</td>\n",
       "      <td id=\"T_6a3f7_row0_col4\" class=\"data row0 col4\" >657</td>\n",
       "      <td id=\"T_6a3f7_row0_col5\" class=\"data row0 col5\" >8.46%</td>\n",
       "    </tr>\n",
       "    <tr>\n",
       "      <th id=\"T_6a3f7_level0_row1\" class=\"row_heading level0 row1\" >1</th>\n",
       "      <td id=\"T_6a3f7_row1_col0\" class=\"data row1 col0\" >Collateral_valuation</td>\n",
       "      <td id=\"T_6a3f7_row1_col1\" class=\"data row1 col1\" >01.[2057.0 ~ 4571.0)</td>\n",
       "      <td id=\"T_6a3f7_row1_col2\" class=\"data row1 col2\" >17.19%</td>\n",
       "      <td id=\"T_6a3f7_row1_col3\" class=\"data row1 col3\" >8595</td>\n",
       "      <td id=\"T_6a3f7_row1_col4\" class=\"data row1 col4\" >988</td>\n",
       "      <td id=\"T_6a3f7_row1_col5\" class=\"data row1 col5\" >11.50%</td>\n",
       "    </tr>\n",
       "    <tr>\n",
       "      <th id=\"T_6a3f7_level0_row2\" class=\"row_heading level0 row2\" >2</th>\n",
       "      <td id=\"T_6a3f7_row2_col0\" class=\"data row2 col0\" >Collateral_valuation</td>\n",
       "      <td id=\"T_6a3f7_row2_col1\" class=\"data row2 col1\" >02.[4571.0 ~ 8324.5)</td>\n",
       "      <td id=\"T_6a3f7_row2_col2\" class=\"data row2 col2\" >11.51%</td>\n",
       "      <td id=\"T_6a3f7_row2_col3\" class=\"data row2 col3\" >5754</td>\n",
       "      <td id=\"T_6a3f7_row2_col4\" class=\"data row2 col4\" >884</td>\n",
       "      <td id=\"T_6a3f7_row2_col5\" class=\"data row2 col5\" >15.36%</td>\n",
       "    </tr>\n",
       "    <tr>\n",
       "      <th id=\"T_6a3f7_level0_row3\" class=\"row_heading level0 row3\" >3</th>\n",
       "      <td id=\"T_6a3f7_row3_col0\" class=\"data row3 col0\" >Collateral_valuation</td>\n",
       "      <td id=\"T_6a3f7_row3_col1\" class=\"data row3 col1\" >03.[8324.5 ~ 13823.5)</td>\n",
       "      <td id=\"T_6a3f7_row3_col2\" class=\"data row3 col2\" >6.60%</td>\n",
       "      <td id=\"T_6a3f7_row3_col3\" class=\"data row3 col3\" >3302</td>\n",
       "      <td id=\"T_6a3f7_row3_col4\" class=\"data row3 col4\" >604</td>\n",
       "      <td id=\"T_6a3f7_row3_col5\" class=\"data row3 col5\" >18.29%</td>\n",
       "    </tr>\n",
       "    <tr>\n",
       "      <th id=\"T_6a3f7_level0_row4\" class=\"row_heading level0 row4\" >4</th>\n",
       "      <td id=\"T_6a3f7_row4_col0\" class=\"data row4 col0\" >Collateral_valuation</td>\n",
       "      <td id=\"T_6a3f7_row4_col1\" class=\"data row4 col1\" >04.[13823.5 ~ inf)</td>\n",
       "      <td id=\"T_6a3f7_row4_col2\" class=\"data row4 col2\" >6.09%</td>\n",
       "      <td id=\"T_6a3f7_row4_col3\" class=\"data row4 col3\" >3045</td>\n",
       "      <td id=\"T_6a3f7_row4_col4\" class=\"data row4 col4\" >891</td>\n",
       "      <td id=\"T_6a3f7_row4_col5\" class=\"data row4 col5\" >29.26%</td>\n",
       "    </tr>\n",
       "    <tr>\n",
       "      <th id=\"T_6a3f7_level0_row5\" class=\"row_heading level0 row5\" >5</th>\n",
       "      <td id=\"T_6a3f7_row5_col0\" class=\"data row5 col0\" >Collateral_valuation</td>\n",
       "      <td id=\"T_6a3f7_row5_col1\" class=\"data row5 col1\" >05.nan</td>\n",
       "      <td id=\"T_6a3f7_row5_col2\" class=\"data row5 col2\" >43.07%</td>\n",
       "      <td id=\"T_6a3f7_row5_col3\" class=\"data row5 col3\" >21537</td>\n",
       "      <td id=\"T_6a3f7_row5_col4\" class=\"data row5 col4\" >4195</td>\n",
       "      <td id=\"T_6a3f7_row5_col5\" class=\"data row5 col5\" >19.48%</td>\n",
       "    </tr>\n",
       "    <tr>\n",
       "      <th id=\"T_6a3f7_level0_row6\" class=\"row_heading level0 row6\" >6</th>\n",
       "      <td id=\"T_6a3f7_row6_col0\" class=\"data row6 col0\" >None</td>\n",
       "      <td id=\"T_6a3f7_row6_col1\" class=\"data row6 col1\" >None</td>\n",
       "      <td id=\"T_6a3f7_row6_col2\" class=\"data row6 col2\" >nan%</td>\n",
       "      <td id=\"T_6a3f7_row6_col3\" class=\"data row6 col3\" >None</td>\n",
       "      <td id=\"T_6a3f7_row6_col4\" class=\"data row6 col4\" >None</td>\n",
       "      <td id=\"T_6a3f7_row6_col5\" class=\"data row6 col5\" >nan%</td>\n",
       "    </tr>\n",
       "    <tr>\n",
       "      <th id=\"T_6a3f7_level0_row7\" class=\"row_heading level0 row7\" >0</th>\n",
       "      <td id=\"T_6a3f7_row7_col0\" class=\"data row7 col0\" >Age</td>\n",
       "      <td id=\"T_6a3f7_row7_col1\" class=\"data row7 col1\" >00.[-inf ~ 20)</td>\n",
       "      <td id=\"T_6a3f7_row7_col2\" class=\"data row7 col2\" >0.60%</td>\n",
       "      <td id=\"T_6a3f7_row7_col3\" class=\"data row7 col3\" >298</td>\n",
       "      <td id=\"T_6a3f7_row7_col4\" class=\"data row7 col4\" >106</td>\n",
       "      <td id=\"T_6a3f7_row7_col5\" class=\"data row7 col5\" >35.57%</td>\n",
       "    </tr>\n",
       "    <tr>\n",
       "      <th id=\"T_6a3f7_level0_row8\" class=\"row_heading level0 row8\" >1</th>\n",
       "      <td id=\"T_6a3f7_row8_col0\" class=\"data row8 col0\" >Age</td>\n",
       "      <td id=\"T_6a3f7_row8_col1\" class=\"data row8 col1\" >01.[20 ~ 30)</td>\n",
       "      <td id=\"T_6a3f7_row8_col2\" class=\"data row8 col2\" >15.38%</td>\n",
       "      <td id=\"T_6a3f7_row8_col3\" class=\"data row8 col3\" >7691</td>\n",
       "      <td id=\"T_6a3f7_row8_col4\" class=\"data row8 col4\" >1817</td>\n",
       "      <td id=\"T_6a3f7_row8_col5\" class=\"data row8 col5\" >23.63%</td>\n",
       "    </tr>\n",
       "    <tr>\n",
       "      <th id=\"T_6a3f7_level0_row9\" class=\"row_heading level0 row9\" >2</th>\n",
       "      <td id=\"T_6a3f7_row9_col0\" class=\"data row9 col0\" >Age</td>\n",
       "      <td id=\"T_6a3f7_row9_col1\" class=\"data row9 col1\" >02.[30 ~ 40)</td>\n",
       "      <td id=\"T_6a3f7_row9_col2\" class=\"data row9 col2\" >27.13%</td>\n",
       "      <td id=\"T_6a3f7_row9_col3\" class=\"data row9 col3\" >13565</td>\n",
       "      <td id=\"T_6a3f7_row9_col4\" class=\"data row9 col4\" >2552</td>\n",
       "      <td id=\"T_6a3f7_row9_col5\" class=\"data row9 col5\" >18.81%</td>\n",
       "    </tr>\n",
       "    <tr>\n",
       "      <th id=\"T_6a3f7_level0_row10\" class=\"row_heading level0 row10\" >3</th>\n",
       "      <td id=\"T_6a3f7_row10_col0\" class=\"data row10 col0\" >Age</td>\n",
       "      <td id=\"T_6a3f7_row10_col1\" class=\"data row10 col1\" >03.[40 ~ 50)</td>\n",
       "      <td id=\"T_6a3f7_row10_col2\" class=\"data row10 col2\" >33.32%</td>\n",
       "      <td id=\"T_6a3f7_row10_col3\" class=\"data row10 col3\" >16662</td>\n",
       "      <td id=\"T_6a3f7_row10_col4\" class=\"data row10 col4\" >2356</td>\n",
       "      <td id=\"T_6a3f7_row10_col5\" class=\"data row10 col5\" >14.14%</td>\n",
       "    </tr>\n",
       "    <tr>\n",
       "      <th id=\"T_6a3f7_level0_row11\" class=\"row_heading level0 row11\" >4</th>\n",
       "      <td id=\"T_6a3f7_row11_col0\" class=\"data row11 col0\" >Age</td>\n",
       "      <td id=\"T_6a3f7_row11_col1\" class=\"data row11 col1\" >04.[50 ~ inf)</td>\n",
       "      <td id=\"T_6a3f7_row11_col2\" class=\"data row11 col2\" >23.57%</td>\n",
       "      <td id=\"T_6a3f7_row11_col3\" class=\"data row11 col3\" >11784</td>\n",
       "      <td id=\"T_6a3f7_row11_col4\" class=\"data row11 col4\" >1388</td>\n",
       "      <td id=\"T_6a3f7_row11_col5\" class=\"data row11 col5\" >11.78%</td>\n",
       "    </tr>\n",
       "    <tr>\n",
       "      <th id=\"T_6a3f7_level0_row12\" class=\"row_heading level0 row12\" >5</th>\n",
       "      <td id=\"T_6a3f7_row12_col0\" class=\"data row12 col0\" >None</td>\n",
       "      <td id=\"T_6a3f7_row12_col1\" class=\"data row12 col1\" >None</td>\n",
       "      <td id=\"T_6a3f7_row12_col2\" class=\"data row12 col2\" >nan%</td>\n",
       "      <td id=\"T_6a3f7_row12_col3\" class=\"data row12 col3\" >None</td>\n",
       "      <td id=\"T_6a3f7_row12_col4\" class=\"data row12 col4\" >None</td>\n",
       "      <td id=\"T_6a3f7_row12_col5\" class=\"data row12 col5\" >nan%</td>\n",
       "    </tr>\n",
       "    <tr>\n",
       "      <th id=\"T_6a3f7_level0_row13\" class=\"row_heading level0 row13\" >0</th>\n",
       "      <td id=\"T_6a3f7_row13_col0\" class=\"data row13 col0\" >Properties_Total</td>\n",
       "      <td id=\"T_6a3f7_row13_col1\" class=\"data row13 col1\" >00.[-inf ~ 1.5)</td>\n",
       "      <td id=\"T_6a3f7_row13_col2\" class=\"data row13 col2\" >41.57%</td>\n",
       "      <td id=\"T_6a3f7_row13_col3\" class=\"data row13 col3\" >20783</td>\n",
       "      <td id=\"T_6a3f7_row13_col4\" class=\"data row13 col4\" >4549</td>\n",
       "      <td id=\"T_6a3f7_row13_col5\" class=\"data row13 col5\" >21.89%</td>\n",
       "    </tr>\n",
       "    <tr>\n",
       "      <th id=\"T_6a3f7_level0_row14\" class=\"row_heading level0 row14\" >1</th>\n",
       "      <td id=\"T_6a3f7_row14_col0\" class=\"data row14 col0\" >Properties_Total</td>\n",
       "      <td id=\"T_6a3f7_row14_col1\" class=\"data row14 col1\" >01.[1.5 ~ 2.5)</td>\n",
       "      <td id=\"T_6a3f7_row14_col2\" class=\"data row14 col2\" >33.93%</td>\n",
       "      <td id=\"T_6a3f7_row14_col3\" class=\"data row14 col3\" >16966</td>\n",
       "      <td id=\"T_6a3f7_row14_col4\" class=\"data row14 col4\" >2213</td>\n",
       "      <td id=\"T_6a3f7_row14_col5\" class=\"data row14 col5\" >13.04%</td>\n",
       "    </tr>\n",
       "    <tr>\n",
       "      <th id=\"T_6a3f7_level0_row15\" class=\"row_heading level0 row15\" >2</th>\n",
       "      <td id=\"T_6a3f7_row15_col0\" class=\"data row15 col0\" >Properties_Total</td>\n",
       "      <td id=\"T_6a3f7_row15_col1\" class=\"data row15 col1\" >02.[2.5 ~ inf)</td>\n",
       "      <td id=\"T_6a3f7_row15_col2\" class=\"data row15 col2\" >24.50%</td>\n",
       "      <td id=\"T_6a3f7_row15_col3\" class=\"data row15 col3\" >12251</td>\n",
       "      <td id=\"T_6a3f7_row15_col4\" class=\"data row15 col4\" >1457</td>\n",
       "      <td id=\"T_6a3f7_row15_col5\" class=\"data row15 col5\" >11.89%</td>\n",
       "    </tr>\n",
       "    <tr>\n",
       "      <th id=\"T_6a3f7_level0_row16\" class=\"row_heading level0 row16\" >3</th>\n",
       "      <td id=\"T_6a3f7_row16_col0\" class=\"data row16 col0\" >None</td>\n",
       "      <td id=\"T_6a3f7_row16_col1\" class=\"data row16 col1\" >None</td>\n",
       "      <td id=\"T_6a3f7_row16_col2\" class=\"data row16 col2\" >nan%</td>\n",
       "      <td id=\"T_6a3f7_row16_col3\" class=\"data row16 col3\" >None</td>\n",
       "      <td id=\"T_6a3f7_row16_col4\" class=\"data row16 col4\" >None</td>\n",
       "      <td id=\"T_6a3f7_row16_col5\" class=\"data row16 col5\" >nan%</td>\n",
       "    </tr>\n",
       "    <tr>\n",
       "      <th id=\"T_6a3f7_level0_row17\" class=\"row_heading level0 row17\" >0</th>\n",
       "      <td id=\"T_6a3f7_row17_col0\" class=\"data row17 col0\" >Amount</td>\n",
       "      <td id=\"T_6a3f7_row17_col1\" class=\"data row17 col1\" >00.[-inf ~ 25000)</td>\n",
       "      <td id=\"T_6a3f7_row17_col2\" class=\"data row17 col2\" >94.25%</td>\n",
       "      <td id=\"T_6a3f7_row17_col3\" class=\"data row17 col3\" >47124</td>\n",
       "      <td id=\"T_6a3f7_row17_col4\" class=\"data row17 col4\" >7299</td>\n",
       "      <td id=\"T_6a3f7_row17_col5\" class=\"data row17 col5\" >15.49%</td>\n",
       "    </tr>\n",
       "    <tr>\n",
       "      <th id=\"T_6a3f7_level0_row18\" class=\"row_heading level0 row18\" >1</th>\n",
       "      <td id=\"T_6a3f7_row18_col0\" class=\"data row18 col0\" >Amount</td>\n",
       "      <td id=\"T_6a3f7_row18_col1\" class=\"data row18 col1\" >01.[25000 ~ 50000)</td>\n",
       "      <td id=\"T_6a3f7_row18_col2\" class=\"data row18 col2\" >4.74%</td>\n",
       "      <td id=\"T_6a3f7_row18_col3\" class=\"data row18 col3\" >2372</td>\n",
       "      <td id=\"T_6a3f7_row18_col4\" class=\"data row18 col4\" >786</td>\n",
       "      <td id=\"T_6a3f7_row18_col5\" class=\"data row18 col5\" >33.14%</td>\n",
       "    </tr>\n",
       "    <tr>\n",
       "      <th id=\"T_6a3f7_level0_row19\" class=\"row_heading level0 row19\" >2</th>\n",
       "      <td id=\"T_6a3f7_row19_col0\" class=\"data row19 col0\" >Amount</td>\n",
       "      <td id=\"T_6a3f7_row19_col1\" class=\"data row19 col1\" >02.[50000 ~ 80000)</td>\n",
       "      <td id=\"T_6a3f7_row19_col2\" class=\"data row19 col2\" >0.73%</td>\n",
       "      <td id=\"T_6a3f7_row19_col3\" class=\"data row19 col3\" >367</td>\n",
       "      <td id=\"T_6a3f7_row19_col4\" class=\"data row19 col4\" >98</td>\n",
       "      <td id=\"T_6a3f7_row19_col5\" class=\"data row19 col5\" >26.70%</td>\n",
       "    </tr>\n",
       "    <tr>\n",
       "      <th id=\"T_6a3f7_level0_row20\" class=\"row_heading level0 row20\" >3</th>\n",
       "      <td id=\"T_6a3f7_row20_col0\" class=\"data row20 col0\" >Amount</td>\n",
       "      <td id=\"T_6a3f7_row20_col1\" class=\"data row20 col1\" >03.[80000 ~ 100000)</td>\n",
       "      <td id=\"T_6a3f7_row20_col2\" class=\"data row20 col2\" >0.15%</td>\n",
       "      <td id=\"T_6a3f7_row20_col3\" class=\"data row20 col3\" >77</td>\n",
       "      <td id=\"T_6a3f7_row20_col4\" class=\"data row20 col4\" >21</td>\n",
       "      <td id=\"T_6a3f7_row20_col5\" class=\"data row20 col5\" >27.27%</td>\n",
       "    </tr>\n",
       "    <tr>\n",
       "      <th id=\"T_6a3f7_level0_row21\" class=\"row_heading level0 row21\" >4</th>\n",
       "      <td id=\"T_6a3f7_row21_col0\" class=\"data row21 col0\" >Amount</td>\n",
       "      <td id=\"T_6a3f7_row21_col1\" class=\"data row21 col1\" >04.[100000 ~ inf)</td>\n",
       "      <td id=\"T_6a3f7_row21_col2\" class=\"data row21 col2\" >0.12%</td>\n",
       "      <td id=\"T_6a3f7_row21_col3\" class=\"data row21 col3\" >60</td>\n",
       "      <td id=\"T_6a3f7_row21_col4\" class=\"data row21 col4\" >15</td>\n",
       "      <td id=\"T_6a3f7_row21_col5\" class=\"data row21 col5\" >25.00%</td>\n",
       "    </tr>\n",
       "    <tr>\n",
       "      <th id=\"T_6a3f7_level0_row22\" class=\"row_heading level0 row22\" >5</th>\n",
       "      <td id=\"T_6a3f7_row22_col0\" class=\"data row22 col0\" >None</td>\n",
       "      <td id=\"T_6a3f7_row22_col1\" class=\"data row22 col1\" >None</td>\n",
       "      <td id=\"T_6a3f7_row22_col2\" class=\"data row22 col2\" >nan%</td>\n",
       "      <td id=\"T_6a3f7_row22_col3\" class=\"data row22 col3\" >None</td>\n",
       "      <td id=\"T_6a3f7_row22_col4\" class=\"data row22 col4\" >None</td>\n",
       "      <td id=\"T_6a3f7_row22_col5\" class=\"data row22 col5\" >nan%</td>\n",
       "    </tr>\n",
       "    <tr>\n",
       "      <th id=\"T_6a3f7_level0_row23\" class=\"row_heading level0 row23\" >0</th>\n",
       "      <td id=\"T_6a3f7_row23_col0\" class=\"data row23 col0\" >Term</td>\n",
       "      <td id=\"T_6a3f7_row23_col1\" class=\"data row23 col1\" >00.[-inf ~ 13.5)</td>\n",
       "      <td id=\"T_6a3f7_row23_col2\" class=\"data row23 col2\" >17.56%</td>\n",
       "      <td id=\"T_6a3f7_row23_col3\" class=\"data row23 col3\" >8778</td>\n",
       "      <td id=\"T_6a3f7_row23_col4\" class=\"data row23 col4\" >930</td>\n",
       "      <td id=\"T_6a3f7_row23_col5\" class=\"data row23 col5\" >10.59%</td>\n",
       "    </tr>\n",
       "    <tr>\n",
       "      <th id=\"T_6a3f7_level0_row24\" class=\"row_heading level0 row24\" >1</th>\n",
       "      <td id=\"T_6a3f7_row24_col0\" class=\"data row24 col0\" >Term</td>\n",
       "      <td id=\"T_6a3f7_row24_col1\" class=\"data row24 col1\" >01.[13.5 ~ 22.5)</td>\n",
       "      <td id=\"T_6a3f7_row24_col2\" class=\"data row24 col2\" >19.90%</td>\n",
       "      <td id=\"T_6a3f7_row24_col3\" class=\"data row24 col3\" >9950</td>\n",
       "      <td id=\"T_6a3f7_row24_col4\" class=\"data row24 col4\" >1191</td>\n",
       "      <td id=\"T_6a3f7_row24_col5\" class=\"data row24 col5\" >11.97%</td>\n",
       "    </tr>\n",
       "    <tr>\n",
       "      <th id=\"T_6a3f7_level0_row25\" class=\"row_heading level0 row25\" >2</th>\n",
       "      <td id=\"T_6a3f7_row25_col0\" class=\"data row25 col0\" >Term</td>\n",
       "      <td id=\"T_6a3f7_row25_col1\" class=\"data row25 col1\" >02.[22.5 ~ 29.5)</td>\n",
       "      <td id=\"T_6a3f7_row25_col2\" class=\"data row25 col2\" >32.15%</td>\n",
       "      <td id=\"T_6a3f7_row25_col3\" class=\"data row25 col3\" >16074</td>\n",
       "      <td id=\"T_6a3f7_row25_col4\" class=\"data row25 col4\" >1886</td>\n",
       "      <td id=\"T_6a3f7_row25_col5\" class=\"data row25 col5\" >11.73%</td>\n",
       "    </tr>\n",
       "    <tr>\n",
       "      <th id=\"T_6a3f7_level0_row26\" class=\"row_heading level0 row26\" >3</th>\n",
       "      <td id=\"T_6a3f7_row26_col0\" class=\"data row26 col0\" >Term</td>\n",
       "      <td id=\"T_6a3f7_row26_col1\" class=\"data row26 col1\" >03.[29.5 ~ 37.5)</td>\n",
       "      <td id=\"T_6a3f7_row26_col2\" class=\"data row26 col2\" >16.34%</td>\n",
       "      <td id=\"T_6a3f7_row26_col3\" class=\"data row26 col3\" >8171</td>\n",
       "      <td id=\"T_6a3f7_row26_col4\" class=\"data row26 col4\" >1833</td>\n",
       "      <td id=\"T_6a3f7_row26_col5\" class=\"data row26 col5\" >22.43%</td>\n",
       "    </tr>\n",
       "    <tr>\n",
       "      <th id=\"T_6a3f7_level0_row27\" class=\"row_heading level0 row27\" >4</th>\n",
       "      <td id=\"T_6a3f7_row27_col0\" class=\"data row27 col0\" >Term</td>\n",
       "      <td id=\"T_6a3f7_row27_col1\" class=\"data row27 col1\" >04.[37.5 ~ inf)</td>\n",
       "      <td id=\"T_6a3f7_row27_col2\" class=\"data row27 col2\" >14.05%</td>\n",
       "      <td id=\"T_6a3f7_row27_col3\" class=\"data row27 col3\" >7027</td>\n",
       "      <td id=\"T_6a3f7_row27_col4\" class=\"data row27 col4\" >2379</td>\n",
       "      <td id=\"T_6a3f7_row27_col5\" class=\"data row27 col5\" >33.86%</td>\n",
       "    </tr>\n",
       "    <tr>\n",
       "      <th id=\"T_6a3f7_level0_row28\" class=\"row_heading level0 row28\" >5</th>\n",
       "      <td id=\"T_6a3f7_row28_col0\" class=\"data row28 col0\" >None</td>\n",
       "      <td id=\"T_6a3f7_row28_col1\" class=\"data row28 col1\" >None</td>\n",
       "      <td id=\"T_6a3f7_row28_col2\" class=\"data row28 col2\" >nan%</td>\n",
       "      <td id=\"T_6a3f7_row28_col3\" class=\"data row28 col3\" >None</td>\n",
       "      <td id=\"T_6a3f7_row28_col4\" class=\"data row28 col4\" >None</td>\n",
       "      <td id=\"T_6a3f7_row28_col5\" class=\"data row28 col5\" >nan%</td>\n",
       "    </tr>\n",
       "    <tr>\n",
       "      <th id=\"T_6a3f7_level0_row29\" class=\"row_heading level0 row29\" >0</th>\n",
       "      <td id=\"T_6a3f7_row29_col0\" class=\"data row29 col0\" >Historic_Loans</td>\n",
       "      <td id=\"T_6a3f7_row29_col1\" class=\"data row29 col1\" >00.[-inf ~ 1.5)</td>\n",
       "      <td id=\"T_6a3f7_row29_col2\" class=\"data row29 col2\" >24.73%</td>\n",
       "      <td id=\"T_6a3f7_row29_col3\" class=\"data row29 col3\" >12363</td>\n",
       "      <td id=\"T_6a3f7_row29_col4\" class=\"data row29 col4\" >2702</td>\n",
       "      <td id=\"T_6a3f7_row29_col5\" class=\"data row29 col5\" >21.86%</td>\n",
       "    </tr>\n",
       "    <tr>\n",
       "      <th id=\"T_6a3f7_level0_row30\" class=\"row_heading level0 row30\" >1</th>\n",
       "      <td id=\"T_6a3f7_row30_col0\" class=\"data row30 col0\" >Historic_Loans</td>\n",
       "      <td id=\"T_6a3f7_row30_col1\" class=\"data row30 col1\" >01.[1.5 ~ 2.5)</td>\n",
       "      <td id=\"T_6a3f7_row30_col2\" class=\"data row30 col2\" >17.22%</td>\n",
       "      <td id=\"T_6a3f7_row30_col3\" class=\"data row30 col3\" >8608</td>\n",
       "      <td id=\"T_6a3f7_row30_col4\" class=\"data row30 col4\" >1652</td>\n",
       "      <td id=\"T_6a3f7_row30_col5\" class=\"data row30 col5\" >19.19%</td>\n",
       "    </tr>\n",
       "    <tr>\n",
       "      <th id=\"T_6a3f7_level0_row31\" class=\"row_heading level0 row31\" >2</th>\n",
       "      <td id=\"T_6a3f7_row31_col0\" class=\"data row31 col0\" >Historic_Loans</td>\n",
       "      <td id=\"T_6a3f7_row31_col1\" class=\"data row31 col1\" >02.[2.5 ~ 3.5)</td>\n",
       "      <td id=\"T_6a3f7_row31_col2\" class=\"data row31 col2\" >13.30%</td>\n",
       "      <td id=\"T_6a3f7_row31_col3\" class=\"data row31 col3\" >6648</td>\n",
       "      <td id=\"T_6a3f7_row31_col4\" class=\"data row31 col4\" >1145</td>\n",
       "      <td id=\"T_6a3f7_row31_col5\" class=\"data row31 col5\" >17.22%</td>\n",
       "    </tr>\n",
       "    <tr>\n",
       "      <th id=\"T_6a3f7_level0_row32\" class=\"row_heading level0 row32\" >3</th>\n",
       "      <td id=\"T_6a3f7_row32_col0\" class=\"data row32 col0\" >Historic_Loans</td>\n",
       "      <td id=\"T_6a3f7_row32_col1\" class=\"data row32 col1\" >03.[3.5 ~ 8.5)</td>\n",
       "      <td id=\"T_6a3f7_row32_col2\" class=\"data row32 col2\" >32.69%</td>\n",
       "      <td id=\"T_6a3f7_row32_col3\" class=\"data row32 col3\" >16347</td>\n",
       "      <td id=\"T_6a3f7_row32_col4\" class=\"data row32 col4\" >2225</td>\n",
       "      <td id=\"T_6a3f7_row32_col5\" class=\"data row32 col5\" >13.61%</td>\n",
       "    </tr>\n",
       "    <tr>\n",
       "      <th id=\"T_6a3f7_level0_row33\" class=\"row_heading level0 row33\" >4</th>\n",
       "      <td id=\"T_6a3f7_row33_col0\" class=\"data row33 col0\" >Historic_Loans</td>\n",
       "      <td id=\"T_6a3f7_row33_col1\" class=\"data row33 col1\" >04.[8.5 ~ inf)</td>\n",
       "      <td id=\"T_6a3f7_row33_col2\" class=\"data row33 col2\" >12.07%</td>\n",
       "      <td id=\"T_6a3f7_row33_col3\" class=\"data row33 col3\" >6034</td>\n",
       "      <td id=\"T_6a3f7_row33_col4\" class=\"data row33 col4\" >495</td>\n",
       "      <td id=\"T_6a3f7_row33_col5\" class=\"data row33 col5\" >8.20%</td>\n",
       "    </tr>\n",
       "    <tr>\n",
       "      <th id=\"T_6a3f7_level0_row34\" class=\"row_heading level0 row34\" >5</th>\n",
       "      <td id=\"T_6a3f7_row34_col0\" class=\"data row34 col0\" >None</td>\n",
       "      <td id=\"T_6a3f7_row34_col1\" class=\"data row34 col1\" >None</td>\n",
       "      <td id=\"T_6a3f7_row34_col2\" class=\"data row34 col2\" >nan%</td>\n",
       "      <td id=\"T_6a3f7_row34_col3\" class=\"data row34 col3\" >None</td>\n",
       "      <td id=\"T_6a3f7_row34_col4\" class=\"data row34 col4\" >None</td>\n",
       "      <td id=\"T_6a3f7_row34_col5\" class=\"data row34 col5\" >nan%</td>\n",
       "    </tr>\n",
       "    <tr>\n",
       "      <th id=\"T_6a3f7_level0_row35\" class=\"row_heading level0 row35\" >0</th>\n",
       "      <td id=\"T_6a3f7_row35_col0\" class=\"data row35 col0\" >Current_Loans</td>\n",
       "      <td id=\"T_6a3f7_row35_col1\" class=\"data row35 col1\" >00.[-inf ~ 1.5)</td>\n",
       "      <td id=\"T_6a3f7_row35_col2\" class=\"data row35 col2\" >41.84%</td>\n",
       "      <td id=\"T_6a3f7_row35_col3\" class=\"data row35 col3\" >20921</td>\n",
       "      <td id=\"T_6a3f7_row35_col4\" class=\"data row35 col4\" >3583</td>\n",
       "      <td id=\"T_6a3f7_row35_col5\" class=\"data row35 col5\" >17.13%</td>\n",
       "    </tr>\n",
       "    <tr>\n",
       "      <th id=\"T_6a3f7_level0_row36\" class=\"row_heading level0 row36\" >1</th>\n",
       "      <td id=\"T_6a3f7_row36_col0\" class=\"data row36 col0\" >Current_Loans</td>\n",
       "      <td id=\"T_6a3f7_row36_col1\" class=\"data row36 col1\" >01.[1.5 ~ 2.5)</td>\n",
       "      <td id=\"T_6a3f7_row36_col2\" class=\"data row36 col2\" >19.85%</td>\n",
       "      <td id=\"T_6a3f7_row36_col3\" class=\"data row36 col3\" >9926</td>\n",
       "      <td id=\"T_6a3f7_row36_col4\" class=\"data row36 col4\" >1578</td>\n",
       "      <td id=\"T_6a3f7_row36_col5\" class=\"data row36 col5\" >15.90%</td>\n",
       "    </tr>\n",
       "    <tr>\n",
       "      <th id=\"T_6a3f7_level0_row37\" class=\"row_heading level0 row37\" >2</th>\n",
       "      <td id=\"T_6a3f7_row37_col0\" class=\"data row37 col0\" >Current_Loans</td>\n",
       "      <td id=\"T_6a3f7_row37_col1\" class=\"data row37 col1\" >02.[2.5 ~ inf)</td>\n",
       "      <td id=\"T_6a3f7_row37_col2\" class=\"data row37 col2\" >15.35%</td>\n",
       "      <td id=\"T_6a3f7_row37_col3\" class=\"data row37 col3\" >7676</td>\n",
       "      <td id=\"T_6a3f7_row37_col4\" class=\"data row37 col4\" >1371</td>\n",
       "      <td id=\"T_6a3f7_row37_col5\" class=\"data row37 col5\" >17.86%</td>\n",
       "    </tr>\n",
       "    <tr>\n",
       "      <th id=\"T_6a3f7_level0_row38\" class=\"row_heading level0 row38\" >3</th>\n",
       "      <td id=\"T_6a3f7_row38_col0\" class=\"data row38 col0\" >Current_Loans</td>\n",
       "      <td id=\"T_6a3f7_row38_col1\" class=\"data row38 col1\" >03.nan</td>\n",
       "      <td id=\"T_6a3f7_row38_col2\" class=\"data row38 col2\" >22.95%</td>\n",
       "      <td id=\"T_6a3f7_row38_col3\" class=\"data row38 col3\" >11477</td>\n",
       "      <td id=\"T_6a3f7_row38_col4\" class=\"data row38 col4\" >1687</td>\n",
       "      <td id=\"T_6a3f7_row38_col5\" class=\"data row38 col5\" >14.70%</td>\n",
       "    </tr>\n",
       "    <tr>\n",
       "      <th id=\"T_6a3f7_level0_row39\" class=\"row_heading level0 row39\" >4</th>\n",
       "      <td id=\"T_6a3f7_row39_col0\" class=\"data row39 col0\" >None</td>\n",
       "      <td id=\"T_6a3f7_row39_col1\" class=\"data row39 col1\" >None</td>\n",
       "      <td id=\"T_6a3f7_row39_col2\" class=\"data row39 col2\" >nan%</td>\n",
       "      <td id=\"T_6a3f7_row39_col3\" class=\"data row39 col3\" >None</td>\n",
       "      <td id=\"T_6a3f7_row39_col4\" class=\"data row39 col4\" >None</td>\n",
       "      <td id=\"T_6a3f7_row39_col5\" class=\"data row39 col5\" >nan%</td>\n",
       "    </tr>\n",
       "    <tr>\n",
       "      <th id=\"T_6a3f7_level0_row40\" class=\"row_heading level0 row40\" >0</th>\n",
       "      <td id=\"T_6a3f7_row40_col0\" class=\"data row40 col0\" >Max_Arrears</td>\n",
       "      <td id=\"T_6a3f7_row40_col1\" class=\"data row40 col1\" >00.[-inf ~ 0.5)</td>\n",
       "      <td id=\"T_6a3f7_row40_col2\" class=\"data row40 col2\" >60.91%</td>\n",
       "      <td id=\"T_6a3f7_row40_col3\" class=\"data row40 col3\" >30457</td>\n",
       "      <td id=\"T_6a3f7_row40_col4\" class=\"data row40 col4\" >4937</td>\n",
       "      <td id=\"T_6a3f7_row40_col5\" class=\"data row40 col5\" >16.21%</td>\n",
       "    </tr>\n",
       "    <tr>\n",
       "      <th id=\"T_6a3f7_level0_row41\" class=\"row_heading level0 row41\" >1</th>\n",
       "      <td id=\"T_6a3f7_row41_col0\" class=\"data row41 col0\" >Max_Arrears</td>\n",
       "      <td id=\"T_6a3f7_row41_col1\" class=\"data row41 col1\" >01.[0.5 ~ 37.5)</td>\n",
       "      <td id=\"T_6a3f7_row41_col2\" class=\"data row41 col2\" >18.39%</td>\n",
       "      <td id=\"T_6a3f7_row41_col3\" class=\"data row41 col3\" >9194</td>\n",
       "      <td id=\"T_6a3f7_row41_col4\" class=\"data row41 col4\" >1195</td>\n",
       "      <td id=\"T_6a3f7_row41_col5\" class=\"data row41 col5\" >13.00%</td>\n",
       "    </tr>\n",
       "    <tr>\n",
       "      <th id=\"T_6a3f7_level0_row42\" class=\"row_heading level0 row42\" >2</th>\n",
       "      <td id=\"T_6a3f7_row42_col0\" class=\"data row42 col0\" >Max_Arrears</td>\n",
       "      <td id=\"T_6a3f7_row42_col1\" class=\"data row42 col1\" >02.[37.5 ~ 133.5)</td>\n",
       "      <td id=\"T_6a3f7_row42_col2\" class=\"data row42 col2\" >10.64%</td>\n",
       "      <td id=\"T_6a3f7_row42_col3\" class=\"data row42 col3\" >5322</td>\n",
       "      <td id=\"T_6a3f7_row42_col4\" class=\"data row42 col4\" >755</td>\n",
       "      <td id=\"T_6a3f7_row42_col5\" class=\"data row42 col5\" >14.19%</td>\n",
       "    </tr>\n",
       "    <tr>\n",
       "      <th id=\"T_6a3f7_level0_row43\" class=\"row_heading level0 row43\" >3</th>\n",
       "      <td id=\"T_6a3f7_row43_col0\" class=\"data row43 col0\" >Max_Arrears</td>\n",
       "      <td id=\"T_6a3f7_row43_col1\" class=\"data row43 col1\" >03.[133.5 ~ inf)</td>\n",
       "      <td id=\"T_6a3f7_row43_col2\" class=\"data row43 col2\" >10.05%</td>\n",
       "      <td id=\"T_6a3f7_row43_col3\" class=\"data row43 col3\" >5027</td>\n",
       "      <td id=\"T_6a3f7_row43_col4\" class=\"data row43 col4\" >1332</td>\n",
       "      <td id=\"T_6a3f7_row43_col5\" class=\"data row43 col5\" >26.50%</td>\n",
       "    </tr>\n",
       "    <tr>\n",
       "      <th id=\"T_6a3f7_level0_row44\" class=\"row_heading level0 row44\" >4</th>\n",
       "      <td id=\"T_6a3f7_row44_col0\" class=\"data row44 col0\" >None</td>\n",
       "      <td id=\"T_6a3f7_row44_col1\" class=\"data row44 col1\" >None</td>\n",
       "      <td id=\"T_6a3f7_row44_col2\" class=\"data row44 col2\" >nan%</td>\n",
       "      <td id=\"T_6a3f7_row44_col3\" class=\"data row44 col3\" >None</td>\n",
       "      <td id=\"T_6a3f7_row44_col4\" class=\"data row44 col4\" >None</td>\n",
       "      <td id=\"T_6a3f7_row44_col5\" class=\"data row44 col5\" >nan%</td>\n",
       "    </tr>\n",
       "    <tr>\n",
       "      <th id=\"T_6a3f7_level0_row45\" class=\"row_heading level0 row45\" >0</th>\n",
       "      <td id=\"T_6a3f7_row45_col0\" class=\"data row45 col0\" >Region</td>\n",
       "      <td id=\"T_6a3f7_row45_col1\" class=\"data row45 col1\" >00.cat_10</td>\n",
       "      <td id=\"T_6a3f7_row45_col2\" class=\"data row45 col2\" >28.27%</td>\n",
       "      <td id=\"T_6a3f7_row45_col3\" class=\"data row45 col3\" >14136</td>\n",
       "      <td id=\"T_6a3f7_row45_col4\" class=\"data row45 col4\" >734</td>\n",
       "      <td id=\"T_6a3f7_row45_col5\" class=\"data row45 col5\" >5.19%</td>\n",
       "    </tr>\n",
       "    <tr>\n",
       "      <th id=\"T_6a3f7_level0_row46\" class=\"row_heading level0 row46\" >1</th>\n",
       "      <td id=\"T_6a3f7_row46_col0\" class=\"data row46 col0\" >Region</td>\n",
       "      <td id=\"T_6a3f7_row46_col1\" class=\"data row46 col1\" >01.cat_11,cat_14</td>\n",
       "      <td id=\"T_6a3f7_row46_col2\" class=\"data row46 col2\" >14.86%</td>\n",
       "      <td id=\"T_6a3f7_row46_col3\" class=\"data row46 col3\" >7431</td>\n",
       "      <td id=\"T_6a3f7_row46_col4\" class=\"data row46 col4\" >888</td>\n",
       "      <td id=\"T_6a3f7_row46_col5\" class=\"data row46 col5\" >11.95%</td>\n",
       "    </tr>\n",
       "    <tr>\n",
       "      <th id=\"T_6a3f7_level0_row47\" class=\"row_heading level0 row47\" >2</th>\n",
       "      <td id=\"T_6a3f7_row47_col0\" class=\"data row47 col0\" >Region</td>\n",
       "      <td id=\"T_6a3f7_row47_col1\" class=\"data row47 col1\" >02.cat_12,cat_8,cat..</td>\n",
       "      <td id=\"T_6a3f7_row47_col2\" class=\"data row47 col2\" >29.67%</td>\n",
       "      <td id=\"T_6a3f7_row47_col3\" class=\"data row47 col3\" >14833</td>\n",
       "      <td id=\"T_6a3f7_row47_col4\" class=\"data row47 col4\" >3049</td>\n",
       "      <td id=\"T_6a3f7_row47_col5\" class=\"data row47 col5\" >20.56%</td>\n",
       "    </tr>\n",
       "    <tr>\n",
       "      <th id=\"T_6a3f7_level0_row48\" class=\"row_heading level0 row48\" >3</th>\n",
       "      <td id=\"T_6a3f7_row48_col0\" class=\"data row48 col0\" >Region</td>\n",
       "      <td id=\"T_6a3f7_row48_col1\" class=\"data row48 col1\" >03.cat_1,cat_7,cat_..</td>\n",
       "      <td id=\"T_6a3f7_row48_col2\" class=\"data row48 col2\" >16.43%</td>\n",
       "      <td id=\"T_6a3f7_row48_col3\" class=\"data row48 col3\" >8215</td>\n",
       "      <td id=\"T_6a3f7_row48_col4\" class=\"data row48 col4\" >1912</td>\n",
       "      <td id=\"T_6a3f7_row48_col5\" class=\"data row48 col5\" >23.27%</td>\n",
       "    </tr>\n",
       "    <tr>\n",
       "      <th id=\"T_6a3f7_level0_row49\" class=\"row_heading level0 row49\" >4</th>\n",
       "      <td id=\"T_6a3f7_row49_col0\" class=\"data row49 col0\" >Region</td>\n",
       "      <td id=\"T_6a3f7_row49_col1\" class=\"data row49 col1\" >04.cat_4,cat_2,cat_..</td>\n",
       "      <td id=\"T_6a3f7_row49_col2\" class=\"data row49 col2\" >10.77%</td>\n",
       "      <td id=\"T_6a3f7_row49_col3\" class=\"data row49 col3\" >5385</td>\n",
       "      <td id=\"T_6a3f7_row49_col4\" class=\"data row49 col4\" >1636</td>\n",
       "      <td id=\"T_6a3f7_row49_col5\" class=\"data row49 col5\" >30.38%</td>\n",
       "    </tr>\n",
       "    <tr>\n",
       "      <th id=\"T_6a3f7_level0_row50\" class=\"row_heading level0 row50\" >5</th>\n",
       "      <td id=\"T_6a3f7_row50_col0\" class=\"data row50 col0\" >None</td>\n",
       "      <td id=\"T_6a3f7_row50_col1\" class=\"data row50 col1\" >None</td>\n",
       "      <td id=\"T_6a3f7_row50_col2\" class=\"data row50 col2\" >nan%</td>\n",
       "      <td id=\"T_6a3f7_row50_col3\" class=\"data row50 col3\" >None</td>\n",
       "      <td id=\"T_6a3f7_row50_col4\" class=\"data row50 col4\" >None</td>\n",
       "      <td id=\"T_6a3f7_row50_col5\" class=\"data row50 col5\" >nan%</td>\n",
       "    </tr>\n",
       "    <tr>\n",
       "      <th id=\"T_6a3f7_level0_row51\" class=\"row_heading level0 row51\" >0</th>\n",
       "      <td id=\"T_6a3f7_row51_col0\" class=\"data row51 col0\" >Area</td>\n",
       "      <td id=\"T_6a3f7_row51_col1\" class=\"data row51 col1\" >00.cat_90,cat_75,ca..</td>\n",
       "      <td id=\"T_6a3f7_row51_col2\" class=\"data row51 col2\" >21.95%</td>\n",
       "      <td id=\"T_6a3f7_row51_col3\" class=\"data row51 col3\" >10974</td>\n",
       "      <td id=\"T_6a3f7_row51_col4\" class=\"data row51 col4\" >995</td>\n",
       "      <td id=\"T_6a3f7_row51_col5\" class=\"data row51 col5\" >9.07%</td>\n",
       "    </tr>\n",
       "    <tr>\n",
       "      <th id=\"T_6a3f7_level0_row52\" class=\"row_heading level0 row52\" >1</th>\n",
       "      <td id=\"T_6a3f7_row52_col0\" class=\"data row52 col0\" >Area</td>\n",
       "      <td id=\"T_6a3f7_row52_col1\" class=\"data row52 col1\" >01.cat_80,cat_85,ca..</td>\n",
       "      <td id=\"T_6a3f7_row52_col2\" class=\"data row52 col2\" >12.63%</td>\n",
       "      <td id=\"T_6a3f7_row52_col3\" class=\"data row52 col3\" >6314</td>\n",
       "      <td id=\"T_6a3f7_row52_col4\" class=\"data row52 col4\" >940</td>\n",
       "      <td id=\"T_6a3f7_row52_col5\" class=\"data row52 col5\" >14.89%</td>\n",
       "    </tr>\n",
       "    <tr>\n",
       "      <th id=\"T_6a3f7_level0_row53\" class=\"row_heading level0 row53\" >2</th>\n",
       "      <td id=\"T_6a3f7_row53_col0\" class=\"data row53 col0\" >Area</td>\n",
       "      <td id=\"T_6a3f7_row53_col1\" class=\"data row53 col1\" >02.cat_70,cat_5,cat..</td>\n",
       "      <td id=\"T_6a3f7_row53_col2\" class=\"data row53 col2\" >31.50%</td>\n",
       "      <td id=\"T_6a3f7_row53_col3\" class=\"data row53 col3\" >15750</td>\n",
       "      <td id=\"T_6a3f7_row53_col4\" class=\"data row53 col4\" >2504</td>\n",
       "      <td id=\"T_6a3f7_row53_col5\" class=\"data row53 col5\" >15.90%</td>\n",
       "    </tr>\n",
       "    <tr>\n",
       "      <th id=\"T_6a3f7_level0_row54\" class=\"row_heading level0 row54\" >3</th>\n",
       "      <td id=\"T_6a3f7_row54_col0\" class=\"data row54 col0\" >Area</td>\n",
       "      <td id=\"T_6a3f7_row54_col1\" class=\"data row54 col1\" >03.cat_20,cat_60,ca..</td>\n",
       "      <td id=\"T_6a3f7_row54_col2\" class=\"data row54 col2\" >19.69%</td>\n",
       "      <td id=\"T_6a3f7_row54_col3\" class=\"data row54 col3\" >9844</td>\n",
       "      <td id=\"T_6a3f7_row54_col4\" class=\"data row54 col4\" >1969</td>\n",
       "      <td id=\"T_6a3f7_row54_col5\" class=\"data row54 col5\" >20.00%</td>\n",
       "    </tr>\n",
       "    <tr>\n",
       "      <th id=\"T_6a3f7_level0_row55\" class=\"row_heading level0 row55\" >4</th>\n",
       "      <td id=\"T_6a3f7_row55_col0\" class=\"data row55 col0\" >Area</td>\n",
       "      <td id=\"T_6a3f7_row55_col1\" class=\"data row55 col1\" >04.cat_10,cat_35</td>\n",
       "      <td id=\"T_6a3f7_row55_col2\" class=\"data row55 col2\" >14.24%</td>\n",
       "      <td id=\"T_6a3f7_row55_col3\" class=\"data row55 col3\" >7118</td>\n",
       "      <td id=\"T_6a3f7_row55_col4\" class=\"data row55 col4\" >1811</td>\n",
       "      <td id=\"T_6a3f7_row55_col5\" class=\"data row55 col5\" >25.44%</td>\n",
       "    </tr>\n",
       "    <tr>\n",
       "      <th id=\"T_6a3f7_level0_row56\" class=\"row_heading level0 row56\" >5</th>\n",
       "      <td id=\"T_6a3f7_row56_col0\" class=\"data row56 col0\" >None</td>\n",
       "      <td id=\"T_6a3f7_row56_col1\" class=\"data row56 col1\" >None</td>\n",
       "      <td id=\"T_6a3f7_row56_col2\" class=\"data row56 col2\" >nan%</td>\n",
       "      <td id=\"T_6a3f7_row56_col3\" class=\"data row56 col3\" >None</td>\n",
       "      <td id=\"T_6a3f7_row56_col4\" class=\"data row56 col4\" >None</td>\n",
       "      <td id=\"T_6a3f7_row56_col5\" class=\"data row56 col5\" >nan%</td>\n",
       "    </tr>\n",
       "    <tr>\n",
       "      <th id=\"T_6a3f7_level0_row57\" class=\"row_heading level0 row57\" >0</th>\n",
       "      <td id=\"T_6a3f7_row57_col0\" class=\"data row57 col0\" >Activity</td>\n",
       "      <td id=\"T_6a3f7_row57_col1\" class=\"data row57 col1\" >00.cat_17.0,cat_14...</td>\n",
       "      <td id=\"T_6a3f7_row57_col2\" class=\"data row57 col2\" >33.17%</td>\n",
       "      <td id=\"T_6a3f7_row57_col3\" class=\"data row57 col3\" >16586</td>\n",
       "      <td id=\"T_6a3f7_row57_col4\" class=\"data row57 col4\" >1331</td>\n",
       "      <td id=\"T_6a3f7_row57_col5\" class=\"data row57 col5\" >8.02%</td>\n",
       "    </tr>\n",
       "    <tr>\n",
       "      <th id=\"T_6a3f7_level0_row58\" class=\"row_heading level0 row58\" >1</th>\n",
       "      <td id=\"T_6a3f7_row58_col0\" class=\"data row58 col0\" >Activity</td>\n",
       "      <td id=\"T_6a3f7_row58_col1\" class=\"data row58 col1\" >01.cat_18.0,cat_nan</td>\n",
       "      <td id=\"T_6a3f7_row58_col2\" class=\"data row58 col2\" >12.14%</td>\n",
       "      <td id=\"T_6a3f7_row58_col3\" class=\"data row58 col3\" >6070</td>\n",
       "      <td id=\"T_6a3f7_row58_col4\" class=\"data row58 col4\" >894</td>\n",
       "      <td id=\"T_6a3f7_row58_col5\" class=\"data row58 col5\" >14.73%</td>\n",
       "    </tr>\n",
       "    <tr>\n",
       "      <th id=\"T_6a3f7_level0_row59\" class=\"row_heading level0 row59\" >2</th>\n",
       "      <td id=\"T_6a3f7_row59_col0\" class=\"data row59 col0\" >Activity</td>\n",
       "      <td id=\"T_6a3f7_row59_col1\" class=\"data row59 col1\" >02.cat_1.0,cat_15.0</td>\n",
       "      <td id=\"T_6a3f7_row59_col2\" class=\"data row59 col2\" >30.89%</td>\n",
       "      <td id=\"T_6a3f7_row59_col3\" class=\"data row59 col3\" >15445</td>\n",
       "      <td id=\"T_6a3f7_row59_col4\" class=\"data row59 col4\" >2545</td>\n",
       "      <td id=\"T_6a3f7_row59_col5\" class=\"data row59 col5\" >16.48%</td>\n",
       "    </tr>\n",
       "    <tr>\n",
       "      <th id=\"T_6a3f7_level0_row60\" class=\"row_heading level0 row60\" >3</th>\n",
       "      <td id=\"T_6a3f7_row60_col0\" class=\"data row60 col0\" >Activity</td>\n",
       "      <td id=\"T_6a3f7_row60_col1\" class=\"data row60 col1\" >03.cat_19.0,cat_3.0..</td>\n",
       "      <td id=\"T_6a3f7_row60_col2\" class=\"data row60 col2\" >13.61%</td>\n",
       "      <td id=\"T_6a3f7_row60_col3\" class=\"data row60 col3\" >6803</td>\n",
       "      <td id=\"T_6a3f7_row60_col4\" class=\"data row60 col4\" >1673</td>\n",
       "      <td id=\"T_6a3f7_row60_col5\" class=\"data row60 col5\" >24.59%</td>\n",
       "    </tr>\n",
       "    <tr>\n",
       "      <th id=\"T_6a3f7_level0_row61\" class=\"row_heading level0 row61\" >4</th>\n",
       "      <td id=\"T_6a3f7_row61_col0\" class=\"data row61 col0\" >Activity</td>\n",
       "      <td id=\"T_6a3f7_row61_col1\" class=\"data row61 col1\" >04.cat_9.0,cat_8.0,..</td>\n",
       "      <td id=\"T_6a3f7_row61_col2\" class=\"data row61 col2\" >10.19%</td>\n",
       "      <td id=\"T_6a3f7_row61_col3\" class=\"data row61 col3\" >5096</td>\n",
       "      <td id=\"T_6a3f7_row61_col4\" class=\"data row61 col4\" >1776</td>\n",
       "      <td id=\"T_6a3f7_row61_col5\" class=\"data row61 col5\" >34.85%</td>\n",
       "    </tr>\n",
       "    <tr>\n",
       "      <th id=\"T_6a3f7_level0_row62\" class=\"row_heading level0 row62\" >5</th>\n",
       "      <td id=\"T_6a3f7_row62_col0\" class=\"data row62 col0\" >None</td>\n",
       "      <td id=\"T_6a3f7_row62_col1\" class=\"data row62 col1\" >None</td>\n",
       "      <td id=\"T_6a3f7_row62_col2\" class=\"data row62 col2\" >nan%</td>\n",
       "      <td id=\"T_6a3f7_row62_col3\" class=\"data row62 col3\" >None</td>\n",
       "      <td id=\"T_6a3f7_row62_col4\" class=\"data row62 col4\" >None</td>\n",
       "      <td id=\"T_6a3f7_row62_col5\" class=\"data row62 col5\" >nan%</td>\n",
       "    </tr>\n",
       "    <tr>\n",
       "      <th id=\"T_6a3f7_level0_row63\" class=\"row_heading level0 row63\" >0</th>\n",
       "      <td id=\"T_6a3f7_row63_col0\" class=\"data row63 col0\" >Guarantor</td>\n",
       "      <td id=\"T_6a3f7_row63_col1\" class=\"data row63 col1\" >00.cat_1,cat_0</td>\n",
       "      <td id=\"T_6a3f7_row63_col2\" class=\"data row63 col2\" >100.00%</td>\n",
       "      <td id=\"T_6a3f7_row63_col3\" class=\"data row63 col3\" >50000</td>\n",
       "      <td id=\"T_6a3f7_row63_col4\" class=\"data row63 col4\" >8219</td>\n",
       "      <td id=\"T_6a3f7_row63_col5\" class=\"data row63 col5\" >16.44%</td>\n",
       "    </tr>\n",
       "    <tr>\n",
       "      <th id=\"T_6a3f7_level0_row64\" class=\"row_heading level0 row64\" >1</th>\n",
       "      <td id=\"T_6a3f7_row64_col0\" class=\"data row64 col0\" >None</td>\n",
       "      <td id=\"T_6a3f7_row64_col1\" class=\"data row64 col1\" >None</td>\n",
       "      <td id=\"T_6a3f7_row64_col2\" class=\"data row64 col2\" >nan%</td>\n",
       "      <td id=\"T_6a3f7_row64_col3\" class=\"data row64 col3\" >None</td>\n",
       "      <td id=\"T_6a3f7_row64_col4\" class=\"data row64 col4\" >None</td>\n",
       "      <td id=\"T_6a3f7_row64_col5\" class=\"data row64 col5\" >nan%</td>\n",
       "    </tr>\n",
       "    <tr>\n",
       "      <th id=\"T_6a3f7_level0_row65\" class=\"row_heading level0 row65\" >0</th>\n",
       "      <td id=\"T_6a3f7_row65_col0\" class=\"data row65 col0\" >Collateral</td>\n",
       "      <td id=\"T_6a3f7_row65_col1\" class=\"data row65 col1\" >00.cat_1</td>\n",
       "      <td id=\"T_6a3f7_row65_col2\" class=\"data row65 col2\" >56.93%</td>\n",
       "      <td id=\"T_6a3f7_row65_col3\" class=\"data row65 col3\" >28463</td>\n",
       "      <td id=\"T_6a3f7_row65_col4\" class=\"data row65 col4\" >4024</td>\n",
       "      <td id=\"T_6a3f7_row65_col5\" class=\"data row65 col5\" >14.14%</td>\n",
       "    </tr>\n",
       "    <tr>\n",
       "      <th id=\"T_6a3f7_level0_row66\" class=\"row_heading level0 row66\" >1</th>\n",
       "      <td id=\"T_6a3f7_row66_col0\" class=\"data row66 col0\" >Collateral</td>\n",
       "      <td id=\"T_6a3f7_row66_col1\" class=\"data row66 col1\" >01.cat_0</td>\n",
       "      <td id=\"T_6a3f7_row66_col2\" class=\"data row66 col2\" >43.07%</td>\n",
       "      <td id=\"T_6a3f7_row66_col3\" class=\"data row66 col3\" >21537</td>\n",
       "      <td id=\"T_6a3f7_row66_col4\" class=\"data row66 col4\" >4195</td>\n",
       "      <td id=\"T_6a3f7_row66_col5\" class=\"data row66 col5\" >19.48%</td>\n",
       "    </tr>\n",
       "    <tr>\n",
       "      <th id=\"T_6a3f7_level0_row67\" class=\"row_heading level0 row67\" >2</th>\n",
       "      <td id=\"T_6a3f7_row67_col0\" class=\"data row67 col0\" >None</td>\n",
       "      <td id=\"T_6a3f7_row67_col1\" class=\"data row67 col1\" >None</td>\n",
       "      <td id=\"T_6a3f7_row67_col2\" class=\"data row67 col2\" >nan%</td>\n",
       "      <td id=\"T_6a3f7_row67_col3\" class=\"data row67 col3\" >None</td>\n",
       "      <td id=\"T_6a3f7_row67_col4\" class=\"data row67 col4\" >None</td>\n",
       "      <td id=\"T_6a3f7_row67_col5\" class=\"data row67 col5\" >nan%</td>\n",
       "    </tr>\n",
       "    <tr>\n",
       "      <th id=\"T_6a3f7_level0_row68\" class=\"row_heading level0 row68\" >0</th>\n",
       "      <td id=\"T_6a3f7_row68_col0\" class=\"data row68 col0\" >Properties_Status</td>\n",
       "      <td id=\"T_6a3f7_row68_col1\" class=\"data row68 col1\" >00.cat_B</td>\n",
       "      <td id=\"T_6a3f7_row68_col2\" class=\"data row68 col2\" >64.00%</td>\n",
       "      <td id=\"T_6a3f7_row68_col3\" class=\"data row68 col3\" >31998</td>\n",
       "      <td id=\"T_6a3f7_row68_col4\" class=\"data row68 col4\" >4522</td>\n",
       "      <td id=\"T_6a3f7_row68_col5\" class=\"data row68 col5\" >14.13%</td>\n",
       "    </tr>\n",
       "    <tr>\n",
       "      <th id=\"T_6a3f7_level0_row69\" class=\"row_heading level0 row69\" >1</th>\n",
       "      <td id=\"T_6a3f7_row69_col0\" class=\"data row69 col0\" >Properties_Status</td>\n",
       "      <td id=\"T_6a3f7_row69_col1\" class=\"data row69 col1\" >01.cat_D</td>\n",
       "      <td id=\"T_6a3f7_row69_col2\" class=\"data row69 col2\" >22.19%</td>\n",
       "      <td id=\"T_6a3f7_row69_col3\" class=\"data row69 col3\" >11093</td>\n",
       "      <td id=\"T_6a3f7_row69_col4\" class=\"data row69 col4\" >1935</td>\n",
       "      <td id=\"T_6a3f7_row69_col5\" class=\"data row69 col5\" >17.44%</td>\n",
       "    </tr>\n",
       "    <tr>\n",
       "      <th id=\"T_6a3f7_level0_row70\" class=\"row_heading level0 row70\" >2</th>\n",
       "      <td id=\"T_6a3f7_row70_col0\" class=\"data row70 col0\" >Properties_Status</td>\n",
       "      <td id=\"T_6a3f7_row70_col1\" class=\"data row70 col1\" >02.cat_A,cat_C</td>\n",
       "      <td id=\"T_6a3f7_row70_col2\" class=\"data row70 col2\" >13.82%</td>\n",
       "      <td id=\"T_6a3f7_row70_col3\" class=\"data row70 col3\" >6909</td>\n",
       "      <td id=\"T_6a3f7_row70_col4\" class=\"data row70 col4\" >1762</td>\n",
       "      <td id=\"T_6a3f7_row70_col5\" class=\"data row70 col5\" >25.50%</td>\n",
       "    </tr>\n",
       "    <tr>\n",
       "      <th id=\"T_6a3f7_level0_row71\" class=\"row_heading level0 row71\" >3</th>\n",
       "      <td id=\"T_6a3f7_row71_col0\" class=\"data row71 col0\" >None</td>\n",
       "      <td id=\"T_6a3f7_row71_col1\" class=\"data row71 col1\" >None</td>\n",
       "      <td id=\"T_6a3f7_row71_col2\" class=\"data row71 col2\" >nan%</td>\n",
       "      <td id=\"T_6a3f7_row71_col3\" class=\"data row71 col3\" >None</td>\n",
       "      <td id=\"T_6a3f7_row71_col4\" class=\"data row71 col4\" >None</td>\n",
       "      <td id=\"T_6a3f7_row71_col5\" class=\"data row71 col5\" >nan%</td>\n",
       "    </tr>\n",
       "  </tbody>\n",
       "</table>\n"
      ],
      "text/plain": [
       "<pandas.io.formats.style.Styler at 0x155a9af69b0>"
      ]
     },
     "execution_count": 31,
     "metadata": {},
     "output_type": "execute_result"
    }
   ],
   "source": [
    "df_report.style.format({\n",
    "    'total_pct': '{:,.2%}'.format,\n",
    "    'bad_rate': '{:,.2%}'.format\n",
    "})"
   ]
  },
  {
   "cell_type": "code",
   "execution_count": null,
   "id": "12a21949",
   "metadata": {},
   "outputs": [],
   "source": []
  },
  {
   "cell_type": "code",
   "execution_count": 32,
   "id": "2e11afa6",
   "metadata": {},
   "outputs": [
    {
     "data": {
      "text/html": [
       "<div>\n",
       "<style scoped>\n",
       "    .dataframe tbody tr th:only-of-type {\n",
       "        vertical-align: middle;\n",
       "    }\n",
       "\n",
       "    .dataframe tbody tr th {\n",
       "        vertical-align: top;\n",
       "    }\n",
       "\n",
       "    .dataframe thead th {\n",
       "        text-align: right;\n",
       "    }\n",
       "</style>\n",
       "<table border=\"1\" class=\"dataframe\">\n",
       "  <thead>\n",
       "    <tr style=\"text-align: right;\">\n",
       "      <th></th>\n",
       "      <th>feature</th>\n",
       "      <th>bin</th>\n",
       "      <th>total_pct</th>\n",
       "      <th>total</th>\n",
       "      <th>bad</th>\n",
       "      <th>bad_rate</th>\n",
       "    </tr>\n",
       "  </thead>\n",
       "  <tbody>\n",
       "    <tr>\n",
       "      <th>0</th>\n",
       "      <td>Age</td>\n",
       "      <td>00.[-inf ~ 20)</td>\n",
       "      <td>0.00596</td>\n",
       "      <td>298</td>\n",
       "      <td>106</td>\n",
       "      <td>0.355705</td>\n",
       "    </tr>\n",
       "    <tr>\n",
       "      <th>1</th>\n",
       "      <td>Age</td>\n",
       "      <td>01.[20 ~ 30)</td>\n",
       "      <td>0.15382</td>\n",
       "      <td>7691</td>\n",
       "      <td>1817</td>\n",
       "      <td>0.236250</td>\n",
       "    </tr>\n",
       "    <tr>\n",
       "      <th>2</th>\n",
       "      <td>Age</td>\n",
       "      <td>02.[30 ~ 40)</td>\n",
       "      <td>0.27130</td>\n",
       "      <td>13565</td>\n",
       "      <td>2552</td>\n",
       "      <td>0.188131</td>\n",
       "    </tr>\n",
       "    <tr>\n",
       "      <th>3</th>\n",
       "      <td>Age</td>\n",
       "      <td>03.[40 ~ 50)</td>\n",
       "      <td>0.33324</td>\n",
       "      <td>16662</td>\n",
       "      <td>2356</td>\n",
       "      <td>0.141400</td>\n",
       "    </tr>\n",
       "    <tr>\n",
       "      <th>4</th>\n",
       "      <td>Age</td>\n",
       "      <td>04.[50 ~ inf)</td>\n",
       "      <td>0.23568</td>\n",
       "      <td>11784</td>\n",
       "      <td>1388</td>\n",
       "      <td>0.117787</td>\n",
       "    </tr>\n",
       "  </tbody>\n",
       "</table>\n",
       "</div>"
      ],
      "text/plain": [
       "  feature             bin  total_pct  total   bad  bad_rate\n",
       "0     Age  00.[-inf ~ 20)    0.00596    298   106  0.355705\n",
       "1     Age    01.[20 ~ 30)    0.15382   7691  1817  0.236250\n",
       "2     Age    02.[30 ~ 40)    0.27130  13565  2552  0.188131\n",
       "3     Age    03.[40 ~ 50)    0.33324  16662  2356  0.141400\n",
       "4     Age   04.[50 ~ inf)    0.23568  11784  1388  0.117787"
      ]
     },
     "execution_count": 32,
     "metadata": {},
     "output_type": "execute_result"
    }
   ],
   "source": [
    "feature_name = 'Age'\n",
    "df_ft = df_report.loc[df_report['feature']=='Age'].copy(deep=True)\n",
    "df_ft"
   ]
  },
  {
   "cell_type": "code",
   "execution_count": 33,
   "id": "0f823df7",
   "metadata": {},
   "outputs": [
    {
     "data": {
      "image/png": "[encoded data removed]",
      "text/plain": [
       "<Figure size 640x480 with 2 Axes>"
      ]
     },
     "metadata": {},
     "output_type": "display_data"
    }
   ],
   "source": [
    "fig = plt.figure()\n",
    "\n",
    "thr = max(df_ft['bad_rate'].max(), df_ft['total_pct'].max())\n",
    "\n",
    "ax1 = fig.add_subplot(111)\n",
    "ax1.bar(df_ft['bin'], df_ft['total_pct'], width=0.8, color='dodgerblue')\n",
    "ax1.set_xticklabels(df_ft['bin'], rotation=45)\n",
    "ax1.set_xlabel(feature_name)\n",
    "ax1.set_ylabel('Total Density',color='dodgerblue')\n",
    "ax1.axis(ymin=0,ymax=thr+0.1)\n",
    "\n",
    "ax2 = ax1.twinx()\n",
    "ax2.plot(df_ft['bin'], df_ft['bad_rate'], color='indianred')\n",
    "ax2.set_ylabel('Bad Rate', color='indianred')\n",
    "ax2.axis(ymin=0, ymax=thr+0.1)\n",
    "\n",
    "for i, (n, p) in enumerate(zip(df_ft['total'], df_ft['total_pct'])):\n",
    "    ax1.text(i-0.8/4, p+0.02, str(n), color='dodgerblue', fontweight='bold')\n",
    "\n",
    "for i, (n, p) in enumerate(zip(df_ft['bad'], df_ft['bad_rate'])):\n",
    "    ax1.text(i-0.8/4, p+0.01, str(round(p, 2)), color='indianred')\n",
    "\n",
    "plt.show()"
   ]
  },
  {
   "cell_type": "code",
   "execution_count": null,
   "id": "3a25f3bc",
   "metadata": {},
   "outputs": [],
   "source": []
  },
  {
   "cell_type": "code",
   "execution_count": null,
   "id": "6a81ddfe",
   "metadata": {},
   "outputs": [],
   "source": []
  },
  {
   "cell_type": "code",
   "execution_count": null,
   "id": "fb45ba4a",
   "metadata": {},
   "outputs": [],
   "source": []
  },
  {
   "cell_type": "code",
   "execution_count": null,
   "id": "10314823",
   "metadata": {},
   "outputs": [],
   "source": []
  }
 ],
 "metadata": {
  "kernelspec": {
   "display_name": "Python 3 (ipykernel)",
   "language": "python",
   "name": "python3"
  },
  "language_info": {
   "codemirror_mode": {
    "name": "ipython",
    "version": 3
   },
   "file_extension": ".py",
   "mimetype": "text/x-python",
   "name": "python",
   "nbconvert_exporter": "python",
   "pygments_lexer": "ipython3",
   "version": "3.10.12"
  }
 },
 "nbformat": 4,
 "nbformat_minor": 5
}
